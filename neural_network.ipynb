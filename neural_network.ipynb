{
 "cells": [
  {
   "cell_type": "markdown",
   "metadata": {
    "id": "iLTmRhhGjULD"
   },
   "source": [
    "# COMP1801 Tutorial Week 8 - Neural Networks\n",
    "*Dr Peter Soar - 2022/23*\n",
    "$\\newcommand{\\Vec}[1]{\\boldsymbol{#1}}$\n",
    "$\\newcommand{\\Mat}[1]{\\boldsymbol{#1}}$\n",
    "\n",
    "This tutorial should be pulling together everything we have been learning so far in supervised learning. Neural Networks can be applied to both Regression and Classification problems to create complex deep learning models which if constructed and trained correctly should generally outperform any traditional linear models we've been dealing with so far. This tutorial should show you how to implement a general neural network using `tensorflow.keras` by combining differnt types of layers.\n",
    "\n",
    "For this tutorial, read through and try to understand the text and code examples I have provided (ask your tutor if you have any questions) and there will be a selection of exercises. Attempt these exercises on your own, but do ask your tutor for help if you get stuck.\n",
    "\n",
    "### Note: USE **GOOGLE COLAB** (not offline environments) to use Tensorflow. \n",
    "\n",
    "*   Tensorflow enables you to leverage GPUs.\n",
    "*   Installing Tensorflow to your laptop/PC may cause technical problems.\n",
    "*   **Ensure runtime is changed to GPU** to accelerate  execution speed.\n",
    "\n",
    "\n"
   ]
  },
  {
   "cell_type": "markdown",
   "metadata": {
    "id": "DSo3PZoZeF3M"
   },
   "source": [
    "#0. Do not forget to import all the Python Libraries being used!"
   ]
  },
  {
   "cell_type": "code",
   "execution_count": 1,
   "metadata": {
    "id": "AIhPMWKy2ML2"
   },
   "outputs": [],
   "source": [
    "import numpy as np # A useful package for dealing with mathematical processes, we will be using it this week for vectors and matrices\n",
    "import pandas as pd # A common package for viewing tabular data\n",
    "import sklearn.datasets # We want to be able to access the sklearn datasets again\n",
    "from sklearn.preprocessing import StandardScaler # We will be using the imbuilt scaling functions sklearn provides\n",
    "import matplotlib.pyplot as plt # We will be using Matplotlib for our graphs\n",
    "from sklearn.model_selection import train_test_split # A library that can automatically perform data splitting for us\n",
    "from sklearn.metrics import confusion_matrix, ConfusionMatrixDisplay, accuracy_score, precision_score, recall_score, f1_score, classification_report, balanced_accuracy_score # Various classification metrics we may find useful\n",
    "\n",
    "# Below are a wide selection of tensorflow libraries we will need to construct our Neural networks.\n",
    "from tensorflow.keras.activations import sigmoid, linear, relu # Activation functions we will use\n",
    "from tensorflow.keras.models import Model, Sequential # Different mays of constructing models, we will primarily be covering the 'functional api' which uses `Model`\n",
    "from tensorflow.keras.optimizers import SGD # We will be using the SGD optimiser today, though there are other options you may want to explore (such as Adam)\n",
    "from tensorflow.keras.losses import MeanSquaredError, BinaryCrossentropy  # We will be using TFs MSE loss function for regression and BinaryCross Entropy for classification.\n",
    "from tensorflow.keras.layers import Input, Dense, Dropout # The layers we will be using to construct our network.\n",
    "from tensorflow.keras.regularizers import L1, L2 # Regularisation being used in model layers\n",
    "from tensorflow.keras.metrics import BinaryAccuracy # Accuracy Metric for classification\n",
    "from tensorflow.keras.callbacks import EarlyStopping # Allows Early Stopping regularisation method."
   ]
  },
  {
   "cell_type": "markdown",
   "metadata": {
    "id": "E3nzN8a4kdjF"
   },
   "source": [
    "#1. Basic pipeline of implementing a neural network model in `tensorflow. keras` (Regression case).\n",
    "We can implement various neural networks using `tensorflow.keras`. First, we discuss multi-layer perceptron (fully connected neural network) as the easiest model before going into trying to construct more complicated models in the exercises."
   ]
  },
  {
   "cell_type": "markdown",
   "metadata": {
    "id": "acMQ9sQc6K6_"
   },
   "source": [
    "## 1.1 Data preparation"
   ]
  },
  {
   "cell_type": "markdown",
   "metadata": {
    "id": "S0DeuTW57ENl"
   },
   "source": [
    "Load the house price data:\n",
    "\n",
    "To keep things strightforward and get straight to building the Neural Networks, we don't want to deal with data cleansing and EDA like you covered last week. For this reason, we will be take the now very familliar California House Price dataset (and later for classification the breast cancer dataset) as our examples. \n",
    "\n",
    "Differently from `sklearn`, `tensorflow.keras` considers multivariable targets by default. Hence, it is convenient to convert the $m$-dimensional target column vector (a `pandas.Series` instance) into a matrix with size $m \\times 1$, or 2-dimensional array (a `pandas.DataFrame` instance). Here, $m$ is the number of data points. We can convert a `pandas.Series` instance into a `pandas.DataFrame` instance by the `to_frame` method of the `pandas.Series` instance.\n",
    "\n",
    "Other than this change, everything in this Data Preparation section should hopefully be familliar by now."
   ]
  },
  {
   "cell_type": "code",
   "execution_count": 2,
   "metadata": {
    "colab": {
     "base_uri": "https://localhost:8080/",
     "height": 424
    },
    "id": "ezYnBpE1tX4c",
    "outputId": "306b937d-25c8-4195-fa7c-d64aa6ffdb36"
   },
   "outputs": [
    {
     "data": {
      "text/html": [
       "<div>\n",
       "<style scoped>\n",
       "    .dataframe tbody tr th:only-of-type {\n",
       "        vertical-align: middle;\n",
       "    }\n",
       "\n",
       "    .dataframe tbody tr th {\n",
       "        vertical-align: top;\n",
       "    }\n",
       "\n",
       "    .dataframe thead th {\n",
       "        text-align: right;\n",
       "    }\n",
       "</style>\n",
       "<table border=\"1\" class=\"dataframe\">\n",
       "  <thead>\n",
       "    <tr style=\"text-align: right;\">\n",
       "      <th></th>\n",
       "      <th>MedInc</th>\n",
       "      <th>HouseAge</th>\n",
       "      <th>AveRooms</th>\n",
       "      <th>AveBedrms</th>\n",
       "      <th>Population</th>\n",
       "      <th>AveOccup</th>\n",
       "      <th>Latitude</th>\n",
       "      <th>Longitude</th>\n",
       "      <th>MedHouseVal</th>\n",
       "    </tr>\n",
       "  </thead>\n",
       "  <tbody>\n",
       "    <tr>\n",
       "      <th>0</th>\n",
       "      <td>8.3252</td>\n",
       "      <td>41.0</td>\n",
       "      <td>6.984127</td>\n",
       "      <td>1.023810</td>\n",
       "      <td>322.0</td>\n",
       "      <td>2.555556</td>\n",
       "      <td>37.88</td>\n",
       "      <td>-122.23</td>\n",
       "      <td>4.526</td>\n",
       "    </tr>\n",
       "    <tr>\n",
       "      <th>1</th>\n",
       "      <td>8.3014</td>\n",
       "      <td>21.0</td>\n",
       "      <td>6.238137</td>\n",
       "      <td>0.971880</td>\n",
       "      <td>2401.0</td>\n",
       "      <td>2.109842</td>\n",
       "      <td>37.86</td>\n",
       "      <td>-122.22</td>\n",
       "      <td>3.585</td>\n",
       "    </tr>\n",
       "    <tr>\n",
       "      <th>2</th>\n",
       "      <td>7.2574</td>\n",
       "      <td>52.0</td>\n",
       "      <td>8.288136</td>\n",
       "      <td>1.073446</td>\n",
       "      <td>496.0</td>\n",
       "      <td>2.802260</td>\n",
       "      <td>37.85</td>\n",
       "      <td>-122.24</td>\n",
       "      <td>3.521</td>\n",
       "    </tr>\n",
       "    <tr>\n",
       "      <th>3</th>\n",
       "      <td>5.6431</td>\n",
       "      <td>52.0</td>\n",
       "      <td>5.817352</td>\n",
       "      <td>1.073059</td>\n",
       "      <td>558.0</td>\n",
       "      <td>2.547945</td>\n",
       "      <td>37.85</td>\n",
       "      <td>-122.25</td>\n",
       "      <td>3.413</td>\n",
       "    </tr>\n",
       "    <tr>\n",
       "      <th>4</th>\n",
       "      <td>3.8462</td>\n",
       "      <td>52.0</td>\n",
       "      <td>6.281853</td>\n",
       "      <td>1.081081</td>\n",
       "      <td>565.0</td>\n",
       "      <td>2.181467</td>\n",
       "      <td>37.85</td>\n",
       "      <td>-122.25</td>\n",
       "      <td>3.422</td>\n",
       "    </tr>\n",
       "    <tr>\n",
       "      <th>...</th>\n",
       "      <td>...</td>\n",
       "      <td>...</td>\n",
       "      <td>...</td>\n",
       "      <td>...</td>\n",
       "      <td>...</td>\n",
       "      <td>...</td>\n",
       "      <td>...</td>\n",
       "      <td>...</td>\n",
       "      <td>...</td>\n",
       "    </tr>\n",
       "    <tr>\n",
       "      <th>20635</th>\n",
       "      <td>1.5603</td>\n",
       "      <td>25.0</td>\n",
       "      <td>5.045455</td>\n",
       "      <td>1.133333</td>\n",
       "      <td>845.0</td>\n",
       "      <td>2.560606</td>\n",
       "      <td>39.48</td>\n",
       "      <td>-121.09</td>\n",
       "      <td>0.781</td>\n",
       "    </tr>\n",
       "    <tr>\n",
       "      <th>20636</th>\n",
       "      <td>2.5568</td>\n",
       "      <td>18.0</td>\n",
       "      <td>6.114035</td>\n",
       "      <td>1.315789</td>\n",
       "      <td>356.0</td>\n",
       "      <td>3.122807</td>\n",
       "      <td>39.49</td>\n",
       "      <td>-121.21</td>\n",
       "      <td>0.771</td>\n",
       "    </tr>\n",
       "    <tr>\n",
       "      <th>20637</th>\n",
       "      <td>1.7000</td>\n",
       "      <td>17.0</td>\n",
       "      <td>5.205543</td>\n",
       "      <td>1.120092</td>\n",
       "      <td>1007.0</td>\n",
       "      <td>2.325635</td>\n",
       "      <td>39.43</td>\n",
       "      <td>-121.22</td>\n",
       "      <td>0.923</td>\n",
       "    </tr>\n",
       "    <tr>\n",
       "      <th>20638</th>\n",
       "      <td>1.8672</td>\n",
       "      <td>18.0</td>\n",
       "      <td>5.329513</td>\n",
       "      <td>1.171920</td>\n",
       "      <td>741.0</td>\n",
       "      <td>2.123209</td>\n",
       "      <td>39.43</td>\n",
       "      <td>-121.32</td>\n",
       "      <td>0.847</td>\n",
       "    </tr>\n",
       "    <tr>\n",
       "      <th>20639</th>\n",
       "      <td>2.3886</td>\n",
       "      <td>16.0</td>\n",
       "      <td>5.254717</td>\n",
       "      <td>1.162264</td>\n",
       "      <td>1387.0</td>\n",
       "      <td>2.616981</td>\n",
       "      <td>39.37</td>\n",
       "      <td>-121.24</td>\n",
       "      <td>0.894</td>\n",
       "    </tr>\n",
       "  </tbody>\n",
       "</table>\n",
       "<p>20640 rows × 9 columns</p>\n",
       "</div>"
      ],
      "text/plain": [
       "       MedInc  HouseAge  AveRooms  AveBedrms  Population  AveOccup  Latitude  \\\n",
       "0      8.3252      41.0  6.984127   1.023810       322.0  2.555556     37.88   \n",
       "1      8.3014      21.0  6.238137   0.971880      2401.0  2.109842     37.86   \n",
       "2      7.2574      52.0  8.288136   1.073446       496.0  2.802260     37.85   \n",
       "3      5.6431      52.0  5.817352   1.073059       558.0  2.547945     37.85   \n",
       "4      3.8462      52.0  6.281853   1.081081       565.0  2.181467     37.85   \n",
       "...       ...       ...       ...        ...         ...       ...       ...   \n",
       "20635  1.5603      25.0  5.045455   1.133333       845.0  2.560606     39.48   \n",
       "20636  2.5568      18.0  6.114035   1.315789       356.0  3.122807     39.49   \n",
       "20637  1.7000      17.0  5.205543   1.120092      1007.0  2.325635     39.43   \n",
       "20638  1.8672      18.0  5.329513   1.171920       741.0  2.123209     39.43   \n",
       "20639  2.3886      16.0  5.254717   1.162264      1387.0  2.616981     39.37   \n",
       "\n",
       "       Longitude  MedHouseVal  \n",
       "0        -122.23        4.526  \n",
       "1        -122.22        3.585  \n",
       "2        -122.24        3.521  \n",
       "3        -122.25        3.413  \n",
       "4        -122.25        3.422  \n",
       "...          ...          ...  \n",
       "20635    -121.09        0.781  \n",
       "20636    -121.21        0.771  \n",
       "20637    -121.22        0.923  \n",
       "20638    -121.32        0.847  \n",
       "20639    -121.24        0.894  \n",
       "\n",
       "[20640 rows x 9 columns]"
      ]
     },
     "metadata": {},
     "output_type": "display_data"
    }
   ],
   "source": [
    "# Load the house price dataset\n",
    "X_pd, y_pd = sklearn.datasets.fetch_california_housing(return_X_y=True, as_frame=True)\n",
    "\n",
    "# Convert the target column vector `Y_pd` into 2-dimensional array (a `pd.DataFrame` instance)\n",
    "# Note, it is now technically a matrix, hence the upper case Y.\n",
    "Y_pd = y_pd.to_frame()\n",
    "\n",
    "# Display the whole dataset\n",
    "XY_pd = pd.concat([X_pd, Y_pd], axis=1)\n",
    "display(XY_pd)"
   ]
  },
  {
   "cell_type": "markdown",
   "metadata": {
    "id": "CxWsJnhtY73i"
   },
   "source": [
    "Data splitting:\n",
    "\n",
    "We first convert the data into `numpy.ndarray`, then apply the `sklearn.model_selection.train_test_split` function."
   ]
  },
  {
   "cell_type": "code",
   "execution_count": 16,
   "metadata": {
    "id": "uSA1Y9KSso08"
   },
   "outputs": [],
   "source": [
    "# prepare NumPy ndarrays\n",
    "X_raw = X_pd.to_numpy()\n",
    "Y = Y_pd.to_numpy() \n",
    "\n",
    "# Split the data into training/test data\n",
    "# While we have 20640 pairs of a feature and target, we use 20% only for the test, not for training and validation.\n",
    "# `shuffle=True` for non-time series case. You should set `shuffle=False` to avoid future data being contaminated in the training data.\n",
    "X_nontest_raw, X_test_raw, Y_nontest, Y_test = train_test_split(X_raw, Y, test_size=0.20, shuffle=True, random_state=0)\n",
    "X_train_raw, X_valid_raw, Y_train, Y_valid = train_test_split(X_nontest_raw, Y_nontest, test_size=0.25, shuffle=True, random_state=0)"
   ]
  },
  {
   "cell_type": "markdown",
   "metadata": {
    "id": "sQr4CLycb8Av"
   },
   "source": [
    "Normalization:\n",
    "\n",
    "Fit a `sklearn.preprocessing.StandardScaler` instance to the training data, then transpose the validation and test data by the instance.\n",
    "\n",
    "For advanced preprocessing operations for images and text (which we won't be covering in this module, but may be of interest for your MSc projects or in Applied Machine Learning next term), you can also use classes defined in the `tensorflow.keras.preprocessing` module ([see here](https://www.tensorflow.org/api_docs/python/tf/keras/preprocessing)).\n"
   ]
  },
  {
   "cell_type": "code",
   "execution_count": 17,
   "metadata": {
    "id": "lnnNNsbZX9iM"
   },
   "outputs": [],
   "source": [
    "scaler = StandardScaler()\n",
    "scaler.fit(X_train_raw)\n",
    "X_train = scaler.transform(X_train_raw)\n",
    "X_valid = scaler.transform(X_valid_raw)\n",
    "X_test = scaler.transform(X_test_raw)"
   ]
  },
  {
   "cell_type": "markdown",
   "metadata": {
    "id": "8rOq6K3amH0e"
   },
   "source": [
    "Confirm the shape of the feature matrix:\n",
    "\n",
    "While it is always a good idea to check the dimensions of your data, this is particularly important when defining a neural network in `tensorflow.keras` as we need to know the shape (dimension) of the input (feature)."
   ]
  },
  {
   "cell_type": "markdown",
   "metadata": {},
   "source": [
    "\n",
    "\n",
    "$$\n",
    "{\\Vec{a}^{\\mathrm{out}}}^\\top = f (\\Vec{b}^\\top + {\\Vec{a}^{\\mathrm{in}}}^\\top \\Mat{W})\n",
    "$$"
   ]
  },
  {
   "cell_type": "code",
   "execution_count": 5,
   "metadata": {
    "colab": {
     "base_uri": "https://localhost:8080/"
    },
    "id": "tD9NKAQNmky8",
    "outputId": "ff52a421-016f-473d-9230-01be3093b9a9"
   },
   "outputs": [
    {
     "name": "stdout",
     "output_type": "stream",
     "text": [
      "The shape of `X_train`: (12384, 8)\n",
      "The shape of `X_valid`: (4128, 8)\n",
      "The shape of `X_test`: (4128, 8)\n"
     ]
    }
   ],
   "source": [
    "print('The shape of `X_train`:', X_train.shape)\n",
    "print('The shape of `X_valid`:', X_valid.shape)\n",
    "print('The shape of `X_test`:', X_test.shape)"
   ]
  },
  {
   "cell_type": "markdown",
   "metadata": {
    "id": "c9IiASbpm_ug"
   },
   "source": [
    "The above results show that, for example, we have 12384 data points in the training data, and the features of each data point is 8-dimensional."
   ]
  },
  {
   "cell_type": "markdown",
   "metadata": {
    "id": "9mpQNoXdj05c"
   },
   "source": [
    "## 1.2 Create a neural network model by composing `tensorflow.keras` layers.\n",
    "In the machine learning context, all of the models we have been considering are defined as a parametrized function, so our task here is how we can achieve that for a Neural Network model.\n",
    "\n",
    "In `tensorflow.keras`, we define this parametrized function by composing neural network layers, each of which are themselves a Neural Network. Likewise, the graph structure of the neural network is defined by teh composition of these layers."
   ]
  },
  {
   "cell_type": "markdown",
   "metadata": {
    "id": "T0lNLNel4YHX"
   },
   "source": [
    "### 1.2.1 Define neural network layers\n",
    "First, we create layer instances to be composed to define our neural network model. Specifically, we create instances of classes in the `tensorflow.keras.layers` module, specifying an activation function by taking a function in the `tensorflow.keras.activations` module as an `activation` argument in the initializer of the layer class. \n",
    "\n",
    "As an example, we create `tensorflow.keras.layers.Dense` instances (fully connected layers) in the cell below.\n",
    "\n",
    "The function defined by the `Dense` layer is as follows:\n",
    "$$\n",
    "{\\Vec{a}^{\\mathrm{out}}}^\\top = f (\\Vec{b}^\\top + {\\Vec{a}^{\\mathrm{in}}}^\\top \\Mat{W}),\n",
    "$$\n",
    "where\n",
    "\n",
    "- ${\\Vec{a}^{\\mathrm{in}}}^\\top$: the input row vector of the layer. We denote the dimensionality of the ${\\Vec{a}^{\\mathrm{in}}}^\\top$ by $n^{\\mathrm{in}}$.\n",
    "- ${\\Vec{a}^{\\mathrm{out}}}^\\top$: the output row vector of the layer. We denote the dimensionality of the ${\\Vec{a}^{\\mathrm{out}}}^\\top$ by $n^{\\mathrm{out}}$. We specify $n^{\\mathrm{out}}$ by the `units` parameter in the `Dense` class's initializer.\n",
    "- $\\Mat{W}$: a matrix of size $n^{\\mathrm{in}} \\times n^{\\mathrm{out}}$ called the \"kernel\" parameter of the layer. Each parameter of the matrix is a learnable parameter.\n",
    "- $\\Vec{b}^\\top$: an $n^{\\mathrm{out}}$-dimensional row vector called the \"bias\" parameter of the layer. Each parameter of the vector is a learnable parameter.\n",
    "- $f$: a scalar function called the \"activation function\" of the layer. Although $f$ is defined as a scalar function, it is applied to an $n^{\\mathrm{out}}$-dimensional vector elementwisely in the layer. Note that $f$ is fixed and not learnable, that is, invariant throughout the training process. The activation function $f$ is specified by the `activation` parameter in the `Dense` class's initializer.\n",
    "\n",
    "The activation function of the first and second layers we are going to use in this case is the sigmoid function given by `tensorflow.keras.activation.sigmoid` function, and that of the third layer is the identity function given by the `tensorflow.keras.activation.linear` function.\n",
    "\n",
    "The sigmoid function $\\varsigma$ is defined by\n",
    "$$\n",
    "\\varsigma (z) = \\frac{1}{1 + \\exp(- z)},\n",
    "$$\n",
    "and the identity function $\\mathop{\\mathrm{id}}$ is defined by\n",
    "$$\n",
    "\\mathop{\\mathrm{id}} (z) = z.\n",
    "$$\n",
    "\n",
    "For other layers, see [here](https://www.tensorflow.org/api_docs/python/tf/keras/layers) and for other activation functions, see [here](https://www.tensorflow.org/api_docs/python/tf/keras/activations).\n",
    "\n",
    "Note: For regression problems we should always use the identity function, but the other activations become more important for classification.\n"
   ]
  },
  {
   "cell_type": "code",
   "execution_count": 18,
   "metadata": {
    "id": "f6dtgpBl3-v2"
   },
   "outputs": [],
   "source": [
    "# Define the first `Dense` layer.\n",
    "# The output dimension is 5, so we specify `units=5`.\n",
    "# The activation function is the sigmoid function, we specify `activation=sigmoid`.\n",
    "first_layer = Dense(units=5, activation=sigmoid)\n",
    "\n",
    "# Define the second `Dense` layer.\n",
    "# The output dimension is 5, so we specify `units=5`.\n",
    "# The activation function is the sigmoid function, we specify `activation=sigmoid`.\n",
    "second_layer = Dense(units=5, activation=sigmoid)\n",
    "\n",
    "# Define the third `Dense` layer.\n",
    "# The output dimension is 1, so we specify `units=1`.\n",
    "# The activation function is the identity function, we specify `activation=linear`.\n",
    "third_layer = Dense(units=1, activation=linear)"
   ]
  },
  {
   "cell_type": "markdown",
   "metadata": {
    "id": "l7Mc1KVm36w_"
   },
   "source": [
    "### 1.2.2 Compose layers.\n",
    "\n",
    "First, we create a `tensorflow.keras.layers.Input` instance as a **virtual input**, specifying the input shape as a `shape` argument in the initializer. \n",
    "Here, we omit the data size (the number of data points) from the argument. For example, our training data shape (`X_train.shape`) is `(12384, 8)` where the zeroth element indicates the data size and the first element is the number of features/columns, which will be our input. Hence we can manually specify `shape=(8, )` or extract the data using `shape=X_train.shape[1:]`.\n"
   ]
  },
  {
   "cell_type": "code",
   "execution_count": 7,
   "metadata": {
    "id": "cEucGaav7F51"
   },
   "outputs": [],
   "source": [
    "# Extract the number of features for our Networks input dimension\n",
    "features=X_train.shape[1:]\n",
    "# Define the \"virtual\" input\n",
    "input = Input(shape=features)"
   ]
  },
  {
   "cell_type": "markdown",
   "metadata": {
    "id": "GwJmN3nB82_F"
   },
   "source": [
    "Note: For image processing problems, the input shape is often like `(data_size, width, height, channels)`, meaning we specify `shape=(width, height, channels)`.\n",
    "\n"
   ]
  },
  {
   "cell_type": "markdown",
   "metadata": {
    "id": "Ra5rfRmH65E1"
   },
   "source": [
    "Once we create a `Input` instance, we \"call\" the first layer instance taking the `Input` instance as an argument.\n",
    "Subsequently, we call the second layer instance taking the output of the first layer as an argument. We continue this process for as many layers as we require.\n"
   ]
  },
  {
   "cell_type": "code",
   "execution_count": 19,
   "metadata": {
    "id": "PdfQhXVZ_WhN"
   },
   "outputs": [],
   "source": [
    "# Call the layers in a row to get a \"virtual\" output\n",
    "output = first_layer(input)\n",
    "output = second_layer(output)\n",
    "output = third_layer(output)\n"
   ]
  },
  {
   "cell_type": "markdown",
   "metadata": {
    "id": "w7DAJVoR-_oi"
   },
   "source": [
    "Once we have composed our final virtual output, we can create a `tf.keras.models.Model` instance, taking the virtual input (the `Input` instance) and virtual output (the return value of the last layer). This `Model` instance is the NN model that we have implemented, that can now be trained on data and used to make predictions like we have done with the `linear` model instances in previous weeks.\n",
    "\n"
   ]
  },
  {
   "cell_type": "code",
   "execution_count": 20,
   "metadata": {
    "id": "eQW8yvhLDUSE"
   },
   "outputs": [],
   "source": [
    "# Define the neural network model.\n",
    "model = Model(inputs=[input], outputs=[output], name='multi_layer_perception')"
   ]
  },
  {
   "cell_type": "markdown",
   "metadata": {
    "id": "2SF3FH2ADS1-"
   },
   "source": [
    "We can show the summary of our model by `summary` method of our `Model` instance. Which is always a good sainity check to ensure that our model seems to be functioning how we would expect."
   ]
  },
  {
   "cell_type": "code",
   "execution_count": 21,
   "metadata": {
    "colab": {
     "base_uri": "https://localhost:8080/"
    },
    "id": "dHeUtCy1D3qD",
    "outputId": "46dda8a1-9ab8-4d91-840e-23e5b7afd571"
   },
   "outputs": [
    {
     "name": "stdout",
     "output_type": "stream",
     "text": [
      "Model: \"multi_layer_perceptron\"\n",
      "_________________________________________________________________\n",
      " Layer (type)                Output Shape              Param #   \n",
      "=================================================================\n",
      " input_1 (InputLayer)        [(None, 8)]               0         \n",
      "                                                                 \n",
      " dense_3 (Dense)             (None, 5)                 45        \n",
      "                                                                 \n",
      " dense_4 (Dense)             (None, 5)                 30        \n",
      "                                                                 \n",
      " dense_5 (Dense)             (None, 1)                 6         \n",
      "                                                                 \n",
      "=================================================================\n",
      "Total params: 81\n",
      "Trainable params: 81\n",
      "Non-trainable params: 0\n",
      "_________________________________________________________________\n"
     ]
    }
   ],
   "source": [
    "model.summary()"
   ]
  },
  {
   "cell_type": "markdown",
   "metadata": {
    "id": "f-ibBtNyS6C6"
   },
   "source": [
    "## 1.2.3 Example of the hypothesis function created by above model\n",
    "The above neural network represent the composition of the functions represented by the three `Dense` layers. Below is how we would write this NN model in functional form."
   ]
  },
  {
   "cell_type": "markdown",
   "metadata": {
    "id": "fMlFq-xaXomz"
   },
   "source": [
    "Let ${\\Vec{x}}^\\top$ be the input row vector. The output $\\eta$ of the neural network is given by\n",
    "$$\n",
    "{\\Vec{a}^{[1]}}^\\top = \\varsigma ({\\Vec{b}^{[1]}}^\\top + {\\Vec{x}}^\\top \\Mat{W}^{[1]}), \\\\\n",
    "{\\Vec{a}^{[2]}}^\\top = \\varsigma ({\\Vec{b}^{[2]}}^\\top + {\\Vec{a}^{[1]}}^\\top \\Mat{W}^{[2]}), \\\\\n",
    "\\eta = b^{[3]} + {\\Vec{a}^{[2]}}^\\top \\Vec{w}^{[3]}. \\\\\n",
    "$$\n",
    "where\n",
    "\n",
    "- $\\Mat{W}^{[1]}$: the \"kernel\" parameter of the first layer, a matrix of size $8 \\times 5$.\n",
    "- ${\\Vec{b}^{[1]}}^\\top$: the \"bias\" parameter of the first layer, an $5$-dimensional row vector.\n",
    "- $\\Mat{W}^{[2]}$: the \"kernel\" parameter of the second layer, a matrix of size $5 \\times 5$.\n",
    "- ${\\Vec{b}^{[2]}}^\\top$: the \"bias\" parameter of the second layer, an $5$-dimensional row vector.\n",
    "- $\\Vec{w}^{[3]}$: the \"kernel\" parameter of the third layer, a 5-dimensional row vector.\n",
    "- $b^{[3]}$: the \"bias\" parameter of the third layer, a scalar.\n",
    "\n",
    "We can also write the function in one line as follows:\n",
    "\n",
    "$$\n",
    "\\eta = b^{[3]} + \\varsigma ({\\Vec{b}^{[2]}}^\\top + \\varsigma ({\\Vec{b}^{[1]}}^\\top + {\\Vec{x}}^\\top \\Mat{W}^{[1]}) \\Mat{W}^{[2]}) \\Vec{w}^{[3]}\n",
    "$$\n",
    "\n",
    "Which really underlines just how the outputs of multi-layered neural networks are really just nested parameterised functions."
   ]
  },
  {
   "cell_type": "markdown",
   "metadata": {
    "id": "BZjKXhJadPd2"
   },
   "source": [
    "## 1.3 Training the model."
   ]
  },
  {
   "cell_type": "markdown",
   "metadata": {
    "id": "Md1Gc2oSuH7g"
   },
   "source": [
    "### 1.3.1 \"Compile\" the model: specifying a loss function and optimizer.\n",
    "Now we have defined a machine learning model as a set of parametrized functions, to train the model (or find the optimal parameters) we need to specify a loss function and an optimizer (an optimization algorithm).\n",
    "\n",
    "We can applly this by \"compiling\" the model. We execute this process by the `compile` method of the `Model` instance.\n",
    "\n",
    "In `tensorflow.keras`, we use an instance of a class in the `tensorflow.keras.losses` module as a loss function, and one in the `tensorflow.keras.optimizers` module as an optimizer. Specifically, we take a loss instance and optimizer instance as a `loss` and `optimizer` arguments of the `compile` method.\n",
    "\n",
    "In the cell below, we use a `tensorflow.keras.losses.MeanSquaredError` instance as a loss function, and a `tensorflow.keras.optimizers.SGD` (vanilla stochastic gradient descent) instance as an optimizer. For other loss functions, see [here](https://www.tensorflow.org/api_docs/python/tf/keras/losses) and for other optimizers, see  [here](https://www.tensorflow.org/api_docs/python/tf/keras/optimizers). `tensorflow.keras.optimizers.Adam` is also often used.\n"
   ]
  },
  {
   "cell_type": "code",
   "execution_count": 23,
   "metadata": {
    "id": "QvL_yY5TuHdO"
   },
   "outputs": [],
   "source": [
    "# Compile the model by specifying the optimization algorithm and the loss function.\n",
    "# Here, we specify the vanilla stochastic gradient descent \n",
    "# (a `tensorflow.keras.optimizers.SGD` instance) as an optimizer,\n",
    "# and mean squared error (a `MeanSquaredError` instance) as a loss function.\n",
    "sgd = SGD(learning_rate=0.01)\n",
    "mse = MeanSquaredError()\n",
    "model.compile(optimizer=sgd, loss=mse)"
   ]
  },
  {
   "cell_type": "markdown",
   "metadata": {
    "id": "rbpelFHL1Hoa"
   },
   "source": [
    "### 1.3.2 \"Fit\" the model to the training data: Optimizing the parameters.\n",
    "Similar to a machine learning model instance in `sklearn`, we can train a neural network machine learning model defined by `tensorflow` using the `fit` method. The `fit` method apply the **forwardpropagation and backpropagation** to calculate the gradient vector.  \n",
    "\n",
    "Here, we specify the number of epochs (`epochs`) and the mini batch size (`batch_size`). The definitions of these terms are as follows:\n",
    "\n",
    "In the optimization by a stochastic gradient descent method, each update does not consider all the training data points at the same time. \n",
    "Instead, each update considers a subset of the dataset, called a **mini batch**. \n",
    "We first shuffle the training data points and and divide them into multiple mini batches. \n",
    "Then, we update parameters based on the loss function and gradient vector for each mini batch. \n",
    "A pass through the mini batches that cover all the training data points once is called an **epoch**. \n",
    "Once we completed the updates based on all the mini batches in an epoch, we shuffle the training data points and divide them into new mini batches again, which begins a new epoch.\n",
    "\n",
    "For example, if we have 12384 training data points and the mini batch size is 1000, each epoch contains 13 mini batches, where each of the first 12 mini batches contains 1000 training data points and the last mini batch contains 384 data points. Hence, each epoch conducts 13 updates. If the number of epochs is 10, the algorithm updates the parameters 13x10=130 times.\n",
    "\n",
    "We can also input the validation data. If you input them, the loss function on the validation data will be displayed during the training. Note that the validation data does not affect the training results but can be used to identify overfitting."
   ]
  },
  {
   "cell_type": "code",
   "execution_count": 24,
   "metadata": {
    "colab": {
     "base_uri": "https://localhost:8080/",
     "height": 1000
    },
    "id": "7sPFD4AZ2cd2",
    "outputId": "fac96e37-0d33-4c98-c9cb-70e8f6aa669d"
   },
   "outputs": [
    {
     "name": "stdout",
     "output_type": "stream",
     "text": [
      "Epoch 1/100\n",
      "124/124 [==============================] - 1s 3ms/step - loss: 1.5560 - val_loss: 1.2890\n",
      "Epoch 2/100\n",
      "124/124 [==============================] - 0s 3ms/step - loss: 1.2495 - val_loss: 1.2459\n",
      "Epoch 3/100\n",
      "124/124 [==============================] - 0s 2ms/step - loss: 1.2047 - val_loss: 1.2000\n",
      "Epoch 4/100\n",
      "124/124 [==============================] - 0s 2ms/step - loss: 1.1539 - val_loss: 1.1468\n",
      "Epoch 5/100\n",
      "124/124 [==============================] - 0s 2ms/step - loss: 1.0964 - val_loss: 1.0872\n",
      "Epoch 6/100\n",
      "124/124 [==============================] - 0s 2ms/step - loss: 1.0324 - val_loss: 1.0222\n",
      "Epoch 7/100\n",
      "124/124 [==============================] - 0s 2ms/step - loss: 0.9647 - val_loss: 0.9555\n",
      "Epoch 8/100\n",
      "124/124 [==============================] - 0s 2ms/step - loss: 0.8980 - val_loss: 0.8918\n",
      "Epoch 9/100\n",
      "124/124 [==============================] - 0s 2ms/step - loss: 0.8370 - val_loss: 0.8352\n",
      "Epoch 10/100\n",
      "124/124 [==============================] - 0s 2ms/step - loss: 0.7846 - val_loss: 0.7885\n",
      "Epoch 11/100\n",
      "124/124 [==============================] - 0s 2ms/step - loss: 0.7425 - val_loss: 0.7505\n",
      "Epoch 12/100\n",
      "124/124 [==============================] - 0s 2ms/step - loss: 0.7096 - val_loss: 0.7208\n",
      "Epoch 13/100\n",
      "124/124 [==============================] - 0s 2ms/step - loss: 0.6838 - val_loss: 0.6970\n",
      "Epoch 14/100\n",
      "124/124 [==============================] - 0s 2ms/step - loss: 0.6627 - val_loss: 0.6788\n",
      "Epoch 15/100\n",
      "124/124 [==============================] - 0s 3ms/step - loss: 0.6456 - val_loss: 0.6621\n",
      "Epoch 16/100\n",
      "124/124 [==============================] - 0s 2ms/step - loss: 0.6307 - val_loss: 0.6482\n",
      "Epoch 17/100\n",
      "124/124 [==============================] - 0s 2ms/step - loss: 0.6174 - val_loss: 0.6354\n",
      "Epoch 18/100\n",
      "124/124 [==============================] - 0s 2ms/step - loss: 0.6051 - val_loss: 0.6239\n",
      "Epoch 19/100\n",
      "124/124 [==============================] - 0s 2ms/step - loss: 0.5933 - val_loss: 0.6116\n",
      "Epoch 20/100\n",
      "124/124 [==============================] - 0s 2ms/step - loss: 0.5821 - val_loss: 0.6006\n",
      "Epoch 21/100\n",
      "124/124 [==============================] - 0s 2ms/step - loss: 0.5713 - val_loss: 0.5890\n",
      "Epoch 22/100\n",
      "124/124 [==============================] - 0s 2ms/step - loss: 0.5606 - val_loss: 0.5789\n",
      "Epoch 23/100\n",
      "124/124 [==============================] - 0s 2ms/step - loss: 0.5504 - val_loss: 0.5684\n",
      "Epoch 24/100\n",
      "124/124 [==============================] - 0s 2ms/step - loss: 0.5402 - val_loss: 0.5585\n",
      "Epoch 25/100\n",
      "124/124 [==============================] - 0s 2ms/step - loss: 0.5306 - val_loss: 0.5480\n",
      "Epoch 26/100\n",
      "124/124 [==============================] - 0s 2ms/step - loss: 0.5209 - val_loss: 0.5388\n",
      "Epoch 27/100\n",
      "124/124 [==============================] - 0s 2ms/step - loss: 0.5116 - val_loss: 0.5290\n",
      "Epoch 28/100\n",
      "124/124 [==============================] - 0s 2ms/step - loss: 0.5026 - val_loss: 0.5194\n",
      "Epoch 29/100\n",
      "124/124 [==============================] - 0s 2ms/step - loss: 0.4938 - val_loss: 0.5106\n",
      "Epoch 30/100\n",
      "124/124 [==============================] - 0s 2ms/step - loss: 0.4856 - val_loss: 0.5022\n",
      "Epoch 31/100\n",
      "124/124 [==============================] - 0s 2ms/step - loss: 0.4779 - val_loss: 0.4944\n",
      "Epoch 32/100\n",
      "124/124 [==============================] - 0s 2ms/step - loss: 0.4705 - val_loss: 0.4871\n",
      "Epoch 33/100\n",
      "124/124 [==============================] - 0s 2ms/step - loss: 0.4638 - val_loss: 0.4804\n",
      "Epoch 34/100\n",
      "124/124 [==============================] - 0s 2ms/step - loss: 0.4575 - val_loss: 0.4743\n",
      "Epoch 35/100\n",
      "124/124 [==============================] - 0s 2ms/step - loss: 0.4519 - val_loss: 0.4687\n",
      "Epoch 36/100\n",
      "124/124 [==============================] - 0s 2ms/step - loss: 0.4467 - val_loss: 0.4635\n",
      "Epoch 37/100\n",
      "124/124 [==============================] - 0s 2ms/step - loss: 0.4421 - val_loss: 0.4590\n",
      "Epoch 38/100\n",
      "124/124 [==============================] - 0s 3ms/step - loss: 0.4379 - val_loss: 0.4552\n",
      "Epoch 39/100\n",
      "124/124 [==============================] - 0s 2ms/step - loss: 0.4342 - val_loss: 0.4513\n",
      "Epoch 40/100\n",
      "124/124 [==============================] - 0s 2ms/step - loss: 0.4308 - val_loss: 0.4477\n",
      "Epoch 41/100\n",
      "124/124 [==============================] - 0s 2ms/step - loss: 0.4278 - val_loss: 0.4447\n",
      "Epoch 42/100\n",
      "124/124 [==============================] - 0s 2ms/step - loss: 0.4251 - val_loss: 0.4418\n",
      "Epoch 43/100\n",
      "124/124 [==============================] - 0s 2ms/step - loss: 0.4226 - val_loss: 0.4394\n",
      "Epoch 44/100\n",
      "124/124 [==============================] - 0s 2ms/step - loss: 0.4203 - val_loss: 0.4373\n",
      "Epoch 45/100\n",
      "124/124 [==============================] - 0s 2ms/step - loss: 0.4182 - val_loss: 0.4350\n",
      "Epoch 46/100\n",
      "124/124 [==============================] - 0s 2ms/step - loss: 0.4164 - val_loss: 0.4334\n",
      "Epoch 47/100\n",
      "124/124 [==============================] - 0s 2ms/step - loss: 0.4147 - val_loss: 0.4313\n",
      "Epoch 48/100\n",
      "124/124 [==============================] - 0s 2ms/step - loss: 0.4131 - val_loss: 0.4302\n",
      "Epoch 49/100\n",
      "124/124 [==============================] - 0s 2ms/step - loss: 0.4118 - val_loss: 0.4280\n",
      "Epoch 50/100\n",
      "124/124 [==============================] - 0s 2ms/step - loss: 0.4104 - val_loss: 0.4266\n",
      "Epoch 51/100\n",
      "124/124 [==============================] - 0s 2ms/step - loss: 0.4093 - val_loss: 0.4251\n",
      "Epoch 52/100\n",
      "124/124 [==============================] - 0s 2ms/step - loss: 0.4081 - val_loss: 0.4240\n",
      "Epoch 53/100\n",
      "124/124 [==============================] - 0s 2ms/step - loss: 0.4069 - val_loss: 0.4229\n",
      "Epoch 54/100\n",
      "124/124 [==============================] - 0s 2ms/step - loss: 0.4059 - val_loss: 0.4217\n",
      "Epoch 55/100\n",
      "124/124 [==============================] - 0s 2ms/step - loss: 0.4050 - val_loss: 0.4209\n",
      "Epoch 56/100\n",
      "124/124 [==============================] - 0s 2ms/step - loss: 0.4042 - val_loss: 0.4198\n",
      "Epoch 57/100\n",
      "124/124 [==============================] - 0s 2ms/step - loss: 0.4031 - val_loss: 0.4190\n",
      "Epoch 58/100\n",
      "124/124 [==============================] - 0s 2ms/step - loss: 0.4024 - val_loss: 0.4187\n",
      "Epoch 59/100\n",
      "124/124 [==============================] - 0s 2ms/step - loss: 0.4017 - val_loss: 0.4180\n",
      "Epoch 60/100\n",
      "124/124 [==============================] - 0s 2ms/step - loss: 0.4010 - val_loss: 0.4168\n",
      "Epoch 61/100\n",
      "124/124 [==============================] - 0s 2ms/step - loss: 0.4003 - val_loss: 0.4163\n",
      "Epoch 62/100\n",
      "124/124 [==============================] - 0s 2ms/step - loss: 0.3996 - val_loss: 0.4157\n",
      "Epoch 63/100\n",
      "124/124 [==============================] - 0s 3ms/step - loss: 0.3989 - val_loss: 0.4151\n",
      "Epoch 64/100\n",
      "124/124 [==============================] - 0s 3ms/step - loss: 0.3983 - val_loss: 0.4146\n",
      "Epoch 65/100\n",
      "124/124 [==============================] - 0s 4ms/step - loss: 0.3977 - val_loss: 0.4152\n",
      "Epoch 66/100\n",
      "124/124 [==============================] - 0s 2ms/step - loss: 0.3973 - val_loss: 0.4136\n",
      "Epoch 67/100\n",
      "124/124 [==============================] - 0s 2ms/step - loss: 0.3967 - val_loss: 0.4134\n",
      "Epoch 68/100\n",
      "124/124 [==============================] - 0s 2ms/step - loss: 0.3961 - val_loss: 0.4135\n",
      "Epoch 69/100\n",
      "124/124 [==============================] - 0s 2ms/step - loss: 0.3957 - val_loss: 0.4125\n",
      "Epoch 70/100\n",
      "124/124 [==============================] - 0s 2ms/step - loss: 0.3951 - val_loss: 0.4128\n",
      "Epoch 71/100\n",
      "124/124 [==============================] - 0s 2ms/step - loss: 0.3946 - val_loss: 0.4124\n",
      "Epoch 72/100\n",
      "124/124 [==============================] - 0s 2ms/step - loss: 0.3943 - val_loss: 0.4114\n",
      "Epoch 73/100\n",
      "124/124 [==============================] - 0s 2ms/step - loss: 0.3939 - val_loss: 0.4111\n",
      "Epoch 74/100\n",
      "124/124 [==============================] - 0s 2ms/step - loss: 0.3934 - val_loss: 0.4108\n",
      "Epoch 75/100\n",
      "124/124 [==============================] - 0s 2ms/step - loss: 0.3929 - val_loss: 0.4104\n",
      "Epoch 76/100\n",
      "124/124 [==============================] - 0s 2ms/step - loss: 0.3927 - val_loss: 0.4107\n",
      "Epoch 77/100\n",
      "124/124 [==============================] - 0s 2ms/step - loss: 0.3923 - val_loss: 0.4100\n",
      "Epoch 78/100\n",
      "124/124 [==============================] - 0s 2ms/step - loss: 0.3920 - val_loss: 0.4097\n",
      "Epoch 79/100\n",
      "124/124 [==============================] - 0s 2ms/step - loss: 0.3918 - val_loss: 0.4096\n",
      "Epoch 80/100\n",
      "124/124 [==============================] - 0s 2ms/step - loss: 0.3912 - val_loss: 0.4095\n",
      "Epoch 81/100\n"
     ]
    },
    {
     "name": "stdout",
     "output_type": "stream",
     "text": [
      "124/124 [==============================] - 0s 3ms/step - loss: 0.3908 - val_loss: 0.4093\n",
      "Epoch 82/100\n",
      "124/124 [==============================] - 0s 2ms/step - loss: 0.3907 - val_loss: 0.4088\n",
      "Epoch 83/100\n",
      "124/124 [==============================] - 0s 2ms/step - loss: 0.3902 - val_loss: 0.4088\n",
      "Epoch 84/100\n",
      "124/124 [==============================] - 0s 2ms/step - loss: 0.3899 - val_loss: 0.4089\n",
      "Epoch 85/100\n",
      "124/124 [==============================] - 0s 2ms/step - loss: 0.3898 - val_loss: 0.4084\n",
      "Epoch 86/100\n",
      "124/124 [==============================] - 0s 2ms/step - loss: 0.3894 - val_loss: 0.4080\n",
      "Epoch 87/100\n",
      "124/124 [==============================] - 0s 3ms/step - loss: 0.3893 - val_loss: 0.4080\n",
      "Epoch 88/100\n",
      "124/124 [==============================] - 0s 2ms/step - loss: 0.3891 - val_loss: 0.4077\n",
      "Epoch 89/100\n",
      "124/124 [==============================] - 0s 2ms/step - loss: 0.3888 - val_loss: 0.4080\n",
      "Epoch 90/100\n",
      "124/124 [==============================] - 0s 2ms/step - loss: 0.3885 - val_loss: 0.4073\n",
      "Epoch 91/100\n",
      "124/124 [==============================] - 0s 2ms/step - loss: 0.3884 - val_loss: 0.4073\n",
      "Epoch 92/100\n",
      "124/124 [==============================] - 0s 2ms/step - loss: 0.3881 - val_loss: 0.4072\n",
      "Epoch 93/100\n",
      "124/124 [==============================] - 0s 2ms/step - loss: 0.3880 - val_loss: 0.4070\n",
      "Epoch 94/100\n",
      "124/124 [==============================] - 0s 2ms/step - loss: 0.3878 - val_loss: 0.4069\n",
      "Epoch 95/100\n",
      "124/124 [==============================] - 0s 2ms/step - loss: 0.3875 - val_loss: 0.4073\n",
      "Epoch 96/100\n",
      "124/124 [==============================] - 0s 2ms/step - loss: 0.3871 - val_loss: 0.4067\n",
      "Epoch 97/100\n",
      "124/124 [==============================] - 0s 2ms/step - loss: 0.3870 - val_loss: 0.4066\n",
      "Epoch 98/100\n",
      "124/124 [==============================] - 0s 2ms/step - loss: 0.3869 - val_loss: 0.4065\n",
      "Epoch 99/100\n",
      "124/124 [==============================] - 0s 2ms/step - loss: 0.3868 - val_loss: 0.4062\n",
      "Epoch 100/100\n",
      "124/124 [==============================] - 0s 2ms/step - loss: 0.3865 - val_loss: 0.4061\n"
     ]
    },
    {
     "data": {
      "text/plain": [
       "<matplotlib.legend.Legend at 0x206c604de80>"
      ]
     },
     "execution_count": 24,
     "metadata": {},
     "output_type": "execute_result"
    },
    {
     "data": {
      "image/png": "[encoded data removed]",
      "text/plain": [
       "<Figure size 640x480 with 1 Axes>"
      ]
     },
     "metadata": {},
     "output_type": "display_data"
    }
   ],
   "source": [
    "# Train the model.\n",
    "# `epochs` determines the number of epochs.\n",
    "# `batch_size` determines the batch_size.\n",
    "# We don't actually need to save the fit model to a new variable to train our model, but saving the output\n",
    "# this way lets us make a graph of the training and validation performance.\n",
    "history = model.fit(X_train, Y_train, batch_size=100, epochs=100, validation_data=(X_valid, Y_valid))\n",
    "\n",
    "# Plot validation MSE, alwys nice to have plots to help us visualise things!\n",
    "plt.plot(history.history['loss'], label='MSE')\n",
    "plt.plot(history.history['val_loss'], label = 'val_MSE')\n",
    "plt.xlabel('Epoch')\n",
    "plt.ylabel('MSE')\n",
    "plt.legend(loc='lower right')"
   ]
  },
  {
   "cell_type": "markdown",
   "metadata": {
    "id": "osrt3VAcClm9"
   },
   "source": [
    "You can see that each epoch contains 13 mini batches. `loss` and `val_loss` show the loss (the mean squared error) on the training data and the validation data, respectively. The losses almost monotonously decrease throughout the training. In this case our validation MSE is lower than our training, as both are still continuing to reduce there is no overfitting but we should consider trining this model for longer."
   ]
  },
  {
   "cell_type": "markdown",
   "metadata": {
    "id": "89nqHpbwEl3f"
   },
   "source": [
    "## 1.4 Evaluation of the NN model\n",
    "We can evaluate the loss function on a new dataset by the `evaluate` method of the `Model` instance.\n"
   ]
  },
  {
   "cell_type": "code",
   "execution_count": 25,
   "metadata": {
    "colab": {
     "base_uri": "https://localhost:8080/"
    },
    "id": "r3HP3UGj3KHk",
    "outputId": "4f84a10d-5458-453f-9e43-a2b6037253f4"
   },
   "outputs": [
    {
     "name": "stdout",
     "output_type": "stream",
     "text": [
      "129/129 [==============================] - 0s 2ms/step - loss: 0.3894\n",
      "The mean squared error on the test data: 0.3894026577472687\n"
     ]
    }
   ],
   "source": [
    "mse_on_test = model.evaluate(X_test, Y_test)\n",
    "print('The mean squared error on the test data:', mse_on_test)"
   ]
  },
  {
   "cell_type": "markdown",
   "metadata": {
    "id": "Z4QPSmWM3L4G"
   },
   "source": [
    "This MSE looks to be in the same region as we saw for our validation data, so no evidence of overfitting here.\n",
    "We can make a prediction using the `predict` method just as we did in the `sklearn` cases. We can see how these predictions compare with our observed values and calculate the score function just as we did with out linear models."
   ]
  },
  {
   "cell_type": "code",
   "execution_count": 26,
   "metadata": {
    "colab": {
     "base_uri": "https://localhost:8080/",
     "height": 314
    },
    "id": "6TCZGXotEzpD",
    "outputId": "5f616bfc-7ee4-44b8-d6c4-eea8ae7a301c"
   },
   "outputs": [
    {
     "name": "stdout",
     "output_type": "stream",
     "text": [
      "129/129 [==============================] - 0s 2ms/step\n"
     ]
    },
    {
     "data": {
      "image/png": "[encoded data removed]",
      "text/plain": [
       "<Figure size 640x480 with 1 Axes>"
      ]
     },
     "metadata": {},
     "output_type": "display_data"
    },
    {
     "name": "stdout",
     "output_type": "stream",
     "text": [
      "R2 score: 0.7014\n"
     ]
    }
   ],
   "source": [
    "Y_test_pred = model.predict(X_test)\n",
    "\n",
    "# Plot our predictions\n",
    "plt.scatter(X_test_raw[:,0], Y_test,  color='black', label='y_true') # Observed y values\n",
    "plt.scatter(X_test_raw[:,0], Y_test_pred, color='blue', label='y_pred') # predicted y values\n",
    "plt.xlabel('MedInc')\n",
    "plt.ylabel('house price')\n",
    "plt.legend()\n",
    "plt.show()\n",
    "\n",
    "# The R2 score: 1 is perfect prediction\n",
    "print('R2 score: {:.4f}'.format(sklearn.metrics.r2_score(Y_test, Y_test_pred)))"
   ]
  },
  {
   "cell_type": "markdown",
   "metadata": {
    "id": "QJbjxLvf5bTn"
   },
   "source": [
    "## 1.5 Exercise 1\n",
    "So, our model above is performing okay, but honestly the Neural Network we've made here isn't that great and clearly needs more training if nothing else. Don't spend too long on this, but manually experiment with the model to see if you can make it more accurate (ideally without just training it for 1000's of steps!).\n",
    "\n",
    "Some things to try changing:\n",
    "*   More hidden layers\n",
    "*   More units in the hidden layers (remember that we generally want teh same number of hidden units in each layer)\n",
    "*   Different activation functions in the hidden layers (say `relu` which is probably more appropriate for this type of problem, but you can try others, again these should generally be the same for each layer other than the output.)\n",
    "*   Different compiler option hyperparameters such as batch size, number of epochs, learning rate.\n",
    "\n",
    "\n",
    "\n"
   ]
  },
  {
   "cell_type": "code",
   "execution_count": 15,
   "metadata": {
    "colab": {
     "base_uri": "https://localhost:8080/"
    },
    "id": "zph5YBTI68c6",
    "outputId": "24dd8fbb-f535-4f61-b9b8-4a3f35cbdf42"
   },
   "outputs": [
    {
     "name": "stdout",
     "output_type": "stream",
     "text": [
      "Model: \"Exercise_1\"\n",
      "_________________________________________________________________\n",
      " Layer (type)                Output Shape              Param #   \n",
      "=================================================================\n",
      " input_2 (InputLayer)        [(None, 8)]               0         \n",
      "                                                                 \n",
      " dense_3 (Dense)             (None, 512)               4608      \n",
      "                                                                 \n",
      " dense_4 (Dense)             (None, 512)               262656    \n",
      "                                                                 \n",
      " dense_5 (Dense)             (None, 512)               262656    \n",
      "                                                                 \n",
      " dense_6 (Dense)             (None, 512)               262656    \n",
      "                                                                 \n",
      " dense_7 (Dense)             (None, 512)               262656    \n",
      "                                                                 \n",
      " dense_8 (Dense)             (None, 1)                 513       \n",
      "                                                                 \n",
      "=================================================================\n",
      "Total params: 1,055,745\n",
      "Trainable params: 1,055,745\n",
      "Non-trainable params: 0\n",
      "_________________________________________________________________\n"
     ]
    }
   ],
   "source": [
    "##############################################################\n",
    "# Your code here\n",
    "##############################################################\n",
    "X_pd, y_pd = sklearn.datasets.fetch_california_housing(return_X_y=True, as_frame=True)\n",
    "Y_pd = y_pd.to_frame()\n",
    "\n",
    "X_raw = X_pd.to_numpy()\n",
    "Y = Y_pd.to_numpy()\n",
    "\n",
    "\n",
    "X_nontest_raw, X_test_raw, Y_nontest, Y_test = train_test_split(X_raw, Y, test_size=0.20, shuffle=True, random_state=0)\n",
    "X_train_raw, X_valid_raw, Y_train, Y_valid = train_test_split(X_nontest_raw, Y_nontest, test_size=0.25, shuffle=True, random_state=0)\n",
    "\n",
    "scaler = StandardScaler()\n",
    "scaler.fit(X_train_raw)\n",
    "X_train = scaler.transform(X_train_raw)\n",
    "X_valid = scaler.transform(X_valid_raw)\n",
    "X_test = scaler.transform(X_test_raw)\n",
    "\n",
    "first_layer = Dense(units=128*4, activation=relu)\n",
    "second_layer = Dense(units=128*4, activation=relu)\n",
    "third_layer = Dense(units=128*4, activation=relu)\n",
    "forth_layer = Dense(units=128*4, activation=relu)\n",
    "fifth_layer = Dense(units=128*4, activation=relu)\n",
    "out_layer = Dense(units=1, activation=linear)\n",
    "\n",
    "input = Input(shape=X_train.shape[1:])\n",
    "output = first_layer(input)\n",
    "output = second_layer(output)\n",
    "output = third_layer(output)\n",
    "output = forth_layer(output)\n",
    "output = fifth_layer(output)\n",
    "output = out_layer(output)\n",
    "\n",
    "# Define the neural network model.\n",
    "model = Model(inputs=[input], outputs=[output], name='Exercise_1')\n",
    "model.summary()"
   ]
  },
  {
   "cell_type": "code",
   "execution_count": 16,
   "metadata": {
    "colab": {
     "base_uri": "https://localhost:8080/",
     "height": 1000
    },
    "id": "4I0nftvl7U-L",
    "outputId": "24bed435-90ab-4287-ceeb-22d78ba043d4"
   },
   "outputs": [
    {
     "name": "stdout",
     "output_type": "stream",
     "text": [
      "Epoch 1/100\n",
      "13/13 [==============================] - 2s 81ms/step - loss: 3.3111 - val_loss: 1.8020\n",
      "Epoch 2/100\n",
      "13/13 [==============================] - 1s 56ms/step - loss: 1.1893 - val_loss: 1.0769\n",
      "Epoch 3/100\n",
      "13/13 [==============================] - 1s 58ms/step - loss: 0.8440 - val_loss: 0.8045\n",
      "Epoch 4/100\n",
      "13/13 [==============================] - 1s 59ms/step - loss: 0.7003 - val_loss: 0.6863\n",
      "Epoch 5/100\n",
      "13/13 [==============================] - 1s 55ms/step - loss: 0.6383 - val_loss: 0.6385\n",
      "Epoch 6/100\n",
      "13/13 [==============================] - 1s 57ms/step - loss: 0.6054 - val_loss: 0.6094\n",
      "Epoch 7/100\n",
      "13/13 [==============================] - 1s 60ms/step - loss: 0.5813 - val_loss: 0.5880\n",
      "Epoch 8/100\n",
      "13/13 [==============================] - 1s 61ms/step - loss: 0.5601 - val_loss: 0.5721\n",
      "Epoch 9/100\n",
      "13/13 [==============================] - 1s 59ms/step - loss: 0.5408 - val_loss: 0.5511\n",
      "Epoch 10/100\n",
      "13/13 [==============================] - 1s 59ms/step - loss: 0.5236 - val_loss: 0.5354\n",
      "Epoch 11/100\n",
      "13/13 [==============================] - 1s 58ms/step - loss: 0.5076 - val_loss: 0.5206\n",
      "Epoch 12/100\n",
      "13/13 [==============================] - 1s 60ms/step - loss: 0.4932 - val_loss: 0.5081\n",
      "Epoch 13/100\n",
      "13/13 [==============================] - 1s 57ms/step - loss: 0.4790 - val_loss: 0.4947\n",
      "Epoch 14/100\n",
      "13/13 [==============================] - 1s 56ms/step - loss: 0.4666 - val_loss: 0.4833\n",
      "Epoch 15/100\n",
      "13/13 [==============================] - 1s 57ms/step - loss: 0.4554 - val_loss: 0.4736\n",
      "Epoch 16/100\n",
      "13/13 [==============================] - 1s 56ms/step - loss: 0.4452 - val_loss: 0.4689\n",
      "Epoch 17/100\n",
      "13/13 [==============================] - 1s 52ms/step - loss: 0.4357 - val_loss: 0.4559\n",
      "Epoch 18/100\n",
      "13/13 [==============================] - 1s 57ms/step - loss: 0.4277 - val_loss: 0.4477\n",
      "Epoch 19/100\n",
      "13/13 [==============================] - 1s 57ms/step - loss: 0.4204 - val_loss: 0.4419\n",
      "Epoch 20/100\n",
      "13/13 [==============================] - 1s 59ms/step - loss: 0.4139 - val_loss: 0.4412\n",
      "Epoch 21/100\n",
      "13/13 [==============================] - 1s 55ms/step - loss: 0.4085 - val_loss: 0.4315\n",
      "Epoch 22/100\n",
      "13/13 [==============================] - 1s 53ms/step - loss: 0.4029 - val_loss: 0.4229\n",
      "Epoch 23/100\n",
      "13/13 [==============================] - 1s 54ms/step - loss: 0.3980 - val_loss: 0.4190\n",
      "Epoch 24/100\n",
      "13/13 [==============================] - 1s 53ms/step - loss: 0.3937 - val_loss: 0.4136\n",
      "Epoch 25/100\n",
      "13/13 [==============================] - 1s 55ms/step - loss: 0.3895 - val_loss: 0.4120\n",
      "Epoch 26/100\n",
      "13/13 [==============================] - 1s 53ms/step - loss: 0.3868 - val_loss: 0.4065\n",
      "Epoch 27/100\n",
      "13/13 [==============================] - 1s 56ms/step - loss: 0.3829 - val_loss: 0.4022\n",
      "Epoch 28/100\n",
      "13/13 [==============================] - 1s 53ms/step - loss: 0.3797 - val_loss: 0.3995\n",
      "Epoch 29/100\n",
      "13/13 [==============================] - 1s 53ms/step - loss: 0.3771 - val_loss: 0.3976\n",
      "Epoch 30/100\n",
      "13/13 [==============================] - 1s 54ms/step - loss: 0.3746 - val_loss: 0.3945\n",
      "Epoch 31/100\n",
      "13/13 [==============================] - 1s 53ms/step - loss: 0.3720 - val_loss: 0.3918\n",
      "Epoch 32/100\n",
      "13/13 [==============================] - 1s 59ms/step - loss: 0.3701 - val_loss: 0.3905\n",
      "Epoch 33/100\n",
      "13/13 [==============================] - 1s 55ms/step - loss: 0.3678 - val_loss: 0.3905\n",
      "Epoch 34/100\n",
      "13/13 [==============================] - 1s 53ms/step - loss: 0.3661 - val_loss: 0.3847\n",
      "Epoch 35/100\n",
      "13/13 [==============================] - 1s 53ms/step - loss: 0.3643 - val_loss: 0.3834\n",
      "Epoch 36/100\n",
      "13/13 [==============================] - 1s 54ms/step - loss: 0.3622 - val_loss: 0.3811\n",
      "Epoch 37/100\n",
      "13/13 [==============================] - 1s 53ms/step - loss: 0.3605 - val_loss: 0.3802\n",
      "Epoch 38/100\n",
      "13/13 [==============================] - 1s 59ms/step - loss: 0.3591 - val_loss: 0.3794\n",
      "Epoch 39/100\n",
      "13/13 [==============================] - 1s 57ms/step - loss: 0.3577 - val_loss: 0.3767\n",
      "Epoch 40/100\n",
      "13/13 [==============================] - 1s 54ms/step - loss: 0.3557 - val_loss: 0.3766\n",
      "Epoch 41/100\n",
      "13/13 [==============================] - 1s 55ms/step - loss: 0.3544 - val_loss: 0.3773\n",
      "Epoch 42/100\n",
      "13/13 [==============================] - 1s 53ms/step - loss: 0.3542 - val_loss: 0.3747\n",
      "Epoch 43/100\n",
      "13/13 [==============================] - 1s 52ms/step - loss: 0.3518 - val_loss: 0.3730\n",
      "Epoch 44/100\n",
      "13/13 [==============================] - 1s 54ms/step - loss: 0.3505 - val_loss: 0.3721\n",
      "Epoch 45/100\n",
      "13/13 [==============================] - 1s 53ms/step - loss: 0.3496 - val_loss: 0.3712\n",
      "Epoch 46/100\n",
      "13/13 [==============================] - 1s 53ms/step - loss: 0.3480 - val_loss: 0.3688\n",
      "Epoch 47/100\n",
      "13/13 [==============================] - 1s 56ms/step - loss: 0.3474 - val_loss: 0.3678\n",
      "Epoch 48/100\n",
      "13/13 [==============================] - 1s 56ms/step - loss: 0.3461 - val_loss: 0.3725\n",
      "Epoch 49/100\n",
      "13/13 [==============================] - 1s 53ms/step - loss: 0.3454 - val_loss: 0.3666\n",
      "Epoch 50/100\n",
      "13/13 [==============================] - 1s 55ms/step - loss: 0.3435 - val_loss: 0.3646\n",
      "Epoch 51/100\n",
      "13/13 [==============================] - 1s 53ms/step - loss: 0.3425 - val_loss: 0.3683\n",
      "Epoch 52/100\n",
      "13/13 [==============================] - 1s 55ms/step - loss: 0.3414 - val_loss: 0.3642\n",
      "Epoch 53/100\n",
      "13/13 [==============================] - 1s 54ms/step - loss: 0.3407 - val_loss: 0.3622\n",
      "Epoch 54/100\n",
      "13/13 [==============================] - 1s 56ms/step - loss: 0.3412 - val_loss: 0.3624\n",
      "Epoch 55/100\n",
      "13/13 [==============================] - 1s 57ms/step - loss: 0.3394 - val_loss: 0.3615\n",
      "Epoch 56/100\n",
      "13/13 [==============================] - 1s 54ms/step - loss: 0.3387 - val_loss: 0.3620\n",
      "Epoch 57/100\n",
      "13/13 [==============================] - 1s 54ms/step - loss: 0.3380 - val_loss: 0.3606\n",
      "Epoch 58/100\n",
      "13/13 [==============================] - 1s 55ms/step - loss: 0.3358 - val_loss: 0.3611\n",
      "Epoch 59/100\n",
      "13/13 [==============================] - 1s 55ms/step - loss: 0.3345 - val_loss: 0.3702\n",
      "Epoch 60/100\n",
      "13/13 [==============================] - 1s 56ms/step - loss: 0.3344 - val_loss: 0.3569\n",
      "Epoch 61/100\n",
      "13/13 [==============================] - 1s 58ms/step - loss: 0.3329 - val_loss: 0.3601\n",
      "Epoch 62/100\n",
      "13/13 [==============================] - 1s 59ms/step - loss: 0.3324 - val_loss: 0.3555\n",
      "Epoch 63/100\n",
      "13/13 [==============================] - 1s 55ms/step - loss: 0.3314 - val_loss: 0.3570\n",
      "Epoch 64/100\n",
      "13/13 [==============================] - 1s 77ms/step - loss: 0.3304 - val_loss: 0.3618\n",
      "Epoch 65/100\n",
      "13/13 [==============================] - 1s 77ms/step - loss: 0.3324 - val_loss: 0.3581\n",
      "Epoch 66/100\n",
      "13/13 [==============================] - 1s 79ms/step - loss: 0.3304 - val_loss: 0.3534\n",
      "Epoch 67/100\n",
      "13/13 [==============================] - 1s 82ms/step - loss: 0.3294 - val_loss: 0.3567\n",
      "Epoch 68/100\n",
      "13/13 [==============================] - 1s 79ms/step - loss: 0.3277 - val_loss: 0.3521\n",
      "Epoch 69/100\n",
      "13/13 [==============================] - 1s 75ms/step - loss: 0.3265 - val_loss: 0.3525\n",
      "Epoch 70/100\n",
      "13/13 [==============================] - 1s 86ms/step - loss: 0.3264 - val_loss: 0.3527\n",
      "Epoch 71/100\n",
      "13/13 [==============================] - 1s 77ms/step - loss: 0.3255 - val_loss: 0.3513\n",
      "Epoch 72/100\n",
      "13/13 [==============================] - 1s 88ms/step - loss: 0.3241 - val_loss: 0.3503\n",
      "Epoch 73/100\n",
      "13/13 [==============================] - 1s 87ms/step - loss: 0.3254 - val_loss: 0.3515\n",
      "Epoch 74/100\n",
      "13/13 [==============================] - 1s 83ms/step - loss: 0.3229 - val_loss: 0.3515\n",
      "Epoch 75/100\n",
      "13/13 [==============================] - 1s 108ms/step - loss: 0.3232 - val_loss: 0.3495\n",
      "Epoch 76/100\n",
      "13/13 [==============================] - 1s 107ms/step - loss: 0.3218 - val_loss: 0.3474\n",
      "Epoch 77/100\n",
      "13/13 [==============================] - 1s 112ms/step - loss: 0.3228 - val_loss: 0.3475\n",
      "Epoch 78/100\n",
      "13/13 [==============================] - 1s 111ms/step - loss: 0.3206 - val_loss: 0.3473\n",
      "Epoch 79/100\n",
      "13/13 [==============================] - 2s 117ms/step - loss: 0.3193 - val_loss: 0.3463\n",
      "Epoch 80/100\n",
      "13/13 [==============================] - 1s 116ms/step - loss: 0.3186 - val_loss: 0.3455\n",
      "Epoch 81/100\n",
      "13/13 [==============================] - 1s 82ms/step - loss: 0.3177 - val_loss: 0.3451\n",
      "Epoch 82/100\n",
      "13/13 [==============================] - 1s 64ms/step - loss: 0.3173 - val_loss: 0.3457\n",
      "Epoch 83/100\n",
      "13/13 [==============================] - 1s 77ms/step - loss: 0.3194 - val_loss: 0.3492\n",
      "Epoch 84/100\n",
      "13/13 [==============================] - 1s 82ms/step - loss: 0.3169 - val_loss: 0.3441\n",
      "Epoch 85/100\n",
      "13/13 [==============================] - 1s 96ms/step - loss: 0.3159 - val_loss: 0.3606\n",
      "Epoch 86/100\n",
      "13/13 [==============================] - 1s 81ms/step - loss: 0.3183 - val_loss: 0.3455\n",
      "Epoch 87/100\n",
      "13/13 [==============================] - 1s 78ms/step - loss: 0.3141 - val_loss: 0.3532\n",
      "Epoch 88/100\n",
      "13/13 [==============================] - 1s 80ms/step - loss: 0.3144 - val_loss: 0.3466\n",
      "Epoch 89/100\n",
      "13/13 [==============================] - 1s 81ms/step - loss: 0.3139 - val_loss: 0.3413\n",
      "Epoch 90/100\n",
      "13/13 [==============================] - 1s 78ms/step - loss: 0.3137 - val_loss: 0.3416\n",
      "Epoch 91/100\n",
      "13/13 [==============================] - 1s 80ms/step - loss: 0.3132 - val_loss: 0.3404\n",
      "Epoch 92/100\n",
      "13/13 [==============================] - 1s 84ms/step - loss: 0.3123 - val_loss: 0.3399\n",
      "Epoch 93/100\n",
      "13/13 [==============================] - 1s 81ms/step - loss: 0.3116 - val_loss: 0.3454\n",
      "Epoch 94/100\n",
      "13/13 [==============================] - 1s 81ms/step - loss: 0.3112 - val_loss: 0.3421\n",
      "Epoch 95/100\n",
      "13/13 [==============================] - 1s 79ms/step - loss: 0.3100 - val_loss: 0.3539\n",
      "Epoch 96/100\n",
      "13/13 [==============================] - 1s 79ms/step - loss: 0.3100 - val_loss: 0.3424\n",
      "Epoch 97/100\n",
      "13/13 [==============================] - 1s 75ms/step - loss: 0.3087 - val_loss: 0.3398\n",
      "Epoch 98/100\n",
      "13/13 [==============================] - 1s 76ms/step - loss: 0.3093 - val_loss: 0.3415\n",
      "Epoch 99/100\n",
      "13/13 [==============================] - 1s 73ms/step - loss: 0.3101 - val_loss: 0.3439\n",
      "Epoch 100/100\n",
      "13/13 [==============================] - 1s 71ms/step - loss: 0.3070 - val_loss: 0.3471\n"
     ]
    },
    {
     "data": {
      "text/plain": [
       "<matplotlib.legend.Legend at 0x272cf7456d0>"
      ]
     },
     "execution_count": 16,
     "metadata": {},
     "output_type": "execute_result"
    },
    {
     "data": {
      "image/png": "[encoded data removed]",
      "text/plain": [
       "<Figure size 640x480 with 1 Axes>"
      ]
     },
     "metadata": {},
     "output_type": "display_data"
    }
   ],
   "source": [
    "# Compile the model by specifying the optimization algorithm and the loss function.\n",
    "sgd = SGD(learning_rate=0.01)\n",
    "mse = MeanSquaredError()\n",
    "model.compile(optimizer=sgd, loss=mse)\n",
    "\n",
    "# Train the model.\n",
    "history = model.fit(X_train, Y_train, batch_size=1000, epochs=100, validation_data=(X_valid, Y_valid), verbose=1)\n",
    "\n",
    "# Plot validation MSE, alwys nice to have plots to help us visualise things!\n",
    "plt.plot(history.history['loss'], label='MSE')\n",
    "plt.plot(history.history['val_loss'], label = 'val_MSE')\n",
    "plt.xlabel('Epoch')\n",
    "plt.ylabel('MSE')\n",
    "plt.legend(loc='lower right')"
   ]
  },
  {
   "cell_type": "code",
   "execution_count": 17,
   "metadata": {
    "colab": {
     "base_uri": "https://localhost:8080/",
     "height": 348
    },
    "id": "tqdtrv9e7zWX",
    "outputId": "ea9d0ce0-1415-485a-fc8b-36cc62527a76"
   },
   "outputs": [
    {
     "name": "stdout",
     "output_type": "stream",
     "text": [
      "129/129 [==============================] - 1s 6ms/step - loss: 0.3300\n",
      "The mean squared error on the test data: 0.33001798391342163\n",
      "129/129 [==============================] - 1s 6ms/step\n"
     ]
    },
    {
     "data": {
      "image/png": "[encoded data removed]",
      "text/plain": [
       "<Figure size 640x480 with 1 Axes>"
      ]
     },
     "metadata": {},
     "output_type": "display_data"
    },
    {
     "name": "stdout",
     "output_type": "stream",
     "text": [
      "R2 score: 0.7469\n"
     ]
    }
   ],
   "source": [
    "mse_on_test = model.evaluate(X_test, Y_test)\n",
    "print('The mean squared error on the test data:', mse_on_test)\n",
    "\n",
    "Y_test_pred = model.predict(X_test)\n",
    "\n",
    "# Plot our predictions\n",
    "plt.scatter(X_test_raw[:,0], Y_test,  color='black', label='y_true') # Observed y values\n",
    "plt.scatter(X_test_raw[:,0], Y_test_pred, color='blue', label='y_pred') # predicted y values\n",
    "plt.xlabel('MedInc')\n",
    "plt.ylabel('house price')\n",
    "plt.legend()\n",
    "plt.show()\n",
    "\n",
    "# The R2 score: 1 is perfect prediction\n",
    "print('R2 score: {:.4f}'.format(sklearn.metrics.r2_score(Y_test, Y_test_pred)))"
   ]
  },
  {
   "cell_type": "markdown",
   "metadata": {
    "id": "S-X9mTcjnVvG"
   },
   "source": [
    "## 1.6 Exercise 2\n",
    "As a test to see if you understand what we are actually doing with these Neural Network Layers, are you able to create a multivariate linear regression model using a Neural Network layer. If the activation function $f$ is the identity function (the function that returns the arguments without any modification) and the output vector dimension is one, the function defined by a `Dense` layer is equivalent to the hypothesis function of the linear regression model.\n",
    "\n",
    "Go back and check the basic multivariable linear regression example (so without polynomial features or regularisation) for the California Housing Dataset in **Week 5** and see if we are getting the same answer (Make sure your model is fully trained and that any sampling/shuffling is the same!)\n",
    "\n",
    "Hints:\n",
    "*   We only need one `Dense` layer.\n",
    "*   Recall that the linear regression model is defined by \n",
    "$$\n",
    "h_{\\Vec{\\theta}} ({\\Vec{x}^{(i)}}) = \\theta_{0} + {\\Vec{x}^{(i)}} \\Vec{\\theta}.\n",
    "$$\n",
    "\n"
   ]
  },
  {
   "cell_type": "code",
   "execution_count": 18,
   "metadata": {
    "colab": {
     "base_uri": "https://localhost:8080/",
     "height": 1000
    },
    "id": "5uwxe3TkLAhT",
    "outputId": "72dea9e3-eabf-4244-db22-fe15011ccc76"
   },
   "outputs": [
    {
     "name": "stdout",
     "output_type": "stream",
     "text": [
      "Model: \"Exercise_2\"\n",
      "_________________________________________________________________\n",
      " Layer (type)                Output Shape              Param #   \n",
      "=================================================================\n",
      " input_3 (InputLayer)        [(None, 8)]               0         \n",
      "                                                                 \n",
      " dense_9 (Dense)             (None, 1)                 9         \n",
      "                                                                 \n",
      "=================================================================\n",
      "Total params: 9\n",
      "Trainable params: 9\n",
      "Non-trainable params: 0\n",
      "_________________________________________________________________\n",
      "Epoch 1/100\n",
      "13/13 [==============================] - 0s 16ms/step - loss: 6.1891 - val_loss: 5.3326\n",
      "Epoch 2/100\n",
      "13/13 [==============================] - 0s 6ms/step - loss: 3.7599 - val_loss: 3.3143\n",
      "Epoch 3/100\n",
      "13/13 [==============================] - 0s 5ms/step - loss: 2.4391 - val_loss: 2.2190\n",
      "Epoch 4/100\n",
      "13/13 [==============================] - 0s 5ms/step - loss: 1.7022 - val_loss: 1.5947\n",
      "Epoch 5/100\n",
      "13/13 [==============================] - 0s 4ms/step - loss: 1.2777 - val_loss: 1.2339\n",
      "Epoch 6/100\n",
      "13/13 [==============================] - 0s 5ms/step - loss: 1.0296 - val_loss: 1.0230\n",
      "Epoch 7/100\n",
      "13/13 [==============================] - 0s 4ms/step - loss: 0.8834 - val_loss: 0.8972\n",
      "Epoch 8/100\n",
      "13/13 [==============================] - 0s 5ms/step - loss: 0.7950 - val_loss: 0.8175\n",
      "Epoch 9/100\n",
      "13/13 [==============================] - 0s 5ms/step - loss: 0.7393 - val_loss: 0.7680\n",
      "Epoch 10/100\n",
      "13/13 [==============================] - 0s 5ms/step - loss: 0.7042 - val_loss: 0.7343\n",
      "Epoch 11/100\n",
      "13/13 [==============================] - 0s 5ms/step - loss: 0.6801 - val_loss: 0.7108\n",
      "Epoch 12/100\n",
      "13/13 [==============================] - 0s 6ms/step - loss: 0.6629 - val_loss: 0.6940\n",
      "Epoch 13/100\n",
      "13/13 [==============================] - 0s 5ms/step - loss: 0.6505 - val_loss: 0.6802\n",
      "Epoch 14/100\n",
      "13/13 [==============================] - 0s 5ms/step - loss: 0.6407 - val_loss: 0.6702\n",
      "Epoch 15/100\n",
      "13/13 [==============================] - 0s 5ms/step - loss: 0.6326 - val_loss: 0.6612\n",
      "Epoch 16/100\n",
      "13/13 [==============================] - 0s 4ms/step - loss: 0.6256 - val_loss: 0.6539\n",
      "Epoch 17/100\n",
      "13/13 [==============================] - 0s 4ms/step - loss: 0.6193 - val_loss: 0.6467\n",
      "Epoch 18/100\n",
      "13/13 [==============================] - 0s 5ms/step - loss: 0.6136 - val_loss: 0.6400\n",
      "Epoch 19/100\n",
      "13/13 [==============================] - 0s 5ms/step - loss: 0.6085 - val_loss: 0.6334\n",
      "Epoch 20/100\n",
      "13/13 [==============================] - 0s 7ms/step - loss: 0.6036 - val_loss: 0.6284\n",
      "Epoch 21/100\n",
      "13/13 [==============================] - 0s 5ms/step - loss: 0.5989 - val_loss: 0.6230\n",
      "Epoch 22/100\n",
      "13/13 [==============================] - 0s 5ms/step - loss: 0.5947 - val_loss: 0.6153\n",
      "Epoch 23/100\n",
      "13/13 [==============================] - 0s 6ms/step - loss: 0.5907 - val_loss: 0.6112\n",
      "Epoch 24/100\n",
      "13/13 [==============================] - 0s 5ms/step - loss: 0.5868 - val_loss: 0.6073\n",
      "Epoch 25/100\n",
      "13/13 [==============================] - 0s 4ms/step - loss: 0.5831 - val_loss: 0.6035\n",
      "Epoch 26/100\n",
      "13/13 [==============================] - 0s 4ms/step - loss: 0.5797 - val_loss: 0.5998\n",
      "Epoch 27/100\n",
      "13/13 [==============================] - 0s 5ms/step - loss: 0.5764 - val_loss: 0.5964\n",
      "Epoch 28/100\n",
      "13/13 [==============================] - 0s 5ms/step - loss: 0.5732 - val_loss: 0.5937\n",
      "Epoch 29/100\n",
      "13/13 [==============================] - 0s 6ms/step - loss: 0.5703 - val_loss: 0.5910\n",
      "Epoch 30/100\n",
      "13/13 [==============================] - 0s 7ms/step - loss: 0.5676 - val_loss: 0.5880\n",
      "Epoch 31/100\n",
      "13/13 [==============================] - 0s 7ms/step - loss: 0.5650 - val_loss: 0.5853\n",
      "Epoch 32/100\n",
      "13/13 [==============================] - 0s 4ms/step - loss: 0.5625 - val_loss: 0.5829\n",
      "Epoch 33/100\n",
      "13/13 [==============================] - 0s 4ms/step - loss: 0.5601 - val_loss: 0.5808\n",
      "Epoch 34/100\n",
      "13/13 [==============================] - 0s 5ms/step - loss: 0.5579 - val_loss: 0.5786\n",
      "Epoch 35/100\n",
      "13/13 [==============================] - 0s 4ms/step - loss: 0.5558 - val_loss: 0.5767\n",
      "Epoch 36/100\n",
      "13/13 [==============================] - 0s 5ms/step - loss: 0.5538 - val_loss: 0.5747\n",
      "Epoch 37/100\n",
      "13/13 [==============================] - 0s 5ms/step - loss: 0.5517 - val_loss: 0.5731\n",
      "Epoch 38/100\n",
      "13/13 [==============================] - 0s 5ms/step - loss: 0.5500 - val_loss: 0.5715\n",
      "Epoch 39/100\n",
      "13/13 [==============================] - 0s 4ms/step - loss: 0.5483 - val_loss: 0.5698\n",
      "Epoch 40/100\n",
      "13/13 [==============================] - 0s 5ms/step - loss: 0.5466 - val_loss: 0.5685\n",
      "Epoch 41/100\n",
      "13/13 [==============================] - 0s 4ms/step - loss: 0.5450 - val_loss: 0.5671\n",
      "Epoch 42/100\n",
      "13/13 [==============================] - 0s 5ms/step - loss: 0.5436 - val_loss: 0.5658\n",
      "Epoch 43/100\n",
      "13/13 [==============================] - 0s 5ms/step - loss: 0.5422 - val_loss: 0.5648\n",
      "Epoch 44/100\n",
      "13/13 [==============================] - 0s 5ms/step - loss: 0.5408 - val_loss: 0.5638\n",
      "Epoch 45/100\n",
      "13/13 [==============================] - 0s 4ms/step - loss: 0.5396 - val_loss: 0.5630\n",
      "Epoch 46/100\n",
      "13/13 [==============================] - 0s 5ms/step - loss: 0.5384 - val_loss: 0.5623\n",
      "Epoch 47/100\n",
      "13/13 [==============================] - 0s 5ms/step - loss: 0.5372 - val_loss: 0.5613\n",
      "Epoch 48/100\n",
      "13/13 [==============================] - 0s 6ms/step - loss: 0.5362 - val_loss: 0.5606\n",
      "Epoch 49/100\n",
      "13/13 [==============================] - 0s 5ms/step - loss: 0.5352 - val_loss: 0.5598\n",
      "Epoch 50/100\n",
      "13/13 [==============================] - 0s 4ms/step - loss: 0.5342 - val_loss: 0.5589\n",
      "Epoch 51/100\n",
      "13/13 [==============================] - 0s 5ms/step - loss: 0.5333 - val_loss: 0.5586\n",
      "Epoch 52/100\n",
      "13/13 [==============================] - 0s 6ms/step - loss: 0.5324 - val_loss: 0.5584\n",
      "Epoch 53/100\n",
      "13/13 [==============================] - 0s 5ms/step - loss: 0.5316 - val_loss: 0.5578\n",
      "Epoch 54/100\n",
      "13/13 [==============================] - 0s 5ms/step - loss: 0.5308 - val_loss: 0.5571\n",
      "Epoch 55/100\n",
      "13/13 [==============================] - 0s 5ms/step - loss: 0.5300 - val_loss: 0.5572\n",
      "Epoch 56/100\n",
      "13/13 [==============================] - 0s 5ms/step - loss: 0.5294 - val_loss: 0.5571\n",
      "Epoch 57/100\n",
      "13/13 [==============================] - 0s 5ms/step - loss: 0.5286 - val_loss: 0.5569\n",
      "Epoch 58/100\n",
      "13/13 [==============================] - 0s 5ms/step - loss: 0.5280 - val_loss: 0.5562\n",
      "Epoch 59/100\n",
      "13/13 [==============================] - 0s 5ms/step - loss: 0.5274 - val_loss: 0.5563\n",
      "Epoch 60/100\n",
      "13/13 [==============================] - 0s 5ms/step - loss: 0.5268 - val_loss: 0.5560\n",
      "Epoch 61/100\n",
      "13/13 [==============================] - 0s 5ms/step - loss: 0.5263 - val_loss: 0.5557\n",
      "Epoch 62/100\n",
      "13/13 [==============================] - 0s 5ms/step - loss: 0.5258 - val_loss: 0.5556\n",
      "Epoch 63/100\n",
      "13/13 [==============================] - 0s 5ms/step - loss: 0.5253 - val_loss: 0.5555\n",
      "Epoch 64/100\n",
      "13/13 [==============================] - 0s 4ms/step - loss: 0.5248 - val_loss: 0.5554\n",
      "Epoch 65/100\n",
      "13/13 [==============================] - 0s 5ms/step - loss: 0.5244 - val_loss: 0.5553\n",
      "Epoch 66/100\n",
      "13/13 [==============================] - 0s 5ms/step - loss: 0.5240 - val_loss: 0.5550\n",
      "Epoch 67/100\n",
      "13/13 [==============================] - 0s 5ms/step - loss: 0.5235 - val_loss: 0.5546\n",
      "Epoch 68/100\n",
      "13/13 [==============================] - 0s 5ms/step - loss: 0.5231 - val_loss: 0.5552\n",
      "Epoch 69/100\n",
      "13/13 [==============================] - 0s 4ms/step - loss: 0.5228 - val_loss: 0.5546\n",
      "Epoch 70/100\n",
      "13/13 [==============================] - 0s 5ms/step - loss: 0.5224 - val_loss: 0.5551\n",
      "Epoch 71/100\n",
      "13/13 [==============================] - 0s 4ms/step - loss: 0.5221 - val_loss: 0.5552\n",
      "Epoch 72/100\n",
      "13/13 [==============================] - 0s 5ms/step - loss: 0.5218 - val_loss: 0.5554\n",
      "Epoch 73/100\n",
      "13/13 [==============================] - 0s 5ms/step - loss: 0.5215 - val_loss: 0.5549\n",
      "Epoch 74/100\n",
      "13/13 [==============================] - 0s 4ms/step - loss: 0.5213 - val_loss: 0.5552\n",
      "Epoch 75/100\n",
      "13/13 [==============================] - 0s 5ms/step - loss: 0.5210 - val_loss: 0.5553\n",
      "Epoch 76/100\n",
      "13/13 [==============================] - 0s 5ms/step - loss: 0.5207 - val_loss: 0.5556\n",
      "Epoch 77/100\n",
      "13/13 [==============================] - 0s 5ms/step - loss: 0.5204 - val_loss: 0.5562\n",
      "Epoch 78/100\n",
      "13/13 [==============================] - 0s 5ms/step - loss: 0.5203 - val_loss: 0.5560\n",
      "Epoch 79/100\n",
      "13/13 [==============================] - 0s 4ms/step - loss: 0.5201 - val_loss: 0.5556\n",
      "Epoch 80/100\n",
      "13/13 [==============================] - 0s 5ms/step - loss: 0.5198 - val_loss: 0.5565\n",
      "Epoch 81/100\n",
      "13/13 [==============================] - 0s 4ms/step - loss: 0.5197 - val_loss: 0.5565\n",
      "Epoch 82/100\n",
      "13/13 [==============================] - 0s 5ms/step - loss: 0.5195 - val_loss: 0.5565\n",
      "Epoch 83/100\n",
      "13/13 [==============================] - 0s 5ms/step - loss: 0.5193 - val_loss: 0.5566\n",
      "Epoch 84/100\n",
      "13/13 [==============================] - 0s 4ms/step - loss: 0.5191 - val_loss: 0.5567\n",
      "Epoch 85/100\n",
      "13/13 [==============================] - 0s 5ms/step - loss: 0.5190 - val_loss: 0.5565\n",
      "Epoch 86/100\n",
      "13/13 [==============================] - 0s 5ms/step - loss: 0.5188 - val_loss: 0.5562\n",
      "Epoch 87/100\n",
      "13/13 [==============================] - 0s 5ms/step - loss: 0.5187 - val_loss: 0.5555\n",
      "Epoch 88/100\n",
      "13/13 [==============================] - 0s 5ms/step - loss: 0.5185 - val_loss: 0.5556\n",
      "Epoch 89/100\n",
      "13/13 [==============================] - 0s 7ms/step - loss: 0.5183 - val_loss: 0.5565\n",
      "Epoch 90/100\n",
      "13/13 [==============================] - 0s 6ms/step - loss: 0.5181 - val_loss: 0.5565\n",
      "Epoch 91/100\n",
      "13/13 [==============================] - 0s 6ms/step - loss: 0.5182 - val_loss: 0.5542\n",
      "Epoch 92/100\n",
      "13/13 [==============================] - 0s 9ms/step - loss: 0.5181 - val_loss: 0.5555\n",
      "Epoch 93/100\n",
      "13/13 [==============================] - 0s 7ms/step - loss: 0.5179 - val_loss: 0.5566\n",
      "Epoch 94/100\n",
      "13/13 [==============================] - 0s 5ms/step - loss: 0.5178 - val_loss: 0.5567\n",
      "Epoch 95/100\n",
      "13/13 [==============================] - 0s 5ms/step - loss: 0.5176 - val_loss: 0.5561\n",
      "Epoch 96/100\n",
      "13/13 [==============================] - 0s 6ms/step - loss: 0.5176 - val_loss: 0.5559\n",
      "Epoch 97/100\n",
      "13/13 [==============================] - 0s 5ms/step - loss: 0.5174 - val_loss: 0.5565\n",
      "Epoch 98/100\n",
      "13/13 [==============================] - 0s 5ms/step - loss: 0.5174 - val_loss: 0.5577\n",
      "Epoch 99/100\n",
      "13/13 [==============================] - 0s 5ms/step - loss: 0.5173 - val_loss: 0.5567\n",
      "Epoch 100/100\n",
      "13/13 [==============================] - 0s 5ms/step - loss: 0.5172 - val_loss: 0.5552\n"
     ]
    },
    {
     "data": {
      "image/png": "[encoded data removed]",
      "text/plain": [
       "<Figure size 640x480 with 1 Axes>"
      ]
     },
     "metadata": {},
     "output_type": "display_data"
    },
    {
     "name": "stdout",
     "output_type": "stream",
     "text": [
      "129/129 [==============================] - 0s 3ms/step - loss: 0.5350\n",
      "The mean squared error on the test data: 0.5349653959274292\n",
      "129/129 [==============================] - 0s 2ms/step\n"
     ]
    },
    {
     "data": {
      "image/png": "[encoded data removed]",
      "text/plain": [
       "<Figure size 640x480 with 1 Axes>"
      ]
     },
     "metadata": {},
     "output_type": "display_data"
    },
    {
     "name": "stdout",
     "output_type": "stream",
     "text": [
      "R2 score: 0.5897\n"
     ]
    }
   ],
   "source": [
    "##############################################################\n",
    "# Your code here\n",
    "##############################################################\n",
    "X_pd, y_pd = sklearn.datasets.fetch_california_housing(return_X_y=True, as_frame=True)\n",
    "Y_pd = y_pd.to_frame()\n",
    "\n",
    "X_raw = X_pd.to_numpy()\n",
    "Y = Y_pd.to_numpy()\n",
    "\n",
    "\n",
    "X_nontest_raw, X_test_raw, Y_nontest, Y_test = train_test_split(X_raw, Y, test_size=0.20, shuffle=True, random_state=0)\n",
    "X_train_raw, X_valid_raw, Y_train, Y_valid = train_test_split(X_nontest_raw, Y_nontest, test_size=0.25, shuffle=True, random_state=0)\n",
    "\n",
    "scaler = StandardScaler()\n",
    "scaler.fit(X_train_raw)\n",
    "X_train = scaler.transform(X_train_raw)\n",
    "X_valid = scaler.transform(X_valid_raw)\n",
    "X_test = scaler.transform(X_test_raw)\n",
    "\n",
    "input = Input(shape=X_train.shape[1:])\n",
    "dense_layer = Dense(units=1, activation=linear)\n",
    "\n",
    "# Define the \"virtual\" output\n",
    "output = dense_layer(input)\n",
    "\n",
    "# Define the neural network model.\n",
    "model = Model(inputs=[input], outputs=[output], name='Exercise_2')\n",
    "model.summary()\n",
    "\n",
    "# Compile the model by specifying the optimization algorithm and the loss function.\n",
    "sgd = SGD(learning_rate=0.01)\n",
    "mse = MeanSquaredError()\n",
    "model.compile(optimizer=sgd, loss=mse)\n",
    "\n",
    "# Train the model.\n",
    "history = model.fit(X_train, Y_train, batch_size=1000, epochs=100, validation_data=(X_valid, Y_valid), verbose=1)\n",
    "\n",
    "# Plot validation MSE, alwys nice to have plots to help us visualise things!\n",
    "plt.plot(history.history['loss'], label='MSE')\n",
    "plt.plot(history.history['val_loss'], label = 'val_MSE')\n",
    "plt.xlabel('Epoch')\n",
    "plt.ylabel('MSE')\n",
    "plt.legend(loc='lower right')\n",
    "plt.show()\n",
    "\n",
    "mse_on_test = model.evaluate(X_test, Y_test)\n",
    "print('The mean squared error on the test data:', mse_on_test)\n",
    "\n",
    "Y_test_pred = model.predict(X_test)\n",
    "\n",
    "# Plot our predictions\n",
    "plt.scatter(X_test_raw[:,0], Y_test,  color='black', label='y_true') # Observed y values\n",
    "plt.scatter(X_test_raw[:,0], Y_test_pred, color='blue', label='y_pred') # predicted y values\n",
    "plt.xlabel('MedInc')\n",
    "plt.ylabel('house price')\n",
    "plt.legend()\n",
    "plt.show()\n",
    "\n",
    "# The R2 score: 1 is perfect prediction\n",
    "print('R2 score: {:.4f}'.format(sklearn.metrics.r2_score(Y_test, Y_test_pred)))"
   ]
  },
  {
   "cell_type": "markdown",
   "metadata": {
    "id": "dXjBBvDuNfhG"
   },
   "source": [
    "# 2. Classification with Neural Networks\n",
    "\n",
    "Above we were using a Neural network to solve a regression problem. The process is very similar for classification problems, but there are some important distinctions we need to consider.\n",
    "\n",
    "In the following, we discuss classification. Here, we also learn\n",
    "\n",
    "- How to apply regularization.\n",
    "- How to specify a metric function different from the loss function.\n",
    "- How to care imbalance classes."
   ]
  },
  {
   "cell_type": "markdown",
   "metadata": {
    "id": "jo6jLRr-rDbm"
   },
   "source": [
    "## 2.1 Data preparation\n"
   ]
  },
  {
   "cell_type": "markdown",
   "metadata": {
    "id": "QxbmR9d7N1e9"
   },
   "source": [
    "As with the regression case, all of this should be quite familliar, and in this case we will be using the breast cancer data for our classification task."
   ]
  },
  {
   "cell_type": "code",
   "execution_count": 19,
   "metadata": {
    "colab": {
     "base_uri": "https://localhost:8080/",
     "height": 522
    },
    "id": "J80TG1h2rDbn",
    "outputId": "01e9e023-e526-4378-e7f6-9a01ff2702f3"
   },
   "outputs": [
    {
     "data": {
      "text/html": [
       "<div>\n",
       "<style scoped>\n",
       "    .dataframe tbody tr th:only-of-type {\n",
       "        vertical-align: middle;\n",
       "    }\n",
       "\n",
       "    .dataframe tbody tr th {\n",
       "        vertical-align: top;\n",
       "    }\n",
       "\n",
       "    .dataframe thead th {\n",
       "        text-align: right;\n",
       "    }\n",
       "</style>\n",
       "<table border=\"1\" class=\"dataframe\">\n",
       "  <thead>\n",
       "    <tr style=\"text-align: right;\">\n",
       "      <th></th>\n",
       "      <th>mean radius</th>\n",
       "      <th>mean texture</th>\n",
       "      <th>mean perimeter</th>\n",
       "      <th>mean area</th>\n",
       "      <th>mean smoothness</th>\n",
       "      <th>mean compactness</th>\n",
       "      <th>mean concavity</th>\n",
       "      <th>mean concave points</th>\n",
       "      <th>mean symmetry</th>\n",
       "      <th>mean fractal dimension</th>\n",
       "      <th>...</th>\n",
       "      <th>worst texture</th>\n",
       "      <th>worst perimeter</th>\n",
       "      <th>worst area</th>\n",
       "      <th>worst smoothness</th>\n",
       "      <th>worst compactness</th>\n",
       "      <th>worst concavity</th>\n",
       "      <th>worst concave points</th>\n",
       "      <th>worst symmetry</th>\n",
       "      <th>worst fractal dimension</th>\n",
       "      <th>target</th>\n",
       "    </tr>\n",
       "  </thead>\n",
       "  <tbody>\n",
       "    <tr>\n",
       "      <th>0</th>\n",
       "      <td>17.99</td>\n",
       "      <td>10.38</td>\n",
       "      <td>122.80</td>\n",
       "      <td>1001.0</td>\n",
       "      <td>0.11840</td>\n",
       "      <td>0.27760</td>\n",
       "      <td>0.30010</td>\n",
       "      <td>0.14710</td>\n",
       "      <td>0.2419</td>\n",
       "      <td>0.07871</td>\n",
       "      <td>...</td>\n",
       "      <td>17.33</td>\n",
       "      <td>184.60</td>\n",
       "      <td>2019.0</td>\n",
       "      <td>0.16220</td>\n",
       "      <td>0.66560</td>\n",
       "      <td>0.7119</td>\n",
       "      <td>0.2654</td>\n",
       "      <td>0.4601</td>\n",
       "      <td>0.11890</td>\n",
       "      <td>0</td>\n",
       "    </tr>\n",
       "    <tr>\n",
       "      <th>1</th>\n",
       "      <td>20.57</td>\n",
       "      <td>17.77</td>\n",
       "      <td>132.90</td>\n",
       "      <td>1326.0</td>\n",
       "      <td>0.08474</td>\n",
       "      <td>0.07864</td>\n",
       "      <td>0.08690</td>\n",
       "      <td>0.07017</td>\n",
       "      <td>0.1812</td>\n",
       "      <td>0.05667</td>\n",
       "      <td>...</td>\n",
       "      <td>23.41</td>\n",
       "      <td>158.80</td>\n",
       "      <td>1956.0</td>\n",
       "      <td>0.12380</td>\n",
       "      <td>0.18660</td>\n",
       "      <td>0.2416</td>\n",
       "      <td>0.1860</td>\n",
       "      <td>0.2750</td>\n",
       "      <td>0.08902</td>\n",
       "      <td>0</td>\n",
       "    </tr>\n",
       "    <tr>\n",
       "      <th>2</th>\n",
       "      <td>19.69</td>\n",
       "      <td>21.25</td>\n",
       "      <td>130.00</td>\n",
       "      <td>1203.0</td>\n",
       "      <td>0.10960</td>\n",
       "      <td>0.15990</td>\n",
       "      <td>0.19740</td>\n",
       "      <td>0.12790</td>\n",
       "      <td>0.2069</td>\n",
       "      <td>0.05999</td>\n",
       "      <td>...</td>\n",
       "      <td>25.53</td>\n",
       "      <td>152.50</td>\n",
       "      <td>1709.0</td>\n",
       "      <td>0.14440</td>\n",
       "      <td>0.42450</td>\n",
       "      <td>0.4504</td>\n",
       "      <td>0.2430</td>\n",
       "      <td>0.3613</td>\n",
       "      <td>0.08758</td>\n",
       "      <td>0</td>\n",
       "    </tr>\n",
       "    <tr>\n",
       "      <th>3</th>\n",
       "      <td>11.42</td>\n",
       "      <td>20.38</td>\n",
       "      <td>77.58</td>\n",
       "      <td>386.1</td>\n",
       "      <td>0.14250</td>\n",
       "      <td>0.28390</td>\n",
       "      <td>0.24140</td>\n",
       "      <td>0.10520</td>\n",
       "      <td>0.2597</td>\n",
       "      <td>0.09744</td>\n",
       "      <td>...</td>\n",
       "      <td>26.50</td>\n",
       "      <td>98.87</td>\n",
       "      <td>567.7</td>\n",
       "      <td>0.20980</td>\n",
       "      <td>0.86630</td>\n",
       "      <td>0.6869</td>\n",
       "      <td>0.2575</td>\n",
       "      <td>0.6638</td>\n",
       "      <td>0.17300</td>\n",
       "      <td>0</td>\n",
       "    </tr>\n",
       "    <tr>\n",
       "      <th>4</th>\n",
       "      <td>20.29</td>\n",
       "      <td>14.34</td>\n",
       "      <td>135.10</td>\n",
       "      <td>1297.0</td>\n",
       "      <td>0.10030</td>\n",
       "      <td>0.13280</td>\n",
       "      <td>0.19800</td>\n",
       "      <td>0.10430</td>\n",
       "      <td>0.1809</td>\n",
       "      <td>0.05883</td>\n",
       "      <td>...</td>\n",
       "      <td>16.67</td>\n",
       "      <td>152.20</td>\n",
       "      <td>1575.0</td>\n",
       "      <td>0.13740</td>\n",
       "      <td>0.20500</td>\n",
       "      <td>0.4000</td>\n",
       "      <td>0.1625</td>\n",
       "      <td>0.2364</td>\n",
       "      <td>0.07678</td>\n",
       "      <td>0</td>\n",
       "    </tr>\n",
       "    <tr>\n",
       "      <th>...</th>\n",
       "      <td>...</td>\n",
       "      <td>...</td>\n",
       "      <td>...</td>\n",
       "      <td>...</td>\n",
       "      <td>...</td>\n",
       "      <td>...</td>\n",
       "      <td>...</td>\n",
       "      <td>...</td>\n",
       "      <td>...</td>\n",
       "      <td>...</td>\n",
       "      <td>...</td>\n",
       "      <td>...</td>\n",
       "      <td>...</td>\n",
       "      <td>...</td>\n",
       "      <td>...</td>\n",
       "      <td>...</td>\n",
       "      <td>...</td>\n",
       "      <td>...</td>\n",
       "      <td>...</td>\n",
       "      <td>...</td>\n",
       "      <td>...</td>\n",
       "    </tr>\n",
       "    <tr>\n",
       "      <th>564</th>\n",
       "      <td>21.56</td>\n",
       "      <td>22.39</td>\n",
       "      <td>142.00</td>\n",
       "      <td>1479.0</td>\n",
       "      <td>0.11100</td>\n",
       "      <td>0.11590</td>\n",
       "      <td>0.24390</td>\n",
       "      <td>0.13890</td>\n",
       "      <td>0.1726</td>\n",
       "      <td>0.05623</td>\n",
       "      <td>...</td>\n",
       "      <td>26.40</td>\n",
       "      <td>166.10</td>\n",
       "      <td>2027.0</td>\n",
       "      <td>0.14100</td>\n",
       "      <td>0.21130</td>\n",
       "      <td>0.4107</td>\n",
       "      <td>0.2216</td>\n",
       "      <td>0.2060</td>\n",
       "      <td>0.07115</td>\n",
       "      <td>0</td>\n",
       "    </tr>\n",
       "    <tr>\n",
       "      <th>565</th>\n",
       "      <td>20.13</td>\n",
       "      <td>28.25</td>\n",
       "      <td>131.20</td>\n",
       "      <td>1261.0</td>\n",
       "      <td>0.09780</td>\n",
       "      <td>0.10340</td>\n",
       "      <td>0.14400</td>\n",
       "      <td>0.09791</td>\n",
       "      <td>0.1752</td>\n",
       "      <td>0.05533</td>\n",
       "      <td>...</td>\n",
       "      <td>38.25</td>\n",
       "      <td>155.00</td>\n",
       "      <td>1731.0</td>\n",
       "      <td>0.11660</td>\n",
       "      <td>0.19220</td>\n",
       "      <td>0.3215</td>\n",
       "      <td>0.1628</td>\n",
       "      <td>0.2572</td>\n",
       "      <td>0.06637</td>\n",
       "      <td>0</td>\n",
       "    </tr>\n",
       "    <tr>\n",
       "      <th>566</th>\n",
       "      <td>16.60</td>\n",
       "      <td>28.08</td>\n",
       "      <td>108.30</td>\n",
       "      <td>858.1</td>\n",
       "      <td>0.08455</td>\n",
       "      <td>0.10230</td>\n",
       "      <td>0.09251</td>\n",
       "      <td>0.05302</td>\n",
       "      <td>0.1590</td>\n",
       "      <td>0.05648</td>\n",
       "      <td>...</td>\n",
       "      <td>34.12</td>\n",
       "      <td>126.70</td>\n",
       "      <td>1124.0</td>\n",
       "      <td>0.11390</td>\n",
       "      <td>0.30940</td>\n",
       "      <td>0.3403</td>\n",
       "      <td>0.1418</td>\n",
       "      <td>0.2218</td>\n",
       "      <td>0.07820</td>\n",
       "      <td>0</td>\n",
       "    </tr>\n",
       "    <tr>\n",
       "      <th>567</th>\n",
       "      <td>20.60</td>\n",
       "      <td>29.33</td>\n",
       "      <td>140.10</td>\n",
       "      <td>1265.0</td>\n",
       "      <td>0.11780</td>\n",
       "      <td>0.27700</td>\n",
       "      <td>0.35140</td>\n",
       "      <td>0.15200</td>\n",
       "      <td>0.2397</td>\n",
       "      <td>0.07016</td>\n",
       "      <td>...</td>\n",
       "      <td>39.42</td>\n",
       "      <td>184.60</td>\n",
       "      <td>1821.0</td>\n",
       "      <td>0.16500</td>\n",
       "      <td>0.86810</td>\n",
       "      <td>0.9387</td>\n",
       "      <td>0.2650</td>\n",
       "      <td>0.4087</td>\n",
       "      <td>0.12400</td>\n",
       "      <td>0</td>\n",
       "    </tr>\n",
       "    <tr>\n",
       "      <th>568</th>\n",
       "      <td>7.76</td>\n",
       "      <td>24.54</td>\n",
       "      <td>47.92</td>\n",
       "      <td>181.0</td>\n",
       "      <td>0.05263</td>\n",
       "      <td>0.04362</td>\n",
       "      <td>0.00000</td>\n",
       "      <td>0.00000</td>\n",
       "      <td>0.1587</td>\n",
       "      <td>0.05884</td>\n",
       "      <td>...</td>\n",
       "      <td>30.37</td>\n",
       "      <td>59.16</td>\n",
       "      <td>268.6</td>\n",
       "      <td>0.08996</td>\n",
       "      <td>0.06444</td>\n",
       "      <td>0.0000</td>\n",
       "      <td>0.0000</td>\n",
       "      <td>0.2871</td>\n",
       "      <td>0.07039</td>\n",
       "      <td>1</td>\n",
       "    </tr>\n",
       "  </tbody>\n",
       "</table>\n",
       "<p>569 rows × 31 columns</p>\n",
       "</div>"
      ],
      "text/plain": [
       "     mean radius  mean texture  mean perimeter  mean area  mean smoothness  \\\n",
       "0          17.99         10.38          122.80     1001.0          0.11840   \n",
       "1          20.57         17.77          132.90     1326.0          0.08474   \n",
       "2          19.69         21.25          130.00     1203.0          0.10960   \n",
       "3          11.42         20.38           77.58      386.1          0.14250   \n",
       "4          20.29         14.34          135.10     1297.0          0.10030   \n",
       "..           ...           ...             ...        ...              ...   \n",
       "564        21.56         22.39          142.00     1479.0          0.11100   \n",
       "565        20.13         28.25          131.20     1261.0          0.09780   \n",
       "566        16.60         28.08          108.30      858.1          0.08455   \n",
       "567        20.60         29.33          140.10     1265.0          0.11780   \n",
       "568         7.76         24.54           47.92      181.0          0.05263   \n",
       "\n",
       "     mean compactness  mean concavity  mean concave points  mean symmetry  \\\n",
       "0             0.27760         0.30010              0.14710         0.2419   \n",
       "1             0.07864         0.08690              0.07017         0.1812   \n",
       "2             0.15990         0.19740              0.12790         0.2069   \n",
       "3             0.28390         0.24140              0.10520         0.2597   \n",
       "4             0.13280         0.19800              0.10430         0.1809   \n",
       "..                ...             ...                  ...            ...   \n",
       "564           0.11590         0.24390              0.13890         0.1726   \n",
       "565           0.10340         0.14400              0.09791         0.1752   \n",
       "566           0.10230         0.09251              0.05302         0.1590   \n",
       "567           0.27700         0.35140              0.15200         0.2397   \n",
       "568           0.04362         0.00000              0.00000         0.1587   \n",
       "\n",
       "     mean fractal dimension  ...  worst texture  worst perimeter  worst area  \\\n",
       "0                   0.07871  ...          17.33           184.60      2019.0   \n",
       "1                   0.05667  ...          23.41           158.80      1956.0   \n",
       "2                   0.05999  ...          25.53           152.50      1709.0   \n",
       "3                   0.09744  ...          26.50            98.87       567.7   \n",
       "4                   0.05883  ...          16.67           152.20      1575.0   \n",
       "..                      ...  ...            ...              ...         ...   \n",
       "564                 0.05623  ...          26.40           166.10      2027.0   \n",
       "565                 0.05533  ...          38.25           155.00      1731.0   \n",
       "566                 0.05648  ...          34.12           126.70      1124.0   \n",
       "567                 0.07016  ...          39.42           184.60      1821.0   \n",
       "568                 0.05884  ...          30.37            59.16       268.6   \n",
       "\n",
       "     worst smoothness  worst compactness  worst concavity  \\\n",
       "0             0.16220            0.66560           0.7119   \n",
       "1             0.12380            0.18660           0.2416   \n",
       "2             0.14440            0.42450           0.4504   \n",
       "3             0.20980            0.86630           0.6869   \n",
       "4             0.13740            0.20500           0.4000   \n",
       "..                ...                ...              ...   \n",
       "564           0.14100            0.21130           0.4107   \n",
       "565           0.11660            0.19220           0.3215   \n",
       "566           0.11390            0.30940           0.3403   \n",
       "567           0.16500            0.86810           0.9387   \n",
       "568           0.08996            0.06444           0.0000   \n",
       "\n",
       "     worst concave points  worst symmetry  worst fractal dimension  target  \n",
       "0                  0.2654          0.4601                  0.11890       0  \n",
       "1                  0.1860          0.2750                  0.08902       0  \n",
       "2                  0.2430          0.3613                  0.08758       0  \n",
       "3                  0.2575          0.6638                  0.17300       0  \n",
       "4                  0.1625          0.2364                  0.07678       0  \n",
       "..                    ...             ...                      ...     ...  \n",
       "564                0.2216          0.2060                  0.07115       0  \n",
       "565                0.1628          0.2572                  0.06637       0  \n",
       "566                0.1418          0.2218                  0.07820       0  \n",
       "567                0.2650          0.4087                  0.12400       0  \n",
       "568                0.0000          0.2871                  0.07039       1  \n",
       "\n",
       "[569 rows x 31 columns]"
      ]
     },
     "metadata": {},
     "output_type": "display_data"
    }
   ],
   "source": [
    "# Load the breast cancer dataset\n",
    "X_pd, y_pd = sklearn.datasets.load_breast_cancer(return_X_y=True, as_frame=True)\n",
    "\n",
    "# Convert the target column vector `Y_pd` into 2-dimensional array (a `pd.DataFrame` instance)\n",
    "Y_pd = y_pd.to_frame()\n",
    "\n",
    "# Display the dataset\n",
    "XY_pd = pd.concat([X_pd, Y_pd], axis=1)\n",
    "display(XY_pd)\n",
    "\n",
    "# prepare NumPy ndarrays\n",
    "X_raw = X_pd.to_numpy()\n",
    "Y = Y_pd.to_numpy()\n",
    "\n",
    "# Split the data into training/test data\n",
    "# While we have 569 pairs of a feature and target, we use 20% only for the test, not for training and validation.\n",
    "# `shuffle=True` for non-time series case. You should set `shuffle=False` to avoid future data being contaminated in the training data.\n",
    "X_nontest_raw, X_test_raw, Y_nontest, Y_test = train_test_split(X_raw, Y, test_size=0.20, shuffle=True, random_state=0)\n",
    "X_train_raw, X_valid_raw, Y_train, Y_valid = train_test_split(X_nontest_raw, Y_nontest, test_size=0.25, shuffle=True, random_state=0)\n",
    "\n",
    "scaler = StandardScaler()\n",
    "scaler.fit(X_train_raw)\n",
    "X_train = scaler.transform(X_train_raw)\n",
    "X_valid = scaler.transform(X_valid_raw)\n",
    "X_test = scaler.transform(X_test_raw)\n",
    "\n"
   ]
  },
  {
   "cell_type": "markdown",
   "metadata": {
    "id": "20bYJMrCrDbq"
   },
   "source": [
    "Confirm the shape of the feature matrix:\n",
    "\n",
    "While it is always a good idea to check the dimensions of your data, this is particularly important when defining a neural network in `tensorflow.keras` as we need to know the shape (dimension) of the input (feature)."
   ]
  },
  {
   "cell_type": "code",
   "execution_count": 20,
   "metadata": {
    "colab": {
     "base_uri": "https://localhost:8080/"
    },
    "id": "07oo7bAbrDbq",
    "outputId": "9487ea51-8266-4ab0-8dff-e25822d41108"
   },
   "outputs": [
    {
     "name": "stdout",
     "output_type": "stream",
     "text": [
      "The shape of `X_train`: (341, 30)\n",
      "The shape of `X_valid`: (114, 30)\n",
      "The shape of `X_test`: (114, 30)\n"
     ]
    }
   ],
   "source": [
    "print('The shape of `X_train`:', X_train.shape)\n",
    "print('The shape of `X_valid`:', X_valid.shape)\n",
    "print('The shape of `X_test`:', X_test.shape)"
   ]
  },
  {
   "cell_type": "markdown",
   "metadata": {
    "id": "fHfgYVaGrDbr"
   },
   "source": [
    "The above results show that, for example, we have 341 data points in the training data, and the features for each data point is 30-dimensional."
   ]
  },
  {
   "cell_type": "markdown",
   "metadata": {
    "id": "z4abWL_ar4Do"
   },
   "source": [
    "## 2.2 Create a neural network model.\n",
    "For classification, we define a discriminant function, which output a real value. This is because the loss function is defined on the output of the discriminant function, not of the hypothesis function, which outputs the target value.\n",
    "\n",
    "The activation function is very important for our output layer in classification. You can just use a `linear` identify function, but you will have to manually do something to this output to make it work for classification. Generally for binary classification `sigmoid` is uses (as it gives a value between 0 and 1) and for multi class classification `softmax` is used (as it gives a probability for each class, but don't worry too much about this as we're not looking at multi-class problems right now).\n",
    "\n",
    "As we discussed in previous lectures, we need regularisation to make the optimization stable in logistic regression (not just to avoid overfitting, though it is still helpful for this).\n",
    "\n",
    "Here, we apply the l2 regularization on the kernel parameters $\\Vec{\\theta}$. Specifically, we create a `tensorflow.keras.regularizers.L2` instance, specifying the regularization weight as a `l2` argument, and input the `L2` instance as a `kernel_regularizer` argument in the initializer of the `Dense` class.\n",
    "\n",
    "For other regularizers, see [here](https://www.tensorflow.org/api_docs/python/tf/keras/regularizers).\n",
    "\n",
    "**Note:** We can also use regularizers in NN's for regression, which while less critical can still benefit from the optimisation stability and protection from overfitting.\n"
   ]
  },
  {
   "cell_type": "code",
   "execution_count": 21,
   "metadata": {
    "colab": {
     "base_uri": "https://localhost:8080/"
    },
    "id": "QZew5ps5r4D7",
    "outputId": "9eab3aac-9126-4b0a-acae-a59902aa327b"
   },
   "outputs": [
    {
     "name": "stdout",
     "output_type": "stream",
     "text": [
      "Model: \"logistic_regression\"\n",
      "_________________________________________________________________\n",
      " Layer (type)                Output Shape              Param #   \n",
      "=================================================================\n",
      " input_4 (InputLayer)        [(None, 30)]              0         \n",
      "                                                                 \n",
      " dense_10 (Dense)            (None, 10)                310       \n",
      "                                                                 \n",
      " dense_11 (Dense)            (None, 1)                 11        \n",
      "                                                                 \n",
      "=================================================================\n",
      "Total params: 321\n",
      "Trainable params: 321\n",
      "Non-trainable params: 0\n",
      "_________________________________________________________________\n"
     ]
    }
   ],
   "source": [
    "# Define the regularizer.\n",
    "alpha = 0.01\n",
    "kernel_regularizer = L2(l2=alpha)\n",
    "\n",
    "# Define the `Dense` layer.\n",
    "# The output dimension is 1, so we specify `units=1`.\n",
    "# The as we are performing binary classification, we specify `activation=sigmoid`.\n",
    "# We apply l2 regularization on the kernel parameters by specifying a `kernel_regularizer` argument.\n",
    "dense_layer_1 = Dense(units=10, activation=relu, kernel_regularizer=kernel_regularizer)\n",
    "output_layer = Dense(units=1, activation=sigmoid, kernel_regularizer=kernel_regularizer)\n",
    "\n",
    "# Define the \"virtual\" input\n",
    "input = Input(shape=X_train.shape[1:])\n",
    "\n",
    "# Define the \"virtual\" output\n",
    "output = dense_layer_1(input)\n",
    "output = output_layer(output)\n",
    "\n",
    "# Define the neural network model.\n",
    "model = Model(inputs=[input], outputs=[output], name='logistic_regression')\n",
    "\n",
    "# Output the summary of the model.\n",
    "model.summary()\n",
    "\n"
   ]
  },
  {
   "cell_type": "markdown",
   "metadata": {
    "id": "mM4G7lsBQIp-"
   },
   "source": [
    "##2.3 Train the model"
   ]
  },
  {
   "cell_type": "markdown",
   "metadata": {
    "id": "Tiygi6vbr4D8"
   },
   "source": [
    "### 2.3.1 \"Compile\" the model: specifying a loss function, metrics and an optimizer.\n",
    "Since logistic regression's loss function is the cross entropy, we create a `tensorflow.keras.losses.BinaryCrossentropy` instance and specify it as a `loss` argument of the `compile` method of the `Model` instance.\n",
    "The binary cross entropy loss is defined as follows:\n",
    "$$\n",
    "\\log (1 + \\exp(- y \\cdot \\eta)),\n",
    "$$\n",
    "where $y$ is the true target value converted to either -1 or +1 and $\\eta$ is the output of the discriminant function. The above definition is used if `from_logits=True` in the initializer of the `BinaryCrossentropy` class which we need because we are not specifying a `sigmoid` function output.\n",
    "\n",
    "Also, since we may also wish to observe evaluation metrics different from the loss function in classification, such as the accuracy score, we can specify metrics in the `compile` method. Specifically, we can input a list or tuple of instances of classes in the `tensorflow.keras.metrics` module. In the following cell, we create a `tensorflow.keras.metrics.BinaryAccuracy` instance, specifying `threshold=0.0`, and specify a list containing the `BinaryAccuracy` instance as a `metrics` argument of the `compile` method of the `Model` instance.\n",
    "\n",
    "For other metrics, see [here](https://www.tensorflow.org/api_docs/python/tf/keras/metrics)."
   ]
  },
  {
   "cell_type": "code",
   "execution_count": 22,
   "metadata": {
    "id": "Wam3qYVvr4D8"
   },
   "outputs": [],
   "source": [
    "# Compile the model by specifying the optimization algorithm and the loss function.\n",
    "# Here, we specify the vanilla stochastic gradient descent \n",
    "# (a `tensorflow.keras.optimizers.SGD` instance) as an optimizer,\n",
    "# and the binary cross entropy function (a `BinaryCrossentropy` instance) \n",
    "# as a loss function.\n",
    "\n",
    "# If we want to observe metrics other than the loss function we specified,\n",
    "# we can also specify the metrics in the `metrics` parameter \n",
    "# in the `compile` method. \n",
    "\n",
    "sgd = SGD(learning_rate=0.01)\n",
    "ce = BinaryCrossentropy()\n",
    "acc = BinaryAccuracy()\n",
    "model.compile(optimizer=sgd, loss=ce, metrics=[acc])\n"
   ]
  },
  {
   "cell_type": "markdown",
   "metadata": {
    "id": "p9erMZS0r4D8"
   },
   "source": [
    "### 2.3.2 \"Fit\" the model to the training data: Optimizing the parameters.\n",
    "In `tensorflow.keras`, we specify a class weight when we fit the model. Here, we have to specify the weight manually. Specifically, we create a Python dictionary such that keys are the class labels and values indicate the class weight. Revise Lecture 06 for the class weight."
   ]
  },
  {
   "cell_type": "code",
   "execution_count": 23,
   "metadata": {
    "colab": {
     "base_uri": "https://localhost:8080/",
     "height": 1000
    },
    "id": "7dg9Am5ir4D9",
    "outputId": "e70ac54c-37a9-4b3e-b1e2-3f199313d4e4"
   },
   "outputs": [
    {
     "name": "stdout",
     "output_type": "stream",
     "text": [
      "Epoch 1/50\n",
      "4/4 [==============================] - 1s 111ms/step - loss: 1.1863 - binary_accuracy: 0.2258 - val_loss: 1.1448 - val_binary_accuracy: 0.3158\n",
      "Epoch 2/50\n",
      "4/4 [==============================] - 0s 14ms/step - loss: 1.1033 - binary_accuracy: 0.2903 - val_loss: 1.0685 - val_binary_accuracy: 0.3421\n",
      "Epoch 3/50\n",
      "4/4 [==============================] - 0s 14ms/step - loss: 1.0319 - binary_accuracy: 0.3431 - val_loss: 1.0001 - val_binary_accuracy: 0.4123\n",
      "Epoch 4/50\n",
      "4/4 [==============================] - 0s 14ms/step - loss: 0.9689 - binary_accuracy: 0.4135 - val_loss: 0.9421 - val_binary_accuracy: 0.4912\n",
      "Epoch 5/50\n",
      "4/4 [==============================] - 0s 14ms/step - loss: 0.9154 - binary_accuracy: 0.4897 - val_loss: 0.8909 - val_binary_accuracy: 0.5702\n",
      "Epoch 6/50\n",
      "4/4 [==============================] - 0s 11ms/step - loss: 0.8680 - binary_accuracy: 0.5572 - val_loss: 0.8446 - val_binary_accuracy: 0.6053\n",
      "Epoch 7/50\n",
      "4/4 [==============================] - 0s 19ms/step - loss: 0.8255 - binary_accuracy: 0.6393 - val_loss: 0.8044 - val_binary_accuracy: 0.6754\n",
      "Epoch 8/50\n",
      "4/4 [==============================] - 0s 14ms/step - loss: 0.7885 - binary_accuracy: 0.7038 - val_loss: 0.7701 - val_binary_accuracy: 0.7368\n",
      "Epoch 9/50\n",
      "4/4 [==============================] - 0s 11ms/step - loss: 0.7572 - binary_accuracy: 0.7595 - val_loss: 0.7392 - val_binary_accuracy: 0.7895\n",
      "Epoch 10/50\n",
      "4/4 [==============================] - 0s 14ms/step - loss: 0.7289 - binary_accuracy: 0.7977 - val_loss: 0.7108 - val_binary_accuracy: 0.8158\n",
      "Epoch 11/50\n",
      "4/4 [==============================] - 0s 14ms/step - loss: 0.7030 - binary_accuracy: 0.8387 - val_loss: 0.6850 - val_binary_accuracy: 0.8246\n",
      "Epoch 12/50\n",
      "4/4 [==============================] - 0s 15ms/step - loss: 0.6796 - binary_accuracy: 0.8534 - val_loss: 0.6627 - val_binary_accuracy: 0.8509\n",
      "Epoch 13/50\n",
      "4/4 [==============================] - 0s 16ms/step - loss: 0.6592 - binary_accuracy: 0.8827 - val_loss: 0.6424 - val_binary_accuracy: 0.8509\n",
      "Epoch 14/50\n",
      "4/4 [==============================] - 0s 17ms/step - loss: 0.6407 - binary_accuracy: 0.8856 - val_loss: 0.6238 - val_binary_accuracy: 0.8772\n",
      "Epoch 15/50\n",
      "4/4 [==============================] - 0s 19ms/step - loss: 0.6234 - binary_accuracy: 0.8915 - val_loss: 0.6065 - val_binary_accuracy: 0.8947\n",
      "Epoch 16/50\n",
      "4/4 [==============================] - 0s 17ms/step - loss: 0.6075 - binary_accuracy: 0.9032 - val_loss: 0.5910 - val_binary_accuracy: 0.9035\n",
      "Epoch 17/50\n",
      "4/4 [==============================] - 0s 16ms/step - loss: 0.5931 - binary_accuracy: 0.9150 - val_loss: 0.5762 - val_binary_accuracy: 0.9211\n",
      "Epoch 18/50\n",
      "4/4 [==============================] - 0s 19ms/step - loss: 0.5795 - binary_accuracy: 0.9208 - val_loss: 0.5630 - val_binary_accuracy: 0.9211\n",
      "Epoch 19/50\n",
      "4/4 [==============================] - 0s 17ms/step - loss: 0.5671 - binary_accuracy: 0.9238 - val_loss: 0.5508 - val_binary_accuracy: 0.9211\n",
      "Epoch 20/50\n",
      "4/4 [==============================] - 0s 14ms/step - loss: 0.5556 - binary_accuracy: 0.9267 - val_loss: 0.5390 - val_binary_accuracy: 0.9211\n",
      "Epoch 21/50\n",
      "4/4 [==============================] - 0s 18ms/step - loss: 0.5443 - binary_accuracy: 0.9296 - val_loss: 0.5281 - val_binary_accuracy: 0.9123\n",
      "Epoch 22/50\n",
      "4/4 [==============================] - 0s 16ms/step - loss: 0.5338 - binary_accuracy: 0.9296 - val_loss: 0.5180 - val_binary_accuracy: 0.9123\n",
      "Epoch 23/50\n",
      "4/4 [==============================] - 0s 16ms/step - loss: 0.5242 - binary_accuracy: 0.9296 - val_loss: 0.5088 - val_binary_accuracy: 0.9123\n",
      "Epoch 24/50\n",
      "4/4 [==============================] - 0s 18ms/step - loss: 0.5153 - binary_accuracy: 0.9296 - val_loss: 0.5000 - val_binary_accuracy: 0.9123\n",
      "Epoch 25/50\n",
      "4/4 [==============================] - 0s 16ms/step - loss: 0.5069 - binary_accuracy: 0.9355 - val_loss: 0.4917 - val_binary_accuracy: 0.9123\n",
      "Epoch 26/50\n",
      "4/4 [==============================] - 0s 16ms/step - loss: 0.4989 - binary_accuracy: 0.9384 - val_loss: 0.4840 - val_binary_accuracy: 0.9123\n",
      "Epoch 27/50\n",
      "4/4 [==============================] - 0s 15ms/step - loss: 0.4915 - binary_accuracy: 0.9413 - val_loss: 0.4766 - val_binary_accuracy: 0.9211\n",
      "Epoch 28/50\n",
      "4/4 [==============================] - 0s 19ms/step - loss: 0.4843 - binary_accuracy: 0.9413 - val_loss: 0.4696 - val_binary_accuracy: 0.9211\n",
      "Epoch 29/50\n",
      "4/4 [==============================] - 0s 20ms/step - loss: 0.4776 - binary_accuracy: 0.9472 - val_loss: 0.4630 - val_binary_accuracy: 0.9211\n",
      "Epoch 30/50\n",
      "4/4 [==============================] - 0s 16ms/step - loss: 0.4712 - binary_accuracy: 0.9472 - val_loss: 0.4566 - val_binary_accuracy: 0.9298\n",
      "Epoch 31/50\n",
      "4/4 [==============================] - 0s 16ms/step - loss: 0.4649 - binary_accuracy: 0.9472 - val_loss: 0.4506 - val_binary_accuracy: 0.9298\n",
      "Epoch 32/50\n",
      "4/4 [==============================] - 0s 16ms/step - loss: 0.4592 - binary_accuracy: 0.9472 - val_loss: 0.4450 - val_binary_accuracy: 0.9298\n",
      "Epoch 33/50\n",
      "4/4 [==============================] - 0s 13ms/step - loss: 0.4538 - binary_accuracy: 0.9472 - val_loss: 0.4397 - val_binary_accuracy: 0.9386\n",
      "Epoch 34/50\n",
      "4/4 [==============================] - 0s 16ms/step - loss: 0.4486 - binary_accuracy: 0.9472 - val_loss: 0.4344 - val_binary_accuracy: 0.9386\n",
      "Epoch 35/50\n",
      "4/4 [==============================] - 0s 13ms/step - loss: 0.4436 - binary_accuracy: 0.9472 - val_loss: 0.4294 - val_binary_accuracy: 0.9474\n",
      "Epoch 36/50\n",
      "4/4 [==============================] - 0s 17ms/step - loss: 0.4388 - binary_accuracy: 0.9501 - val_loss: 0.4246 - val_binary_accuracy: 0.9474\n",
      "Epoch 37/50\n",
      "4/4 [==============================] - 0s 18ms/step - loss: 0.4342 - binary_accuracy: 0.9531 - val_loss: 0.4201 - val_binary_accuracy: 0.9474\n",
      "Epoch 38/50\n",
      "4/4 [==============================] - 0s 16ms/step - loss: 0.4300 - binary_accuracy: 0.9531 - val_loss: 0.4160 - val_binary_accuracy: 0.9474\n",
      "Epoch 39/50\n",
      "4/4 [==============================] - 0s 16ms/step - loss: 0.4259 - binary_accuracy: 0.9531 - val_loss: 0.4121 - val_binary_accuracy: 0.9474\n",
      "Epoch 40/50\n",
      "4/4 [==============================] - 0s 16ms/step - loss: 0.4220 - binary_accuracy: 0.9531 - val_loss: 0.4080 - val_binary_accuracy: 0.9474\n",
      "Epoch 41/50\n",
      "4/4 [==============================] - 0s 16ms/step - loss: 0.4180 - binary_accuracy: 0.9531 - val_loss: 0.4041 - val_binary_accuracy: 0.9474\n",
      "Epoch 42/50\n",
      "4/4 [==============================] - 0s 16ms/step - loss: 0.4142 - binary_accuracy: 0.9501 - val_loss: 0.4004 - val_binary_accuracy: 0.9561\n",
      "Epoch 43/50\n",
      "4/4 [==============================] - 0s 16ms/step - loss: 0.4107 - binary_accuracy: 0.9531 - val_loss: 0.3967 - val_binary_accuracy: 0.9561\n",
      "Epoch 44/50\n",
      "4/4 [==============================] - 0s 16ms/step - loss: 0.4070 - binary_accuracy: 0.9501 - val_loss: 0.3933 - val_binary_accuracy: 0.9561\n",
      "Epoch 45/50\n",
      "4/4 [==============================] - 0s 13ms/step - loss: 0.4037 - binary_accuracy: 0.9531 - val_loss: 0.3901 - val_binary_accuracy: 0.9561\n",
      "Epoch 46/50\n",
      "4/4 [==============================] - 0s 13ms/step - loss: 0.4006 - binary_accuracy: 0.9560 - val_loss: 0.3868 - val_binary_accuracy: 0.9561\n",
      "Epoch 47/50\n",
      "4/4 [==============================] - 0s 14ms/step - loss: 0.3974 - binary_accuracy: 0.9560 - val_loss: 0.3837 - val_binary_accuracy: 0.9561\n",
      "Epoch 48/50\n",
      "4/4 [==============================] - 0s 13ms/step - loss: 0.3944 - binary_accuracy: 0.9560 - val_loss: 0.3807 - val_binary_accuracy: 0.9561\n",
      "Epoch 49/50\n",
      "4/4 [==============================] - 0s 13ms/step - loss: 0.3916 - binary_accuracy: 0.9560 - val_loss: 0.3777 - val_binary_accuracy: 0.9561\n",
      "Epoch 50/50\n",
      "4/4 [==============================] - 0s 13ms/step - loss: 0.3888 - binary_accuracy: 0.9560 - val_loss: 0.3749 - val_binary_accuracy: 0.9561\n"
     ]
    },
    {
     "data": {
      "text/plain": [
       "<matplotlib.legend.Legend at 0x272cce5e250>"
      ]
     },
     "execution_count": 23,
     "metadata": {},
     "output_type": "execute_result"
    },
    {
     "data": {
      "image/png": "[encoded data removed]",
      "text/plain": [
       "<Figure size 640x480 with 1 Axes>"
      ]
     },
     "metadata": {},
     "output_type": "display_data"
    }
   ],
   "source": [
    "# Train the model.\n",
    "# `epochs` determines the number of epochs.\n",
    "# `batch_size` determines the batch_size.\n",
    "\n",
    "history = model.fit(X_train, Y_train, batch_size=100, epochs=50, validation_data=(X_valid, Y_valid))\n",
    "\n",
    "\n",
    "# Plot validation MSE, alwys nice to have plots to help us visualise things!\n",
    "plt.plot(history.history['binary_accuracy'], label='accuracy')\n",
    "plt.plot(history.history['val_binary_accuracy'], label = 'val_accuracy')\n",
    "plt.xlabel('Epoch')\n",
    "plt.ylabel('Accuracy')\n",
    "plt.legend(loc='lower right')"
   ]
  },
  {
   "cell_type": "markdown",
   "metadata": {
    "id": "Gg5CZDj5r4D9"
   },
   "source": [
    "You can see that each epoch contains 4 mini batches. `loss` and `val_loss` show the loss function being used (the Binary Cross Entropy) on the training data and the validation data, but now we can also see our chosen accuracy metric for our model."
   ]
  },
  {
   "cell_type": "markdown",
   "metadata": {
    "id": "lC6e4w4JTo2O"
   },
   "source": [
    "## 2.4 Evaluation of the NN model\n",
    "we can calculate the loss and score at the same time using the `evaluate` method of the `Model` instance."
   ]
  },
  {
   "cell_type": "code",
   "execution_count": 24,
   "metadata": {
    "colab": {
     "base_uri": "https://localhost:8080/"
    },
    "id": "WvYZMse4UG9A",
    "outputId": "bec589eb-f781-4907-fc64-ec826acfb1df"
   },
   "outputs": [
    {
     "name": "stdout",
     "output_type": "stream",
     "text": [
      "4/4 [==============================] - 0s 1ms/step - loss: 0.4037 - binary_accuracy: 0.9561\n",
      "The cross entropy loss on the test data: 0.40372276306152344\n",
      "The accuracy on the test data: 0.9561403393745422\n"
     ]
    }
   ],
   "source": [
    "ce_test, acc_test = model.evaluate(X_test, Y_test)\n",
    "print('The cross entropy loss on the test data:', ce_test)\n",
    "print('The accuracy on the test data:', acc_test)"
   ]
  },
  {
   "cell_type": "markdown",
   "metadata": {
    "id": "cuev1WBdUBaJ"
   },
   "source": [
    "This seems to be less accurate than our previous model outputs may lead us to expect, so possibly some overfitting is occuring, but we will come to that shortly.\n",
    "\n",
    "We can make a prediction using the `predict` method just as we did in the `sklearn` cases.\n",
    "\n",
    "Although our objective is classification, the `tensorflow.keras` model itself does not distinguish classification and regression. Hence, the outputs using the `predict` method is that of the discriminant function. For this reason, we will get a sequence of real values. "
   ]
  },
  {
   "cell_type": "code",
   "execution_count": 25,
   "metadata": {
    "colab": {
     "base_uri": "https://localhost:8080/"
    },
    "id": "_9DIGqaRVPGj",
    "outputId": "ee76d152-6657-4152-e75f-d9a924dd2b82"
   },
   "outputs": [
    {
     "name": "stdout",
     "output_type": "stream",
     "text": [
      "4/4 [==============================] - 0s 2ms/step\n",
      "[[0.29658905]\n",
      " [0.8659796 ]\n",
      " [0.91765964]\n",
      " [0.81230026]\n",
      " [0.9406031 ]\n",
      " [0.8354974 ]\n",
      " [0.95123833]\n",
      " [0.8480035 ]\n",
      " [0.90183383]\n",
      " [0.9475841 ]]\n"
     ]
    }
   ],
   "source": [
    "Y_test_logit = model.predict(X_test)\n",
    "print(Y_test_logit[:10]) # just show you the first 10 to not spam you"
   ]
  },
  {
   "cell_type": "markdown",
   "metadata": {
    "id": "YMDd1Z4EW8Ho"
   },
   "source": [
    "We can convert the above results to binary prediction by thresholding at 0.5."
   ]
  },
  {
   "cell_type": "code",
   "execution_count": 26,
   "metadata": {
    "colab": {
     "base_uri": "https://localhost:8080/"
    },
    "id": "0pRhqlBAW8oC",
    "outputId": "e72f701c-4961-4251-e6a9-aa56eb5d3b78"
   },
   "outputs": [
    {
     "name": "stdout",
     "output_type": "stream",
     "text": [
      "[[0]\n",
      " [1]\n",
      " [1]\n",
      " [1]\n",
      " [1]\n",
      " [1]\n",
      " [1]\n",
      " [1]\n",
      " [1]\n",
      " [1]]\n"
     ]
    }
   ],
   "source": [
    "Y_test_pred = (Y_test_logit > 0.5).astype(int)\n",
    "print(Y_test_pred[:10])"
   ]
  },
  {
   "cell_type": "markdown",
   "metadata": {
    "id": "R15RUGi0V0Aq"
   },
   "source": [
    "Finally, let's plot our outputs and look at our confusion matrix to further explore how well our model performed."
   ]
  },
  {
   "cell_type": "code",
   "execution_count": 27,
   "metadata": {
    "colab": {
     "base_uri": "https://localhost:8080/",
     "height": 348
    },
    "id": "XIu86ZfGWWwW",
    "outputId": "0627d80b-cb02-413c-ae13-3cc2ea00cef1"
   },
   "outputs": [
    {
     "name": "stdout",
     "output_type": "stream",
     "text": [
      "The accuracy on the test data with the selected hyperparameter: 0.956140350877193\n",
      "The F1 score on the test data with the selected hyperparameter: 0.962962962962963\n",
      "Precision on validation data: 0.9558823529411765\n",
      "Recall on validation data: 0.9558823529411765\n"
     ]
    },
    {
     "data": {
      "image/png": "[encoded data removed]",
      "text/plain": [
       "<Figure size 640x480 with 2 Axes>"
      ]
     },
     "metadata": {},
     "output_type": "display_data"
    }
   ],
   "source": [
    "disp = ConfusionMatrixDisplay(confusion_matrix(Y_test, Y_test_pred))\n",
    "disp.plot(cmap=plt.cm.Blues)\n",
    "plt.grid(False)\n",
    "\n",
    "acc_test = accuracy_score(Y_test, Y_test_pred)\n",
    "f1_test = f1_score(Y_test, Y_test_pred, pos_label=1)\n",
    "print('The accuracy on the test data with the selected hyperparameter:', acc_test)\n",
    "print('The F1 score on the test data with the selected hyperparameter:', f1_test)\n",
    "pre_test = precision_score(Y_test, Y_test_pred, pos_label=1)\n",
    "print('Precision on validation data:', pre_test)\n",
    "reca_test = precision_score(Y_test, Y_test_pred, pos_label=1)\n",
    "print('Recall on validation data:', reca_test)"
   ]
  },
  {
   "cell_type": "markdown",
   "metadata": {
    "id": "I0H75GvVR6y_"
   },
   "source": [
    "## 2.5 Class imbalances"
   ]
  },
  {
   "cell_type": "markdown",
   "metadata": {
    "id": "x2k9RQoOSKSI"
   },
   "source": [
    "As covered in previous weeks, when perfomorming classification, the number of instances in each class can have an impact on how well the model predicts each class.\n",
    "\n",
    "For the breast cancer dataset, the class imbalance isn't too bad, however we do have a slight imbalance that may be impacting our model. The first part of creating our model is the same:\n"
   ]
  },
  {
   "cell_type": "code",
   "execution_count": 28,
   "metadata": {
    "colab": {
     "base_uri": "https://localhost:8080/"
    },
    "id": "0bhSlMMdR89S",
    "outputId": "4e68cd7d-ff3c-4634-a6e5-d2503d04bf0f"
   },
   "outputs": [
    {
     "name": "stdout",
     "output_type": "stream",
     "text": [
      "Model: \"logistic_regression_balanced\"\n",
      "_________________________________________________________________\n",
      " Layer (type)                Output Shape              Param #   \n",
      "=================================================================\n",
      " input_5 (InputLayer)        [(None, 30)]              0         \n",
      "                                                                 \n",
      " dense_12 (Dense)            (None, 10)                310       \n",
      "                                                                 \n",
      " dense_13 (Dense)            (None, 1)                 11        \n",
      "                                                                 \n",
      "=================================================================\n",
      "Total params: 321\n",
      "Trainable params: 321\n",
      "Non-trainable params: 0\n",
      "_________________________________________________________________\n"
     ]
    }
   ],
   "source": [
    "# Load the breast cancer dataset\n",
    "X_pd, y_pd = sklearn.datasets.load_breast_cancer(return_X_y=True, as_frame=True)\n",
    "\n",
    "# Convert the target column vector `Y_pd` into 2-dimensional array (a `pd.DataFrame` instance)\n",
    "Y_pd = y_pd.to_frame()\n",
    "\n",
    "# prepare NumPy ndarrays\n",
    "X_raw = X_pd.to_numpy()\n",
    "Y = Y_pd.to_numpy()\n",
    "\n",
    "# Split the data into training/test data\n",
    "# While we have 569 pairs of a feature and target, we use 20% only for the test, not for training and validation.\n",
    "# `shuffle=True` for non-time series case. You should set `shuffle=False` to avoid future data being contaminated in the training data.\n",
    "X_nontest_raw, X_test_raw, Y_nontest, Y_test = train_test_split(X_raw, Y, test_size=0.20, shuffle=True, random_state=0)\n",
    "X_train_raw, X_valid_raw, Y_train, Y_valid = train_test_split(X_nontest_raw, Y_nontest, test_size=0.25, shuffle=True, random_state=0)\n",
    "\n",
    "scaler = StandardScaler()\n",
    "scaler.fit(X_train_raw)\n",
    "X_train = scaler.transform(X_train_raw)\n",
    "X_valid = scaler.transform(X_valid_raw)\n",
    "X_test = scaler.transform(X_test_raw)\n",
    "\n",
    "# Define the regularizer.\n",
    "alpha = 0.01\n",
    "kernel_regularizer = L2(l2=alpha)\n",
    "\n",
    "# Define the `Dense` layers.\n",
    "dense_layer_1 = Dense(units=10, activation=relu, kernel_regularizer=kernel_regularizer)\n",
    "output_layer = Dense(units=1, activation=sigmoid, kernel_regularizer=kernel_regularizer)\n",
    "\n",
    "# Define the \"virtual\" input\n",
    "input = Input(shape=X_train.shape[1:])\n",
    "\n",
    "# Define the \"virtual\" output\n",
    "output = dense_layer_1(input)\n",
    "output = output_layer(output)\n",
    "\n",
    "# Define the neural network model.\n",
    "model = Model(inputs=[input], outputs=[output], name='logistic_regression_balanced')\n",
    "\n",
    "# Output the summary of the model.\n",
    "model.summary()\n",
    "\n",
    "\n",
    "sgd = SGD(learning_rate=0.01)\n",
    "ce = BinaryCrossentropy()\n",
    "acc = BinaryAccuracy()\n",
    "model.compile(optimizer=sgd, loss=ce, metrics=[acc])"
   ]
  },
  {
   "cell_type": "markdown",
   "metadata": {
    "id": "D_w5cwmlZ-Z5"
   },
   "source": [
    "What we change is at the 'fitting' stage - in `tensorflow.keras`, we can specify a class weight when we fit the model. \n",
    "\n",
    "Here, we have to specify the weight manually. Specifically, we create a Python dictionary such that keys are the class labels and values indicate the class weight."
   ]
  },
  {
   "cell_type": "code",
   "execution_count": 29,
   "metadata": {
    "colab": {
     "base_uri": "https://localhost:8080/",
     "height": 1000
    },
    "id": "Kwukm8vqR9OO",
    "outputId": "f50e8312-1d9b-46cf-d1d9-7484879b03a7"
   },
   "outputs": [
    {
     "name": "stdout",
     "output_type": "stream",
     "text": [
      "Epoch 1/50\n",
      "4/4 [==============================] - 1s 81ms/step - loss: 1.4352 - binary_accuracy: 0.3255 - val_loss: 1.2565 - val_binary_accuracy: 0.2456\n",
      "Epoch 2/50\n",
      "4/4 [==============================] - 0s 16ms/step - loss: 1.2652 - binary_accuracy: 0.3900 - val_loss: 1.1206 - val_binary_accuracy: 0.3158\n",
      "Epoch 3/50\n",
      "4/4 [==============================] - 0s 13ms/step - loss: 1.1230 - binary_accuracy: 0.4370 - val_loss: 1.0118 - val_binary_accuracy: 0.4386\n",
      "Epoch 4/50\n",
      "4/4 [==============================] - 0s 13ms/step - loss: 1.0101 - binary_accuracy: 0.4839 - val_loss: 0.9149 - val_binary_accuracy: 0.5526\n",
      "Epoch 5/50\n",
      "4/4 [==============================] - 0s 12ms/step - loss: 0.9136 - binary_accuracy: 0.5748 - val_loss: 0.8408 - val_binary_accuracy: 0.6754\n",
      "Epoch 6/50\n",
      "4/4 [==============================] - 0s 14ms/step - loss: 0.8391 - binary_accuracy: 0.6540 - val_loss: 0.7796 - val_binary_accuracy: 0.7456\n",
      "Epoch 7/50\n",
      "4/4 [==============================] - 0s 16ms/step - loss: 0.7783 - binary_accuracy: 0.7067 - val_loss: 0.7327 - val_binary_accuracy: 0.7895\n",
      "Epoch 8/50\n",
      "4/4 [==============================] - 0s 19ms/step - loss: 0.7326 - binary_accuracy: 0.7566 - val_loss: 0.6944 - val_binary_accuracy: 0.8070\n",
      "Epoch 9/50\n",
      "4/4 [==============================] - 0s 20ms/step - loss: 0.6956 - binary_accuracy: 0.7859 - val_loss: 0.6607 - val_binary_accuracy: 0.8509\n",
      "Epoch 10/50\n",
      "4/4 [==============================] - 0s 16ms/step - loss: 0.6634 - binary_accuracy: 0.8123 - val_loss: 0.6321 - val_binary_accuracy: 0.8596\n",
      "Epoch 11/50\n",
      "4/4 [==============================] - 0s 16ms/step - loss: 0.6361 - binary_accuracy: 0.8299 - val_loss: 0.6084 - val_binary_accuracy: 0.8860\n",
      "Epoch 12/50\n",
      "4/4 [==============================] - 0s 17ms/step - loss: 0.6142 - binary_accuracy: 0.8475 - val_loss: 0.5869 - val_binary_accuracy: 0.8947\n",
      "Epoch 13/50\n",
      "4/4 [==============================] - 0s 13ms/step - loss: 0.5945 - binary_accuracy: 0.8563 - val_loss: 0.5685 - val_binary_accuracy: 0.9035\n",
      "Epoch 14/50\n",
      "4/4 [==============================] - 0s 15ms/step - loss: 0.5776 - binary_accuracy: 0.8592 - val_loss: 0.5523 - val_binary_accuracy: 0.9211\n",
      "Epoch 15/50\n",
      "4/4 [==============================] - 0s 15ms/step - loss: 0.5625 - binary_accuracy: 0.8798 - val_loss: 0.5373 - val_binary_accuracy: 0.9211\n",
      "Epoch 16/50\n",
      "4/4 [==============================] - 0s 16ms/step - loss: 0.5485 - binary_accuracy: 0.8798 - val_loss: 0.5240 - val_binary_accuracy: 0.9386\n",
      "Epoch 17/50\n",
      "4/4 [==============================] - 0s 16ms/step - loss: 0.5362 - binary_accuracy: 0.8856 - val_loss: 0.5119 - val_binary_accuracy: 0.9474\n",
      "Epoch 18/50\n",
      "4/4 [==============================] - 0s 14ms/step - loss: 0.5251 - binary_accuracy: 0.8944 - val_loss: 0.5008 - val_binary_accuracy: 0.9474\n",
      "Epoch 19/50\n",
      "4/4 [==============================] - 0s 21ms/step - loss: 0.5146 - binary_accuracy: 0.9032 - val_loss: 0.4913 - val_binary_accuracy: 0.9474\n",
      "Epoch 20/50\n",
      "4/4 [==============================] - 0s 15ms/step - loss: 0.5053 - binary_accuracy: 0.9062 - val_loss: 0.4816 - val_binary_accuracy: 0.9474\n",
      "Epoch 21/50\n",
      "4/4 [==============================] - 0s 13ms/step - loss: 0.4962 - binary_accuracy: 0.9091 - val_loss: 0.4734 - val_binary_accuracy: 0.9474\n",
      "Epoch 22/50\n",
      "4/4 [==============================] - 0s 16ms/step - loss: 0.4883 - binary_accuracy: 0.9120 - val_loss: 0.4654 - val_binary_accuracy: 0.9474\n",
      "Epoch 23/50\n",
      "4/4 [==============================] - 0s 19ms/step - loss: 0.4807 - binary_accuracy: 0.9150 - val_loss: 0.4582 - val_binary_accuracy: 0.9561\n",
      "Epoch 24/50\n",
      "4/4 [==============================] - 0s 19ms/step - loss: 0.4740 - binary_accuracy: 0.9179 - val_loss: 0.4514 - val_binary_accuracy: 0.9649\n",
      "Epoch 25/50\n",
      "4/4 [==============================] - 0s 13ms/step - loss: 0.4676 - binary_accuracy: 0.9179 - val_loss: 0.4447 - val_binary_accuracy: 0.9737\n",
      "Epoch 26/50\n",
      "4/4 [==============================] - 0s 13ms/step - loss: 0.4613 - binary_accuracy: 0.9179 - val_loss: 0.4386 - val_binary_accuracy: 0.9737\n",
      "Epoch 27/50\n",
      "4/4 [==============================] - 0s 14ms/step - loss: 0.4557 - binary_accuracy: 0.9208 - val_loss: 0.4331 - val_binary_accuracy: 0.9737\n",
      "Epoch 28/50\n",
      "4/4 [==============================] - 0s 14ms/step - loss: 0.4506 - binary_accuracy: 0.9208 - val_loss: 0.4278 - val_binary_accuracy: 0.9737\n",
      "Epoch 29/50\n",
      "4/4 [==============================] - 0s 13ms/step - loss: 0.4457 - binary_accuracy: 0.9208 - val_loss: 0.4226 - val_binary_accuracy: 0.9737\n",
      "Epoch 30/50\n",
      "4/4 [==============================] - 0s 13ms/step - loss: 0.4409 - binary_accuracy: 0.9238 - val_loss: 0.4177 - val_binary_accuracy: 0.9737\n",
      "Epoch 31/50\n",
      "4/4 [==============================] - 0s 14ms/step - loss: 0.4363 - binary_accuracy: 0.9267 - val_loss: 0.4131 - val_binary_accuracy: 0.9737\n",
      "Epoch 32/50\n",
      "4/4 [==============================] - 0s 16ms/step - loss: 0.4319 - binary_accuracy: 0.9296 - val_loss: 0.4089 - val_binary_accuracy: 0.9737\n",
      "Epoch 33/50\n",
      "4/4 [==============================] - 0s 19ms/step - loss: 0.4279 - binary_accuracy: 0.9296 - val_loss: 0.4047 - val_binary_accuracy: 0.9825\n",
      "Epoch 34/50\n",
      "4/4 [==============================] - 0s 16ms/step - loss: 0.4240 - binary_accuracy: 0.9296 - val_loss: 0.4012 - val_binary_accuracy: 0.9825\n",
      "Epoch 35/50\n",
      "4/4 [==============================] - 0s 16ms/step - loss: 0.4204 - binary_accuracy: 0.9296 - val_loss: 0.3973 - val_binary_accuracy: 0.9825\n",
      "Epoch 36/50\n",
      "4/4 [==============================] - 0s 16ms/step - loss: 0.4168 - binary_accuracy: 0.9326 - val_loss: 0.3937 - val_binary_accuracy: 0.9825\n",
      "Epoch 37/50\n",
      "4/4 [==============================] - 0s 18ms/step - loss: 0.4134 - binary_accuracy: 0.9326 - val_loss: 0.3901 - val_binary_accuracy: 0.9825\n",
      "Epoch 38/50\n",
      "4/4 [==============================] - 0s 19ms/step - loss: 0.4100 - binary_accuracy: 0.9326 - val_loss: 0.3869 - val_binary_accuracy: 0.9825\n",
      "Epoch 39/50\n",
      "4/4 [==============================] - 0s 16ms/step - loss: 0.4070 - binary_accuracy: 0.9355 - val_loss: 0.3838 - val_binary_accuracy: 0.9825\n",
      "Epoch 40/50\n",
      "4/4 [==============================] - 0s 16ms/step - loss: 0.4040 - binary_accuracy: 0.9443 - val_loss: 0.3808 - val_binary_accuracy: 0.9825\n",
      "Epoch 41/50\n",
      "4/4 [==============================] - 0s 16ms/step - loss: 0.4010 - binary_accuracy: 0.9443 - val_loss: 0.3780 - val_binary_accuracy: 0.9825\n",
      "Epoch 42/50\n",
      "4/4 [==============================] - 0s 16ms/step - loss: 0.3982 - binary_accuracy: 0.9472 - val_loss: 0.3752 - val_binary_accuracy: 0.9825\n",
      "Epoch 43/50\n",
      "4/4 [==============================] - 0s 16ms/step - loss: 0.3955 - binary_accuracy: 0.9472 - val_loss: 0.3727 - val_binary_accuracy: 0.9825\n",
      "Epoch 44/50\n",
      "4/4 [==============================] - 0s 13ms/step - loss: 0.3930 - binary_accuracy: 0.9472 - val_loss: 0.3703 - val_binary_accuracy: 0.9825\n",
      "Epoch 45/50\n",
      "4/4 [==============================] - 0s 19ms/step - loss: 0.3905 - binary_accuracy: 0.9501 - val_loss: 0.3679 - val_binary_accuracy: 0.9825\n",
      "Epoch 46/50\n",
      "4/4 [==============================] - 0s 16ms/step - loss: 0.3882 - binary_accuracy: 0.9501 - val_loss: 0.3654 - val_binary_accuracy: 0.9825\n",
      "Epoch 47/50\n",
      "4/4 [==============================] - 0s 14ms/step - loss: 0.3858 - binary_accuracy: 0.9501 - val_loss: 0.3633 - val_binary_accuracy: 0.9825\n",
      "Epoch 48/50\n",
      "4/4 [==============================] - 0s 16ms/step - loss: 0.3836 - binary_accuracy: 0.9501 - val_loss: 0.3612 - val_binary_accuracy: 0.9825\n",
      "Epoch 49/50\n",
      "4/4 [==============================] - 0s 16ms/step - loss: 0.3815 - binary_accuracy: 0.9501 - val_loss: 0.3589 - val_binary_accuracy: 0.9825\n",
      "Epoch 50/50\n",
      "4/4 [==============================] - 0s 17ms/step - loss: 0.3794 - binary_accuracy: 0.9501 - val_loss: 0.3570 - val_binary_accuracy: 0.9825\n"
     ]
    },
    {
     "data": {
      "text/plain": [
       "<matplotlib.legend.Legend at 0x272d2002370>"
      ]
     },
     "execution_count": 29,
     "metadata": {},
     "output_type": "execute_result"
    },
    {
     "data": {
      "image/png": "[encoded data removed]",
      "text/plain": [
       "<Figure size 640x480 with 1 Axes>"
      ]
     },
     "metadata": {},
     "output_type": "display_data"
    }
   ],
   "source": [
    "# Train the model.\n",
    "# `epochs` determines the number of epochs.\n",
    "# `batch_size` determines the batch_size.\n",
    "\n",
    "m = {}\n",
    "m[0] = np.sum((Y_train == 0).astype(int)) # Count how many times `0` appears in the target matrix.\n",
    "m[1] = np.sum((Y_train == 1).astype(int)) # Count how many times `1` appears in the target matrix.\n",
    "m_total = m[0] + m[1]\n",
    "class_weight = {0: m_total / (2.0 * m[0]), 1: m_total / (2.0 * m[1])}\n",
    "\n",
    "history = model.fit(X_train, Y_train, batch_size=100, epochs=50, validation_data=(X_valid, Y_valid), class_weight=class_weight)\n",
    "\n",
    "# Plot validation MSE, alwys nice to have plots to help us visualise things!\n",
    "plt.plot(history.history['binary_accuracy'], label='accuracy')\n",
    "plt.plot(history.history['val_binary_accuracy'], label = 'val_accuracy')\n",
    "plt.xlabel('Epoch')\n",
    "plt.ylabel('Accuracy')\n",
    "plt.legend(loc='lower right')"
   ]
  },
  {
   "cell_type": "markdown",
   "metadata": {
    "id": "GIBNTgwc1OSn"
   },
   "source": [
    "As the `class_weight` is not supported in the `evaluate` method for tensorflow if you want to measure this metric we can use `sklearn` functions."
   ]
  },
  {
   "cell_type": "code",
   "execution_count": 30,
   "metadata": {
    "colab": {
     "base_uri": "https://localhost:8080/"
    },
    "id": "gCSqorPX33sm",
    "outputId": "45fee57b-2a60-457c-df8a-95f5affa8ca5"
   },
   "outputs": [
    {
     "name": "stdout",
     "output_type": "stream",
     "text": [
      "4/4 [==============================] - 0s 2ms/step\n",
      "The balanced accuracy score on the test data: 0.893458240711337\n"
     ]
    }
   ],
   "source": [
    "Y_test_logit = model.predict(X_test)\n",
    "Y_test_pred = (Y_test_logit > 0.5).astype(int)\n",
    "bacc = balanced_accuracy_score(Y_test, Y_test_pred)\n",
    "print('The balanced accuracy score on the test data:', bacc)"
   ]
  },
  {
   "cell_type": "markdown",
   "metadata": {
    "id": "LpIA7MdGbHJi"
   },
   "source": [
    "But let's also use the same evaluation metrics we used for the unbalanced model - it's not much, but we do seem to be more accurate in our predictions!"
   ]
  },
  {
   "cell_type": "code",
   "execution_count": 31,
   "metadata": {
    "colab": {
     "base_uri": "https://localhost:8080/",
     "height": 349
    },
    "id": "gj7NHp7ba4w3",
    "outputId": "33d03c2a-64e1-4035-9935-fb06a24da696"
   },
   "outputs": [
    {
     "name": "stdout",
     "output_type": "stream",
     "text": [
      "The accuracy on the test data with the selected hyperparameter: 0.8859649122807017\n",
      "The F1 score on the test data with the selected hyperparameter: 0.8976377952755905\n",
      "Precision on test data: 0.95\n",
      "Recall on test data: 0.95\n"
     ]
    },
    {
     "data": {
      "image/png": "[encoded data removed]",
      "text/plain": [
       "<Figure size 640x480 with 2 Axes>"
      ]
     },
     "metadata": {},
     "output_type": "display_data"
    }
   ],
   "source": [
    "disp = ConfusionMatrixDisplay(confusion_matrix(Y_test, Y_test_pred))\n",
    "disp.plot(cmap=plt.cm.Blues)\n",
    "plt.grid(False)\n",
    "\n",
    "acc_test = accuracy_score(Y_test, Y_test_pred)\n",
    "f1_test = f1_score(Y_test, Y_test_pred, pos_label=1)\n",
    "print('The accuracy on the test data with the selected hyperparameter:', acc_test)\n",
    "print('The F1 score on the test data with the selected hyperparameter:', f1_test)\n",
    "pre_test = precision_score(Y_test, Y_test_pred, pos_label=1)\n",
    "print('Precision on test data:', pre_test)\n",
    "reca_test = precision_score(Y_test, Y_test_pred, pos_label=1)\n",
    "print('Recall on test data:', reca_test)"
   ]
  },
  {
   "cell_type": "markdown",
   "metadata": {
    "id": "Mc-FXmtWbgXm"
   },
   "source": [
    "##2.6 Exercise 3\n",
    "\n",
    "So far we have just been using a neural network with one layer and not many units (less than our number of features in fact!). Add more layers and units to our NN and see if we can obtain even greater accuracy. I was able to get an f1 score of 0.97, can you beat me? (Though do remember, there is a stochastic element to the training of Neural Networks, so you may not always get the same accuracy running the same model moultiple times from the start. Still, if your model is well contructed they should be comparable)"
   ]
  },
  {
   "cell_type": "code",
   "execution_count": 32,
   "metadata": {
    "id": "xRIOIU8pbxUM"
   },
   "outputs": [
    {
     "name": "stdout",
     "output_type": "stream",
     "text": [
      "Model: \"Exercise_3\"\n",
      "_________________________________________________________________\n",
      " Layer (type)                Output Shape              Param #   \n",
      "=================================================================\n",
      " input_6 (InputLayer)        [(None, 30)]              0         \n",
      "                                                                 \n",
      " dense_14 (Dense)            (None, 50)                1550      \n",
      "                                                                 \n",
      " dense_15 (Dense)            (None, 50)                2550      \n",
      "                                                                 \n",
      " dense_16 (Dense)            (None, 1)                 51        \n",
      "                                                                 \n",
      "=================================================================\n",
      "Total params: 4,151\n",
      "Trainable params: 4,151\n",
      "Non-trainable params: 0\n",
      "_________________________________________________________________\n",
      "Epoch 1/100\n",
      "4/4 [==============================] - 1s 78ms/step - loss: 1.5522 - binary_accuracy: 0.4985 - val_loss: 1.5186 - val_binary_accuracy: 0.6053\n",
      "Epoch 2/100\n",
      "4/4 [==============================] - 0s 15ms/step - loss: 1.5104 - binary_accuracy: 0.6100 - val_loss: 1.4847 - val_binary_accuracy: 0.7281\n",
      "Epoch 3/100\n",
      "4/4 [==============================] - 0s 19ms/step - loss: 1.4766 - binary_accuracy: 0.7126 - val_loss: 1.4542 - val_binary_accuracy: 0.8246\n",
      "Epoch 4/100\n",
      "4/4 [==============================] - 0s 15ms/step - loss: 1.4466 - binary_accuracy: 0.7830 - val_loss: 1.4268 - val_binary_accuracy: 0.8684\n",
      "Epoch 5/100\n",
      "4/4 [==============================] - 0s 14ms/step - loss: 1.4204 - binary_accuracy: 0.8358 - val_loss: 1.4028 - val_binary_accuracy: 0.8684\n",
      "Epoch 6/100\n",
      "4/4 [==============================] - 0s 13ms/step - loss: 1.3972 - binary_accuracy: 0.8710 - val_loss: 1.3804 - val_binary_accuracy: 0.8860\n",
      "Epoch 7/100\n",
      "4/4 [==============================] - 0s 16ms/step - loss: 1.3762 - binary_accuracy: 0.8856 - val_loss: 1.3606 - val_binary_accuracy: 0.8947\n",
      "Epoch 8/100\n",
      "4/4 [==============================] - 0s 16ms/step - loss: 1.3573 - binary_accuracy: 0.8944 - val_loss: 1.3417 - val_binary_accuracy: 0.9123\n",
      "Epoch 9/100\n",
      "4/4 [==============================] - 0s 14ms/step - loss: 1.3397 - binary_accuracy: 0.9003 - val_loss: 1.3247 - val_binary_accuracy: 0.9123\n",
      "Epoch 10/100\n",
      "4/4 [==============================] - 0s 15ms/step - loss: 1.3240 - binary_accuracy: 0.9120 - val_loss: 1.3082 - val_binary_accuracy: 0.9123\n",
      "Epoch 11/100\n",
      "4/4 [==============================] - 0s 15ms/step - loss: 1.3087 - binary_accuracy: 0.9120 - val_loss: 1.2924 - val_binary_accuracy: 0.9211\n",
      "Epoch 12/100\n",
      "4/4 [==============================] - 0s 17ms/step - loss: 1.2945 - binary_accuracy: 0.9179 - val_loss: 1.2780 - val_binary_accuracy: 0.9298\n",
      "Epoch 13/100\n",
      "4/4 [==============================] - 0s 17ms/step - loss: 1.2812 - binary_accuracy: 0.9238 - val_loss: 1.2646 - val_binary_accuracy: 0.9298\n",
      "Epoch 14/100\n",
      "4/4 [==============================] - 0s 15ms/step - loss: 1.2689 - binary_accuracy: 0.9267 - val_loss: 1.2520 - val_binary_accuracy: 0.9298\n",
      "Epoch 15/100\n",
      "4/4 [==============================] - 0s 17ms/step - loss: 1.2571 - binary_accuracy: 0.9296 - val_loss: 1.2399 - val_binary_accuracy: 0.9386\n",
      "Epoch 16/100\n",
      "4/4 [==============================] - 0s 11ms/step - loss: 1.2459 - binary_accuracy: 0.9296 - val_loss: 1.2289 - val_binary_accuracy: 0.9386\n",
      "Epoch 17/100\n",
      "4/4 [==============================] - 0s 16ms/step - loss: 1.2353 - binary_accuracy: 0.9296 - val_loss: 1.2180 - val_binary_accuracy: 0.9386\n",
      "Epoch 18/100\n",
      "4/4 [==============================] - 0s 13ms/step - loss: 1.2254 - binary_accuracy: 0.9326 - val_loss: 1.2076 - val_binary_accuracy: 0.9386\n",
      "Epoch 19/100\n",
      "4/4 [==============================] - 0s 16ms/step - loss: 1.2160 - binary_accuracy: 0.9326 - val_loss: 1.1980 - val_binary_accuracy: 0.9386\n",
      "Epoch 20/100\n",
      "4/4 [==============================] - 0s 17ms/step - loss: 1.2073 - binary_accuracy: 0.9355 - val_loss: 1.1885 - val_binary_accuracy: 0.9474\n",
      "Epoch 21/100\n",
      "4/4 [==============================] - 0s 16ms/step - loss: 1.1986 - binary_accuracy: 0.9355 - val_loss: 1.1798 - val_binary_accuracy: 0.9474\n",
      "Epoch 22/100\n",
      "4/4 [==============================] - 0s 16ms/step - loss: 1.1905 - binary_accuracy: 0.9384 - val_loss: 1.1708 - val_binary_accuracy: 0.9474\n",
      "Epoch 23/100\n",
      "4/4 [==============================] - 0s 13ms/step - loss: 1.1826 - binary_accuracy: 0.9443 - val_loss: 1.1626 - val_binary_accuracy: 0.9474\n",
      "Epoch 24/100\n",
      "4/4 [==============================] - 0s 13ms/step - loss: 1.1751 - binary_accuracy: 0.9443 - val_loss: 1.1552 - val_binary_accuracy: 0.9474\n",
      "Epoch 25/100\n",
      "4/4 [==============================] - 0s 13ms/step - loss: 1.1680 - binary_accuracy: 0.9443 - val_loss: 1.1480 - val_binary_accuracy: 0.9474\n",
      "Epoch 26/100\n",
      "4/4 [==============================] - 0s 14ms/step - loss: 1.1611 - binary_accuracy: 0.9443 - val_loss: 1.1406 - val_binary_accuracy: 0.9386\n",
      "Epoch 27/100\n",
      "4/4 [==============================] - 0s 13ms/step - loss: 1.1545 - binary_accuracy: 0.9443 - val_loss: 1.1334 - val_binary_accuracy: 0.9386\n",
      "Epoch 28/100\n",
      "4/4 [==============================] - 0s 19ms/step - loss: 1.1480 - binary_accuracy: 0.9443 - val_loss: 1.1270 - val_binary_accuracy: 0.9386\n",
      "Epoch 29/100\n",
      "4/4 [==============================] - 0s 16ms/step - loss: 1.1419 - binary_accuracy: 0.9443 - val_loss: 1.1206 - val_binary_accuracy: 0.9386\n",
      "Epoch 30/100\n",
      "4/4 [==============================] - 0s 14ms/step - loss: 1.1360 - binary_accuracy: 0.9472 - val_loss: 1.1144 - val_binary_accuracy: 0.9386\n",
      "Epoch 31/100\n",
      "4/4 [==============================] - 0s 14ms/step - loss: 1.1302 - binary_accuracy: 0.9472 - val_loss: 1.1088 - val_binary_accuracy: 0.9386\n",
      "Epoch 32/100\n",
      "4/4 [==============================] - 0s 14ms/step - loss: 1.1247 - binary_accuracy: 0.9472 - val_loss: 1.1031 - val_binary_accuracy: 0.9386\n",
      "Epoch 33/100\n",
      "4/4 [==============================] - 0s 16ms/step - loss: 1.1192 - binary_accuracy: 0.9472 - val_loss: 1.0976 - val_binary_accuracy: 0.9386\n",
      "Epoch 34/100\n",
      "4/4 [==============================] - 0s 14ms/step - loss: 1.1139 - binary_accuracy: 0.9472 - val_loss: 1.0923 - val_binary_accuracy: 0.9386\n",
      "Epoch 35/100\n",
      "4/4 [==============================] - 0s 16ms/step - loss: 1.1087 - binary_accuracy: 0.9472 - val_loss: 1.0868 - val_binary_accuracy: 0.9386\n",
      "Epoch 36/100\n",
      "4/4 [==============================] - 0s 14ms/step - loss: 1.1037 - binary_accuracy: 0.9472 - val_loss: 1.0815 - val_binary_accuracy: 0.9386\n",
      "Epoch 37/100\n",
      "4/4 [==============================] - 0s 14ms/step - loss: 1.0990 - binary_accuracy: 0.9472 - val_loss: 1.0769 - val_binary_accuracy: 0.9386\n",
      "Epoch 38/100\n",
      "4/4 [==============================] - 0s 17ms/step - loss: 1.0944 - binary_accuracy: 0.9472 - val_loss: 1.0723 - val_binary_accuracy: 0.9386\n",
      "Epoch 39/100\n",
      "4/4 [==============================] - 0s 15ms/step - loss: 1.0901 - binary_accuracy: 0.9472 - val_loss: 1.0682 - val_binary_accuracy: 0.9386\n",
      "Epoch 40/100\n",
      "4/4 [==============================] - 0s 18ms/step - loss: 1.0857 - binary_accuracy: 0.9472 - val_loss: 1.0634 - val_binary_accuracy: 0.9386\n",
      "Epoch 41/100\n",
      "4/4 [==============================] - 0s 14ms/step - loss: 1.0814 - binary_accuracy: 0.9472 - val_loss: 1.0590 - val_binary_accuracy: 0.9386\n",
      "Epoch 42/100\n",
      "4/4 [==============================] - 0s 11ms/step - loss: 1.0774 - binary_accuracy: 0.9472 - val_loss: 1.0548 - val_binary_accuracy: 0.9386\n",
      "Epoch 43/100\n",
      "4/4 [==============================] - 0s 13ms/step - loss: 1.0734 - binary_accuracy: 0.9472 - val_loss: 1.0504 - val_binary_accuracy: 0.9386\n",
      "Epoch 44/100\n",
      "4/4 [==============================] - 0s 15ms/step - loss: 1.0693 - binary_accuracy: 0.9472 - val_loss: 1.0461 - val_binary_accuracy: 0.9386\n",
      "Epoch 45/100\n",
      "4/4 [==============================] - 0s 16ms/step - loss: 1.0653 - binary_accuracy: 0.9472 - val_loss: 1.0420 - val_binary_accuracy: 0.9386\n",
      "Epoch 46/100\n",
      "4/4 [==============================] - 0s 16ms/step - loss: 1.0614 - binary_accuracy: 0.9472 - val_loss: 1.0378 - val_binary_accuracy: 0.9386\n",
      "Epoch 47/100\n",
      "4/4 [==============================] - 0s 16ms/step - loss: 1.0576 - binary_accuracy: 0.9472 - val_loss: 1.0341 - val_binary_accuracy: 0.9386\n",
      "Epoch 48/100\n",
      "4/4 [==============================] - 0s 19ms/step - loss: 1.0539 - binary_accuracy: 0.9472 - val_loss: 1.0304 - val_binary_accuracy: 0.9386\n",
      "Epoch 49/100\n",
      "4/4 [==============================] - 0s 16ms/step - loss: 1.0503 - binary_accuracy: 0.9472 - val_loss: 1.0272 - val_binary_accuracy: 0.9386\n",
      "Epoch 50/100\n",
      "4/4 [==============================] - 0s 15ms/step - loss: 1.0468 - binary_accuracy: 0.9501 - val_loss: 1.0238 - val_binary_accuracy: 0.9386\n",
      "Epoch 51/100\n",
      "4/4 [==============================] - 0s 16ms/step - loss: 1.0434 - binary_accuracy: 0.9501 - val_loss: 1.0202 - val_binary_accuracy: 0.9386\n",
      "Epoch 52/100\n",
      "4/4 [==============================] - 0s 14ms/step - loss: 1.0401 - binary_accuracy: 0.9501 - val_loss: 1.0166 - val_binary_accuracy: 0.9386\n",
      "Epoch 53/100\n",
      "4/4 [==============================] - 0s 15ms/step - loss: 1.0367 - binary_accuracy: 0.9501 - val_loss: 1.0135 - val_binary_accuracy: 0.9386\n",
      "Epoch 54/100\n",
      "4/4 [==============================] - 0s 14ms/step - loss: 1.0335 - binary_accuracy: 0.9501 - val_loss: 1.0106 - val_binary_accuracy: 0.9386\n",
      "Epoch 55/100\n",
      "4/4 [==============================] - 0s 14ms/step - loss: 1.0304 - binary_accuracy: 0.9531 - val_loss: 1.0075 - val_binary_accuracy: 0.9386\n",
      "Epoch 56/100\n",
      "4/4 [==============================] - 0s 14ms/step - loss: 1.0273 - binary_accuracy: 0.9560 - val_loss: 1.0049 - val_binary_accuracy: 0.9386\n",
      "Epoch 57/100\n",
      "4/4 [==============================] - 0s 19ms/step - loss: 1.0243 - binary_accuracy: 0.9560 - val_loss: 1.0021 - val_binary_accuracy: 0.9386\n",
      "Epoch 58/100\n",
      "4/4 [==============================] - 0s 27ms/step - loss: 1.0214 - binary_accuracy: 0.9560 - val_loss: 0.9994 - val_binary_accuracy: 0.9386\n",
      "Epoch 59/100\n",
      "4/4 [==============================] - 0s 20ms/step - loss: 1.0186 - binary_accuracy: 0.9560 - val_loss: 0.9966 - val_binary_accuracy: 0.9474\n",
      "Epoch 60/100\n",
      "4/4 [==============================] - 0s 22ms/step - loss: 1.0157 - binary_accuracy: 0.9560 - val_loss: 0.9937 - val_binary_accuracy: 0.9474\n",
      "Epoch 61/100\n",
      "4/4 [==============================] - 0s 30ms/step - loss: 1.0129 - binary_accuracy: 0.9560 - val_loss: 0.9911 - val_binary_accuracy: 0.9561\n",
      "Epoch 62/100\n",
      "4/4 [==============================] - 0s 30ms/step - loss: 1.0103 - binary_accuracy: 0.9560 - val_loss: 0.9884 - val_binary_accuracy: 0.9561\n",
      "Epoch 63/100\n",
      "4/4 [==============================] - 0s 19ms/step - loss: 1.0074 - binary_accuracy: 0.9560 - val_loss: 0.9856 - val_binary_accuracy: 0.9561\n",
      "Epoch 64/100\n",
      "4/4 [==============================] - 0s 14ms/step - loss: 1.0049 - binary_accuracy: 0.9589 - val_loss: 0.9831 - val_binary_accuracy: 0.9561\n",
      "Epoch 65/100\n",
      "4/4 [==============================] - 0s 16ms/step - loss: 1.0024 - binary_accuracy: 0.9619 - val_loss: 0.9805 - val_binary_accuracy: 0.9561\n",
      "Epoch 66/100\n",
      "4/4 [==============================] - 0s 16ms/step - loss: 0.9997 - binary_accuracy: 0.9619 - val_loss: 0.9781 - val_binary_accuracy: 0.9561\n",
      "Epoch 67/100\n",
      "4/4 [==============================] - 0s 18ms/step - loss: 0.9972 - binary_accuracy: 0.9619 - val_loss: 0.9759 - val_binary_accuracy: 0.9561\n",
      "Epoch 68/100\n",
      "4/4 [==============================] - 0s 14ms/step - loss: 0.9947 - binary_accuracy: 0.9619 - val_loss: 0.9736 - val_binary_accuracy: 0.9561\n",
      "Epoch 69/100\n",
      "4/4 [==============================] - 0s 11ms/step - loss: 0.9922 - binary_accuracy: 0.9619 - val_loss: 0.9713 - val_binary_accuracy: 0.9561\n",
      "Epoch 70/100\n",
      "4/4 [==============================] - 0s 18ms/step - loss: 0.9897 - binary_accuracy: 0.9619 - val_loss: 0.9691 - val_binary_accuracy: 0.9649\n",
      "Epoch 71/100\n",
      "4/4 [==============================] - 0s 14ms/step - loss: 0.9874 - binary_accuracy: 0.9619 - val_loss: 0.9666 - val_binary_accuracy: 0.9649\n",
      "Epoch 72/100\n",
      "4/4 [==============================] - 0s 13ms/step - loss: 0.9850 - binary_accuracy: 0.9648 - val_loss: 0.9642 - val_binary_accuracy: 0.9649\n",
      "Epoch 73/100\n",
      "4/4 [==============================] - 0s 13ms/step - loss: 0.9827 - binary_accuracy: 0.9648 - val_loss: 0.9621 - val_binary_accuracy: 0.9649\n",
      "Epoch 74/100\n",
      "4/4 [==============================] - 0s 16ms/step - loss: 0.9804 - binary_accuracy: 0.9648 - val_loss: 0.9598 - val_binary_accuracy: 0.9649\n",
      "Epoch 75/100\n",
      "4/4 [==============================] - 0s 18ms/step - loss: 0.9781 - binary_accuracy: 0.9677 - val_loss: 0.9581 - val_binary_accuracy: 0.9649\n",
      "Epoch 76/100\n",
      "4/4 [==============================] - 0s 17ms/step - loss: 0.9758 - binary_accuracy: 0.9677 - val_loss: 0.9559 - val_binary_accuracy: 0.9649\n",
      "Epoch 77/100\n",
      "4/4 [==============================] - 0s 16ms/step - loss: 0.9736 - binary_accuracy: 0.9677 - val_loss: 0.9538 - val_binary_accuracy: 0.9649\n",
      "Epoch 78/100\n",
      "4/4 [==============================] - 0s 16ms/step - loss: 0.9714 - binary_accuracy: 0.9677 - val_loss: 0.9517 - val_binary_accuracy: 0.9649\n",
      "Epoch 79/100\n",
      "4/4 [==============================] - 0s 15ms/step - loss: 0.9692 - binary_accuracy: 0.9677 - val_loss: 0.9497 - val_binary_accuracy: 0.9649\n",
      "Epoch 80/100\n",
      "4/4 [==============================] - 0s 16ms/step - loss: 0.9671 - binary_accuracy: 0.9677 - val_loss: 0.9480 - val_binary_accuracy: 0.9649\n",
      "Epoch 81/100\n",
      "4/4 [==============================] - 0s 16ms/step - loss: 0.9649 - binary_accuracy: 0.9648 - val_loss: 0.9458 - val_binary_accuracy: 0.9649\n",
      "Epoch 82/100\n",
      "4/4 [==============================] - 0s 13ms/step - loss: 0.9628 - binary_accuracy: 0.9677 - val_loss: 0.9438 - val_binary_accuracy: 0.9649\n",
      "Epoch 83/100\n",
      "4/4 [==============================] - 0s 16ms/step - loss: 0.9608 - binary_accuracy: 0.9648 - val_loss: 0.9420 - val_binary_accuracy: 0.9649\n",
      "Epoch 84/100\n",
      "4/4 [==============================] - 0s 13ms/step - loss: 0.9587 - binary_accuracy: 0.9648 - val_loss: 0.9403 - val_binary_accuracy: 0.9649\n",
      "Epoch 85/100\n",
      "4/4 [==============================] - 0s 13ms/step - loss: 0.9567 - binary_accuracy: 0.9648 - val_loss: 0.9384 - val_binary_accuracy: 0.9649\n",
      "Epoch 86/100\n",
      "4/4 [==============================] - 0s 12ms/step - loss: 0.9547 - binary_accuracy: 0.9677 - val_loss: 0.9365 - val_binary_accuracy: 0.9649\n",
      "Epoch 87/100\n",
      "4/4 [==============================] - 0s 13ms/step - loss: 0.9527 - binary_accuracy: 0.9677 - val_loss: 0.9343 - val_binary_accuracy: 0.9649\n",
      "Epoch 88/100\n",
      "4/4 [==============================] - 0s 13ms/step - loss: 0.9507 - binary_accuracy: 0.9677 - val_loss: 0.9324 - val_binary_accuracy: 0.9649\n",
      "Epoch 89/100\n",
      "4/4 [==============================] - 0s 16ms/step - loss: 0.9488 - binary_accuracy: 0.9677 - val_loss: 0.9305 - val_binary_accuracy: 0.9649\n",
      "Epoch 90/100\n",
      "4/4 [==============================] - 0s 13ms/step - loss: 0.9469 - binary_accuracy: 0.9677 - val_loss: 0.9288 - val_binary_accuracy: 0.9649\n",
      "Epoch 91/100\n",
      "4/4 [==============================] - 0s 16ms/step - loss: 0.9450 - binary_accuracy: 0.9677 - val_loss: 0.9271 - val_binary_accuracy: 0.9649\n",
      "Epoch 92/100\n",
      "4/4 [==============================] - 0s 13ms/step - loss: 0.9431 - binary_accuracy: 0.9677 - val_loss: 0.9253 - val_binary_accuracy: 0.9649\n",
      "Epoch 93/100\n",
      "4/4 [==============================] - 0s 14ms/step - loss: 0.9412 - binary_accuracy: 0.9677 - val_loss: 0.9235 - val_binary_accuracy: 0.9649\n",
      "Epoch 94/100\n",
      "4/4 [==============================] - 0s 18ms/step - loss: 0.9393 - binary_accuracy: 0.9677 - val_loss: 0.9219 - val_binary_accuracy: 0.9737\n",
      "Epoch 95/100\n",
      "4/4 [==============================] - 0s 14ms/step - loss: 0.9375 - binary_accuracy: 0.9677 - val_loss: 0.9204 - val_binary_accuracy: 0.9737\n",
      "Epoch 96/100\n",
      "4/4 [==============================] - 0s 14ms/step - loss: 0.9357 - binary_accuracy: 0.9677 - val_loss: 0.9186 - val_binary_accuracy: 0.9737\n",
      "Epoch 97/100\n",
      "4/4 [==============================] - 0s 16ms/step - loss: 0.9339 - binary_accuracy: 0.9677 - val_loss: 0.9169 - val_binary_accuracy: 0.9737\n",
      "Epoch 98/100\n",
      "4/4 [==============================] - 0s 19ms/step - loss: 0.9320 - binary_accuracy: 0.9677 - val_loss: 0.9150 - val_binary_accuracy: 0.9737\n",
      "Epoch 99/100\n",
      "4/4 [==============================] - 0s 16ms/step - loss: 0.9303 - binary_accuracy: 0.9677 - val_loss: 0.9132 - val_binary_accuracy: 0.9737\n",
      "Epoch 100/100\n",
      "4/4 [==============================] - 0s 19ms/step - loss: 0.9286 - binary_accuracy: 0.9677 - val_loss: 0.9114 - val_binary_accuracy: 0.9737\n"
     ]
    },
    {
     "data": {
      "image/png": "[encoded data removed]",
      "text/plain": [
       "<Figure size 640x480 with 1 Axes>"
      ]
     },
     "metadata": {},
     "output_type": "display_data"
    },
    {
     "name": "stdout",
     "output_type": "stream",
     "text": [
      "4/4 [==============================] - 0s 0s/step\n"
     ]
    },
    {
     "data": {
      "image/png": "[encoded data removed]",
      "text/plain": [
       "<Figure size 640x480 with 2 Axes>"
      ]
     },
     "metadata": {},
     "output_type": "display_data"
    },
    {
     "name": "stdout",
     "output_type": "stream",
     "text": [
      "The accuracy on the test data with the selected hyperparameter: 0.9122807017543859\n",
      "The F1 score on the test data with the selected hyperparameter: 0.9242424242424243\n",
      "Precision on test data: 0.9384615384615385\n",
      "Recall on test data: 0.9384615384615385\n"
     ]
    }
   ],
   "source": [
    "##############################################################\n",
    "# Your code here\n",
    "##############################################################\n",
    "# Load the breast cancer dataset\n",
    "X_pd, y_pd = sklearn.datasets.load_breast_cancer(return_X_y=True, as_frame=True)\n",
    "\n",
    "# Convert the target column vector `Y_pd` into 2-dimensional array (a `pd.DataFrame` instance)\n",
    "Y_pd = y_pd.to_frame()\n",
    "\n",
    "# prepare NumPy ndarrays\n",
    "X_raw = X_pd.to_numpy()\n",
    "Y = Y_pd.to_numpy()\n",
    "\n",
    "# Split the data into training/test data\n",
    "X_nontest_raw, X_test_raw, Y_nontest, Y_test = train_test_split(X_raw, Y, test_size=0.20, shuffle=True, random_state=0)\n",
    "X_train_raw, X_valid_raw, Y_train, Y_valid = train_test_split(X_nontest_raw, Y_nontest, test_size=0.25, shuffle=True, random_state=0)\n",
    "\n",
    "scaler = StandardScaler()\n",
    "scaler.fit(X_train_raw)\n",
    "X_train = scaler.transform(X_train_raw)\n",
    "X_valid = scaler.transform(X_valid_raw)\n",
    "X_test = scaler.transform(X_test_raw)\n",
    "\n",
    "# Define the regularizer.\n",
    "alpha = 0.01\n",
    "kernel_regularizer = L2(l2=alpha)\n",
    "\n",
    "# Define the `Dense` layer.\n",
    "dense_layer_1 = Dense(units=50, activation=relu, kernel_regularizer=kernel_regularizer)\n",
    "dense_layer_2 = Dense(units=50, activation=relu, kernel_regularizer=kernel_regularizer)\n",
    "out_layer = Dense(units=1, activation=sigmoid, kernel_regularizer=kernel_regularizer)\n",
    "\n",
    "# Define the \"virtual\" input\n",
    "input = Input(shape=X_train.shape[1:])\n",
    "\n",
    "# Define the \"virtual\" output\n",
    "output = dense_layer_1(input)\n",
    "output = dense_layer_2(output)\n",
    "output = out_layer(output)\n",
    "\n",
    "# Define the neural network model.\n",
    "model = Model(inputs=[input], outputs=[output], name='Exercise_3')\n",
    "\n",
    "# Output the summary of the model.\n",
    "model.summary()\n",
    "\n",
    "sgd = SGD(learning_rate=0.01)\n",
    "ce = BinaryCrossentropy(from_logits=False)\n",
    "acc = BinaryAccuracy()\n",
    "model.compile(optimizer=sgd, loss=ce, metrics=[acc])\n",
    "\n",
    "# Train the model.\n",
    "m = {}\n",
    "m[0] = np.sum((Y_train == 0).astype(int)) # Count how many times `0` appears in the target matrix.\n",
    "m[1] = np.sum((Y_train == 1).astype(int)) # Count how many times `1` appears in the target matrix.\n",
    "m_total = m[0] + m[1]\n",
    "class_weight = {0: m_total / (2.0 * m[0]), 1: m_total / (2.0 * m[1])}\n",
    "\n",
    "history = model.fit(X_train, Y_train, batch_size=100, epochs=100, validation_data=(X_valid, Y_valid), class_weight=class_weight)\n",
    "\n",
    "# Plot validation MSE, alwys nice to have plots to help us visualise things!\n",
    "plt.plot(history.history['binary_accuracy'], label='accuracy')\n",
    "plt.plot(history.history['val_binary_accuracy'], label = 'val_accuracy')\n",
    "plt.xlabel('Epoch')\n",
    "plt.ylabel('Accuracy')\n",
    "plt.legend(loc='lower right')\n",
    "plt.show()\n",
    "\n",
    "Y_test_logit = model.predict(X_test)\n",
    "Y_test_pred = (Y_test_logit > 0.5).astype(int)\n",
    "\n",
    "disp = ConfusionMatrixDisplay(confusion_matrix(Y_test, Y_test_pred))\n",
    "disp.plot(cmap=plt.cm.Blues)\n",
    "plt.grid(False)\n",
    "plt.show()\n",
    "\n",
    "acc_test = accuracy_score(Y_test, Y_test_pred)\n",
    "f1_test = f1_score(Y_test, Y_test_pred, pos_label=1)\n",
    "print('The accuracy on the test data with the selected hyperparameter:', acc_test)\n",
    "print('The F1 score on the test data with the selected hyperparameter:', f1_test)\n",
    "pre_test = precision_score(Y_test, Y_test_pred, pos_label=1)\n",
    "print('Precision on test data:', pre_test)\n",
    "reca_test = precision_score(Y_test, Y_test_pred, pos_label=1)\n",
    "print('Recall on test data:', reca_test)"
   ]
  },
  {
   "cell_type": "markdown",
   "metadata": {
    "id": "S5rMsmtjsCOA"
   },
   "source": [
    "# 3. Parametric testing with Neural Networks"
   ]
  },
  {
   "cell_type": "markdown",
   "metadata": {
    "id": "YBK0CYyasI_n"
   },
   "source": [
    "When constructing a Neural Network there are a number of things you may want to experiment with, including, but not limited to:\n",
    "\n",
    "1. Type of preprocessing used (Standardization vs Normalization, different encoding, etc)  \n",
    "2. Changing the number of hidden units in the network\n",
    "3. Changing the number of layers in the network \n",
    "4. Using different activation functions in the hidden layers \n",
    "5. Compiling the model with different optimizers \n",
    "6. Changing the learning rates \n",
    "7. Train the model for more epochs \n",
    "8. Changing the batch sizes \n",
    "9. Trying different accuracy metrics \n",
    "10. Accounting for class imbalances\n",
    "\n",
    "When testing these, you need to make sure you go about it systematically and keep records of what improves or harms your model accuracy - don't just change things ad hoc and hope you eventually hit on the perfect model randomly!\n",
    "\n",
    "For the hyperparameters in particular (learning rate, regularisation strength, batch size, number of layers, number of units, etc) it is beneficial to tune these to obtain the best network.\n",
    "\n",
    "While we may want to experiment with some of these manually, in general the smart way to do things involves automating the process as much as possible. In past week's you have been shown how to do this for the regularisation strength, so let's do it again here for a Neural Network!\n",
    "\n"
   ]
  },
  {
   "cell_type": "code",
   "execution_count": 33,
   "metadata": {
    "id": "-lfliQEdHLlV"
   },
   "outputs": [],
   "source": [
    "# First we can define some functions to create our model then compile and train it\n",
    "# This should make our lives a bit easier and the code clearer when it comes to finding the paramaters\n",
    "def create_model(reg_str=0.01,n_hidden=50):\n",
    "    kernel_regularizer = L2(l2=reg_str)\n",
    "    dense_layer_1 = Dense(units=n_hidden, activation=relu, kernel_regularizer=kernel_regularizer)\n",
    "    dense_layer_2 = Dense(units=n_hidden, activation=relu, kernel_regularizer=kernel_regularizer)\n",
    "    out_layer = Dense(units=1, activation=sigmoid, kernel_regularizer=kernel_regularizer)\n",
    "    input=Input(shape=X_train.shape[1:]) \n",
    "    # Note, we can stack our layers in a single line like this to save space, but this approach does make it harder adding and removing layers.\n",
    "    output = out_layer(dense_layer_2(dense_layer_1(input)))    \n",
    "    model = Model(inputs=[input], outputs=[output], name='ParaTest')\n",
    "    return model\n",
    "\n",
    "def model_compile_and_training(X_train, Y_train, X_valid, Y_valid, learning_rate= 0.01, n_epochs= 10, batch_size=100):\n",
    "    model.compile(optimizer=SGD(learning_rate=learning_rate), loss=BinaryCrossentropy(), metrics=[BinaryAccuracy()])\n",
    "    history = model.fit(X_train, Y_train, batch_size=batch_size, epochs=n_epochs, validation_data=(X_valid, Y_valid), verbose=0) # Verbose=0 suppresses the output\n",
    "    return model, history"
   ]
  },
  {
   "cell_type": "markdown",
   "metadata": {
    "id": "rZoNQbSCLenk"
   },
   "source": [
    "Now we can run the automated loop:"
   ]
  },
  {
   "cell_type": "code",
   "execution_count": 34,
   "metadata": {
    "colab": {
     "base_uri": "https://localhost:8080/",
     "height": 487
    },
    "id": "OhyT0FQ2IZeY",
    "outputId": "5d05de18-79f0-4a0a-bb8f-0c7f3cab0652"
   },
   "outputs": [
    {
     "name": "stdout",
     "output_type": "stream",
     "text": [
      "11/11 [==============================] - 0s 3ms/step\n",
      "4/4 [==============================] - 0s 3ms/step\n",
      "11/11 [==============================] - 0s 3ms/step\n",
      "4/4 [==============================] - 0s 5ms/step\n",
      "11/11 [==============================] - 0s 2ms/step\n",
      "4/4 [==============================] - 0s 0s/step\n",
      "11/11 [==============================] - 0s 1ms/step\n",
      "4/4 [==============================] - 0s 3ms/step\n",
      "11/11 [==============================] - 0s 2ms/step\n",
      "4/4 [==============================] - 0s 3ms/step\n",
      "The best C: 0.01\n"
     ]
    },
    {
     "data": {
      "text/plain": [
       "<matplotlib.legend.Legend at 0x272d1d86f40>"
      ]
     },
     "execution_count": 34,
     "metadata": {},
     "output_type": "execute_result"
    },
    {
     "data": {
      "image/png": "[encoded data removed]",
      "text/plain": [
       "<Figure size 640x480 with 1 Axes>"
      ]
     },
     "metadata": {},
     "output_type": "display_data"
    }
   ],
   "source": [
    "# Load the breast cancer dataset\n",
    "X_pd, y_pd = sklearn.datasets.load_breast_cancer(return_X_y=True, as_frame=True)\n",
    "\n",
    "# Convert the target column vector `Y_pd` into 2-dimensional array (a `pd.DataFrame` instance)\n",
    "Y_pd = y_pd.to_frame()\n",
    "\n",
    "# prepare NumPy ndarrays\n",
    "X_raw = X_pd.to_numpy()\n",
    "Y = Y_pd.to_numpy()\n",
    "\n",
    "# Split the data into training/test data\n",
    "X_nontest_raw, X_test_raw, Y_nontest, Y_test = train_test_split(X_raw, Y, test_size=0.20, shuffle=True, random_state=0)\n",
    "X_train_raw, X_valid_raw, Y_train, Y_valid = train_test_split(X_nontest_raw, Y_nontest, test_size=0.25, shuffle=True, random_state=0)\n",
    "\n",
    "scaler = StandardScaler()\n",
    "scaler.fit(X_train_raw)\n",
    "X_train = scaler.transform(X_train_raw)\n",
    "X_valid = scaler.transform(X_valid_raw)\n",
    "X_test = scaler.transform(X_test_raw)\n",
    "\n",
    "Cs = [0.0001, 0.001, 0.01, 0.1, 1.0]\n",
    "train_array = np.full([len(Cs)], np.nan)\n",
    "valid_array = np.full([len(Cs)], np.nan)\n",
    "f1_train_array = np.full([len(Cs)], np.nan)\n",
    "f1_valid_array = np.full([len(Cs)], np.nan)\n",
    "\n",
    "for C_index, C in enumerate(Cs):\n",
    "  # Run our two functions to create and compile the model\n",
    "  model = create_model(reg_str=C,n_hidden=50)\n",
    "  model_compile_and_training(X_train, Y_train, X_valid, Y_valid, learning_rate= 0.01, n_epochs= 10, batch_size=100)\n",
    "\n",
    "  Y_pred_train = model.predict(X_train)\n",
    "  Y_pred_train = (Y_pred_train > 0.5).astype(int)\n",
    "\n",
    "  train_array[C_index] = accuracy_score(Y_train, Y_pred_train)\n",
    "  f1_train_array[C_index] = f1_score(Y_train, Y_pred_train, pos_label=1)\n",
    "\n",
    "  Y_pred_valid = model.predict(X_valid)\n",
    "  Y_pred_valid = (Y_pred_valid > 0.5).astype(int)\n",
    "\n",
    "  valid_array[C_index] = accuracy_score(Y_valid, Y_pred_valid)\n",
    "  f1_valid_array[C_index] = f1_score(Y_valid, Y_pred_valid, pos_label=1)\n",
    "\n",
    "\n",
    "# Select our best performing C (biggest f1)\n",
    "best_C_index = np.argmax(f1_valid_array)\n",
    "best_C = Cs[best_C_index]\n",
    "print('The best C:', best_C)\n",
    "\n",
    "# plot the results\n",
    "plt.figure()\n",
    "plt.plot(Cs, f1_train_array, '-x', label='training f1')\n",
    "plt.plot(Cs, f1_valid_array, '-x', label= 'val f1')\n",
    "plt.xlabel('Regularisation Strength')\n",
    "plt.ylabel('Final F1 score')\n",
    "plt.legend()"
   ]
  },
  {
   "cell_type": "markdown",
   "metadata": {
    "id": "-l8wHWeRm7tG"
   },
   "source": [
    "## 3.1 Adressing Overfitting"
   ]
  },
  {
   "cell_type": "markdown",
   "metadata": {
    "id": "xsMGFJTxnACU"
   },
   "source": [
    "As explained in the lecture, Neural Networks are just as prone to overfitting as other complex models.\n",
    "\n",
    "There are various manual approaches you can take such as:\n",
    "*   Removing Neurons and/or layers from the model (lowering complexity)\n",
    "*   Obtaining more training data\n",
    "*   Removing unneeded features\n",
    "\n",
    "But as with our linear models, manually experimenting with these things can be quite slow. While simplifying needlessly complex models and data is never a bad thing, there are a selection of automatic teachniques which are quick and easy to implement that should help with any overfitting.\n",
    "\n",
    "\n"
   ]
  },
  {
   "cell_type": "markdown",
   "metadata": {
    "id": "UqvJvWdwomsg"
   },
   "source": [
    "###3.1.1 Regularisation"
   ]
  },
  {
   "cell_type": "markdown",
   "metadata": {
    "id": "00TOUPbDorx2"
   },
   "source": [
    "This was mentioned earlier in the classification section, but it bears repeating that you can integrate regularisation directly into your dense layers, and this can also apply for Regression problems where it performs the same purpose as it did in general models where it adds a term to the cost function that will encourage the monel to minimise the magnitude of edge weights (parameters) being used by the model. We can again specify L1 (Lasso) regularisation and L2 (Ridge) regression. Of course, if you use regularisation you need to be careful with picking you hyperparameter $\\alpha$, otherwise you will could either end up underfitting if it is too high and the regularisation will have no effect if it is too small.\n",
    "\n",
    "See below for an example of the code you need to include in your network to add regularisation:"
   ]
  },
  {
   "cell_type": "code",
   "execution_count": 35,
   "metadata": {
    "id": "7MrtWD2rxOaR"
   },
   "outputs": [],
   "source": [
    "# Define the regularizer.\n",
    "alpha = 0.00001\n",
    "#Pick one of the Regularisation methods\n",
    "kernel_regularizer = L1(l1=alpha) #Lasso\n",
    "kernel_regularizer = L2(l2=alpha) #Ridge\n",
    "layer = Dense(units=10, activation=relu, kernel_regularizer=kernel_regularizer)"
   ]
  },
  {
   "cell_type": "markdown",
   "metadata": {
    "id": "WnXUmozjxvB4"
   },
   "source": [
    "###3.1.2 Dropout Layers"
   ]
  },
  {
   "cell_type": "markdown",
   "metadata": {
    "id": "GG_JGo6QxzGH"
   },
   "source": [
    "In order to simulate training multiple model in parallel and combining them, adding dropout layers randomly turn off nodes in the network with every epoch to make the Network more robust to overfitting particular nodes/edges. The proportion of dropouts and even the number of dropout nodes are both other hyperparameters that need considering when constructting your model (if you decide to include dropout). A single dropout layer may not be enough in truly complicated networks!\n",
    "\n",
    "See below for an example of a basic model with a dropout layer added.\n",
    "Note: this is quite a simple network and having dropout nodes is probably a bit overkill, though it should only make the network more robust."
   ]
  },
  {
   "cell_type": "code",
   "execution_count": 36,
   "metadata": {
    "colab": {
     "base_uri": "https://localhost:8080/"
    },
    "id": "1TvEMp-DyXPt",
    "outputId": "c0fb4fa4-b7ea-4c3f-9628-9f78cd3022fd"
   },
   "outputs": [
    {
     "name": "stdout",
     "output_type": "stream",
     "text": [
      "Model: \"Dropout\"\n",
      "_________________________________________________________________\n",
      " Layer (type)                Output Shape              Param #   \n",
      "=================================================================\n",
      " input_12 (InputLayer)       [(None, 2)]               0         \n",
      "                                                                 \n",
      " dense_33 (Dense)            (None, 512)               1536      \n",
      "                                                                 \n",
      " dropout (Dropout)           (None, 512)               0         \n",
      "                                                                 \n",
      " dense_34 (Dense)            (None, 512)               262656    \n",
      "                                                                 \n",
      " dense_35 (Dense)            (None, 512)               262656    \n",
      "                                                                 \n",
      " dense_36 (Dense)            (None, 512)               262656    \n",
      "                                                                 \n",
      " dense_37 (Dense)            (None, 1)                 513       \n",
      "                                                                 \n",
      "=================================================================\n",
      "Total params: 790,017\n",
      "Trainable params: 790,017\n",
      "Non-trainable params: 0\n",
      "_________________________________________________________________\n"
     ]
    }
   ],
   "source": [
    "X_pd, y_pd = sklearn.datasets.fetch_california_housing(return_X_y=True, as_frame=True)\n",
    "Y_pd = y_pd.to_frame()\n",
    "\n",
    "X_raw = X_pd.to_numpy()\n",
    "X_raw=X_raw[0:1000,0:2]\n",
    "Y = Y_pd.to_numpy()\n",
    "Y=Y[0:1000]\n",
    "\n",
    "X_nontest_raw, X_test_raw, Y_nontest, Y_test = train_test_split(X_raw, Y, test_size=0.20, shuffle=True, random_state=0)\n",
    "X_train_raw, X_valid_raw, Y_train, Y_valid = train_test_split(X_nontest_raw, Y_nontest, test_size=0.25, shuffle=True, random_state=0)\n",
    "\n",
    "scaler = StandardScaler()\n",
    "scaler.fit(X_train_raw)\n",
    "X_train = scaler.transform(X_train_raw)\n",
    "X_valid = scaler.transform(X_valid_raw)\n",
    "X_test = scaler.transform(X_test_raw)\n",
    "\n",
    "first_layer = Dense(units=128*4, activation=relu)\n",
    "##############################\n",
    "# Set proportion of nodes to deactivate with every training iteration (20% in this case)\n",
    "second_layer = Dropout(0.2)\n",
    "##############################\n",
    "third_layer = Dense(units=128*4, activation=relu)\n",
    "forth_layer = Dense(units=128*4, activation=relu)\n",
    "fifth_layer = Dense(units=128*4, activation=relu)\n",
    "out_layer = Dense(units=1, activation=linear)\n",
    "\n",
    "input = Input(shape=X_train.shape[1:])\n",
    "output = first_layer(input)\n",
    "output = second_layer(output)\n",
    "output = third_layer(output)\n",
    "output = forth_layer(output)\n",
    "output = fifth_layer(output)\n",
    "output = out_layer(output)\n",
    "\n",
    "# Define the neural network model.\n",
    "model = Model(inputs=[input], outputs=[output], name='Dropout')\n",
    "model.summary()"
   ]
  },
  {
   "cell_type": "code",
   "execution_count": 37,
   "metadata": {
    "colab": {
     "base_uri": "https://localhost:8080/",
     "height": 1000
    },
    "id": "jh4Pt8ZlyiR9",
    "outputId": "69d04b18-3bc7-444a-a95a-20202d873d16"
   },
   "outputs": [
    {
     "name": "stdout",
     "output_type": "stream",
     "text": [
      "Epoch 1/100\n",
      "1/1 [==============================] - 1s 839ms/step - loss: 4.7900 - val_loss: 4.3649\n",
      "Epoch 2/100\n",
      "1/1 [==============================] - 0s 65ms/step - loss: 4.3554 - val_loss: 3.9665\n",
      "Epoch 3/100\n",
      "1/1 [==============================] - 0s 63ms/step - loss: 3.9520 - val_loss: 3.5919\n",
      "Epoch 4/100\n",
      "1/1 [==============================] - 0s 73ms/step - loss: 3.5681 - val_loss: 3.2366\n",
      "Epoch 5/100\n",
      "1/1 [==============================] - 0s 71ms/step - loss: 3.2080 - val_loss: 2.8969\n",
      "Epoch 6/100\n",
      "1/1 [==============================] - 0s 80ms/step - loss: 2.8556 - val_loss: 2.5729\n",
      "Epoch 7/100\n",
      "1/1 [==============================] - 0s 89ms/step - loss: 2.5244 - val_loss: 2.2663\n",
      "Epoch 8/100\n",
      "1/1 [==============================] - 0s 72ms/step - loss: 2.2104 - val_loss: 1.9799\n",
      "Epoch 9/100\n",
      "1/1 [==============================] - 0s 89ms/step - loss: 1.9222 - val_loss: 1.7166\n",
      "Epoch 10/100\n",
      "1/1 [==============================] - 0s 92ms/step - loss: 1.6501 - val_loss: 1.4799\n",
      "Epoch 11/100\n",
      "1/1 [==============================] - 0s 70ms/step - loss: 1.4030 - val_loss: 1.2719\n",
      "Epoch 12/100\n",
      "1/1 [==============================] - 0s 73ms/step - loss: 1.1960 - val_loss: 1.0940\n",
      "Epoch 13/100\n",
      "1/1 [==============================] - 0s 80ms/step - loss: 1.0074 - val_loss: 0.9464\n",
      "Epoch 14/100\n",
      "1/1 [==============================] - 0s 96ms/step - loss: 0.8612 - val_loss: 0.8275\n",
      "Epoch 15/100\n",
      "1/1 [==============================] - 0s 80ms/step - loss: 0.7355 - val_loss: 0.7346\n",
      "Epoch 16/100\n",
      "1/1 [==============================] - 0s 72ms/step - loss: 0.6420 - val_loss: 0.6636\n",
      "Epoch 17/100\n",
      "1/1 [==============================] - 0s 105ms/step - loss: 0.5744 - val_loss: 0.6111\n",
      "Epoch 18/100\n",
      "1/1 [==============================] - 0s 89ms/step - loss: 0.5186 - val_loss: 0.5723\n",
      "Epoch 19/100\n",
      "1/1 [==============================] - 0s 89ms/step - loss: 0.4813 - val_loss: 0.5437\n",
      "Epoch 20/100\n",
      "1/1 [==============================] - 0s 106ms/step - loss: 0.4494 - val_loss: 0.5223\n",
      "Epoch 21/100\n",
      "1/1 [==============================] - 0s 100ms/step - loss: 0.4368 - val_loss: 0.5060\n",
      "Epoch 22/100\n",
      "1/1 [==============================] - 0s 87ms/step - loss: 0.4206 - val_loss: 0.4925\n",
      "Epoch 23/100\n",
      "1/1 [==============================] - 0s 81ms/step - loss: 0.4084 - val_loss: 0.4818\n",
      "Epoch 24/100\n",
      "1/1 [==============================] - 0s 81ms/step - loss: 0.3985 - val_loss: 0.4727\n",
      "Epoch 25/100\n",
      "1/1 [==============================] - 0s 80ms/step - loss: 0.3927 - val_loss: 0.4647\n",
      "Epoch 26/100\n",
      "1/1 [==============================] - 0s 106ms/step - loss: 0.3788 - val_loss: 0.4573\n",
      "Epoch 27/100\n",
      "1/1 [==============================] - 0s 105ms/step - loss: 0.3824 - val_loss: 0.4504\n",
      "Epoch 28/100\n",
      "1/1 [==============================] - 0s 84ms/step - loss: 0.3724 - val_loss: 0.4440\n",
      "Epoch 29/100\n",
      "1/1 [==============================] - 0s 116ms/step - loss: 0.3668 - val_loss: 0.4381\n",
      "Epoch 30/100\n",
      "1/1 [==============================] - 0s 129ms/step - loss: 0.3647 - val_loss: 0.4328\n",
      "Epoch 31/100\n",
      "1/1 [==============================] - 0s 146ms/step - loss: 0.3621 - val_loss: 0.4277\n",
      "Epoch 32/100\n",
      "1/1 [==============================] - 0s 81ms/step - loss: 0.3570 - val_loss: 0.4228\n",
      "Epoch 33/100\n",
      "1/1 [==============================] - 0s 72ms/step - loss: 0.3597 - val_loss: 0.4183\n",
      "Epoch 34/100\n",
      "1/1 [==============================] - 0s 65ms/step - loss: 0.3528 - val_loss: 0.4139\n",
      "Epoch 35/100\n",
      "1/1 [==============================] - 0s 96ms/step - loss: 0.3435 - val_loss: 0.4100\n",
      "Epoch 36/100\n",
      "1/1 [==============================] - 0s 64ms/step - loss: 0.3428 - val_loss: 0.4061\n",
      "Epoch 37/100\n",
      "1/1 [==============================] - 0s 74ms/step - loss: 0.3371 - val_loss: 0.4025\n",
      "Epoch 38/100\n",
      "1/1 [==============================] - 0s 120ms/step - loss: 0.3398 - val_loss: 0.3993\n",
      "Epoch 39/100\n",
      "1/1 [==============================] - 0s 130ms/step - loss: 0.3430 - val_loss: 0.3962\n",
      "Epoch 40/100\n",
      "1/1 [==============================] - 0s 129ms/step - loss: 0.3300 - val_loss: 0.3930\n",
      "Epoch 41/100\n",
      "1/1 [==============================] - 0s 148ms/step - loss: 0.3288 - val_loss: 0.3903\n",
      "Epoch 42/100\n",
      "1/1 [==============================] - 0s 123ms/step - loss: 0.3304 - val_loss: 0.3876\n",
      "Epoch 43/100\n",
      "1/1 [==============================] - 0s 123ms/step - loss: 0.3327 - val_loss: 0.3851\n",
      "Epoch 44/100\n",
      "1/1 [==============================] - 0s 122ms/step - loss: 0.3293 - val_loss: 0.3827\n",
      "Epoch 45/100\n",
      "1/1 [==============================] - 0s 90ms/step - loss: 0.3211 - val_loss: 0.3801\n",
      "Epoch 46/100\n",
      "1/1 [==============================] - 0s 74ms/step - loss: 0.3202 - val_loss: 0.3780\n",
      "Epoch 47/100\n",
      "1/1 [==============================] - 0s 65ms/step - loss: 0.3191 - val_loss: 0.3759\n",
      "Epoch 48/100\n",
      "1/1 [==============================] - 0s 73ms/step - loss: 0.3216 - val_loss: 0.3739\n",
      "Epoch 49/100\n",
      "1/1 [==============================] - 0s 64ms/step - loss: 0.3197 - val_loss: 0.3722\n",
      "Epoch 50/100\n",
      "1/1 [==============================] - 0s 90ms/step - loss: 0.3193 - val_loss: 0.3704\n",
      "Epoch 51/100\n",
      "1/1 [==============================] - 0s 82ms/step - loss: 0.3162 - val_loss: 0.3687\n",
      "Epoch 52/100\n",
      "1/1 [==============================] - 0s 84ms/step - loss: 0.3118 - val_loss: 0.3671\n",
      "Epoch 53/100\n",
      "1/1 [==============================] - 0s 97ms/step - loss: 0.3128 - val_loss: 0.3657\n",
      "Epoch 54/100\n",
      "1/1 [==============================] - 0s 82ms/step - loss: 0.3132 - val_loss: 0.3643\n",
      "Epoch 55/100\n",
      "1/1 [==============================] - 0s 83ms/step - loss: 0.3118 - val_loss: 0.3630\n",
      "Epoch 56/100\n",
      "1/1 [==============================] - 0s 73ms/step - loss: 0.3041 - val_loss: 0.3616\n",
      "Epoch 57/100\n",
      "1/1 [==============================] - 0s 82ms/step - loss: 0.3080 - val_loss: 0.3605\n",
      "Epoch 58/100\n",
      "1/1 [==============================] - 0s 76ms/step - loss: 0.3037 - val_loss: 0.3593\n",
      "Epoch 59/100\n",
      "1/1 [==============================] - 0s 95ms/step - loss: 0.3052 - val_loss: 0.3584\n",
      "Epoch 60/100\n",
      "1/1 [==============================] - 0s 97ms/step - loss: 0.3047 - val_loss: 0.3573\n",
      "Epoch 61/100\n",
      "1/1 [==============================] - 0s 82ms/step - loss: 0.3084 - val_loss: 0.3564\n",
      "Epoch 62/100\n",
      "1/1 [==============================] - 0s 89ms/step - loss: 0.3035 - val_loss: 0.3554\n",
      "Epoch 63/100\n",
      "1/1 [==============================] - 0s 90ms/step - loss: 0.3023 - val_loss: 0.3545\n",
      "Epoch 64/100\n",
      "1/1 [==============================] - 0s 73ms/step - loss: 0.3003 - val_loss: 0.3535\n",
      "Epoch 65/100\n",
      "1/1 [==============================] - 0s 65ms/step - loss: 0.2994 - val_loss: 0.3526\n",
      "Epoch 66/100\n",
      "1/1 [==============================] - 0s 72ms/step - loss: 0.2996 - val_loss: 0.3519\n",
      "Epoch 67/100\n",
      "1/1 [==============================] - 0s 69ms/step - loss: 0.2968 - val_loss: 0.3510\n",
      "Epoch 68/100\n",
      "1/1 [==============================] - 0s 81ms/step - loss: 0.2948 - val_loss: 0.3503\n",
      "Epoch 69/100\n",
      "1/1 [==============================] - 0s 82ms/step - loss: 0.2974 - val_loss: 0.3496\n",
      "Epoch 70/100\n",
      "1/1 [==============================] - 0s 82ms/step - loss: 0.2955 - val_loss: 0.3489\n",
      "Epoch 71/100\n",
      "1/1 [==============================] - 0s 66ms/step - loss: 0.2990 - val_loss: 0.3485\n",
      "Epoch 72/100\n",
      "1/1 [==============================] - 0s 74ms/step - loss: 0.2891 - val_loss: 0.3478\n",
      "Epoch 73/100\n",
      "1/1 [==============================] - 0s 81ms/step - loss: 0.2924 - val_loss: 0.3472\n",
      "Epoch 74/100\n",
      "1/1 [==============================] - 0s 65ms/step - loss: 0.2922 - val_loss: 0.3466\n",
      "Epoch 75/100\n",
      "1/1 [==============================] - 0s 89ms/step - loss: 0.2910 - val_loss: 0.3462\n",
      "Epoch 76/100\n",
      "1/1 [==============================] - 0s 81ms/step - loss: 0.2930 - val_loss: 0.3458\n",
      "Epoch 77/100\n",
      "1/1 [==============================] - 0s 74ms/step - loss: 0.2884 - val_loss: 0.3452\n",
      "Epoch 78/100\n",
      "1/1 [==============================] - 0s 90ms/step - loss: 0.2879 - val_loss: 0.3446\n",
      "Epoch 79/100\n",
      "1/1 [==============================] - 0s 80ms/step - loss: 0.2872 - val_loss: 0.3442\n",
      "Epoch 80/100\n",
      "1/1 [==============================] - 0s 81ms/step - loss: 0.2854 - val_loss: 0.3438\n",
      "Epoch 81/100\n",
      "1/1 [==============================] - 0s 73ms/step - loss: 0.2868 - val_loss: 0.3434\n",
      "Epoch 82/100\n",
      "1/1 [==============================] - 0s 89ms/step - loss: 0.2916 - val_loss: 0.3431\n",
      "Epoch 83/100\n",
      "1/1 [==============================] - 0s 105ms/step - loss: 0.2877 - val_loss: 0.3428\n",
      "Epoch 84/100\n",
      "1/1 [==============================] - 0s 81ms/step - loss: 0.2880 - val_loss: 0.3424\n",
      "Epoch 85/100\n",
      "1/1 [==============================] - 0s 83ms/step - loss: 0.2873 - val_loss: 0.3421\n",
      "Epoch 86/100\n",
      "1/1 [==============================] - 0s 104ms/step - loss: 0.2847 - val_loss: 0.3418\n",
      "Epoch 87/100\n",
      "1/1 [==============================] - 0s 139ms/step - loss: 0.2815 - val_loss: 0.3415\n",
      "Epoch 88/100\n",
      "1/1 [==============================] - 0s 139ms/step - loss: 0.2839 - val_loss: 0.3412\n",
      "Epoch 89/100\n",
      "1/1 [==============================] - 0s 118ms/step - loss: 0.2822 - val_loss: 0.3409\n",
      "Epoch 90/100\n",
      "1/1 [==============================] - 0s 130ms/step - loss: 0.2866 - val_loss: 0.3407\n",
      "Epoch 91/100\n",
      "1/1 [==============================] - 0s 137ms/step - loss: 0.2830 - val_loss: 0.3404\n",
      "Epoch 92/100\n",
      "1/1 [==============================] - 0s 137ms/step - loss: 0.2822 - val_loss: 0.3400\n",
      "Epoch 93/100\n",
      "1/1 [==============================] - 0s 145ms/step - loss: 0.2814 - val_loss: 0.3398\n",
      "Epoch 94/100\n",
      "1/1 [==============================] - 0s 105ms/step - loss: 0.2800 - val_loss: 0.3397\n",
      "Epoch 95/100\n",
      "1/1 [==============================] - 0s 81ms/step - loss: 0.2814 - val_loss: 0.3394\n",
      "Epoch 96/100\n",
      "1/1 [==============================] - 0s 99ms/step - loss: 0.2796 - val_loss: 0.3392\n",
      "Epoch 97/100\n",
      "1/1 [==============================] - 0s 86ms/step - loss: 0.2847 - val_loss: 0.3390\n",
      "Epoch 98/100\n",
      "1/1 [==============================] - 0s 73ms/step - loss: 0.2774 - val_loss: 0.3388\n",
      "Epoch 99/100\n",
      "1/1 [==============================] - 0s 82ms/step - loss: 0.2765 - val_loss: 0.3386\n",
      "Epoch 100/100\n",
      "1/1 [==============================] - 0s 74ms/step - loss: 0.2810 - val_loss: 0.3384\n"
     ]
    },
    {
     "data": {
      "text/plain": [
       "<matplotlib.legend.Legend at 0x272d21ded90>"
      ]
     },
     "execution_count": 37,
     "metadata": {},
     "output_type": "execute_result"
    },
    {
     "data": {
      "image/png": "[encoded data removed]",
      "text/plain": [
       "<Figure size 640x480 with 1 Axes>"
      ]
     },
     "metadata": {},
     "output_type": "display_data"
    }
   ],
   "source": [
    "# Compile the model by specifying the optimization algorithm and the loss function.\n",
    "sgd = SGD(learning_rate=0.01)\n",
    "mse = MeanSquaredError()\n",
    "model.compile(optimizer=sgd, loss=mse)\n",
    "\n",
    "# Train the model.\n",
    "history = model.fit(X_train, Y_train, batch_size=1000, epochs=100, validation_data=(X_valid, Y_valid), verbose=1)\n",
    "\n",
    "# Plot validation MSE, alwys nice to have plots to help us visualise things!\n",
    "plt.plot(history.history['loss'], label='MSE')\n",
    "plt.plot(history.history['val_loss'], label = 'val_MSE')\n",
    "plt.xlabel('Epoch')\n",
    "plt.ylabel('MSE')\n",
    "plt.legend(loc='lower right')"
   ]
  },
  {
   "cell_type": "markdown",
   "metadata": {
    "id": "4sqqrx7_z0PZ"
   },
   "source": [
    "###3.1.3 Early Stopping\n",
    "\n",
    "Early stopping simply monitors the validation data, and if it identifies that the validation accuracy/error is deteriorating then it will stop training the model further. However, you do want to leave some leeway as fitting Neural Networks can be a bit stochastic, so you don't want to immediately stop the first time the validation loss increases. This tolerance is called the `patience` and is a hyperparamter that says how many iterations it will tolerate with a loss above the best observed value. You may need to experiment with so that you can hit the sweet spot of not overfitting but also not ending your training prematurely.\n",
    "\n",
    "This can simply be done by making a callback instance and defining this when fitting the model, there is an example on a simple model below (callback information in the second cell)"
   ]
  },
  {
   "cell_type": "code",
   "execution_count": 38,
   "metadata": {
    "colab": {
     "base_uri": "https://localhost:8080/"
    },
    "id": "A-XoeoXO2Igx",
    "outputId": "ea2f5a28-5df2-4cae-d5ce-0390bbc658c6"
   },
   "outputs": [
    {
     "name": "stdout",
     "output_type": "stream",
     "text": [
      "Model: \"Early_Stop\"\n",
      "_________________________________________________________________\n",
      " Layer (type)                Output Shape              Param #   \n",
      "=================================================================\n",
      " input_13 (InputLayer)       [(None, 2)]               0         \n",
      "                                                                 \n",
      " dense_38 (Dense)            (None, 512)               1536      \n",
      "                                                                 \n",
      " dense_39 (Dense)            (None, 512)               262656    \n",
      "                                                                 \n",
      " dense_40 (Dense)            (None, 512)               262656    \n",
      "                                                                 \n",
      " dense_41 (Dense)            (None, 512)               262656    \n",
      "                                                                 \n",
      " dense_42 (Dense)            (None, 512)               262656    \n",
      "                                                                 \n",
      " dense_43 (Dense)            (None, 1)                 513       \n",
      "                                                                 \n",
      "=================================================================\n",
      "Total params: 1,052,673\n",
      "Trainable params: 1,052,673\n",
      "Non-trainable params: 0\n",
      "_________________________________________________________________\n"
     ]
    }
   ],
   "source": [
    "X_pd, y_pd = sklearn.datasets.fetch_california_housing(return_X_y=True, as_frame=True)\n",
    "Y_pd = y_pd.to_frame()\n",
    "\n",
    "X_raw = X_pd.to_numpy()\n",
    "X_raw=X_raw[0:500,0:2]\n",
    "Y = Y_pd.to_numpy()\n",
    "Y=Y[0:500]\n",
    "\n",
    "X_nontest_raw, X_test_raw, Y_nontest, Y_test = train_test_split(X_raw, Y, test_size=0.20, shuffle=True, random_state=0)\n",
    "X_train_raw, X_valid_raw, Y_train, Y_valid = train_test_split(X_nontest_raw, Y_nontest, test_size=0.25, shuffle=True, random_state=0)\n",
    "\n",
    "scaler = StandardScaler()\n",
    "scaler.fit(X_train_raw)\n",
    "X_train = scaler.transform(X_train_raw)\n",
    "X_valid = scaler.transform(X_valid_raw)\n",
    "X_test = scaler.transform(X_test_raw)\n",
    "\n",
    "first_layer = Dense(units=128*4, activation=relu)\n",
    "second_layer = Dense(units=128*4, activation=relu)\n",
    "third_layer = Dense(units=128*4, activation=relu)\n",
    "forth_layer = Dense(units=128*4, activation=relu)\n",
    "fifth_layer = Dense(units=128*4, activation=relu)\n",
    "out_layer = Dense(units=1, activation=linear)\n",
    "\n",
    "input = Input(shape=X_train.shape[1:])\n",
    "output = first_layer(input)\n",
    "output = second_layer(output)\n",
    "output = third_layer(output)\n",
    "output = forth_layer(output)\n",
    "output = fifth_layer(output)\n",
    "output = out_layer(output)\n",
    "\n",
    "# Define the neural network model.\n",
    "model = Model(inputs=[input], outputs=[output], name='Early_Stop')\n",
    "model.summary()"
   ]
  },
  {
   "cell_type": "code",
   "execution_count": 39,
   "metadata": {
    "colab": {
     "base_uri": "https://localhost:8080/",
     "height": 636
    },
    "id": "uU-wpfkY0fSn",
    "outputId": "96635f03-6df5-45bb-802f-7ec5156dd96e"
   },
   "outputs": [
    {
     "name": "stdout",
     "output_type": "stream",
     "text": [
      "Epoch 1/100\n",
      "1/1 [==============================] - 1s 963ms/step - loss: 4.5602 - val_loss: 1.8945\n",
      "Epoch 2/100\n",
      "1/1 [==============================] - 0s 64ms/step - loss: 1.8369 - val_loss: 0.6733\n",
      "Epoch 3/100\n",
      "1/1 [==============================] - 0s 65ms/step - loss: 0.6734 - val_loss: 0.5520\n",
      "Epoch 4/100\n",
      "1/1 [==============================] - 0s 65ms/step - loss: 0.5596 - val_loss: 0.4853\n",
      "Epoch 5/100\n",
      "1/1 [==============================] - 0s 65ms/step - loss: 0.4882 - val_loss: 0.4384\n",
      "Epoch 6/100\n",
      "1/1 [==============================] - 0s 80ms/step - loss: 0.4586 - val_loss: 0.4495\n",
      "Epoch 7/100\n",
      "1/1 [==============================] - 0s 102ms/step - loss: 0.4577 - val_loss: 0.4325\n",
      "Epoch 8/100\n",
      "1/1 [==============================] - 0s 83ms/step - loss: 0.4732 - val_loss: 0.5494\n",
      "Epoch 9/100\n",
      "1/1 [==============================] - 0s 80ms/step - loss: 0.5511 - val_loss: 0.5200\n",
      "Epoch 10/100\n",
      "1/1 [==============================] - 0s 70ms/step - loss: 0.5826 - val_loss: 0.8746\n"
     ]
    },
    {
     "data": {
      "text/plain": [
       "<matplotlib.legend.Legend at 0x272d3a3b580>"
      ]
     },
     "execution_count": 39,
     "metadata": {},
     "output_type": "execute_result"
    },
    {
     "data": {
      "image/png": "[encoded data removed]",
      "text/plain": [
       "<Figure size 640x480 with 1 Axes>"
      ]
     },
     "metadata": {},
     "output_type": "display_data"
    }
   ],
   "source": [
    "# Compile the model by specifying the optimization algorithm and the loss function.\n",
    "sgd = SGD(learning_rate=0.1)\n",
    "mse = MeanSquaredError()\n",
    "model.compile(optimizer=sgd, loss=mse)\n",
    "\n",
    "###################################################################################\n",
    "# Early Stopping\n",
    "# Choose what metric to monitor (validation accuracy a good metric for overfitting in regression)\n",
    "# Patience is how many iterations with a loss above the lowest observed value will be tolerated\n",
    "callback = EarlyStopping(monitor='val_loss', patience=3)\n",
    "####################################################################################\n",
    "\n",
    "# Train the model.\n",
    "history = model.fit(X_train, Y_train, batch_size=1000, epochs=100, validation_data=(X_valid, Y_valid), verbose=1, callbacks=[callback])\n",
    "\n",
    "# Plot validation MSE, alwys nice to have plots to help us visualise things!\n",
    "plt.plot(history.history['loss'], label='MSE')\n",
    "plt.plot(history.history['val_loss'], label = 'val_MSE')\n",
    "plt.xlabel('Epoch')\n",
    "plt.ylabel('MSE')\n",
    "plt.legend(loc='lower right')"
   ]
  },
  {
   "cell_type": "markdown",
   "metadata": {
    "id": "oZxoicUW4QUi"
   },
   "source": [
    "## 3.2 Saving your model\n",
    "\n",
    "Sometimes it can take a long time to train a model that uses big data or is very complex, so obviously you don't want to lose this progress, but one issue with using Colab is that it clears out your runtime every time you stop using it.\n",
    "\n",
    "For that reason, you may want to save the trained weights of your model so you can come back to it later and improve it, or use it for making predictions on other data.\n",
    "\n",
    "If you are interested in learnign more about this, I would direct you to [TensorFLow's tutorial on the topic.](https://www.tensorflow.org/tutorials/keras/save_and_load)\n",
    "\n",
    "I won't go into this in any further detail here, as it should not be an issue for your coursework or any of the tutorials. But I thought it would be useful to let you know this is an option in case it is relevant to you later in your MSC project or in your work."
   ]
  },
  {
   "cell_type": "markdown",
   "metadata": {
    "id": "ZnqFNnq0Lsti"
   },
   "source": [
    "## 3.3 Exercise 4\n"
   ]
  },
  {
   "cell_type": "markdown",
   "metadata": {
    "id": "qg5KEknZL38B"
   },
   "source": [
    "Try using this rough framework to experiment with a few different parameters\n",
    "\n",
    "\n",
    "1.   Try training the models for more epochs when calculating the regularisation weight.\n",
    "2.   Try finding the best learning weight for your model\n",
    "3.   Try testing different number of hidden units.\n",
    "4.   Change the number of layers and try testing all of the above again, do you get different results?\n",
    "\n"
   ]
  },
  {
   "cell_type": "code",
   "execution_count": 40,
   "metadata": {
    "id": "DMbLQeypMvub"
   },
   "outputs": [],
   "source": [
    "##############################################################\n",
    "# Your code here\n",
    "##############################################################\n",
    "\n",
    "# First we can define some functions to create our model then compile and train it\n",
    "# This should make our lives a bit easier and the code clearer when it comes to finding the paramaters\n",
    "def create_model(reg_str=0.01,n_hidden=50):\n",
    "    kernel_regularizer = L2(l2=reg_str)\n",
    "    dense_layer_1 = Dense(units=n_hidden, activation=relu, kernel_regularizer=kernel_regularizer)\n",
    "    dense_layer_2 = Dense(units=n_hidden, activation=relu, kernel_regularizer=kernel_regularizer)\n",
    "    out_layer = Dense(units=1, activation=sigmoid, kernel_regularizer=kernel_regularizer)\n",
    "    input=Input(shape=X_train.shape[1:]) \n",
    "    # Note, we can stack our layers in a single line like this to save space, but this approach does make it harder adding and removing layers.\n",
    "    output = out_layer(dense_layer_2(dense_layer_1(input)))    \n",
    "    model = Model(inputs=[input], outputs=[output], name='Exercise_4')\n",
    "    return model\n",
    "\n",
    "def model_compile_and_training(X_train, Y_train, X_valid, Y_valid, learning_rate= 0.01, n_epochs= 10, batch_size=100):\n",
    "    model.compile(optimizer=SGD(learning_rate=learning_rate), loss=BinaryCrossentropy(), metrics=[BinaryAccuracy()])\n",
    "    history = model.fit(X_train, Y_train, batch_size=batch_size, epochs=n_epochs, validation_data=(X_valid, Y_valid), verbose=0) # Verbose=0 suppresses the output\n",
    "    return model, history"
   ]
  },
  {
   "cell_type": "code",
   "execution_count": 41,
   "metadata": {
    "colab": {
     "base_uri": "https://localhost:8080/",
     "height": 487
    },
    "id": "MUERQdSSMz9q",
    "outputId": "c08f37ac-5d6c-4924-8f2c-c2870ba4bf24"
   },
   "outputs": [
    {
     "name": "stdout",
     "output_type": "stream",
     "text": [
      "11/11 [==============================] - 0s 2ms/step\n",
      "4/4 [==============================] - 0s 3ms/step\n",
      "11/11 [==============================] - 0s 3ms/step\n",
      "4/4 [==============================] - 0s 4ms/step\n",
      "11/11 [==============================] - 0s 2ms/step\n",
      "4/4 [==============================] - 0s 5ms/step\n",
      "11/11 [==============================] - 0s 2ms/step\n",
      "4/4 [==============================] - 0s 6ms/step\n",
      "11/11 [==============================] - 0s 3ms/step\n",
      "4/4 [==============================] - 0s 6ms/step\n",
      "The best number of units: 100\n"
     ]
    },
    {
     "data": {
      "text/plain": [
       "<matplotlib.legend.Legend at 0x272d1f9ee50>"
      ]
     },
     "execution_count": 41,
     "metadata": {},
     "output_type": "execute_result"
    },
    {
     "data": {
      "image/png": "[encoded data removed]",
      "text/plain": [
       "<Figure size 640x480 with 1 Axes>"
      ]
     },
     "metadata": {},
     "output_type": "display_data"
    }
   ],
   "source": [
    "# Load the breast cancer dataset\n",
    "X_pd, y_pd = sklearn.datasets.load_breast_cancer(return_X_y=True, as_frame=True)\n",
    "\n",
    "# Convert the target column vector `Y_pd` into 2-dimensional array (a `pd.DataFrame` instance)\n",
    "Y_pd = y_pd.to_frame()\n",
    "\n",
    "# prepare NumPy ndarrays\n",
    "X_raw = X_pd.to_numpy()\n",
    "Y = Y_pd.to_numpy()\n",
    "\n",
    "# Split the data into training/test data\n",
    "X_nontest_raw, X_test_raw, Y_nontest, Y_test = train_test_split(X_raw, Y, test_size=0.20, shuffle=True, random_state=0)\n",
    "X_train_raw, X_valid_raw, Y_train, Y_valid = train_test_split(X_nontest_raw, Y_nontest, test_size=0.25, shuffle=True, random_state=0)\n",
    "\n",
    "scaler = StandardScaler()\n",
    "scaler.fit(X_train_raw)\n",
    "X_train = scaler.transform(X_train_raw)\n",
    "X_valid = scaler.transform(X_valid_raw)\n",
    "X_test = scaler.transform(X_test_raw)\n",
    "\n",
    "hidden_units = [10, 50, 100, 200, 500]\n",
    "train_array = np.full([len(Cs)], np.nan)\n",
    "valid_array = np.full([len(Cs)], np.nan)\n",
    "f1_train_array = np.full([len(Cs)], np.nan)\n",
    "f1_valid_array = np.full([len(Cs)], np.nan)\n",
    "\n",
    "for HU_index, nh in enumerate(hidden_units):\n",
    "  # Run our two functions to create and compile the model\n",
    "  model = create_model(reg_str=0.01,n_hidden=nh)\n",
    "  model_compile_and_training(X_train, Y_train, X_valid, Y_valid, learning_rate= 0.01, n_epochs= 10, batch_size=100)\n",
    "\n",
    "  Y_pred_train = model.predict(X_train)\n",
    "  Y_pred_train = (Y_pred_train > 0.5).astype(int)\n",
    "\n",
    "  train_array[HU_index] = accuracy_score(Y_train, Y_pred_train)\n",
    "  f1_train_array[HU_index] = f1_score(Y_train, Y_pred_train, pos_label=1)\n",
    "\n",
    "  Y_pred_valid = model.predict(X_valid)\n",
    "  Y_pred_valid = (Y_pred_valid > 0.5).astype(int)\n",
    "\n",
    "  valid_array[HU_index] = accuracy_score(Y_valid, Y_pred_valid)\n",
    "  f1_valid_array[HU_index] = f1_score(Y_valid, Y_pred_valid, pos_label=1)\n",
    "\n",
    "\n",
    "# Select our best performing number of units (biggest f1)\n",
    "best_hidden_index = np.argmax(f1_valid_array)\n",
    "best_units = hidden_units[best_hidden_index]\n",
    "print('The best number of units:', best_units)\n",
    "\n",
    "# plot the results\n",
    "plt.figure()\n",
    "plt.plot(hidden_units, f1_train_array, '-x', label='training f1')\n",
    "plt.plot(hidden_units, f1_valid_array, '-x', label= 'val f1')\n",
    "plt.xlabel('Number of hidden units')\n",
    "plt.ylabel('Final F1 score')\n",
    "plt.legend()"
   ]
  },
  {
   "cell_type": "markdown",
   "metadata": {
    "id": "UbmljoziPfzy"
   },
   "source": [
    "##3.4 Exercise 5"
   ]
  },
  {
   "cell_type": "markdown",
   "metadata": {
    "id": "GQwUtu1kPkMV"
   },
   "source": [
    "Use this parametric testing approach used above to try exploring the hyperparameters for your regression problem in **Exercise 1** to obtain the best model you can. I don't have a particular 'perfect' answer in mind here, what I want you to do is experiment with many of the aspects of a neural network discussed at the start of this section to see what the best model you can obtain is. This may involve multiple passes where you change the number of layers in the model (or their activation function, or some other fundamental change) and then you can work on optimising the hyperparameters.\n",
    "\n",
    "**Warning**: It may take some time for the paramatric test to complete if you are running a model with many layers/units for potentially hundereds of epochs. It's imposible to train every permutation of model ever, all we can hope to do is advance things logically and systematically (e.g. pick an initial model structure, try tuning the hyperparameters on this model, once you have these hyperparameters you can experiment with changing the model layout. Then you may want to go back again and see if tuning the hyperparameters for this new model improves things). You also may want to try fitting a model on a subest of the data for speed, then try doing the final tunings on the full dataset once you have a model setup you are fairly happy with."
   ]
  },
  {
   "cell_type": "code",
   "execution_count": 42,
   "metadata": {
    "id": "EDBwVPZFSYzY"
   },
   "outputs": [],
   "source": [
    "##############################################################\n",
    "# Your code here\n",
    "##############################################################\n",
    "# First we can define some functions to create our model then compile and train it\n",
    "# This should make our lives a bit easier and the code clearer when it comes to finding the paramaters\n",
    "def create_model(reg_str=0.01,n_hidden=50):\n",
    "    kernel_regularizer = L2(l2=reg_str)\n",
    "    dense_layer_1 = Dense(units=n_hidden, activation=relu, kernel_regularizer=kernel_regularizer)\n",
    "    dense_layer_2 = Dense(units=n_hidden, activation=relu, kernel_regularizer=kernel_regularizer)\n",
    "    out_layer = Dense(units=1, activation=linear, kernel_regularizer=kernel_regularizer)\n",
    "    input=Input(shape=X_train.shape[1:]) \n",
    "    # Note, we can stack our layers in a single line like this to save space, but this approach does make it harder adding and removing layers.\n",
    "    output = out_layer(dense_layer_2(dense_layer_1(input)))    \n",
    "    model = Model(inputs=[input], outputs=[output], name='Exercise_5')\n",
    "    return model\n",
    "\n",
    "def model_compile_and_training(X_train, Y_train, X_valid, Y_valid, learning_rate= 0.01, n_epochs= 10, batch_size=100):\n",
    "    model.compile(optimizer=SGD(learning_rate=learning_rate), loss=MeanSquaredError())\n",
    "    history = model.fit(X_train, Y_train, batch_size=batch_size, epochs=n_epochs, validation_data=(X_valid, Y_valid), verbose=0) # Verbose=0 suppresses the output\n",
    "    return model, history"
   ]
  },
  {
   "cell_type": "code",
   "execution_count": 43,
   "metadata": {
    "colab": {
     "base_uri": "https://localhost:8080/",
     "height": 801
    },
    "id": "KtECxOJxSeE3",
    "outputId": "4b5d4b3c-d780-42e1-ebbb-570161cd3440"
   },
   "outputs": [
    {
     "name": "stdout",
     "output_type": "stream",
     "text": [
      "387/387 [==============================] - 1s 2ms/step - loss: 0.4482\n",
      "129/129 [==============================] - 0s 2ms/step - loss: 0.4683\n",
      "387/387 [==============================] - 1s 2ms/step - loss: 0.4601\n",
      "129/129 [==============================] - 0s 1ms/step - loss: 0.4832\n",
      "387/387 [==============================] - 2s 4ms/step - loss: 0.4434\n",
      "129/129 [==============================] - 1s 4ms/step - loss: 0.4678\n",
      "387/387 [==============================] - 1s 2ms/step - loss: 0.4489\n",
      "129/129 [==============================] - 0s 2ms/step - loss: 0.4737\n",
      "387/387 [==============================] - 1s 2ms/step - loss: nan\n",
      "129/129 [==============================] - 0s 2ms/step - loss: nan\n",
      "The best number of units: 100\n"
     ]
    },
    {
     "data": {
      "image/png": "[encoded data removed]",
      "text/plain": [
       "<Figure size 640x480 with 1 Axes>"
      ]
     },
     "metadata": {},
     "output_type": "display_data"
    },
    {
     "name": "stdout",
     "output_type": "stream",
     "text": [
      "129/129 [==============================] - 0s 2ms/step - loss: nan\n",
      "The mean squared error on the test data: nan\n",
      "129/129 [==============================] - 0s 1ms/step\n"
     ]
    },
    {
     "data": {
      "image/png": "[encoded data removed]",
      "text/plain": [
       "<Figure size 640x480 with 1 Axes>"
      ]
     },
     "metadata": {},
     "output_type": "display_data"
    },
    {
     "ename": "ValueError",
     "evalue": "Input contains NaN.",
     "output_type": "error",
     "traceback": [
      "\u001b[1;31m---------------------------------------------------------------------------\u001b[0m",
      "\u001b[1;31mValueError\u001b[0m                                Traceback (most recent call last)",
      "Cell \u001b[1;32mIn[43], line 63\u001b[0m\n\u001b[0;32m     60\u001b[0m plt\u001b[39m.\u001b[39mshow()\n\u001b[0;32m     62\u001b[0m \u001b[39m# The R2 score: 1 is perfect prediction\u001b[39;00m\n\u001b[1;32m---> 63\u001b[0m \u001b[39mprint\u001b[39m(\u001b[39m'\u001b[39m\u001b[39mR2 score: \u001b[39m\u001b[39m{:.4f}\u001b[39;00m\u001b[39m'\u001b[39m\u001b[39m.\u001b[39mformat(sklearn\u001b[39m.\u001b[39;49mmetrics\u001b[39m.\u001b[39;49mr2_score(Y_test, Y_test_pred)))\n",
      "File \u001b[1;32m~\\AppData\\Roaming\\Python\\Python39\\site-packages\\sklearn\\metrics\\_regression.py:911\u001b[0m, in \u001b[0;36mr2_score\u001b[1;34m(y_true, y_pred, sample_weight, multioutput, force_finite)\u001b[0m\n\u001b[0;32m    784\u001b[0m \u001b[39mdef\u001b[39;00m \u001b[39mr2_score\u001b[39m(\n\u001b[0;32m    785\u001b[0m     y_true,\n\u001b[0;32m    786\u001b[0m     y_pred,\n\u001b[1;32m   (...)\u001b[0m\n\u001b[0;32m    790\u001b[0m     force_finite\u001b[39m=\u001b[39m\u001b[39mTrue\u001b[39;00m,\n\u001b[0;32m    791\u001b[0m ):\n\u001b[0;32m    792\u001b[0m \u001b[39m    \u001b[39m\u001b[39m\"\"\":math:`R^2` (coefficient of determination) regression score function.\u001b[39;00m\n\u001b[0;32m    793\u001b[0m \n\u001b[0;32m    794\u001b[0m \u001b[39m    Best possible score is 1.0 and it can be negative (because the\u001b[39;00m\n\u001b[1;32m   (...)\u001b[0m\n\u001b[0;32m    909\u001b[0m \u001b[39m    -inf\u001b[39;00m\n\u001b[0;32m    910\u001b[0m \u001b[39m    \"\"\"\u001b[39;00m\n\u001b[1;32m--> 911\u001b[0m     y_type, y_true, y_pred, multioutput \u001b[39m=\u001b[39m _check_reg_targets(\n\u001b[0;32m    912\u001b[0m         y_true, y_pred, multioutput\n\u001b[0;32m    913\u001b[0m     )\n\u001b[0;32m    914\u001b[0m     check_consistent_length(y_true, y_pred, sample_weight)\n\u001b[0;32m    916\u001b[0m     \u001b[39mif\u001b[39;00m _num_samples(y_pred) \u001b[39m<\u001b[39m \u001b[39m2\u001b[39m:\n",
      "File \u001b[1;32m~\\AppData\\Roaming\\Python\\Python39\\site-packages\\sklearn\\metrics\\_regression.py:102\u001b[0m, in \u001b[0;36m_check_reg_targets\u001b[1;34m(y_true, y_pred, multioutput, dtype)\u001b[0m\n\u001b[0;32m    100\u001b[0m check_consistent_length(y_true, y_pred)\n\u001b[0;32m    101\u001b[0m y_true \u001b[39m=\u001b[39m check_array(y_true, ensure_2d\u001b[39m=\u001b[39m\u001b[39mFalse\u001b[39;00m, dtype\u001b[39m=\u001b[39mdtype)\n\u001b[1;32m--> 102\u001b[0m y_pred \u001b[39m=\u001b[39m check_array(y_pred, ensure_2d\u001b[39m=\u001b[39;49m\u001b[39mFalse\u001b[39;49;00m, dtype\u001b[39m=\u001b[39;49mdtype)\n\u001b[0;32m    104\u001b[0m \u001b[39mif\u001b[39;00m y_true\u001b[39m.\u001b[39mndim \u001b[39m==\u001b[39m \u001b[39m1\u001b[39m:\n\u001b[0;32m    105\u001b[0m     y_true \u001b[39m=\u001b[39m y_true\u001b[39m.\u001b[39mreshape((\u001b[39m-\u001b[39m\u001b[39m1\u001b[39m, \u001b[39m1\u001b[39m))\n",
      "File \u001b[1;32m~\\AppData\\Roaming\\Python\\Python39\\site-packages\\sklearn\\utils\\validation.py:919\u001b[0m, in \u001b[0;36mcheck_array\u001b[1;34m(array, accept_sparse, accept_large_sparse, dtype, order, copy, force_all_finite, ensure_2d, allow_nd, ensure_min_samples, ensure_min_features, estimator, input_name)\u001b[0m\n\u001b[0;32m    913\u001b[0m         \u001b[39mraise\u001b[39;00m \u001b[39mValueError\u001b[39;00m(\n\u001b[0;32m    914\u001b[0m             \u001b[39m\"\u001b[39m\u001b[39mFound array with dim \u001b[39m\u001b[39m%d\u001b[39;00m\u001b[39m. \u001b[39m\u001b[39m%s\u001b[39;00m\u001b[39m expected <= 2.\u001b[39m\u001b[39m\"\u001b[39m\n\u001b[0;32m    915\u001b[0m             \u001b[39m%\u001b[39m (array\u001b[39m.\u001b[39mndim, estimator_name)\n\u001b[0;32m    916\u001b[0m         )\n\u001b[0;32m    918\u001b[0m     \u001b[39mif\u001b[39;00m force_all_finite:\n\u001b[1;32m--> 919\u001b[0m         _assert_all_finite(\n\u001b[0;32m    920\u001b[0m             array,\n\u001b[0;32m    921\u001b[0m             input_name\u001b[39m=\u001b[39;49minput_name,\n\u001b[0;32m    922\u001b[0m             estimator_name\u001b[39m=\u001b[39;49mestimator_name,\n\u001b[0;32m    923\u001b[0m             allow_nan\u001b[39m=\u001b[39;49mforce_all_finite \u001b[39m==\u001b[39;49m \u001b[39m\"\u001b[39;49m\u001b[39mallow-nan\u001b[39;49m\u001b[39m\"\u001b[39;49m,\n\u001b[0;32m    924\u001b[0m         )\n\u001b[0;32m    926\u001b[0m \u001b[39mif\u001b[39;00m ensure_min_samples \u001b[39m>\u001b[39m \u001b[39m0\u001b[39m:\n\u001b[0;32m    927\u001b[0m     n_samples \u001b[39m=\u001b[39m _num_samples(array)\n",
      "File \u001b[1;32m~\\AppData\\Roaming\\Python\\Python39\\site-packages\\sklearn\\utils\\validation.py:161\u001b[0m, in \u001b[0;36m_assert_all_finite\u001b[1;34m(X, allow_nan, msg_dtype, estimator_name, input_name)\u001b[0m\n\u001b[0;32m    144\u001b[0m \u001b[39mif\u001b[39;00m estimator_name \u001b[39mand\u001b[39;00m input_name \u001b[39m==\u001b[39m \u001b[39m\"\u001b[39m\u001b[39mX\u001b[39m\u001b[39m\"\u001b[39m \u001b[39mand\u001b[39;00m has_nan_error:\n\u001b[0;32m    145\u001b[0m     \u001b[39m# Improve the error message on how to handle missing values in\u001b[39;00m\n\u001b[0;32m    146\u001b[0m     \u001b[39m# scikit-learn.\u001b[39;00m\n\u001b[0;32m    147\u001b[0m     msg_err \u001b[39m+\u001b[39m\u001b[39m=\u001b[39m (\n\u001b[0;32m    148\u001b[0m         \u001b[39mf\u001b[39m\u001b[39m\"\u001b[39m\u001b[39m\\n\u001b[39;00m\u001b[39m{\u001b[39;00mestimator_name\u001b[39m}\u001b[39;00m\u001b[39m does not accept missing values\u001b[39m\u001b[39m\"\u001b[39m\n\u001b[0;32m    149\u001b[0m         \u001b[39m\"\u001b[39m\u001b[39m encoded as NaN natively. For supervised learning, you might want\u001b[39m\u001b[39m\"\u001b[39m\n\u001b[1;32m   (...)\u001b[0m\n\u001b[0;32m    159\u001b[0m         \u001b[39m\"\u001b[39m\u001b[39m#estimators-that-handle-nan-values\u001b[39m\u001b[39m\"\u001b[39m\n\u001b[0;32m    160\u001b[0m     )\n\u001b[1;32m--> 161\u001b[0m \u001b[39mraise\u001b[39;00m \u001b[39mValueError\u001b[39;00m(msg_err)\n",
      "\u001b[1;31mValueError\u001b[0m: Input contains NaN."
     ]
    }
   ],
   "source": [
    "# This is just an example of how I would automate choosing the number of layers for the california housing data.\n",
    "# I would expect you to do a lot more experimentation to ultimately find a model much better than this one!\n",
    "\n",
    "X_pd, y_pd = sklearn.datasets.fetch_california_housing(return_X_y=True, as_frame=True)\n",
    "Y_pd = y_pd.to_frame()\n",
    "\n",
    "Y_pd = y_pd.to_frame()\n",
    "\n",
    "X_raw = X_pd.to_numpy()\n",
    "Y = Y_pd.to_numpy()\n",
    "\n",
    "# Split the data into training/test data\n",
    "X_nontest_raw, X_test_raw, Y_nontest, Y_test = train_test_split(X_raw, Y, test_size=0.20, shuffle=True, random_state=0)\n",
    "X_train_raw, X_valid_raw, Y_train, Y_valid = train_test_split(X_nontest_raw, Y_nontest, test_size=0.25, shuffle=True, random_state=0)\n",
    "\n",
    "scaler = StandardScaler()\n",
    "scaler.fit(X_train_raw)\n",
    "X_train = scaler.transform(X_train_raw)\n",
    "X_valid = scaler.transform(X_valid_raw)\n",
    "X_test = scaler.transform(X_test_raw)\n",
    "\n",
    "hidden_units = [10, 25, 50, 75, 100]\n",
    "train_array = np.full([len(Cs)], np.nan)\n",
    "valid_array = np.full([len(Cs)], np.nan)\n",
    "\n",
    "for HU_index, nh in enumerate(hidden_units):\n",
    "  # Run our two functions to create and compile the model\n",
    "  model = create_model(reg_str=0.01,n_hidden=nh)\n",
    "  model_compile_and_training(X_train, Y_train, X_valid, Y_valid, learning_rate= 0.05, n_epochs= 50, batch_size=100)\n",
    "\n",
    "  train_array[HU_index] = model.evaluate(X_train, Y_train)\n",
    "  valid_array[HU_index] = model.evaluate(X_valid, Y_valid)\n",
    "\n",
    "\n",
    "# Select our best performing number of units (smallest MSE)\n",
    "best_hidden_index = np.argmin(valid_array)\n",
    "best_units = hidden_units[best_hidden_index]\n",
    "print('The best number of units:', best_units)\n",
    "\n",
    "# plot the results\n",
    "plt.figure()\n",
    "plt.plot(hidden_units, train_array, '-x', label='training MSE')\n",
    "plt.plot(hidden_units, valid_array, '-x', label= 'val MSE')\n",
    "plt.xlabel('Number of hidden units')\n",
    "plt.ylabel('MSE')\n",
    "plt.legend()\n",
    "plt.show()\n",
    "\n",
    "mse_on_test = model.evaluate(X_test, Y_test)\n",
    "print('The mean squared error on the test data:', mse_on_test)\n",
    "\n",
    "Y_test_pred = model.predict(X_test)\n",
    "\n",
    "# Plot our predictions\n",
    "plt.scatter(X_test_raw[:,0], Y_test,  color='black', label='y_true') # Observed y values\n",
    "plt.scatter(X_test_raw[:,0], Y_test_pred, color='blue', label='y_pred') # predicted y values\n",
    "plt.xlabel('MedInc')\n",
    "plt.ylabel('house price')\n",
    "plt.legend()\n",
    "plt.show()\n",
    "\n",
    "# The R2 score: 1 is perfect prediction\n",
    "print('R2 score: {:.4f}'.format(sklearn.metrics.r2_score(Y_test, Y_test_pred)))"
   ]
  },
  {
   "cell_type": "markdown",
   "metadata": {
    "id": "FzrzumJVFoPF"
   },
   "source": [
    "#Appendix 1: Sequential Models (Bonus Exercise)"
   ]
  },
  {
   "cell_type": "markdown",
   "metadata": {
    "id": "-FACQRC2H5c_"
   },
   "source": [
    "In this tutorial we have been using the *functional* (`Model`) api for creating our neural networks ([see here for documentation](https://www.tensorflow.org/guide/keras/functional/)), but this isn't the only way we can create them.\n",
    "\n",
    "Another very common way of constructing Neural Networks is to use the `Sequential` model api ([see here for documentation](https://www.tensorflow.org/guide/keras/sequential_model)). Less common (in my experience), but you may also encounter how to make models using *subclassing*, which I won't cover here ([see here for documentation](https://www.tensorflow.org/guide/keras/custom_layers_and_models/)).\n",
    "\n",
    "I have chosen to use the `Model` api as I feel it offers you the best compromise between useability and being able to quite easily incorperate some more advanced functionality (such as transfer learning and multiple outputs).\n",
    "\n",
    "However, if you just want to create a linear Neural Network from scratch, the `Sequential` api is perfectly accepable and quite intuitive to use, so feel free to use either method for your coursework.\n",
    "\n",
    "Below I have just implemented the first basifc Neural Network we used at the start of the tutorial.\n",
    "\n",
    "**Bonus Exercise** This model is quite bad (certainly needs more training), see if you can get to grips with the sequential API and remake whatever your solution was for *Exercise 1*. You could also try remaking one of your classification models using this approach."
   ]
  },
  {
   "cell_type": "code",
   "execution_count": null,
   "metadata": {
    "colab": {
     "base_uri": "https://localhost:8080/",
     "height": 1000
    },
    "id": "U9Szb-v1G1xJ",
    "outputId": "c22fa341-049d-49a3-cbe5-d7ce6a2eec87"
   },
   "outputs": [
    {
     "name": "stdout",
     "output_type": "stream",
     "text": [
      "Model: \"sequential_4\"\n",
      "_________________________________________________________________\n",
      " Layer (type)                Output Shape              Param #   \n",
      "=================================================================\n",
      " dense_108 (Dense)           (None, 5)                 45        \n",
      "                                                                 \n",
      " dense_109 (Dense)           (None, 5)                 30        \n",
      "                                                                 \n",
      " dense_110 (Dense)           (None, 1)                 6         \n",
      "                                                                 \n",
      "=================================================================\n",
      "Total params: 81\n",
      "Trainable params: 81\n",
      "Non-trainable params: 0\n",
      "_________________________________________________________________\n",
      "Epoch 1/100\n",
      "13/13 [==============================] - 1s 22ms/step - loss: 2.5586 - val_loss: 1.8747\n",
      "Epoch 2/100\n",
      "13/13 [==============================] - 0s 7ms/step - loss: 1.6021 - val_loss: 1.4623\n",
      "Epoch 3/100\n",
      "13/13 [==============================] - 0s 12ms/step - loss: 1.3771 - val_loss: 1.3596\n",
      "Epoch 4/100\n",
      "13/13 [==============================] - 0s 10ms/step - loss: 1.3236 - val_loss: 1.3313\n",
      "Epoch 5/100\n",
      "13/13 [==============================] - 0s 15ms/step - loss: 1.3088 - val_loss: 1.3209\n",
      "Epoch 6/100\n",
      "13/13 [==============================] - 0s 9ms/step - loss: 1.3026 - val_loss: 1.3157\n",
      "Epoch 7/100\n",
      "13/13 [==============================] - 0s 6ms/step - loss: 1.2987 - val_loss: 1.3117\n",
      "Epoch 8/100\n",
      "13/13 [==============================] - 0s 9ms/step - loss: 1.2952 - val_loss: 1.3081\n",
      "Epoch 9/100\n",
      "13/13 [==============================] - 0s 7ms/step - loss: 1.2917 - val_loss: 1.3046\n",
      "Epoch 10/100\n",
      "13/13 [==============================] - 0s 6ms/step - loss: 1.2883 - val_loss: 1.3012\n",
      "Epoch 11/100\n",
      "13/13 [==============================] - 0s 4ms/step - loss: 1.2848 - val_loss: 1.2976\n",
      "Epoch 12/100\n",
      "13/13 [==============================] - 0s 5ms/step - loss: 1.2813 - val_loss: 1.2942\n",
      "Epoch 13/100\n",
      "13/13 [==============================] - 0s 5ms/step - loss: 1.2778 - val_loss: 1.2905\n",
      "Epoch 14/100\n",
      "13/13 [==============================] - 0s 6ms/step - loss: 1.2744 - val_loss: 1.2868\n",
      "Epoch 15/100\n",
      "13/13 [==============================] - 0s 5ms/step - loss: 1.2709 - val_loss: 1.2832\n",
      "Epoch 16/100\n",
      "13/13 [==============================] - 0s 5ms/step - loss: 1.2674 - val_loss: 1.2801\n",
      "Epoch 17/100\n",
      "13/13 [==============================] - 0s 5ms/step - loss: 1.2638 - val_loss: 1.2764\n",
      "Epoch 18/100\n",
      "13/13 [==============================] - 0s 5ms/step - loss: 1.2602 - val_loss: 1.2729\n",
      "Epoch 19/100\n",
      "13/13 [==============================] - 0s 6ms/step - loss: 1.2567 - val_loss: 1.2695\n",
      "Epoch 20/100\n",
      "13/13 [==============================] - 0s 5ms/step - loss: 1.2530 - val_loss: 1.2657\n",
      "Epoch 21/100\n",
      "13/13 [==============================] - 0s 4ms/step - loss: 1.2494 - val_loss: 1.2623\n",
      "Epoch 22/100\n",
      "13/13 [==============================] - 0s 4ms/step - loss: 1.2458 - val_loss: 1.2584\n",
      "Epoch 23/100\n",
      "13/13 [==============================] - 0s 4ms/step - loss: 1.2420 - val_loss: 1.2548\n",
      "Epoch 24/100\n",
      "13/13 [==============================] - 0s 4ms/step - loss: 1.2382 - val_loss: 1.2511\n",
      "Epoch 25/100\n",
      "13/13 [==============================] - 0s 4ms/step - loss: 1.2344 - val_loss: 1.2471\n",
      "Epoch 26/100\n",
      "13/13 [==============================] - 0s 5ms/step - loss: 1.2305 - val_loss: 1.2434\n",
      "Epoch 27/100\n",
      "13/13 [==============================] - 0s 5ms/step - loss: 1.2266 - val_loss: 1.2395\n",
      "Epoch 28/100\n",
      "13/13 [==============================] - 0s 4ms/step - loss: 1.2226 - val_loss: 1.2354\n",
      "Epoch 29/100\n",
      "13/13 [==============================] - 0s 6ms/step - loss: 1.2186 - val_loss: 1.2315\n",
      "Epoch 30/100\n",
      "13/13 [==============================] - 0s 5ms/step - loss: 1.2145 - val_loss: 1.2272\n",
      "Epoch 31/100\n",
      "13/13 [==============================] - 0s 6ms/step - loss: 1.2103 - val_loss: 1.2230\n",
      "Epoch 32/100\n",
      "13/13 [==============================] - 0s 4ms/step - loss: 1.2060 - val_loss: 1.2191\n",
      "Epoch 33/100\n",
      "13/13 [==============================] - 0s 5ms/step - loss: 1.2017 - val_loss: 1.2147\n",
      "Epoch 34/100\n",
      "13/13 [==============================] - 0s 5ms/step - loss: 1.1973 - val_loss: 1.2103\n",
      "Epoch 35/100\n",
      "13/13 [==============================] - 0s 5ms/step - loss: 1.1929 - val_loss: 1.2058\n",
      "Epoch 36/100\n",
      "13/13 [==============================] - 0s 6ms/step - loss: 1.1883 - val_loss: 1.2015\n",
      "Epoch 37/100\n",
      "13/13 [==============================] - 0s 5ms/step - loss: 1.1837 - val_loss: 1.1967\n",
      "Epoch 38/100\n",
      "13/13 [==============================] - 0s 5ms/step - loss: 1.1790 - val_loss: 1.1921\n",
      "Epoch 39/100\n",
      "13/13 [==============================] - 0s 4ms/step - loss: 1.1742 - val_loss: 1.1871\n",
      "Epoch 40/100\n",
      "13/13 [==============================] - 0s 4ms/step - loss: 1.1692 - val_loss: 1.1821\n",
      "Epoch 41/100\n",
      "13/13 [==============================] - 0s 4ms/step - loss: 1.1642 - val_loss: 1.1772\n",
      "Epoch 42/100\n",
      "13/13 [==============================] - 0s 4ms/step - loss: 1.1592 - val_loss: 1.1720\n",
      "Epoch 43/100\n",
      "13/13 [==============================] - 0s 5ms/step - loss: 1.1540 - val_loss: 1.1669\n",
      "Epoch 44/100\n",
      "13/13 [==============================] - 0s 4ms/step - loss: 1.1487 - val_loss: 1.1618\n",
      "Epoch 45/100\n",
      "13/13 [==============================] - 0s 5ms/step - loss: 1.1433 - val_loss: 1.1564\n",
      "Epoch 46/100\n",
      "13/13 [==============================] - 0s 4ms/step - loss: 1.1378 - val_loss: 1.1508\n",
      "Epoch 47/100\n",
      "13/13 [==============================] - 0s 5ms/step - loss: 1.1322 - val_loss: 1.1452\n",
      "Epoch 48/100\n",
      "13/13 [==============================] - 0s 4ms/step - loss: 1.1265 - val_loss: 1.1395\n",
      "Epoch 49/100\n",
      "13/13 [==============================] - 0s 5ms/step - loss: 1.1207 - val_loss: 1.1338\n",
      "Epoch 50/100\n",
      "13/13 [==============================] - 0s 4ms/step - loss: 1.1147 - val_loss: 1.1278\n",
      "Epoch 51/100\n",
      "13/13 [==============================] - 0s 5ms/step - loss: 1.1087 - val_loss: 1.1222\n",
      "Epoch 52/100\n",
      "13/13 [==============================] - 0s 6ms/step - loss: 1.1026 - val_loss: 1.1157\n",
      "Epoch 53/100\n",
      "13/13 [==============================] - 0s 5ms/step - loss: 1.0962 - val_loss: 1.1096\n",
      "Epoch 54/100\n",
      "13/13 [==============================] - 0s 4ms/step - loss: 1.0898 - val_loss: 1.1032\n",
      "Epoch 55/100\n",
      "13/13 [==============================] - 0s 6ms/step - loss: 1.0834 - val_loss: 1.0966\n",
      "Epoch 56/100\n",
      "13/13 [==============================] - 0s 4ms/step - loss: 1.0767 - val_loss: 1.0903\n",
      "Epoch 57/100\n",
      "13/13 [==============================] - 0s 4ms/step - loss: 1.0700 - val_loss: 1.0835\n",
      "Epoch 58/100\n",
      "13/13 [==============================] - 0s 5ms/step - loss: 1.0632 - val_loss: 1.0767\n",
      "Epoch 59/100\n",
      "13/13 [==============================] - 0s 5ms/step - loss: 1.0562 - val_loss: 1.0701\n",
      "Epoch 60/100\n",
      "13/13 [==============================] - 0s 5ms/step - loss: 1.0492 - val_loss: 1.0630\n",
      "Epoch 61/100\n",
      "13/13 [==============================] - 0s 5ms/step - loss: 1.0420 - val_loss: 1.0559\n",
      "Epoch 62/100\n",
      "13/13 [==============================] - 0s 5ms/step - loss: 1.0347 - val_loss: 1.0487\n",
      "Epoch 63/100\n",
      "13/13 [==============================] - 0s 4ms/step - loss: 1.0273 - val_loss: 1.0413\n",
      "Epoch 64/100\n",
      "13/13 [==============================] - 0s 4ms/step - loss: 1.0199 - val_loss: 1.0337\n",
      "Epoch 65/100\n",
      "13/13 [==============================] - 0s 5ms/step - loss: 1.0123 - val_loss: 1.0264\n",
      "Epoch 66/100\n",
      "13/13 [==============================] - 0s 5ms/step - loss: 1.0046 - val_loss: 1.0188\n",
      "Epoch 67/100\n",
      "13/13 [==============================] - 0s 6ms/step - loss: 0.9968 - val_loss: 1.0113\n",
      "Epoch 68/100\n",
      "13/13 [==============================] - 0s 4ms/step - loss: 0.9891 - val_loss: 1.0037\n",
      "Epoch 69/100\n",
      "13/13 [==============================] - 0s 4ms/step - loss: 0.9813 - val_loss: 0.9958\n",
      "Epoch 70/100\n",
      "13/13 [==============================] - 0s 4ms/step - loss: 0.9733 - val_loss: 0.9880\n",
      "Epoch 71/100\n",
      "13/13 [==============================] - 0s 4ms/step - loss: 0.9653 - val_loss: 0.9800\n",
      "Epoch 72/100\n",
      "13/13 [==============================] - 0s 4ms/step - loss: 0.9572 - val_loss: 0.9721\n",
      "Epoch 73/100\n",
      "13/13 [==============================] - 0s 5ms/step - loss: 0.9491 - val_loss: 0.9639\n",
      "Epoch 74/100\n",
      "13/13 [==============================] - 0s 5ms/step - loss: 0.9408 - val_loss: 0.9559\n",
      "Epoch 75/100\n",
      "13/13 [==============================] - 0s 5ms/step - loss: 0.9325 - val_loss: 0.9478\n",
      "Epoch 76/100\n",
      "13/13 [==============================] - 0s 5ms/step - loss: 0.9241 - val_loss: 0.9398\n",
      "Epoch 77/100\n",
      "13/13 [==============================] - 0s 5ms/step - loss: 0.9159 - val_loss: 0.9316\n",
      "Epoch 78/100\n",
      "13/13 [==============================] - 0s 4ms/step - loss: 0.9077 - val_loss: 0.9236\n",
      "Epoch 79/100\n",
      "13/13 [==============================] - 0s 4ms/step - loss: 0.8994 - val_loss: 0.9156\n",
      "Epoch 80/100\n",
      "13/13 [==============================] - 0s 4ms/step - loss: 0.8911 - val_loss: 0.9077\n",
      "Epoch 81/100\n",
      "13/13 [==============================] - 0s 5ms/step - loss: 0.8829 - val_loss: 0.8996\n",
      "Epoch 82/100\n",
      "13/13 [==============================] - 0s 5ms/step - loss: 0.8747 - val_loss: 0.8914\n",
      "Epoch 83/100\n",
      "13/13 [==============================] - 0s 5ms/step - loss: 0.8664 - val_loss: 0.8834\n",
      "Epoch 84/100\n",
      "13/13 [==============================] - 0s 4ms/step - loss: 0.8583 - val_loss: 0.8755\n",
      "Epoch 85/100\n",
      "13/13 [==============================] - 0s 5ms/step - loss: 0.8502 - val_loss: 0.8678\n",
      "Epoch 86/100\n",
      "13/13 [==============================] - 0s 5ms/step - loss: 0.8422 - val_loss: 0.8601\n",
      "Epoch 87/100\n",
      "13/13 [==============================] - 0s 5ms/step - loss: 0.8343 - val_loss: 0.8522\n",
      "Epoch 88/100\n",
      "13/13 [==============================] - 0s 6ms/step - loss: 0.8264 - val_loss: 0.8446\n",
      "Epoch 89/100\n",
      "13/13 [==============================] - 0s 4ms/step - loss: 0.8186 - val_loss: 0.8372\n",
      "Epoch 90/100\n",
      "13/13 [==============================] - 0s 4ms/step - loss: 0.8110 - val_loss: 0.8298\n",
      "Epoch 91/100\n",
      "13/13 [==============================] - 0s 5ms/step - loss: 0.8034 - val_loss: 0.8224\n",
      "Epoch 92/100\n",
      "13/13 [==============================] - 0s 4ms/step - loss: 0.7959 - val_loss: 0.8152\n",
      "Epoch 93/100\n",
      "13/13 [==============================] - 0s 4ms/step - loss: 0.7885 - val_loss: 0.8080\n",
      "Epoch 94/100\n",
      "13/13 [==============================] - 0s 5ms/step - loss: 0.7813 - val_loss: 0.8010\n",
      "Epoch 95/100\n",
      "13/13 [==============================] - 0s 4ms/step - loss: 0.7742 - val_loss: 0.7942\n",
      "Epoch 96/100\n",
      "13/13 [==============================] - 0s 5ms/step - loss: 0.7672 - val_loss: 0.7875\n",
      "Epoch 97/100\n",
      "13/13 [==============================] - 0s 5ms/step - loss: 0.7603 - val_loss: 0.7809\n",
      "Epoch 98/100\n",
      "13/13 [==============================] - 0s 4ms/step - loss: 0.7537 - val_loss: 0.7745\n",
      "Epoch 99/100\n",
      "13/13 [==============================] - 0s 4ms/step - loss: 0.7472 - val_loss: 0.7682\n",
      "Epoch 100/100\n",
      "13/13 [==============================] - 0s 4ms/step - loss: 0.7408 - val_loss: 0.7620\n"
     ]
    },
    {
     "data": {
      "image/png": "[encoded data removed]",
      "text/plain": [
       "<Figure size 432x288 with 1 Axes>"
      ]
     },
     "metadata": {
      "needs_background": "light"
     },
     "output_type": "display_data"
    },
    {
     "name": "stdout",
     "output_type": "stream",
     "text": [
      "129/129 [==============================] - 0s 2ms/step - loss: 0.7556\n",
      "The mean squared error on the test data: 0.7556191682815552\n",
      "129/129 [==============================] - 0s 1ms/step\n"
     ]
    },
    {
     "data": {
      "image/png": "[encoded data removed]",
      "text/plain": [
       "<Figure size 432x288 with 1 Axes>"
      ]
     },
     "metadata": {
      "needs_background": "light"
     },
     "output_type": "display_data"
    },
    {
     "name": "stdout",
     "output_type": "stream",
     "text": [
      "R2 score: 0.4205\n"
     ]
    }
   ],
   "source": [
    "X_pd, y_pd = sklearn.datasets.fetch_california_housing(return_X_y=True, as_frame=True)\n",
    "Y_pd = y_pd.to_frame()\n",
    "\n",
    "X_raw = X_pd.to_numpy()\n",
    "Y = Y_pd.to_numpy()\n",
    "\n",
    "\n",
    "X_nontest_raw, X_test_raw, Y_nontest, Y_test = train_test_split(X_raw, Y, test_size=0.20, shuffle=True, random_state=0)\n",
    "X_train_raw, X_valid_raw, Y_train, Y_valid = train_test_split(X_nontest_raw, Y_nontest, test_size=0.25, shuffle=True, random_state=0)\n",
    "\n",
    "scaler = StandardScaler()\n",
    "scaler.fit(X_train_raw)\n",
    "X_train = scaler.transform(X_train_raw)\n",
    "X_valid = scaler.transform(X_valid_raw)\n",
    "X_test = scaler.transform(X_test_raw)\n",
    "\n",
    "##################################################\n",
    "# Everything else in this should be the same as our initial example\n",
    "# Here we define our model first and add dense layers one at a time\n",
    "# While a bit simpler to understand, this approach is less flexible and doesn't allow us to do as much as the functional api.\n",
    "model = Sequential()\n",
    "# Note, we don't need to define an input layer, just specidy the input dimension for the first layer.\n",
    "model.add(Dense(5, input_dim=len(X_train[1]),activation='sigmoid'))\n",
    "model.add(Dense(5, activation='sigmoid'))\n",
    "model.add(Dense(1, activation='linear'))\n",
    "##################################################\n",
    "\n",
    "# Should see that this is the same as the model we made earlier in the first example.\n",
    "model.summary()\n",
    "\n",
    "sgd = SGD(learning_rate=0.01)\n",
    "mse = MeanSquaredError()\n",
    "model.compile(optimizer=sgd, loss=mse)\n",
    "\n",
    "history = model.fit(X_train, Y_train, batch_size=1000, epochs=100, validation_data=(X_valid, Y_valid), verbose=1)\n",
    "\n",
    "# Plot validation MSE, alwys nice to have plots to help us visualise things!\n",
    "plt.plot(history.history['loss'], label='MSE')\n",
    "plt.plot(history.history['val_loss'], label = 'val_MSE')\n",
    "plt.xlabel('Epoch')\n",
    "plt.ylabel('MSE')\n",
    "plt.legend(loc='lower right')\n",
    "plt.show()\n",
    "\n",
    "mse_on_test = model.evaluate(X_test, Y_test)\n",
    "print('The mean squared error on the test data:', mse_on_test)\n",
    "\n",
    "Y_test_pred = model.predict(X_test)\n",
    "\n",
    "# Plot our predictions\n",
    "plt.scatter(X_test_raw[:,0], Y_test,  color='black', label='y_true') # Observed y values\n",
    "plt.scatter(X_test_raw[:,0], Y_test_pred, color='blue', label='y_pred') # predicted y values\n",
    "plt.xlabel('MedInc')\n",
    "plt.ylabel('house price')\n",
    "plt.legend()\n",
    "plt.show()\n",
    "\n",
    "# The R2 score: 1 is perfect prediction\n",
    "print('R2 score: {:.4f}'.format(sklearn.metrics.r2_score(Y_test, Y_test_pred)))"
   ]
  },
  {
   "cell_type": "markdown",
   "metadata": {
    "id": "JA6lNDhDn5zD"
   },
   "source": [
    "#Appendix 2: Multiple outputs (Bonus Exercise)"
   ]
  },
  {
   "cell_type": "markdown",
   "metadata": {
    "id": "yjce8ccYB7f_"
   },
   "source": [
    "I haven't mentioned this so far, and you have not been asked to do this for your coursework, but you should be aware that your models (not just Neural Networks) are capable of predicting multiple target outputs. Of course, you could just make two seperate models to do this, but combining them certainly makes the coding workflow easier to follow.\n",
    "\n",
    "Just to show you how easy this is to do I have made a model predicting both the house value and the average rooms for the Califoria Housing dataset. The functional api actually allows for complicated branching outputs that means you could have entirely seperate layers being trained for each output and also means that (for example) a single model could perform regression and classification, among all sorts of other wierd and wonderful complicated model constructions. But this becomes quite complicated and is far beyond the scope of what you need to know for this module, so I will leave researching that to you if your are interested.\n",
    "\n",
    "**Bonus Task** I have not optimised this model very much, so see if you can improve the performance for both targets!"
   ]
  },
  {
   "cell_type": "code",
   "execution_count": null,
   "metadata": {
    "colab": {
     "base_uri": "https://localhost:8080/",
     "height": 1000
    },
    "id": "nYb6sCJnC-YN",
    "outputId": "464239fb-0791-409c-dd1c-52f9f4cd375d"
   },
   "outputs": [
    {
     "name": "stdout",
     "output_type": "stream",
     "text": [
      "Model: \"Appendix_2\"\n",
      "_________________________________________________________________\n",
      " Layer (type)                Output Shape              Param #   \n",
      "=================================================================\n",
      " input_23 (InputLayer)       [(None, 7)]               0         \n",
      "                                                                 \n",
      " dense_95 (Dense)            (None, 10)                80        \n",
      "                                                                 \n",
      " dense_96 (Dense)            (None, 10)                110       \n",
      "                                                                 \n",
      " dense_97 (Dense)            (None, 2)                 22        \n",
      "                                                                 \n",
      "=================================================================\n",
      "Total params: 212\n",
      "Trainable params: 212\n",
      "Non-trainable params: 0\n",
      "_________________________________________________________________\n",
      "Epoch 1/100\n",
      "13/13 [==============================] - 0s 12ms/step - loss: 15.5830 - val_loss: 11.7753\n",
      "Epoch 2/100\n",
      "13/13 [==============================] - 0s 5ms/step - loss: 5.3058 - val_loss: 3.5773\n",
      "Epoch 3/100\n",
      "13/13 [==============================] - 0s 5ms/step - loss: 1.8989 - val_loss: 2.1324\n",
      "Epoch 4/100\n",
      "13/13 [==============================] - 0s 5ms/step - loss: 1.2102 - val_loss: 1.9039\n",
      "Epoch 5/100\n",
      "13/13 [==============================] - 0s 5ms/step - loss: 1.0784 - val_loss: 1.8402\n",
      "Epoch 6/100\n",
      "13/13 [==============================] - 0s 6ms/step - loss: 1.0281 - val_loss: 1.7442\n",
      "Epoch 7/100\n",
      "13/13 [==============================] - 0s 5ms/step - loss: 0.9901 - val_loss: 1.6793\n",
      "Epoch 8/100\n",
      "13/13 [==============================] - 0s 5ms/step - loss: 0.9563 - val_loss: 1.5963\n",
      "Epoch 9/100\n",
      "13/13 [==============================] - 0s 5ms/step - loss: 0.9234 - val_loss: 1.4970\n",
      "Epoch 10/100\n",
      "13/13 [==============================] - 0s 4ms/step - loss: 0.8927 - val_loss: 1.4246\n",
      "Epoch 11/100\n",
      "13/13 [==============================] - 0s 4ms/step - loss: 0.8640 - val_loss: 1.3388\n",
      "Epoch 12/100\n",
      "13/13 [==============================] - 0s 4ms/step - loss: 0.8387 - val_loss: 1.3057\n",
      "Epoch 13/100\n",
      "13/13 [==============================] - 0s 5ms/step - loss: 0.8158 - val_loss: 1.2727\n",
      "Epoch 14/100\n",
      "13/13 [==============================] - 0s 5ms/step - loss: 0.7955 - val_loss: 1.2127\n",
      "Epoch 15/100\n",
      "13/13 [==============================] - 0s 4ms/step - loss: 0.7772 - val_loss: 1.1846\n",
      "Epoch 16/100\n",
      "13/13 [==============================] - 0s 4ms/step - loss: 0.7616 - val_loss: 1.1433\n",
      "Epoch 17/100\n",
      "13/13 [==============================] - 0s 5ms/step - loss: 0.7480 - val_loss: 1.1211\n",
      "Epoch 18/100\n",
      "13/13 [==============================] - 0s 4ms/step - loss: 0.7365 - val_loss: 1.0990\n",
      "Epoch 19/100\n",
      "13/13 [==============================] - 0s 4ms/step - loss: 0.7266 - val_loss: 1.0792\n",
      "Epoch 20/100\n",
      "13/13 [==============================] - 0s 4ms/step - loss: 0.7171 - val_loss: 1.0375\n",
      "Epoch 21/100\n",
      "13/13 [==============================] - 0s 5ms/step - loss: 0.7094 - val_loss: 1.0450\n",
      "Epoch 22/100\n",
      "13/13 [==============================] - 0s 4ms/step - loss: 0.7031 - val_loss: 1.0223\n",
      "Epoch 23/100\n",
      "13/13 [==============================] - 0s 4ms/step - loss: 0.6979 - val_loss: 1.0424\n",
      "Epoch 24/100\n",
      "13/13 [==============================] - 0s 4ms/step - loss: 0.6935 - val_loss: 1.0006\n",
      "Epoch 25/100\n",
      "13/13 [==============================] - 0s 5ms/step - loss: 0.6883 - val_loss: 1.0086\n",
      "Epoch 26/100\n",
      "13/13 [==============================] - 0s 4ms/step - loss: 0.6850 - val_loss: 0.9940\n",
      "Epoch 27/100\n",
      "13/13 [==============================] - 0s 5ms/step - loss: 0.6807 - val_loss: 0.9532\n",
      "Epoch 28/100\n",
      "13/13 [==============================] - 0s 4ms/step - loss: 0.6769 - val_loss: 0.9448\n",
      "Epoch 29/100\n",
      "13/13 [==============================] - 0s 6ms/step - loss: 0.6734 - val_loss: 0.9548\n",
      "Epoch 30/100\n",
      "13/13 [==============================] - 0s 4ms/step - loss: 0.6698 - val_loss: 0.9558\n",
      "Epoch 31/100\n",
      "13/13 [==============================] - 0s 4ms/step - loss: 0.6672 - val_loss: 0.9503\n",
      "Epoch 32/100\n",
      "13/13 [==============================] - 0s 5ms/step - loss: 0.6639 - val_loss: 0.9566\n",
      "Epoch 33/100\n",
      "13/13 [==============================] - 0s 5ms/step - loss: 0.6606 - val_loss: 0.9525\n",
      "Epoch 34/100\n",
      "13/13 [==============================] - 0s 5ms/step - loss: 0.6581 - val_loss: 0.9563\n",
      "Epoch 35/100\n",
      "13/13 [==============================] - 0s 5ms/step - loss: 0.6559 - val_loss: 0.9416\n",
      "Epoch 36/100\n",
      "13/13 [==============================] - 0s 6ms/step - loss: 0.6530 - val_loss: 0.9321\n",
      "Epoch 37/100\n",
      "13/13 [==============================] - 0s 5ms/step - loss: 0.6510 - val_loss: 0.9233\n",
      "Epoch 38/100\n",
      "13/13 [==============================] - 0s 5ms/step - loss: 0.6483 - val_loss: 0.9112\n",
      "Epoch 39/100\n",
      "13/13 [==============================] - 0s 5ms/step - loss: 0.6462 - val_loss: 0.9061\n",
      "Epoch 40/100\n",
      "13/13 [==============================] - 0s 5ms/step - loss: 0.6440 - val_loss: 0.9209\n",
      "Epoch 41/100\n",
      "13/13 [==============================] - 0s 4ms/step - loss: 0.6416 - val_loss: 0.9237\n",
      "Epoch 42/100\n",
      "13/13 [==============================] - 0s 4ms/step - loss: 0.6402 - val_loss: 0.9131\n",
      "Epoch 43/100\n",
      "13/13 [==============================] - 0s 4ms/step - loss: 0.6381 - val_loss: 0.9047\n",
      "Epoch 44/100\n",
      "13/13 [==============================] - 0s 4ms/step - loss: 0.6359 - val_loss: 0.8942\n",
      "Epoch 45/100\n",
      "13/13 [==============================] - 0s 4ms/step - loss: 0.6338 - val_loss: 0.9000\n",
      "Epoch 46/100\n",
      "13/13 [==============================] - 0s 4ms/step - loss: 0.6320 - val_loss: 0.9001\n",
      "Epoch 47/100\n",
      "13/13 [==============================] - 0s 5ms/step - loss: 0.6317 - val_loss: 0.8893\n",
      "Epoch 48/100\n",
      "13/13 [==============================] - 0s 5ms/step - loss: 0.6293 - val_loss: 0.8986\n",
      "Epoch 49/100\n",
      "13/13 [==============================] - 0s 5ms/step - loss: 0.6271 - val_loss: 0.8857\n",
      "Epoch 50/100\n",
      "13/13 [==============================] - 0s 4ms/step - loss: 0.6259 - val_loss: 0.8798\n",
      "Epoch 51/100\n",
      "13/13 [==============================] - 0s 5ms/step - loss: 0.6236 - val_loss: 0.8570\n",
      "Epoch 52/100\n",
      "13/13 [==============================] - 0s 4ms/step - loss: 0.6227 - val_loss: 0.8557\n",
      "Epoch 53/100\n",
      "13/13 [==============================] - 0s 4ms/step - loss: 0.6214 - val_loss: 0.8622\n",
      "Epoch 54/100\n",
      "13/13 [==============================] - 0s 5ms/step - loss: 0.6192 - val_loss: 0.8632\n",
      "Epoch 55/100\n",
      "13/13 [==============================] - 0s 5ms/step - loss: 0.6182 - val_loss: 0.8726\n",
      "Epoch 56/100\n",
      "13/13 [==============================] - 0s 5ms/step - loss: 0.6166 - val_loss: 0.8489\n",
      "Epoch 57/100\n",
      "13/13 [==============================] - 0s 5ms/step - loss: 0.6154 - val_loss: 0.8751\n",
      "Epoch 58/100\n",
      "13/13 [==============================] - 0s 5ms/step - loss: 0.6141 - val_loss: 0.8671\n",
      "Epoch 59/100\n",
      "13/13 [==============================] - 0s 4ms/step - loss: 0.6129 - val_loss: 0.8756\n",
      "Epoch 60/100\n",
      "13/13 [==============================] - 0s 4ms/step - loss: 0.6119 - val_loss: 0.8673\n",
      "Epoch 61/100\n",
      "13/13 [==============================] - 0s 5ms/step - loss: 0.6098 - val_loss: 0.8545\n",
      "Epoch 62/100\n",
      "13/13 [==============================] - 0s 5ms/step - loss: 0.6087 - val_loss: 0.8498\n",
      "Epoch 63/100\n",
      "13/13 [==============================] - 0s 5ms/step - loss: 0.6077 - val_loss: 0.8506\n",
      "Epoch 64/100\n",
      "13/13 [==============================] - 0s 5ms/step - loss: 0.6061 - val_loss: 0.8583\n",
      "Epoch 65/100\n",
      "13/13 [==============================] - 0s 4ms/step - loss: 0.6056 - val_loss: 0.8499\n",
      "Epoch 66/100\n",
      "13/13 [==============================] - 0s 5ms/step - loss: 0.6040 - val_loss: 0.8450\n",
      "Epoch 67/100\n",
      "13/13 [==============================] - 0s 4ms/step - loss: 0.6027 - val_loss: 0.8510\n",
      "Epoch 68/100\n",
      "13/13 [==============================] - 0s 4ms/step - loss: 0.6018 - val_loss: 0.8437\n",
      "Epoch 69/100\n",
      "13/13 [==============================] - 0s 4ms/step - loss: 0.6006 - val_loss: 0.8503\n",
      "Epoch 70/100\n",
      "13/13 [==============================] - 0s 5ms/step - loss: 0.5992 - val_loss: 0.8523\n",
      "Epoch 71/100\n",
      "13/13 [==============================] - 0s 4ms/step - loss: 0.5985 - val_loss: 0.8451\n",
      "Epoch 72/100\n",
      "13/13 [==============================] - 0s 5ms/step - loss: 0.5970 - val_loss: 0.8440\n",
      "Epoch 73/100\n",
      "13/13 [==============================] - 0s 6ms/step - loss: 0.5961 - val_loss: 0.8290\n",
      "Epoch 74/100\n",
      "13/13 [==============================] - 0s 6ms/step - loss: 0.5947 - val_loss: 0.8459\n",
      "Epoch 75/100\n",
      "13/13 [==============================] - 0s 4ms/step - loss: 0.5940 - val_loss: 0.8438\n",
      "Epoch 76/100\n",
      "13/13 [==============================] - 0s 4ms/step - loss: 0.5930 - val_loss: 0.8468\n",
      "Epoch 77/100\n",
      "13/13 [==============================] - 0s 4ms/step - loss: 0.5926 - val_loss: 0.8372\n",
      "Epoch 78/100\n",
      "13/13 [==============================] - 0s 4ms/step - loss: 0.5910 - val_loss: 0.8302\n",
      "Epoch 79/100\n",
      "13/13 [==============================] - 0s 5ms/step - loss: 0.5902 - val_loss: 0.8226\n",
      "Epoch 80/100\n",
      "13/13 [==============================] - 0s 4ms/step - loss: 0.5884 - val_loss: 0.8298\n",
      "Epoch 81/100\n",
      "13/13 [==============================] - 0s 4ms/step - loss: 0.5874 - val_loss: 0.8242\n",
      "Epoch 82/100\n",
      "13/13 [==============================] - 0s 6ms/step - loss: 0.5868 - val_loss: 0.8331\n",
      "Epoch 83/100\n",
      "13/13 [==============================] - 0s 4ms/step - loss: 0.5852 - val_loss: 0.8219\n",
      "Epoch 84/100\n",
      "13/13 [==============================] - 0s 5ms/step - loss: 0.5846 - val_loss: 0.8208\n",
      "Epoch 85/100\n",
      "13/13 [==============================] - 0s 5ms/step - loss: 0.5836 - val_loss: 0.8100\n",
      "Epoch 86/100\n",
      "13/13 [==============================] - 0s 4ms/step - loss: 0.5831 - val_loss: 0.7961\n",
      "Epoch 87/100\n",
      "13/13 [==============================] - 0s 5ms/step - loss: 0.5830 - val_loss: 0.8129\n",
      "Epoch 88/100\n",
      "13/13 [==============================] - 0s 5ms/step - loss: 0.5806 - val_loss: 0.8215\n",
      "Epoch 89/100\n",
      "13/13 [==============================] - 0s 5ms/step - loss: 0.5800 - val_loss: 0.8199\n",
      "Epoch 90/100\n",
      "13/13 [==============================] - 0s 4ms/step - loss: 0.5787 - val_loss: 0.8098\n",
      "Epoch 91/100\n",
      "13/13 [==============================] - 0s 5ms/step - loss: 0.5778 - val_loss: 0.8070\n",
      "Epoch 92/100\n",
      "13/13 [==============================] - 0s 4ms/step - loss: 0.5769 - val_loss: 0.8158\n",
      "Epoch 93/100\n",
      "13/13 [==============================] - 0s 4ms/step - loss: 0.5755 - val_loss: 0.8062\n",
      "Epoch 94/100\n",
      "13/13 [==============================] - 0s 4ms/step - loss: 0.5746 - val_loss: 0.8020\n",
      "Epoch 95/100\n",
      "13/13 [==============================] - 0s 4ms/step - loss: 0.5746 - val_loss: 0.8072\n",
      "Epoch 96/100\n",
      "13/13 [==============================] - 0s 5ms/step - loss: 0.5726 - val_loss: 0.8109\n",
      "Epoch 97/100\n",
      "13/13 [==============================] - 0s 4ms/step - loss: 0.5718 - val_loss: 0.8005\n",
      "Epoch 98/100\n",
      "13/13 [==============================] - 0s 5ms/step - loss: 0.5707 - val_loss: 0.7916\n",
      "Epoch 99/100\n",
      "13/13 [==============================] - 0s 5ms/step - loss: 0.5702 - val_loss: 0.7925\n",
      "Epoch 100/100\n",
      "13/13 [==============================] - 0s 5ms/step - loss: 0.5693 - val_loss: 0.8137\n"
     ]
    },
    {
     "data": {
      "image/png": "[encoded data removed]",
      "text/plain": [
       "<Figure size 432x288 with 1 Axes>"
      ]
     },
     "metadata": {
      "needs_background": "light"
     },
     "output_type": "display_data"
    },
    {
     "name": "stdout",
     "output_type": "stream",
     "text": [
      "129/129 [==============================] - 0s 2ms/step - loss: 0.6162\n",
      "The mean squared error on the test data: 0.6162230968475342\n",
      "129/129 [==============================] - 0s 1ms/step\n"
     ]
    },
    {
     "data": {
      "image/png": "[encoded data removed]",
      "text/plain": [
       "<Figure size 432x288 with 1 Axes>"
      ]
     },
     "metadata": {
      "needs_background": "light"
     },
     "output_type": "display_data"
    },
    {
     "data": {
      "image/png": "[encoded data removed]",
      "text/plain": [
       "<Figure size 432x288 with 1 Axes>"
      ]
     },
     "metadata": {
      "needs_background": "light"
     },
     "output_type": "display_data"
    },
    {
     "name": "stdout",
     "output_type": "stream",
     "text": [
      "R2 score (House Price): 0.5778\n",
      "R2 score (Average Rooms): 0.8673\n"
     ]
    }
   ],
   "source": [
    "# Here I am pulling the data into a single frame, then splitting it up into out two column target matrix and our reduced feature matrix (now missing the average rooms)\n",
    "# There may be a more elegant way to do this process.\n",
    "X_pd, y_pd = sklearn.datasets.fetch_california_housing(return_X_y=True, as_frame=True)\n",
    "Y_pd = y_pd.to_frame()\n",
    "XY_pd = pd.concat([X_pd, Y_pd], axis=1)\n",
    "Y_pd=XY_pd[['MedHouseVal','AveRooms']]\n",
    "X_pd=XY_pd\n",
    "X_pd.drop(columns=['AveRooms','MedHouseVal'], inplace=True)\n",
    "X_raw = X_pd.to_numpy()\n",
    "Y = Y_pd.to_numpy()\n",
    "\n",
    "X_nontest_raw, X_test_raw, Y_nontest, Y_test = train_test_split(X_raw, Y, test_size=0.20, shuffle=True, random_state=0)\n",
    "X_train_raw, X_valid_raw, Y_train, Y_valid = train_test_split(X_nontest_raw, Y_nontest, test_size=0.25, shuffle=True, random_state=0)\n",
    "\n",
    "scaler = StandardScaler()\n",
    "scaler.fit(X_train_raw)\n",
    "X_train = scaler.transform(X_train_raw)\n",
    "X_valid = scaler.transform(X_valid_raw)\n",
    "X_test = scaler.transform(X_test_raw)\n",
    "\n",
    "first_layer = Dense(units=10, activation=relu)\n",
    "second_layer = Dense(units=10, activation=relu)\n",
    "#############################################\n",
    "# This is the key step - here we are specifying two output units rather than 1 as we have been doing elsewhere.\n",
    "out_layer = Dense(units=2, activation=linear)\n",
    "#############################################\n",
    "\n",
    "input = Input(shape=X_train.shape[1:])\n",
    "output = first_layer(input)\n",
    "output = second_layer(output)\n",
    "output = out_layer(output)\n",
    "\n",
    "# Define the neural network model.\n",
    "model = Model(inputs=[input], outputs=[output], name='Appendix_2')\n",
    "model.summary()\n",
    "\n",
    "# Compile the model by specifying the optimization algorithm and the loss function.\n",
    "sgd = SGD(learning_rate=0.01)\n",
    "mse = MeanSquaredError()\n",
    "model.compile(optimizer=sgd, loss=mse)\n",
    "\n",
    "# Train the model.\n",
    "history = model.fit(X_train, Y_train, batch_size=1000, epochs=100, validation_data=(X_valid, Y_valid), verbose=1)\n",
    "\n",
    "# Plot validation MSE, alwys nice to have plots to help us visualise things!\n",
    "plt.plot(history.history['loss'], label='MSE')\n",
    "plt.plot(history.history['val_loss'], label = 'val_MSE')\n",
    "plt.xlabel('Epoch')\n",
    "plt.ylabel('MSE')\n",
    "plt.legend(loc='lower right')\n",
    "plt.show()\n",
    "\n",
    "mse_on_test = model.evaluate(X_test, Y_test)\n",
    "print('The mean squared error on the test data:', mse_on_test)\n",
    "\n",
    "Y_test_pred = model.predict(X_test)\n",
    "\n",
    "# Plot our predictions\n",
    "# MedInc\n",
    "plt.scatter(X_test_raw[:,0], Y_test[:,0],  color='black', label='y_true') # Observed y values\n",
    "plt.scatter(X_test_raw[:,0], Y_test_pred[:,0], color='blue', label='y_pred') # predicted y values\n",
    "plt.xlabel('MedInc')\n",
    "plt.ylabel('House Price')\n",
    "plt.legend()\n",
    "plt.show()\n",
    "# AveRooms\n",
    "plt.scatter(X_test_raw[:,0], Y_test[:,1],  color='black', label='y_true') # Observed y values\n",
    "plt.scatter(X_test_raw[:,0], Y_test_pred[:,1], color='blue', label='y_pred') # predicted y values\n",
    "plt.xlabel('MedInc')\n",
    "plt.ylabel('Average Rooms')\n",
    "plt.legend()\n",
    "plt.show()\n",
    "\n",
    "# The R2 score: 1 is perfect prediction\n",
    "print('R2 score (House Price): {:.4f}'.format(sklearn.metrics.r2_score(Y_test[:,0], Y_test_pred[:,0])))\n",
    "print('R2 score (Average Rooms): {:.4f}'.format(sklearn.metrics.r2_score(Y_test[:,1], Y_test_pred[:,1])))"
   ]
  }
 ],
 "metadata": {
  "accelerator": "GPU",
  "colab": {
   "provenance": [],
   "toc_visible": true
  },
  "gpuClass": "standard",
  "kernelspec": {
   "display_name": "Python 3 (ipykernel)",
   "language": "python",
   "name": "python3"
  },
  "language_info": {
   "codemirror_mode": {
    "name": "ipython",
    "version": 3
   },
   "file_extension": ".py",
   "mimetype": "text/x-python",
   "name": "python",
   "nbconvert_exporter": "python",
   "pygments_lexer": "ipython3",
   "version": "3.9.13"
  },
  "vscode": {
   "interpreter": {
    "hash": "689b61601e556818ef8556fab8f9fa73db23d2ad423044f56fc759b769a9cee5"
   }
  }
 },
 "nbformat": 4,
 "nbformat_minor": 1
}
