{
  "nbformat": 4,
  "nbformat_minor": 0,
  "metadata": {
    "colab": {
      "provenance": [],
      "collapsed_sections": []
    },
    "kernelspec": {
      "name": "python3",
      "display_name": "Python 3"
    }
  },
  "cells": [
    {
      "cell_type": "markdown",
      "source": [
        "# COMP1801 Tutorial Week 4 - Multivariable Models\n",
        "*Dr Peter Soar - 2022/23*\n",
        "\n",
        "This tutorial will be expanding on the work we did in week two on Linear Regression: revising the vectorised formulation, showing how we can fit multivariable and polynomial models. Finally I will demonstate how categorical features can be included in your models.\n",
        "\n",
        "For this tutorial, read through and try to understand the text and code examples I have provided (ask your tutor if you have any questions) and there will be a selection of exercises. Attempt these exercises on your own, but do ask your tutor for help if you get stuck.\n",
        "\n"
      ],
      "metadata": {
        "id": "iLTmRhhGjULD"
      }
    },
    {
      "cell_type": "markdown",
      "source": [
        "##0. Do not forget to import all the Python Libraries being used!"
      ],
      "metadata": {
        "id": "DSo3PZoZeF3M"
      }
    },
    {
      "cell_type": "code",
      "source": [
        "import numpy as np # A useful package for dealing with mathematical processes, we will be using it this week for vectors and matrices\n",
        "import pandas as pd # A common package for viewing tabular data\n",
        "import time # We will be using this to time the efficiency of vectorisation\n",
        "import sklearn.linear_model, sklearn.datasets # We want to be able to access the sklearn datasets again, also we are using some model evaluation\n",
        "from sklearn.preprocessing import StandardScaler, MinMaxScaler # We will be using the imbuilt sclaing functions sklearn provides\n",
        "import matplotlib.pyplot as plt # We will be using Matplotlib for our graphs\n",
        "from mpl_toolkits import mplot3d # Used to make a 3D plot used to demonstrate multidimensional relationships.\n",
        "from sklearn.preprocessing import PolynomialFeatures # A preprocessing function allowing us to include polynomial features into our model\n",
        "from google.colab import files # We will be importing a csv file I have provided for one section.\n",
        "from sklearn.preprocessing import LabelEncoder, OneHotEncoder # We will be using these to encode categorical features"
      ],
      "metadata": {
        "id": "AIhPMWKy2ML2"
      },
      "execution_count": null,
      "outputs": []
    },
    {
      "cell_type": "markdown",
      "source": [
        "# 1. Vectorization\n",
        "We can represent our algorithm more concisely using vectorization, which uses vectors, matrices and linear-algebra operations to represent the operations we need to perform when fitting and predicting with our models.\n",
        "\n",
        "Not only does this simplify the implementation of various tasks, but this vecotised form can also improve the speed of some operations.\n",
        "\n",
        "Note: if you feel very comfortable with vectors and linear algebra you might want to skip this section"
      ],
      "metadata": {
        "id": "dTmklCvcsdTj"
      }
    },
    {
      "cell_type": "markdown",
      "source": [
        "## 1.1. Notation revision\n",
        "\n",
        "- Bold lower case letters (e.g. $\\boldsymbol{v}$) indicate a column vector\n",
        "$$\n",
        "\\boldsymbol{v} \n",
        "= \n",
        "\\begin{bmatrix}\n",
        "v_{0} \\\\\n",
        "v_{1} \\\\\n",
        "\\vdots \\\\\n",
        "v_{m-1} \\\\\n",
        "\\end{bmatrix}\n",
        "$$\n",
        "- Bold upper case letters(e.g. $\\boldsymbol{A}$) indicate a ($m \\times n$) matrix \n",
        "$$\n",
        "\\boldsymbol{A} \n",
        "= \\begin{bmatrix}\n",
        "a_{0,0} & a_{0,1} & \\cdots & a_{0,n-1} \\\\\n",
        "a_{1,0} & a_{1,1} & \\cdots & a_{1,n-1} \\\\\n",
        "\\vdots & \\vdots & \\ddots & \\vdots \\\\\n",
        "a_{m-1,0} & a_{m-1,1} & \\cdots & a_{m-1,n-1} \\\\\n",
        "\\end{bmatrix}\n",
        "$$\n",
        "- The maximum rows (data points for ML) and columns (features for ML) are represented by $m$ and $n$ respectively.\n",
        "\n"
      ],
      "metadata": {
        "id": "UN3G1eKymjPJ"
      }
    },
    {
      "cell_type": "markdown",
      "source": [
        "## 1.2. Vector multiplication for linear model prediction\n",
        "\n",
        "A key operation that vectorisation aids is simplifying the calculations when making predictions from our linear models. \n",
        "\n",
        "For a single observed set of feature data we can obtain a prediction using $\\hat{y} =\\boldsymbol{x} \\boldsymbol{\\theta}$ where we have\n",
        "\n",
        "$$\n",
        "\\boldsymbol{x} = \n",
        "\\begin{bmatrix} \n",
        "x_{0} &\n",
        "x_{1} &\n",
        "\\dots &\n",
        "x_{m-1} \\\\\n",
        "\\end{bmatrix},\n",
        "\\boldsymbol{\\theta} := \n",
        "\\begin{bmatrix} \n",
        "\\theta_{0} \\\\\n",
        "\\theta_{1} \\\\\n",
        "\\vdots \\\\\n",
        "\\theta_{m-1} \\\\\n",
        "\\end{bmatrix}\n",
        "$$\n",
        "\n",
        "Allowing us to work out the single value for the prediction by using matrix multiplication rules:\n",
        "$$\n",
        "\\hat{y} = \\boldsymbol{x} \\boldsymbol{\\theta} = \\sum_{i=0}^{m-1} x_{i} \\theta_{i} = x_{0} \\theta_{0} + x_{1} \\theta_{1} + \\cdots+ x_{m-1} \\theta_{m-1}\n",
        "$$\n",
        "\n",
        "\n",
        "Let us take a simple example where we define $\\boldsymbol{x}$ and $\\boldsymbol{\\theta}$ by\n",
        "$$\n",
        "\\boldsymbol{x} = \n",
        "\\begin{bmatrix} \n",
        "1 &\n",
        "3 \\\\\n",
        "\\end{bmatrix},\n",
        "\\boldsymbol{\\theta} = \n",
        "\\begin{bmatrix} \n",
        "-1 \\\\\n",
        "2 \\\\\n",
        "\\end{bmatrix}\n",
        "$$\n",
        "\n",
        "Our prediction for this data point would be:\n",
        "\n",
        "$$\n",
        "\\hat{y} = \\boldsymbol{x} \\boldsymbol{\\theta} = \\sum_{i=0}^{1} x_{i} \\theta_{i} = x_{0} \\theta_{0} + x_{1} \\theta_{1} = 1 \\times -1 + 3 \\times 2 = 5\n",
        "$$"
      ],
      "metadata": {
        "id": "ZPGOVMIPvqoL"
      }
    },
    {
      "cell_type": "markdown",
      "source": [
        "Let's check this using the computer. \n",
        "\n",
        "In the following, we regard $\\boldsymbol{x}$ and $\\boldsymbol{\\theta}$ as 2D `np.array`s with the size of $1 \\times 2$ and $2 \\times 1$ respecitvely. $\\boldsymbol{x} \\boldsymbol{\\theta}$ is given by the matrix multiplication of $\\boldsymbol{x}$ and $\\boldsymbol{\\theta}$. In NumPy matrix multiplication is given by `@` (or you can use dot product)"
      ],
      "metadata": {
        "id": "YmMoqvhGvmK7"
      }
    },
    {
      "cell_type": "code",
      "source": [
        "x = np.array([[1, 3]])\n",
        "th = np.array([[-1],[2]])\n",
        "\n",
        "y_pred = x @ th\n",
        "print(y_pred)"
      ],
      "metadata": {
        "id": "MMf8Mgfdx0nR",
        "outputId": "0eab122f-2ed5-4582-fd16-73740d3dcc2d",
        "colab": {
          "base_uri": "https://localhost:8080/"
        }
      },
      "execution_count": null,
      "outputs": [
        {
          "output_type": "stream",
          "name": "stdout",
          "text": [
            "[[5]]\n"
          ]
        }
      ]
    },
    {
      "cell_type": "markdown",
      "source": [
        "## 1.3. Matrix multiplication for linear model prediction\n",
        "\n",
        "Of course, usually we want to make more than one prediction at a time, which means multiplying the parameters vector by the entire feature matrix such that our predictions are now a vector defined by $\\hat{\\boldsymbol{y}} = \\boldsymbol{X} \\boldsymbol{\\theta}$.\n",
        "\n",
        "where\n",
        "$$\n",
        "\\boldsymbol{X}\n",
        "= \n",
        "\\begin{bmatrix} \n",
        "1 & x_{1}^{(0)} & x_{2}^{(0)} & \\cdots & x_{n-1}^{(0)} \\\\\n",
        "1 & x_{1}^{(1)} & x_{2}^{(1)} & \\cdots & x_{n-1}^{(1)} \\\\\n",
        "\\vdots & \\vdots & \\ddots & \\vdots \\\\\n",
        "1 & x_{1}^{(m-1)} & x_{2}^{(m-1)} & \\cdots & x_{n-1}^{(m-1)} \\\\\n",
        "\\end{bmatrix},\n",
        "\\boldsymbol{\\theta}\n",
        "=\n",
        "\\begin{bmatrix} \n",
        "\\theta_{0} \\\\\n",
        "\\theta_{1} \\\\\n",
        "\\vdots \\\\\n",
        "\\theta_{n-1} \\\\\n",
        "\\end{bmatrix},\n",
        "\\hat{\\boldsymbol{y}}\n",
        "=\n",
        "\\begin{bmatrix} \n",
        "\\hat{y}^{(0)} \\\\\n",
        "\\hat{y}^{(1)} \\\\\n",
        "\\vdots \\\\\n",
        "\\hat{y}^{(m-1)} \\\\\n",
        "\\end{bmatrix},\n",
        "$$\n",
        "\n",
        "This means that for each $i = 0, 1, \\dots, m-1$ the prediction will be:\n",
        "$$\n",
        "\\hat{y}^{(i)} = \\theta_{0} + x_{1}^{(i)} \\theta_{1} + x_{2}^{(i)} \\theta_{2} + \\dots + x_{n-1}^{(i)} \\theta_{n-1}.\n",
        "$$"
      ],
      "metadata": {
        "id": "smuAxN1gto4j"
      }
    },
    {
      "cell_type": "markdown",
      "source": [
        "### 1.3.1 Exercise 1\n",
        "Define $\\boldsymbol{X}$ and $\\boldsymbol{\\theta}$ by\n",
        "$$\n",
        "\\boldsymbol{X} = \n",
        "\\begin{bmatrix} \n",
        "1 & 0 \\\\\n",
        "1 & 3 \\\\\n",
        "1 & -2 \\\\\n",
        "\\end{bmatrix},\n",
        "\\boldsymbol{\\theta} = \n",
        "\\begin{bmatrix} \n",
        "-1 \\\\\n",
        "2 \\\\\n",
        "\\end{bmatrix}.\n",
        "$$\n",
        "\n",
        "Find the prediction vector $\\hat{\\boldsymbol{y}}$ using matrix multiplication.\n",
        "\n",
        "To do this we define $\\boldsymbol{X}$ and $\\boldsymbol{\\theta}$ as 2D `np.array`s with the size of $3 \\times 2$ and $2 \\times 1$, respectively. $\\boldsymbol{X} \\boldsymbol{\\theta}$ is given by the matrix multiplication of $\\boldsymbol{X}$ and $\\boldsymbol{\\theta}$. In NumPy, the matrix multiplication is given by `@`. \n",
        "Store the results in `y_pred`."
      ],
      "metadata": {
        "id": "773ZaNXz9dnN"
      }
    },
    {
      "cell_type": "code",
      "source": [
        "##############################################################\n",
        "# Your code here\n",
        "##############################################################\n",
        "x = np.array([\n",
        "     [1, 0],\n",
        "     [1, 3],\n",
        "     [1, -2],\n",
        "])\n",
        "th = np.array([\n",
        "     [-1],\n",
        "     [2],\n",
        "])\n",
        "\n",
        "y_pred = x @ th\n",
        "print(y_pred)\n"
      ],
      "metadata": {
        "id": "8Bru6TIcFEwu",
        "outputId": "391d4841-b2fa-4000-ce45-2d6fbee17db9",
        "colab": {
          "base_uri": "https://localhost:8080/"
        }
      },
      "execution_count": null,
      "outputs": [
        {
          "output_type": "stream",
          "name": "stdout",
          "text": [
            "[[-1]\n",
            " [ 5]\n",
            " [-5]]\n"
          ]
        }
      ]
    },
    {
      "cell_type": "markdown",
      "source": [
        "## 1.4 Efficiency of the vectorization.\n",
        "Vectorization not only simplify the mathematical notation, but also makes calculation more efficient computationally.\n",
        "\n",
        "In the following, we compare the implementations of the linear regression using the vectorized form and `for` loops.\n",
        "\n",
        "First, we define the two implementations."
      ],
      "metadata": {
        "id": "xrPCs2rFrwNz"
      }
    },
    {
      "cell_type": "code",
      "source": [
        "def linear_prediction_by_vectorization(X, th):\n",
        "  y_pred = X @ th\n",
        "  return y_pred\n",
        "\n",
        "def linear_prediction_by_for_loops(X, th):\n",
        "  m, n = X.shape\n",
        "  y_pred = np.zeros([m, 1], dtype=float)\n",
        "  for i in range(m):\n",
        "    for j in range(n):\n",
        "      y_pred[i] += X[i, j] * th[j, 0]\n",
        "  return y_pred "
      ],
      "metadata": {
        "id": "YP8h5X3FskGx"
      },
      "execution_count": null,
      "outputs": []
    },
    {
      "cell_type": "markdown",
      "source": [
        "In the following, we measure the elapsed time of both implementations, see that the vectorised code is almost twice as fast even on this tiny example. For larger datasets this difference should only become more pronounced."
      ],
      "metadata": {
        "id": "2t9JYjfAvlKx"
      }
    },
    {
      "cell_type": "code",
      "source": [
        "x = np.array([[1, 3]])\n",
        "th = np.arange(x.shape[-1]).reshape([-1, 1]) # An example of the parameter vector.\n",
        "\n",
        "execution_start_time = time.time()\n",
        "y_pred_vec = linear_prediction_by_vectorization(x, th)\n",
        "execution_end_time = time.time()\n",
        "\n",
        "elapsed_time_by_vectorization = execution_end_time - execution_start_time\n",
        "\n",
        "print(f'Elapsed time of linear prediction by vectorization: {elapsed_time_by_vectorization * 1000}ms.')\n",
        "\n",
        "execution_start_time = time.time()\n",
        "y_pred_for = linear_prediction_by_for_loops(x, th)\n",
        "execution_end_time = time.time()\n",
        "\n",
        "elapsed_time_by_for_loops = execution_end_time - execution_start_time\n",
        "\n",
        "print(f'Elapsed time of linear prediction by `for` loops: {elapsed_time_by_for_loops * 1000}ms.')\n",
        "\n",
        "\n"
      ],
      "metadata": {
        "id": "MZsnJHKIte7o",
        "outputId": "5da89c7f-70e5-42b1-f0e5-35bd7cfbebf6",
        "colab": {
          "base_uri": "https://localhost:8080/"
        }
      },
      "execution_count": null,
      "outputs": [
        {
          "output_type": "stream",
          "name": "stdout",
          "text": [
            "Elapsed time of linear prediction by vectorization: 0.11897087097167969ms.\n",
            "Elapsed time of linear prediction by `for` loops: 0.30612945556640625ms.\n"
          ]
        }
      ]
    },
    {
      "cell_type": "markdown",
      "source": [
        "## 1.4.1 Exercise 2\n",
        "\n",
        "Apply both methods above (vectorised and loop based prediction) with the california housing data to use the 'Median Income' to predict the 'House Value' (target). Start with a small sample (say 200) for your training data (you don't need to split it into training/new for this exercise), then increase to larger values (the dataset has just over 20000 entries) to see how the timings change.\n",
        "\n",
        "Note: you may want to use previous tutorials (or examples from later on in this tutorial) for reference for how to correctly load in and process the data for the model. As this is a timing exercise, we don't actually need to fit the model and can use any values for our hypothesis vector $\\boldsymbol{\\theta}$."
      ],
      "metadata": {
        "id": "eS4VXPRD3CxD"
      }
    },
    {
      "cell_type": "code",
      "source": [
        "##############################################################\n",
        "# Your code here\n",
        "##############################################################\n",
        "\n",
        "# Load the house price dataset\n",
        "house = sklearn.datasets.fetch_california_housing()\n",
        "raw_df = pd.DataFrame(data= np.c_[house['data'], house['target']],\n",
        "                     columns= house['feature_names'] + ['target'])\n",
        "# Shuffle dataset for a random sample, as we will not be using the entire dataset\n",
        "rng = np.random.default_rng(0) # This sets the random seed, meaning that we will get the SAME random sample if we rerun this cell.\n",
        "df = raw_df.iloc[rng.permutation(len(raw_df))].reset_index(drop=True) # Shuffle data\n",
        "\n",
        "# Use only one feature to start with for univariate linear regression - The Median Income\n",
        "Xy_df = df[['MedInc','target']]\n",
        "\n",
        "# So for this task we are going to be predicting the property value based on the Median Income\n",
        "\n",
        "# prepare NumPy ndarrays\n",
        "X = np.array(Xy_df[['MedInc']])\n",
        "y = np.array(Xy_df['target'])\n",
        "\n",
        "# Define how much test and training data we want. You can try changing these later to see how it changes the model and predictions\n",
        "n_train_points = 20000 # This is the data that will be used to train our model. As a rule of thumb this should be in the region of 70-80% of the total data being used, but there may be good reasons for using more or less \n",
        "n_new_points = 500 # This is the data that will be used to test the accuracy of our model. As a rule of thumb this should be in the region of 20-30% of the total data being used, but there may be good reasons for using more or less \n",
        "\n",
        "# Split the feature data into training/new data\n",
        "X_train = X[:n_train_points] # This will select the data points from 0 to the number defined in n_train_points (200 in this case)\n",
        "\n",
        "th = np.arange(X_train.shape[-1]).reshape([-1, 1]) # An example of the parameter vector.\n",
        "\n",
        "execution_start_time = time.time()\n",
        "y_pred_vec = linear_prediction_by_vectorization(X_train, th)\n",
        "execution_end_time = time.time()\n",
        "\n",
        "elapsed_time_by_vectorization = execution_end_time - execution_start_time\n",
        "\n",
        "print(f'Elapsed time of linear prediction by vectorization: {elapsed_time_by_vectorization * 1000}ms.')\n",
        "\n",
        "execution_start_time = time.time()\n",
        "y_pred_for = linear_prediction_by_for_loops(X_train, th)\n",
        "execution_end_time = time.time()\n",
        "\n",
        "elapsed_time_by_for_loops = execution_end_time - execution_start_time\n",
        "\n",
        "print(f'Elapsed time of linear prediction by `for` loops: {elapsed_time_by_for_loops * 1000}ms.')"
      ],
      "metadata": {
        "colab": {
          "base_uri": "https://localhost:8080/"
        },
        "id": "qseXEr5T4lsj",
        "outputId": "707f35a4-c09a-4895-a606-f6b6965a9a59"
      },
      "execution_count": null,
      "outputs": [
        {
          "output_type": "stream",
          "name": "stdout",
          "text": [
            "Elapsed time of linear prediction by vectorization: 0.3199577331542969ms.\n",
            "Elapsed time of linear prediction by `for` loops: 216.8748378753662ms.\n"
          ]
        }
      ]
    },
    {
      "cell_type": "markdown",
      "source": [
        "#2. Multivariable regression"
      ],
      "metadata": {
        "id": "cLdeb3gExU-u"
      }
    },
    {
      "cell_type": "markdown",
      "source": [
        "In tutorial 2 we were primarily working with simple univariate linear regression where we fit a model predicting:\n",
        "$$\\hat{\\boldsymbol{y}} = \\boldsymbol{X} \\boldsymbol{\\theta}$$\n",
        "\n",
        "where the vectorised form our univariate linear model will look like this:\n",
        "$$\n",
        "\\begin{bmatrix} \n",
        "\\hat{y}^{(0)} \\\\\n",
        "\\hat{y}^{(1)} \\\\\n",
        "\\vdots \\\\\n",
        "\\hat{y}^{(m-1)} \\\\\n",
        "\\end{bmatrix} = \\begin{bmatrix} \n",
        "1 & x_{1}^{(0)}  \\\\\n",
        "1 & x_{1}^{(1)}  \\\\\n",
        "\\vdots & \\vdots  \\\\\n",
        "1 & x_{1}^{(m-1)} \\\\\n",
        "\\end{bmatrix}\\begin{bmatrix} \n",
        "\\theta_{0} \\\\\n",
        "\\theta_{1} \\\\\n",
        "\\end{bmatrix}\n",
        "$$\n",
        "\n",
        "Where the column of 1's are needed to correspond with the constant parameter $\\theta_0$ used by the model (Note: we don't have to account for this when using sklearn `fit` model functionality).\n",
        "\n",
        "For multivariate linear regression we can still summarise our model as $\\hat{\\boldsymbol{y}} = \\boldsymbol{X} \\boldsymbol{\\theta}$ in matrix form, but when expanded the feature matrix and parameter vector expand to account for the extra features:\n",
        "$$\n",
        "\\begin{bmatrix} \n",
        "\\hat{y}^{(0)} \\\\\n",
        "\\hat{y}^{(1)} \\\\\n",
        "\\vdots \\\\\n",
        "\\hat{y}^{(m-1)} \\\\\n",
        "\\end{bmatrix} = \\begin{bmatrix} \n",
        "1 & x_{1}^{(0)} & x_{2}^{(0)} & \\cdots & x_{n-1}^{(0)} \\\\\n",
        "1 & x_{1}^{(1)} & x_{2}^{(1)} & \\cdots & x_{n-1}^{(1)} \\\\\n",
        "\\vdots & \\vdots & \\vdots & \\ddots & \\vdots \\\\\n",
        "1 & x_{1}^{(m-1)} & x_{2}^{(m-1)} & \\cdots & x_{n-1}^{(m-1)} \\\\\n",
        "\\end{bmatrix}\\begin{bmatrix} \n",
        "\\theta_{0} \\\\\n",
        "\\theta_{1} \\\\\n",
        "\\vdots \\\\\n",
        "\\theta_{n-1} \\\\\n",
        "\\end{bmatrix}\n",
        "$$\n",
        "\n",
        "\n",
        "Multivariate models such as this are far more common as the accuracy that can be obtained using a single variable is usually quite limited in the real world, as there are often many relationshsips between many features which dictate the full behaviour observed in the target values being predicted during supervised learning."
      ],
      "metadata": {
        "id": "GLZ2zGH7Dcfn"
      }
    },
    {
      "cell_type": "markdown",
      "source": [
        "## 2.1. Univariate Example Revision\n",
        "\n"
      ],
      "metadata": {
        "id": "TDk0jRsxO99s"
      }
    },
    {
      "cell_type": "markdown",
      "source": [
        "Below I am going to reproduce the code I provided in week 2 showing how to fit a univarate regression model of the median income vs the house value for the california housing dataset - hopefully you all recognise this code and understand all the functions."
      ],
      "metadata": {
        "id": "pd8ZEjvAPk79"
      }
    },
    {
      "cell_type": "code",
      "source": [
        "# Load the house price dataset\n",
        "house = sklearn.datasets.fetch_california_housing()\n",
        "raw_df = pd.DataFrame(data= np.c_[house['data'], house['target']],\n",
        "                     columns= house['feature_names'] + ['target'])\n",
        "# Shuffle dataset for a random sample, as we will not be using the entire dataset\n",
        "rng = np.random.default_rng(0) # This sets the random seed, meaning that we will get the SAME random sample if we rerun this cell.\n",
        "df = raw_df.iloc[rng.permutation(len(raw_df))].reset_index(drop=True) # Shuffle data\n",
        "\n",
        "# Use only one feature to start with for univariate linear regression - The Median Income\n",
        "Xy_df = df[['MedInc', 'target']]\n",
        "\n",
        "# So for this task we are going to be predicting the property value based on the Median Income\n",
        "\n",
        "# prepare NumPy ndarrays\n",
        "X = np.array(Xy_df[['MedInc']])\n",
        "y = np.array(Xy_df['target'])\n",
        "\n",
        "# Define how much test and training data we want. You can try changing these later to see how it changes the model and predictions\n",
        "n_train_points = 200 # This is the data that will be used to train our model. As a rule of thumb this should be in the region of 70-80% of the total data being used, but there may be good reasons for using more or less \n",
        "n_new_points = 50 # This is the data that will be used to test the accuracy of our model. As a rule of thumb this should be in the region of 20-30% of the total data being used, but there may be good reasons for using more or less \n",
        "\n",
        "# Split the feature data into training/new data\n",
        "X_train = X[:n_train_points] # This will select the data points from 0 to the number defined in n_train_points (200 in this case)\n",
        "X_new = X[n_train_points:n_train_points+n_new_points] # this will select the date from 200 to 250 in this case (n_train_points to n_train_points+n_new_points)\n",
        "\n",
        "# Split the target data into training/new data\n",
        "y_train = y[:n_train_points]\n",
        "y_true = y[n_train_points:n_train_points+n_new_points]\n",
        "\n",
        "# Create linear regression object\n",
        "obj = sklearn.linear_model.LinearRegression(fit_intercept=True)\n",
        "\n",
        "# Train the model using the training sets\n",
        "obj.fit(X_train, y_train)\n",
        "\n",
        "# Make predictions using the testing set\n",
        "y_pred = obj.predict(X_new)\n",
        "\n",
        "# Plot outputs\n",
        "plt.scatter(X_new, y_true,  color='black', label='y_true') # Observed y values\n",
        "plt.scatter(X_new, y_pred, color='blue', label='y_pred') # predicted y values\n",
        "plt.plot(np.r_[0:12:0.1], obj.predict(np.r_[0:12:0.1][:, np.newaxis]), color='blue', label='hypothesis') # Regression line\n",
        "plt.xlabel('MedInc')\n",
        "plt.ylabel('house price')\n",
        "plt.legend()\n",
        "plt.show()\n",
        "\n",
        "# The mean squared error loss\n",
        "print('Mean squared error loss: {:.4f}'.format(sklearn.metrics.mean_squared_error(y_true, y_pred)))\n",
        "# The R2 score: 1 is perfect prediction\n",
        "print('R2 score: {:.4f}'.format(sklearn.metrics.r2_score(y_true, y_pred)))\n"
      ],
      "metadata": {
        "colab": {
          "base_uri": "https://localhost:8080/",
          "height": 315
        },
        "id": "Cas6Y3YmPIaj",
        "outputId": "1b1cf3d2-6db4-48d3-d187-249739eacd77"
      },
      "execution_count": null,
      "outputs": [
        {
          "output_type": "display_data",
          "data": {
            "text/plain": [
              "<Figure size 432x288 with 1 Axes>"
            ],
            "image/png": "[encoded data removed]"
          },
          "metadata": {
            "needs_background": "light"
          }
        },
        {
          "output_type": "stream",
          "name": "stdout",
          "text": [
            "Mean squared error loss: 0.7799\n",
            "R2 score: 0.3625\n"
          ]
        }
      ]
    },
    {
      "cell_type": "markdown",
      "source": [
        "## 2.2 Multivariate example"
      ],
      "metadata": {
        "id": "qe5w2bYtQCqK"
      }
    },
    {
      "cell_type": "markdown",
      "source": [
        "It is actually very straightforward to expand this code to handle a multivariate model - all we need to do is add more feature columns to the `X` array and everything else will continue to work the same. Below I will add the `HouseAge` feature to the model."
      ],
      "metadata": {
        "id": "Fhj2ujZ-QKOp"
      }
    },
    {
      "cell_type": "code",
      "source": [
        "# Load the house price dataset\n",
        "house = sklearn.datasets.fetch_california_housing()\n",
        "raw_df = pd.DataFrame(data= np.c_[house['data'], house['target']],\n",
        "                     columns= house['feature_names'] + ['target'])\n",
        "# Shuffle dataset for a random sample, as we will not be using the entire dataset\n",
        "rng = np.random.default_rng(0) # This sets the random seed, meaning that we will get the SAME random sample if we rerun this cell.\n",
        "df = raw_df.iloc[rng.permutation(len(raw_df))].reset_index(drop=True) # Shuffle data\n",
        "\n",
        "# Now using two features for multiivariate linear regression - The Median Income and the House Age\n",
        "Xy_df = df[['MedInc', 'HouseAge', 'target']]\n",
        "\n",
        "# So for this task we are going to be predicting the property value based on the Median Income\n",
        "\n",
        "# prepare NumPy ndarrays\n",
        "X = np.array(Xy_df[['MedInc', 'HouseAge']]) # !!!!!! Make sure you put any additional features into this array !!!!!!!!!!\n",
        "y = np.array(Xy_df['target'])\n",
        "\n",
        "# Define how much test and training data we want. You can try changing these later to see how it changes the model and predictions\n",
        "n_train_points = 200 # This is the data that will be used to train our model. As a rule of thumb this should be in the region of 70-80% of the total data being used, but there may be good reasons for using more or less \n",
        "n_new_points = 50 # This is the data that will be used to test the accuracy of our model. As a rule of thumb this should be in the region of 20-30% of the total data being used, but there may be good reasons for using more or less \n",
        "\n",
        "# Split the feature data into training/new data\n",
        "X_train = X[:n_train_points] # This will select the data points from 0 to the number defined in n_train_points (200 in this case)\n",
        "X_new = X[n_train_points:n_train_points+n_new_points] # this will select the date from 200 to 250 in this case (n_train_points to n_train_points+n_new_points)\n",
        "\n",
        "# Split the target data into training/new data\n",
        "y_train = y[:n_train_points]\n",
        "y_true = y[n_train_points:n_train_points+n_new_points]\n",
        "\n",
        "# Create linear regression object\n",
        "obj = sklearn.linear_model.LinearRegression(fit_intercept=True)\n",
        "\n",
        "# Train the model using the training sets\n",
        "obj.fit(X_train, y_train)\n",
        "\n",
        "# Make predictions using the testing set\n",
        "y_pred = obj.predict(X_new)\n",
        "\n",
        "# The mean squared error loss\n",
        "print('Mean squared error loss: {:.4f}'.format(sklearn.metrics.mean_squared_error(y_true, y_pred)))\n",
        "# The R2 score: 1 is perfect prediction\n",
        "print('R2 score: {:.4f}'.format(sklearn.metrics.r2_score(y_true, y_pred)))\n"
      ],
      "metadata": {
        "colab": {
          "base_uri": "https://localhost:8080/"
        },
        "id": "8UlnVIdPQB9c",
        "outputId": "07f07c17-0e9b-41af-b166-46c243b60810"
      },
      "execution_count": null,
      "outputs": [
        {
          "output_type": "stream",
          "name": "stdout",
          "text": [
            "Mean squared error loss: 0.7009\n",
            "R2 score: 0.4270\n"
          ]
        }
      ]
    },
    {
      "cell_type": "markdown",
      "source": [
        "While still not a great model, we can see that the $R^2$ score has increased by a clear amount, so our two variable model is describing more of the variation than the univariate case. You may have noticed that in the code above I didn't output any graphs. When we move into multivariate cases we begin to encounter problems when it comes to visualising our results as we can only have one feature variable on the `x` axis. I have also removed the regrssion line for the plot, as we cannot really draw a multivariate regrerssion line that tells us much useful information in a 2D plane like this.\n",
        "\n",
        "So we could make a graph of Median Income vs price:"
      ],
      "metadata": {
        "id": "nD_DSLViRaGn"
      }
    },
    {
      "cell_type": "code",
      "source": [
        "X_new_disp = X_new[:,0] # We will need to make a special vector for the feature we want on the x axis, as now X is a matrix matplotlib can't use it for a scatter plot\n",
        "\n",
        "# Plot outputs\n",
        "plt.scatter(X_new_disp, y_true,  color='black', label='y_true') # Observed y values\n",
        "plt.scatter(X_new_disp, y_pred, color='blue', label='y_pred') # predicted y values\n",
        "plt.xlabel('MedInc')\n",
        "plt.ylabel('House Price')\n",
        "plt.legend()\n",
        "plt.show()"
      ],
      "metadata": {
        "colab": {
          "base_uri": "https://localhost:8080/",
          "height": 279
        },
        "id": "xNkqvhx7SSME",
        "outputId": "a6479b5d-4f64-4e60-9ce4-c2f9837213e1"
      },
      "execution_count": null,
      "outputs": [
        {
          "output_type": "display_data",
          "data": {
            "text/plain": [
              "<Figure size 432x288 with 1 Axes>"
            ],
            "image/png": "[encoded data removed]"
          },
          "metadata": {
            "needs_background": "light"
          }
        }
      ]
    },
    {
      "cell_type": "markdown",
      "source": [
        "Or the House Age vs the price:"
      ],
      "metadata": {
        "id": "JXa6waOtTaZn"
      }
    },
    {
      "cell_type": "code",
      "source": [
        "X_new_disp = X_new[:,1] # We will need to make a special vector for the feature we want on the x axis, as now X is a matrix matplotlib can't use it for a scatter plot\n",
        "\n",
        "# Plot outputs\n",
        "plt.scatter(X_new_disp, y_true,  color='black', label='y_true') # Observed y values\n",
        "plt.scatter(X_new_disp, y_pred, color='blue', label='y_pred') # predicted y values\n",
        "plt.xlabel('HouseAge')\n",
        "plt.ylabel('House Price')\n",
        "plt.legend()\n",
        "plt.show()"
      ],
      "metadata": {
        "colab": {
          "base_uri": "https://localhost:8080/",
          "height": 279
        },
        "id": "GuUIIvuyTfV4",
        "outputId": "53e34d75-5eeb-44b4-b1ab-895ba6f2aa54"
      },
      "execution_count": null,
      "outputs": [
        {
          "output_type": "display_data",
          "data": {
            "text/plain": [
              "<Figure size 432x288 with 1 Axes>"
            ],
            "image/png": "[encoded data removed]"
          },
          "metadata": {
            "needs_background": "light"
          }
        }
      ]
    },
    {
      "cell_type": "markdown",
      "source": [
        "It is fine to keep an eye on how well you are predicting the target variables vs any of the features that you are using such as this, as providing your model is describing more of the variation, the predicted and true values should begin matching more closely. However, never forget that you are summarising a complex, multivariate relationship down to a simple set of 2D axes containing only one of those features, and while exploring multiple plots of different features can be a good exercise, it really isn't practical for more complex models."
      ],
      "metadata": {
        "id": "lP2sSIehTxSU"
      }
    },
    {
      "cell_type": "markdown",
      "source": [
        "While drawing a regression line isn't that helpful for a multivariate model, for a two featured model such as this we will in fact have a regression plane (or surface) that we can actually visualise (much like with the optimisation methods last week, going higher than this means things would have to be represented in higher dimensions which we can't easily visualise).\n",
        "\n",
        "Below I have made a 3D plot which shows the true relationship for our fitted model of Income & House Age vs House Price. Try moving the plot around (the `ax.view_init` line) to get a better idea of how these three variables are related"
      ],
      "metadata": {
        "id": "RXRx--33WEjG"
      }
    },
    {
      "cell_type": "code",
      "source": [
        "# Creating dataset\n",
        "x = np.array([[0],[1],[2],[3],[4],[5],[6],[7],[8],[9],[10],[11],[12],[13],[14]], dtype='f') # X value range\n",
        "y = np.array([[0,5,10,15,20,25,30,35,40,45,50,55,60,65,70]], dtype='f') # y value range\n",
        "z = obj.intercept_+obj.coef_[0]*x+obj.coef_[1]*y # this is the function for the 2D regression surface, note that I am using the coefficients of our fitted model object\n",
        " \n",
        "# Creating figure\n",
        "fig = plt.figure(figsize =(10, 10))\n",
        "ax = plt.axes(projection ='3d')\n",
        " \n",
        "# Creating plot\n",
        "ax.plot_surface(x, y, z, cmap=\"plasma\", alpha=0.5) # Our regression surface\n",
        "\n",
        "ax.scatter(X_train[:,0],X_train[:,1],y_train, c=\"black\",s=50) # Training Data\n",
        "ax.scatter(X_new[:,0],X_new[:,1],y_true, c=\"red\",s=50) # True Values\n",
        "ax.scatter(X_new[:,0],X_new[:,1],y_pred, c=\"blue\",s=50) # Predicted Values\n",
        " \n",
        "ax.view_init(elev=20, azim=280) # Change these variables to get a different view of the 3D plot\n",
        "\n",
        "ax.set_xlabel(\"Median Income\")\n",
        "ax.set_ylabel(\"House Age\")\n",
        "ax.set_zlabel(\"House Price\")\n",
        "\n",
        "# show plot\n",
        "plt.show()"
      ],
      "metadata": {
        "colab": {
          "base_uri": "https://localhost:8080/",
          "height": 575
        },
        "id": "jX21RnF2Wpd7",
        "outputId": "4353c67a-c2b5-49ad-da35-f9a2fc220aef"
      },
      "execution_count": null,
      "outputs": [
        {
          "output_type": "display_data",
          "data": {
            "text/plain": [
              "<Figure size 720x720 with 1 Axes>"
            ],
            "image/png": "[encoded data removed]"
          },
          "metadata": {
            "needs_background": "light"
          }
        }
      ]
    },
    {
      "cell_type": "markdown",
      "source": [
        "## 2.2.1 Exercise 3\n",
        "\n",
        "Try adding more features to the multivariate model for the California housing data.\n",
        "\n",
        "1.   Try adding all of the features at once. How does the accuracy of this model compare to the previous models with less features?\n",
        "2.   Now try adding (or taking away) features one at a time. Do they all contribute to the models accuracy?\n",
        "3. Once you've chosen a final model, try increasing the size of your sample in increments (training and testing should both be increased approximately in proportion, this dataset has just over 20000 datapoints). Does the accuracy of your model change much? Is there anything concerning you spot about some of your predictions?\n",
        "\n"
      ],
      "metadata": {
        "id": "Hn-5-My1dRkl"
      }
    },
    {
      "cell_type": "code",
      "source": [
        "##############################################################\n",
        "# Your code here\n",
        "##############################################################\n",
        "\n",
        "# Load the house price dataset\n",
        "house = sklearn.datasets.fetch_california_housing()\n",
        "raw_df = pd.DataFrame(data= np.c_[house['data'], house['target']],\n",
        "                     columns= house['feature_names'] + ['target'])\n",
        "# Shuffle dataset for a random sample, as we will not be using the entire dataset\n",
        "rng = np.random.default_rng(0) # This sets the random seed, meaning that we will get the SAME random sample if we rerun this cell.\n",
        "df = raw_df.iloc[rng.permutation(len(raw_df))].reset_index(drop=True) # Shuffle data\n",
        "\n",
        "# So for this task we are going to be predicting the property value based on the Median Income\n",
        "col = house['feature_names'] # prepare NumPy ndarrays\n",
        "\n",
        "col = ['MedInc', 'HouseAge', 'AveRooms', 'AveBedrms', 'Population', 'AveOccup', 'Latitude', 'Longitude']# prepare NumPy ndarrays\n",
        "X = np.array(df[col]) # !!!!!! Make sure you put any additional features into this array !!!!!!!!!!\n",
        "y = np.array(df['target'])\n",
        "\n",
        "# Define how much test and training data we want. You can try changing these later to see how it changes the model and predictions\n",
        "n_train_points = 250 # This is the data that will be used to train our model. As a rule of thumb this should be in the region of 70-80% of the total data being used, but there may be good reasons for using more or less \n",
        "n_new_points = 50 # This is the data that will be used to test the accuracy of our model. As a rule of thumb this should be in the region of 20-30% of the total data being used, but there may be good reasons for using more or less \n",
        "\n",
        "# Split the feature data into training/new data\n",
        "X_train = X[:n_train_points] # This will select the data points from 0 to the number defined in n_train_points (200 in this case)\n",
        "X_new = X[n_train_points:n_train_points+n_new_points] # this will select the date from 200 to 250 in this case (n_train_points to n_train_points+n_new_points)\n",
        "\n",
        "\n",
        "# Split the target data into training/new data\n",
        "y_train = y[:n_train_points]\n",
        "y_true = y[n_train_points:n_train_points+n_new_points]\n",
        "\n",
        "# Create linear regression object\n",
        "obj = sklearn.linear_model.LinearRegression(fit_intercept=True)\n",
        "\n",
        "# Train the model using the training sets\n",
        "obj.fit(X_train, y_train)\n",
        "\n",
        "# Make predictions using the testing set\n",
        "y_pred = obj.predict(X_new)\n",
        "\n",
        "X_new_disp = X_new[:,0] # We will need to make a special vector for the feature we want on the x axis, as now X is a matrix matplotlib can't use it for a scatter plot\n",
        "\n",
        "# Plot outputs\n",
        "plt.scatter(X_new_disp, y_true,  color='black', label='y_true') # Observed y values\n",
        "plt.scatter(X_new_disp, y_pred, color='blue', label='y_pred') # predicted y values\n",
        "plt.xlabel('MedInc')\n",
        "plt.ylabel('House Price')\n",
        "plt.legend()\n",
        "plt.show()\n",
        "\n",
        "# The mean squared error loss\n",
        "print('Mean squared error loss: {:.4f}'.format(sklearn.metrics.mean_squared_error(y_true, y_pred)))\n",
        "# The R2 score: 1 is perfect prediction\n",
        "print('R2 score: {:.4f}'.format(sklearn.metrics.r2_score(y_true, y_pred)))"
      ],
      "metadata": {
        "colab": {
          "base_uri": "https://localhost:8080/",
          "height": 314
        },
        "id": "iH6glA_sd2Gp",
        "outputId": "1fc307ba-93d3-4b1d-af95-a6a9a425750e"
      },
      "execution_count": null,
      "outputs": [
        {
          "output_type": "display_data",
          "data": {
            "text/plain": [
              "<Figure size 432x288 with 1 Axes>"
            ],
            "image/png": "[encoded data removed]"
          },
          "metadata": {
            "needs_background": "light"
          }
        },
        {
          "output_type": "stream",
          "name": "stdout",
          "text": [
            "Mean squared error loss: 0.4050\n",
            "R2 score: 0.6757\n"
          ]
        }
      ]
    },
    {
      "cell_type": "markdown",
      "metadata": {
        "id": "bMUXEFoU1zMX"
      },
      "source": [
        "# 3. polynomial features\n"
      ]
    },
    {
      "cell_type": "markdown",
      "metadata": {
        "id": "2pI9eyFo2Obq"
      },
      "source": [
        "So far we have only considered linear relationships between our variables, however that is not always the case - considering the power of a variable (say $\\theta_2^2$) or the interactions between variables (say $\\theta_2 \\theta_3$) may describe the relationship between the variables and the target more accurately than any linear combination of those variables is able too.\n",
        "\n",
        "As a group these are known as *polynomial features*, and can be easily created in sklearn by creating a `sklearn.preprocessing.PolynomialFeatures` [instance](https://scikit-learn.org/stable/modules/generated/sklearn.preprocessing.PolynomialFeatures.html?highlight=polynomial#sklearn.preprocessing.PolynomialFeatures).\n",
        "\n",
        "\n",
        "For the following examples we will continue using the California Housing Dataset, we will be going back to only considering `MedInc` as a feature to lower computational costs and make the examples clearer."
      ]
    },
    {
      "cell_type": "code",
      "metadata": {
        "id": "6SgC6WZFX_Be"
      },
      "source": [
        "# Load the house price dataset\n",
        "house = sklearn.datasets.fetch_california_housing()\n",
        "raw_df = pd.DataFrame(data= np.c_[house['data'], house['target']],\n",
        "                     columns= house['feature_names'] + ['target'])\n",
        "# Shuffle dataset for a random sample, as we will not be using the entire dataset\n",
        "rng = np.random.default_rng(0) # This sets the random seed, meaning that we will get the SAME random sample if we rerun this cell.\n",
        "df = raw_df.iloc[rng.permutation(len(raw_df))].reset_index(drop=True) # Shuffle data\n",
        "\n",
        "# prepare NumPy ndarrays\n",
        "X = np.array(df[['MedInc']])\n",
        "y = np.array(df['target'])\n",
        "\n",
        "n_train_points = 50\n",
        "n_new_points = 10\n",
        "\n",
        "# Split the data into training/new data\n",
        "# We virtually assume that we have 50 feature-target pairs and are going to predict the target values of 10 instances.\n",
        "X_train = X[:n_train_points]\n",
        "X_new = X[n_train_points:n_train_points+n_new_points]\n",
        "\n",
        "# Split the targets into training/new data\n",
        "y_train = y[:n_train_points]"
      ],
      "execution_count": null,
      "outputs": []
    },
    {
      "cell_type": "markdown",
      "metadata": {
        "id": "LIj_zKq7YFW_"
      },
      "source": [
        "##3.1 Initialising the Polynomial features:\n",
        "\n",
        "Using [PolynomialFeatures](https://scikit-learn.org/stable/modules/generated/sklearn.preprocessing.PolynomialFeatures.html?highlight=polynomial#sklearn.preprocessing.PolynomialFeatures) is another preprocessing step, and is very similar to the feature scaling we looked at last week.\n",
        "\n",
        "- Initialize the polynomial features object.\n",
        "  - Method: `PolynomialFeatures(degree)`\n",
        "  - Input parameter: Maximum polynomial degree you want for your model (this is really a hyperparameter we need to choose carefully, but we will cover how to best pick this degree next week).\n",
        "- Output: Creates a new feature matrix with polynomial features.\n",
        "  - Method: `poly.fit_transform` \n",
        "  - Example: Let \n",
        "  $$\\begin{bmatrix} \\tilde{\\boldsymbol{x}}_{1} \\end{bmatrix} \n",
        "  = \\begin{bmatrix} x_{1}^{(0)} \\\\ x_{1}^{(1)} \\\\ \\vdots \\\\ x_{1}^{(m - 1)} \\end{bmatrix}$$ be the feature matrix. Then, the feature matrix created by the instance `PolynomialFeatures(3)` is \n",
        "  $$\\begin{bmatrix} \\tilde{\\boldsymbol{x}}_{1} & (\\tilde{\\boldsymbol{x}}_{1})^2 & (\\tilde{\\boldsymbol{x}}_{1})^3 \\end{bmatrix} \n",
        "  = \\begin{bmatrix} x_{1}^{(0)} & (x_{1}^{(0)})^2 & (x_{1}^{(0)})^3 \\\\ x_{1}^{(1)} & (x_{1}^{(1)})^2 & (x_{1}^{(1)})^3 \\\\ \\vdots & \\vdots & \\vdots \\\\ x_{1}^{(m - 1)} & (x_{1}^{(m - 1)})^2 & (x_{1}^{(m - 1)})^3 \\end{bmatrix}$$\n"
      ]
    },
    {
      "cell_type": "code",
      "metadata": {
        "id": "4kvTVVKcMrAJ",
        "colab": {
          "base_uri": "https://localhost:8080/"
        },
        "outputId": "0179d552-524f-4a58-8ef0-4a9b3dc2d120"
      },
      "source": [
        "degree = 3 # Define the maximum power of polynomial features you want to include\n",
        "poly = PolynomialFeatures(degree) # Create the polynomial features object\n",
        "X_train_poly = poly.fit_transform(X_train) # Fit the poly object to the training data to make a new feature matrix\n",
        "print(X_train_poly) # View the new feature matrix - do you understand what's happening?"
      ],
      "execution_count": null,
      "outputs": [
        {
          "output_type": "stream",
          "name": "stdout",
          "text": [
            "[[1.00000000e+00 3.36870000e+00 1.13481397e+01 3.82284782e+01]\n",
            " [1.00000000e+00 2.16600000e+00 4.69155600e+00 1.01619103e+01]\n",
            " [1.00000000e+00 1.56420000e+00 2.44672164e+00 3.82716199e+00]\n",
            " [1.00000000e+00 3.68850000e+00 1.36050322e+01 5.01821615e+01]\n",
            " [1.00000000e+00 9.74490000e+00 9.49630760e+01 9.25405679e+02]\n",
            " [1.00000000e+00 1.68330000e+00 2.83349889e+00 4.76962868e+00]\n",
            " [1.00000000e+00 3.37130000e+00 1.13656637e+01 3.83170620e+01]\n",
            " [1.00000000e+00 4.64630000e+00 2.15881037e+01 1.00304806e+02]\n",
            " [1.00000000e+00 3.97500000e+00 1.58006250e+01 6.28074844e+01]\n",
            " [1.00000000e+00 7.90130000e+00 6.24305417e+01 4.93282439e+02]\n",
            " [1.00000000e+00 5.54560000e+00 3.07536794e+01 1.70547604e+02]\n",
            " [1.00000000e+00 2.73610000e+00 7.48624321e+00 2.04831100e+01]\n",
            " [1.00000000e+00 2.08020000e+00 4.32723204e+00 9.00150809e+00]\n",
            " [1.00000000e+00 4.39770000e+00 1.93397653e+01 8.50504858e+01]\n",
            " [1.00000000e+00 2.70720000e+00 7.32893184e+00 1.98408843e+01]\n",
            " [1.00000000e+00 2.04690000e+00 4.18979961e+00 8.57610082e+00]\n",
            " [1.00000000e+00 7.23710000e+00 5.23756164e+01 3.79047574e+02]\n",
            " [1.00000000e+00 3.20670000e+00 1.02829249e+01 3.29742552e+01]\n",
            " [1.00000000e+00 4.76090000e+00 2.26661688e+01 1.07911363e+02]\n",
            " [1.00000000e+00 4.64500000e+00 2.15760250e+01 1.00220636e+02]\n",
            " [1.00000000e+00 1.17420000e+00 1.37874564e+00 1.61892313e+00]\n",
            " [1.00000000e+00 3.34090000e+00 1.11616128e+01 3.72898322e+01]\n",
            " [1.00000000e+00 3.37500000e+00 1.13906250e+01 3.84433594e+01]\n",
            " [1.00000000e+00 5.00770000e+00 2.50770593e+01 1.25578390e+02]\n",
            " [1.00000000e+00 3.60870000e+00 1.30227157e+01 4.69950741e+01]\n",
            " [1.00000000e+00 5.73010000e+00 3.28340460e+01 1.88142367e+02]\n",
            " [1.00000000e+00 5.46390000e+00 2.98542032e+01 1.63120381e+02]\n",
            " [1.00000000e+00 2.30150000e+00 5.29690225e+00 1.21908205e+01]\n",
            " [1.00000000e+00 2.52080000e+00 6.35443264e+00 1.60182538e+01]\n",
            " [1.00000000e+00 3.47220000e+00 1.20561728e+01 4.18614433e+01]\n",
            " [1.00000000e+00 3.77210000e+00 1.42287384e+01 5.36722242e+01]\n",
            " [1.00000000e+00 3.92270000e+00 1.53875753e+01 6.03608416e+01]\n",
            " [1.00000000e+00 1.93560000e+00 3.74654736e+00 7.25181707e+00]\n",
            " [1.00000000e+00 3.24130000e+00 1.05060257e+01 3.40531811e+01]\n",
            " [1.00000000e+00 3.19420000e+00 1.02029136e+01 3.25901467e+01]\n",
            " [1.00000000e+00 2.32950000e+00 5.42657025e+00 1.26411954e+01]\n",
            " [1.00000000e+00 2.22780000e+00 4.96309284e+00 1.10567782e+01]\n",
            " [1.00000000e+00 4.06560000e+00 1.65291034e+01 6.72007226e+01]\n",
            " [1.00000000e+00 1.01675000e+01 1.03378056e+02 1.05109639e+03]\n",
            " [1.00000000e+00 3.00000000e+00 9.00000000e+00 2.70000000e+01]\n",
            " [1.00000000e+00 3.80380000e+00 1.44688944e+01 5.50367807e+01]\n",
            " [1.00000000e+00 6.25030000e+00 3.90662501e+01 2.44175783e+02]\n",
            " [1.00000000e+00 4.36610000e+00 1.90628292e+01 8.32302186e+01]\n",
            " [1.00000000e+00 9.12320000e+00 8.32327782e+01 7.59349282e+02]\n",
            " [1.00000000e+00 3.59820000e+00 1.29470432e+01 4.65860510e+01]\n",
            " [1.00000000e+00 3.91910000e+00 1.53593448e+01 6.01948082e+01]\n",
            " [1.00000000e+00 6.77500000e-01 4.59006250e-01 3.10976734e-01]\n",
            " [1.00000000e+00 1.84190000e+00 3.39259561e+00 6.24882185e+00]\n",
            " [1.00000000e+00 4.37500000e+00 1.91406250e+01 8.37402344e+01]\n",
            " [1.00000000e+00 3.75500000e+00 1.41000250e+01 5.29455939e+01]]\n"
          ]
        }
      ]
    },
    {
      "cell_type": "markdown",
      "metadata": {
        "id": "Pr8PyCsQbm-n"
      },
      "source": [
        "## 3.2 Fit `sklearn`'s `LinearRegression` instance to the polynomial features.\n",
        "It is a good idea to perform feature scaling on our polynomial features and we can fit a regression model the same as we did for our multivariable models earlier.\n",
        "1. Standardize the polynomial features and store it to `X_train_poly_stded`.\n",
        "2. Create `LinearRegression` instance `reg` and fit the object to `X_train_poly_stded`.\n"
      ]
    },
    {
      "cell_type": "code",
      "metadata": {
        "id": "WrM1CkrUbX1q",
        "colab": {
          "base_uri": "https://localhost:8080/"
        },
        "outputId": "c7fe6252-be0b-46a8-fd02-e03ce836eac4"
      },
      "source": [
        "scaler = StandardScaler()\n",
        "scaler.fit(X_train_poly)\n",
        "X_train_poly_stded = scaler.transform(X_train_poly)\n",
        "reg = sklearn.linear_model.LinearRegression()\n",
        "reg.fit(X_train_poly_stded, y_train)"
      ],
      "execution_count": null,
      "outputs": [
        {
          "output_type": "execute_result",
          "data": {
            "text/plain": [
              "LinearRegression()"
            ]
          },
          "metadata": {},
          "execution_count": 179
        }
      ]
    },
    {
      "cell_type": "markdown",
      "metadata": {
        "id": "YkAHHq5DqKA1"
      },
      "source": [
        "## 3.3 Make prediction on the fitted object on the new data using polynomial features. "
      ]
    },
    {
      "cell_type": "markdown",
      "metadata": {
        "id": "Thcl0uUYqKA2"
      },
      "source": [
        "We can make predictions with our polynomial features in the same way that we used for the multivariable model. Remember that we have to perform any preprocessing steps (feature scaling, polynomial features, etc) to the `new` data, but remember we do not `fit` on the new data, we **only** ever `transform` the `new` data.\n"
      ]
    },
    {
      "cell_type": "code",
      "metadata": {
        "colab": {
          "base_uri": "https://localhost:8080/",
          "height": 52
        },
        "id": "K8zWiAb2qKA3",
        "outputId": "749cb858-0943-49d6-e182-6ad4b453cf07"
      },
      "source": [
        "X_new_poly = poly.fit_transform(X_new) # create Polynomial features for X_new\n",
        "X_new_poly_stded = scaler.transform(X_new_poly) # standardize X_new_poly\n",
        "y_pred = reg.predict(X_new_poly_stded) # Store our predictions\n",
        "display(y_pred) # Display our predicted values"
      ],
      "execution_count": null,
      "outputs": [
        {
          "output_type": "display_data",
          "data": {
            "text/plain": [
              "array([1.25421492, 1.25447915, 1.62697705, 1.68348554, 2.2726985 ,\n",
              "       1.36268123, 1.61713622, 1.25531664, 1.44834635, 1.81444099])"
            ]
          },
          "metadata": {}
        }
      ]
    },
    {
      "cell_type": "markdown",
      "metadata": {
        "id": "tnQSgdxKs4xw"
      },
      "source": [
        "## 3.4 What is our cost function for the training data?\n",
        "How much of the variation in our training data is being described by our model with polynomial features? We can check this by making a prediction with our training data and calculating the mean squared error against the `y_train` and the $R^2$ score. We should see that we are describing quite a lot of variation with just this one feature now.\n",
        "\n",
        "Note: Remember that here we are fitting checking the accuracy against the **training** data, but usually we check our evaluation metrics against our testing data as this is a better indication of our models accuracy. The reason we are fitting against the train data will become clear soon.\n",
        "\n"
      ]
    },
    {
      "cell_type": "code",
      "metadata": {
        "id": "fXh0_QiNt4FS",
        "colab": {
          "base_uri": "https://localhost:8080/"
        },
        "outputId": "c9069ab4-0827-420d-ec8f-ee12f520b785"
      },
      "source": [
        "y_pred = reg.predict(X_train_poly_stded) # Make our predictions of the training data\n",
        "mse = sklearn.metrics.mean_squared_error(y_train, y_pred) # calculate the MSE\n",
        "print(mse)\n",
        "R2 = sklearn.metrics.r2_score(y_train, y_pred) # calculate the MSE\n",
        "print(R2)"
      ],
      "execution_count": null,
      "outputs": [
        {
          "output_type": "stream",
          "name": "stdout",
          "text": [
            "0.5900912539789069\n",
            "0.5801267857667527\n"
          ]
        }
      ]
    },
    {
      "cell_type": "markdown",
      "source": [
        "Let's try plotting this and see what our hypothesis looks like based on the polynomial feature."
      ],
      "metadata": {
        "id": "SvjoPERLx0It"
      }
    },
    {
      "cell_type": "code",
      "source": [
        "# Plot outputs\n",
        "plt.scatter(X_train[:,0], y_train,  color='black', label='y_true') # Observed y values\n",
        "plt.scatter(X_train[:,0], y_pred, color='blue', label='y_pred') # predicted y values\n",
        "plt.xlabel('MedInc')\n",
        "plt.ylabel('House Price')\n",
        "plt.legend()\n",
        "plt.show()"
      ],
      "metadata": {
        "colab": {
          "base_uri": "https://localhost:8080/",
          "height": 279
        },
        "id": "FKJtrRK6xkMx",
        "outputId": "6dfce234-b766-4a00-bd65-83571da5f700"
      },
      "execution_count": null,
      "outputs": [
        {
          "output_type": "display_data",
          "data": {
            "text/plain": [
              "<Figure size 432x288 with 1 Axes>"
            ],
            "image/png": "[encoded data removed]"
          },
          "metadata": {
            "needs_background": "light"
          }
        }
      ]
    },
    {
      "cell_type": "markdown",
      "source": [
        "This looks good, can we get an even better fit using a higher degree of polynomial features?"
      ],
      "metadata": {
        "id": "hw4Bt5udx9xP"
      }
    },
    {
      "cell_type": "markdown",
      "metadata": {
        "id": "R7K8mdN0vL3Q"
      },
      "source": [
        "## 3.5 Exercise 4\n",
        "Change the degree of the polynomial features, how does the MSE change as the degree increases?\n",
        "\n",
        "Note: You can do this by hand, but a nicer solution would involve setting up a loop which allows you to perform an automatic parametric test on this parameter."
      ]
    },
    {
      "cell_type": "code",
      "metadata": {
        "id": "VaO1eWEg8c0T",
        "colab": {
          "base_uri": "https://localhost:8080/",
          "height": 835
        },
        "outputId": "31a04c48-6400-480d-ad3a-232cb52cd7fc"
      },
      "source": [
        "##############################################################\n",
        "# Your code here\n",
        "##############################################################\n",
        "\n",
        "\n",
        "for degree in range(30):\n",
        "  poly = PolynomialFeatures(degree)\n",
        "  X_train_poly = poly.fit_transform(X_train)\n",
        "  scaler = StandardScaler()\n",
        "  scaler.fit(X_train_poly)\n",
        "  X_train_poly_stded = scaler.transform(X_train_poly)\n",
        "  reg = sklearn.linear_model.LinearRegression()\n",
        "  reg.fit(X_train_poly_stded, y_train)\n",
        "  y_pred = reg.predict(X_train_poly_stded)\n",
        "  mse = sklearn.metrics.mean_squared_error(y_train, y_pred)\n",
        "  print(f'degree: {degree}, mean squared error: {mse}.')\n",
        "\n",
        "# Plot outputs\n",
        "plt.scatter(X_train[:,0], y_train,  color='black', label='y_true') # Observed y values\n",
        "plt.scatter(X_train[:,0], y_pred, color='blue', label='y_pred') # predicted y values\n",
        "plt.xlabel('MedInc')\n",
        "plt.ylabel('House Price')\n",
        "plt.legend()\n",
        "plt.show()\n",
        "\n",
        "\n",
        "# The mean squared error loss\n",
        "print('Mean squared error loss: {:.4f}'.format(sklearn.metrics.mean_squared_error(y_train, y_pred)))\n",
        "# The R2 score: 1 is perfect prediction\n",
        "print('R2 score: {:.4f}'.format(sklearn.metrics.r2_score(y_train, y_pred)))"
      ],
      "execution_count": null,
      "outputs": [
        {
          "output_type": "stream",
          "name": "stdout",
          "text": [
            "degree: 0, mean squared error: 1.4054034264998396.\n",
            "degree: 1, mean squared error: 0.6523341395523339.\n",
            "degree: 2, mean squared error: 0.602920302671285.\n",
            "degree: 3, mean squared error: 0.5900912539789069.\n",
            "degree: 4, mean squared error: 0.5099625609473445.\n",
            "degree: 5, mean squared error: 0.4402358720847741.\n",
            "degree: 6, mean squared error: 0.43970821805057414.\n",
            "degree: 7, mean squared error: 0.433999375873014.\n",
            "degree: 8, mean squared error: 0.3889164471532896.\n",
            "degree: 9, mean squared error: 0.387406202976861.\n",
            "degree: 10, mean squared error: 0.3743760032431733.\n",
            "degree: 11, mean squared error: 0.3702176006045339.\n",
            "degree: 12, mean squared error: 0.3700711017247793.\n",
            "degree: 13, mean squared error: 0.3588691180588952.\n",
            "degree: 14, mean squared error: 0.35886911404237926.\n",
            "degree: 15, mean squared error: 0.35871238089377067.\n",
            "degree: 16, mean squared error: 0.35810271520695464.\n",
            "degree: 17, mean squared error: 0.32958903619478347.\n",
            "degree: 18, mean squared error: 0.33063428689036956.\n",
            "degree: 19, mean squared error: 0.32704019405466495.\n",
            "degree: 20, mean squared error: 0.3255506999574549.\n",
            "degree: 21, mean squared error: 0.3235468482110397.\n",
            "degree: 22, mean squared error: 0.300569938336908.\n",
            "degree: 23, mean squared error: 0.29913438496185335.\n",
            "degree: 24, mean squared error: 0.29849749579918805.\n",
            "degree: 25, mean squared error: 0.2979025883098708.\n",
            "degree: 26, mean squared error: 0.2973099956620412.\n",
            "degree: 27, mean squared error: 0.296998180449239.\n",
            "degree: 28, mean squared error: 0.2966526693985411.\n",
            "degree: 29, mean squared error: 0.29662393848677127.\n"
          ]
        },
        {
          "output_type": "display_data",
          "data": {
            "text/plain": [
              "<Figure size 432x288 with 1 Axes>"
            ],
            "image/png": "[encoded data removed]"
          },
          "metadata": {
            "needs_background": "light"
          }
        },
        {
          "output_type": "stream",
          "name": "stdout",
          "text": [
            "Mean squared error loss: 0.2966\n",
            "R2 score: 0.7889\n"
          ]
        }
      ]
    },
    {
      "cell_type": "markdown",
      "source": [
        "## 3.6 Exercise 5\n",
        "We should be getting really quite accurate now! It stands to reason that we can get even higher if we make our model multivariate. Try implementing a multivariate regression model (using `MedInc` and `HouseAge`) on the california housing dataset that uses polynomial features, see how low you can get the MSE and how much you can raise the $R^2$ score.\n",
        "\n"
      ],
      "metadata": {
        "id": "apgwfhwez-vp"
      }
    },
    {
      "cell_type": "code",
      "source": [
        "##############################################################\n",
        "# Your code here\n",
        "##############################################################\n",
        "# Load the house price dataset\n",
        "house = sklearn.datasets.fetch_california_housing()\n",
        "raw_df = pd.DataFrame(data= np.c_[house['data'], house['target']],\n",
        "                     columns= house['feature_names'] + ['target'])\n",
        "# Shuffle dataset for a random sample, as we will not be using the entire dataset\n",
        "rng = np.random.default_rng(0) # This sets the random seed, meaning that we will get the SAME random sample if we rerun this cell.\n",
        "df = raw_df.iloc[rng.permutation(len(raw_df))].reset_index(drop=True) # Shuffle data\n",
        "\n",
        "# prepare NumPy ndarrays\n",
        "X = np.array(df[['MedInc', 'HouseAge']])\n",
        "y = np.array(df['target'])\n",
        "\n",
        "n_train_points = 50\n",
        "n_new_points = 10\n",
        "\n",
        "# Split the data into training/new data\n",
        "# We virtually assume that we have 50 feature-target pairs and are going to predict the target values of 10 instances.\n",
        "X_train = X[:n_train_points]\n",
        "\n",
        "# Split the targets into training/new data\n",
        "y_train = y[:n_train_points]\n",
        "\n",
        "degree = 10 # Define the maximum power of polynomial features you want to include\n",
        "poly = PolynomialFeatures(degree) # Create the polynomial features object\n",
        "X_train_poly = poly.fit_transform(X_train) # Fit the poly object to the training data to make a new feature matrix\n",
        "\n",
        "scaler = StandardScaler()\n",
        "scaler.fit(X_train_poly)\n",
        "X_train_poly_stded = scaler.transform(X_train_poly)\n",
        "reg = sklearn.linear_model.LinearRegression()\n",
        "reg.fit(X_train_poly_stded, y_train)\n",
        "\n",
        "y_pred = reg.predict(X_train_poly_stded) # Store our predictions\n",
        "\n",
        "# Plot outputs\n",
        "plt.scatter(X_train[:,0], y_train,  color='black', label='y_true') # Observed y values\n",
        "plt.scatter(X_train[:,0], y_pred, color='blue', label='y_pred') # predicted y values\n",
        "plt.xlabel('MedInc')\n",
        "plt.ylabel('House Price')\n",
        "plt.legend()\n",
        "plt.show()\n",
        "\n",
        "\n",
        "# The mean squared error loss\n",
        "print('Mean squared error loss: {:.4f}'.format(sklearn.metrics.mean_squared_error(y_train, y_pred)))\n",
        "# The R2 score: 1 is perfect prediction\n",
        "print('R2 score: {:.4f}'.format(sklearn.metrics.r2_score(y_train, y_pred)))"
      ],
      "metadata": {
        "colab": {
          "base_uri": "https://localhost:8080/",
          "height": 314
        },
        "id": "Xc4sKa0E0WQw",
        "outputId": "6f453140-bb60-4bb9-e763-e2003c881c1b"
      },
      "execution_count": null,
      "outputs": [
        {
          "output_type": "display_data",
          "data": {
            "text/plain": [
              "<Figure size 432x288 with 1 Axes>"
            ],
            "image/png": "[encoded data removed]"
          },
          "metadata": {
            "needs_background": "light"
          }
        },
        {
          "output_type": "stream",
          "name": "stdout",
          "text": [
            "Mean squared error loss: 0.0000\n",
            "R2 score: 1.0000\n"
          ]
        }
      ]
    },
    {
      "cell_type": "markdown",
      "source": [
        "## 3.7 **Important** - Polynomial feature drawbacks (Overfitting)"
      ],
      "metadata": {
        "id": "xXasK1uR2E2j"
      }
    },
    {
      "cell_type": "markdown",
      "source": [
        "So, this looks pretty great right? Are polynomial features the key to all our problems? I was able to get a model with 100% accuracy in exercise 3.6.\n",
        "\n",
        "But remember, we have been using the **training data** to evaluate our accuracy for the last few exercises. What happens if we try and test the model above against **new data**, that the model hasn't seen yet?"
      ],
      "metadata": {
        "id": "n37UOEnS2Rzj"
      }
    },
    {
      "cell_type": "code",
      "source": [
        "X_new = X[n_train_points:n_train_points+n_new_points] # Pick our new data points\n",
        "X_new_poly = poly.fit_transform(X_new) # create Polynomial features for X_new\n",
        "X_new_poly_stded = scaler.transform(X_new_poly) # standardize X_new_poly\n",
        "y_true = y[n_train_points:n_train_points+n_new_points] # Pick our new target values\n",
        "y_pred = reg.predict(X_new_poly_stded) # Store our predictions\n",
        "\n",
        "# Plot outputs\n",
        "plt.scatter(X_new[:,0], y_true,  color='black', label='y_true') # Observed y values\n",
        "plt.scatter(X_new[:,0], y_pred, color='blue', label='y_pred') # predicted y values\n",
        "plt.xlabel('MedInc')\n",
        "plt.ylabel('House Price')\n",
        "plt.legend()\n",
        "plt.show()\n",
        "\n",
        "# The mean squared error loss\n",
        "print('Mean squared error loss: {:.4f}'.format(sklearn.metrics.mean_squared_error(y_true, y_pred)))\n",
        "# The R2 score: 1 is perfect prediction\n",
        "print('R2 score: {:.4f}'.format(sklearn.metrics.r2_score(y_true, y_pred)))"
      ],
      "metadata": {
        "colab": {
          "base_uri": "https://localhost:8080/",
          "height": 314
        },
        "id": "nfITr03626z8",
        "outputId": "acc8125c-17c1-4358-e5a9-87cd378fb083"
      },
      "execution_count": null,
      "outputs": [
        {
          "output_type": "display_data",
          "data": {
            "text/plain": [
              "<Figure size 432x288 with 1 Axes>"
            ],
            "image/png": "[encoded data removed]"
          },
          "metadata": {
            "needs_background": "light"
          }
        },
        {
          "output_type": "stream",
          "name": "stdout",
          "text": [
            "Mean squared error loss: 6780221.3559\n",
            "R2 score: -8174230.8935\n"
          ]
        }
      ]
    },
    {
      "cell_type": "markdown",
      "source": [
        "Well, that's dissapointing. Our model is terrible. Really terrible. We would be much better off with univariate linear regression.\n",
        "\n",
        "We have **overfit** our data - our model has been fine tuned to perfectly pick up all of the noise in the training data, which gets impressive $R^2$ scores when making predictions for the training data, but means that our model utterly fails to make accurate predictions for new data.\n",
        "\n",
        "Do not despair, while there is no silver bullet, there are ways to make use of the power of polynomial features and multivariate models without overfitting our model. We will be exploring the methods for accurately validating your model and to prevent it from overfitting the data next week.\n",
        "\n",
        "Just remember:"
      ],
      "metadata": {
        "id": "XNlmqs_c3yE6"
      }
    },
    {
      "cell_type": "markdown",
      "metadata": {
        "id": "4fsXaiorwlPF"
      },
      "source": [
        "<font color=\"red\">A high degree of polynomial features can lower the the MSE greatly against the training data. However, a low error on the training data is not always desirable, since this does not tell us anything about the performance when making predictions using new data.</font>"
      ]
    },
    {
      "cell_type": "markdown",
      "source": [
        "##3.8 Exercise 6\n",
        "With this in mind, try and implement a multivariate, polynomial model on the california housing dataset that provides a good prediction but does not overfit the new data. You might also want to try changing some of the other parameters for the [PolynomialFeatures](https://scikit-learn.org/stable/modules/generated/sklearn.preprocessing.PolynomialFeatures.html?highlight=polynomial#sklearn.preprocessing.PolynomialFeatures) object. This may take a lot of experimentation with features and polynomial degrees to get anything better than whatever you were getting with the full multivariable regression model in Exercise 3."
      ],
      "metadata": {
        "id": "pJbkUHqa51aC"
      }
    },
    {
      "cell_type": "code",
      "source": [
        "##############################################################\n",
        "# Your code here\n",
        "##############################################################\n",
        "\n",
        "# Load the house price dataset\n",
        "house = sklearn.datasets.fetch_california_housing()\n",
        "raw_df = pd.DataFrame(data= np.c_[house['data'], house['target']],\n",
        "                     columns= house['feature_names'] + ['target'])\n",
        "# Shuffle dataset for a random sample, as we will not be using the entire dataset\n",
        "rng = np.random.default_rng(0) # This sets the random seed, meaning that we will get the SAME random sample if we rerun this cell.\n",
        "df = raw_df.iloc[rng.permutation(len(raw_df))].reset_index(drop=True) # Shuffle data\n",
        "\n",
        "\n",
        "# So for this task we are going to be predicting the property value based on the Median Income\n",
        "col = house['feature_names'] # prepare NumPy ndarrays\n",
        "\n",
        "col = ['MedInc', 'HouseAge', 'AveRooms', 'AveBedrms', 'Population', 'AveOccup', 'Latitude', 'Longitude']# prepare NumPy ndarrays\n",
        "col = ['MedInc', 'AveRooms', 'AveOccup', 'Latitude', 'Longitude']# prepare NumPy ndarrays\n",
        "#col = ['MedInc', 'HouseAge', 'Population']# prepare NumPy ndarrays\n",
        "X = np.array(df[col]) # !!!!!! Make sure you put any additional features into this array !!!!!!!!!!\n",
        "y = np.array(df['target'])\n",
        "\n",
        "# Define how much test and training data we want. You can try changing these later to see how it changes the model and predictions\n",
        "n_train_points = 250\n",
        "n_new_points = 50\n",
        "\n",
        "# Split the feature data into training/new data\n",
        "X_train = X[:n_train_points] # This will select the data points from 0 to the number defined in n_train_points (200 in this case)\n",
        "X_new = X[n_train_points:n_train_points+n_new_points] # this will select the date from 200 to 250 in this case (n_train_points to n_train_points+n_new_points)\n",
        "\n",
        "# Split the target data into training/new data\n",
        "y_train = y[:n_train_points]\n",
        "y_true = y[n_train_points:n_train_points+n_new_points]\n",
        "\n",
        "degree = 2 # Define the maximum power of polynomial features you want to include\n",
        "poly = PolynomialFeatures(degree, interaction_only=False) # Create the polynomial features object\n",
        "X_train_poly = poly.fit_transform(X_train) # Fit the poly object to the training data to make a new feature matrix\n",
        "X_new_poly = poly.fit_transform(X_new) \n",
        "\n",
        "\n",
        "scaler = StandardScaler()\n",
        "scaler.fit(X_train_poly)\n",
        "X_train_poly_stded = scaler.transform(X_train_poly)\n",
        "X_new_poly_stded = scaler.transform(X_new_poly)\n",
        "\n",
        "# Create linear regression object\n",
        "obj = sklearn.linear_model.LinearRegression(fit_intercept=True)\n",
        "\n",
        "# Train the model using the training sets\n",
        "obj.fit(X_train_poly_stded, y_train)\n",
        "\n",
        "# Make predictions using the testing set\n",
        "y_pred = obj.predict(X_new_poly_stded)\n",
        "\n",
        "X_new_disp = X_new[:,0] # We will need to make a special vector for the feature we want on the x axis, as now X is a matrix matplotlib can't use it for a scatter plot\n",
        "\n",
        "# Plot outputs\n",
        "plt.scatter(X_new_disp, y_true,  color='black', label='y_true') # Observed y values\n",
        "plt.scatter(X_new_disp, y_pred, color='blue', label='y_pred') # predicted y values\n",
        "plt.xlabel('MedInc')\n",
        "plt.ylabel('House Price')\n",
        "plt.legend()\n",
        "plt.show()\n",
        "\n",
        "# The mean squared error loss\n",
        "print('Mean squared error loss: {:.4f}'.format(sklearn.metrics.mean_squared_error(y_true, y_pred)))\n",
        "# The R2 score: 1 is perfect prediction\n",
        "print('R2 score: {:.4f}'.format(sklearn.metrics.r2_score(y_true, y_pred)))"
      ],
      "metadata": {
        "colab": {
          "base_uri": "https://localhost:8080/",
          "height": 314
        },
        "id": "cjnLyHDqqBm1",
        "outputId": "63822b82-84c3-4e14-e521-0c2956fb52b2"
      },
      "execution_count": null,
      "outputs": [
        {
          "output_type": "display_data",
          "data": {
            "text/plain": [
              "<Figure size 432x288 with 1 Axes>"
            ],
            "image/png": "[encoded data removed]"
          },
          "metadata": {
            "needs_background": "light"
          }
        },
        {
          "output_type": "stream",
          "name": "stdout",
          "text": [
            "Mean squared error loss: 0.3139\n",
            "R2 score: 0.7486\n"
          ]
        }
      ]
    },
    {
      "cell_type": "markdown",
      "metadata": {
        "id": "8UngIdVhz8C0"
      },
      "source": [
        "# 4. Categorical feature data\n",
        "\n",
        "So far we have only been considering feature columns that have been populated with numerical data, however it is not unusual to encounter datasets where the feature columns may include text values that have some meaning for the target predictions, however these must be converted into a numerical form somehow in order to be used by the machine learning algorithms.\n",
        "\n",
        "We would call these categorical feature data, and converting these features into numerical values (often called 'feature encoding') is another data preprocessing operation you should be aware of when using tabular data."
      ]
    },
    {
      "cell_type": "markdown",
      "metadata": {
        "id": "1L5pOUpk20lG"
      },
      "source": [
        "##4.1 Loading in dataset\n",
        "\n",
        "For this problem, I have created a synthetic dataset which I have uploaded to moodle. Please load this csv below.\n",
        "\n"
      ]
    },
    {
      "cell_type": "code",
      "source": [
        "uploaded = files.upload()    # Will prompt you to select file\n",
        "# Your file is now in the Colab filesystem on the left\n",
        "testData = pd.read_csv('testData.csv') # Save it to a pandas dataframe"
      ],
      "metadata": {
        "id": "bN2OaTigZOGZ"
      },
      "execution_count": null,
      "outputs": []
    },
    {
      "cell_type": "markdown",
      "source": [
        "This data shows the final grade of a selection of students from 4 different schools. We have the scored from their previous two mock papers, but there are also a number of catgorical feature columns that we can't currently use.\n",
        "\n",
        "Let's have a look at the data:"
      ],
      "metadata": {
        "id": "ojdvKcwZzfI_"
      }
    },
    {
      "cell_type": "code",
      "source": [
        "# This file has all the data elements constructed already, so we can just put the entire thing into the 'data=' \n",
        "df = pd.DataFrame(data= testData)\n",
        "\n",
        "# show the data\n",
        "display(df)"
      ],
      "metadata": {
        "colab": {
          "base_uri": "https://localhost:8080/",
          "height": 424
        },
        "id": "fTjHI9buZv6m",
        "outputId": "37a11089-f449-4769-e46c-aca6f87f5883"
      },
      "execution_count": null,
      "outputs": [
        {
          "output_type": "display_data",
          "data": {
            "text/plain": [
              "     mock1  mock2 studyTime travelTime absence school  finalGrade\n",
              "0       67     69   241-480     61-120      No    KCI         100\n",
              "1       89     87   121-240      31-60      No    KHV          94\n",
              "2       43     39   241-480     61-120      No    QE2          51\n",
              "3       94     89   241-480     61-120     Yes    QE2         100\n",
              "4        7     14   241-480      31-60     Yes    KCI          26\n",
              "..     ...    ...       ...        ...     ...    ...         ...\n",
              "395     89     83   241-480      31-60     Yes    KCI         100\n",
              "396      9      8   241-480     61-120      No    QE2          17\n",
              "397     78     77   241-480      31-60      No    QE2          97\n",
              "398     22     22   241-480     61-120      No    KCI          61\n",
              "399     12     17   241-480      31-60     Yes    QE2          19\n",
              "\n",
              "[400 rows x 7 columns]"
            ],
            "text/html": [
              "\n",
              "  <div id=\"df-39ccba50-2e22-4cf9-80c7-694688febb6a\">\n",
              "    <div class=\"colab-df-container\">\n",
              "      <div>\n",
              "<style scoped>\n",
              "    .dataframe tbody tr th:only-of-type {\n",
              "        vertical-align: middle;\n",
              "    }\n",
              "\n",
              "    .dataframe tbody tr th {\n",
              "        vertical-align: top;\n",
              "    }\n",
              "\n",
              "    .dataframe thead th {\n",
              "        text-align: right;\n",
              "    }\n",
              "</style>\n",
              "<table border=\"1\" class=\"dataframe\">\n",
              "  <thead>\n",
              "    <tr style=\"text-align: right;\">\n",
              "      <th></th>\n",
              "      <th>mock1</th>\n",
              "      <th>mock2</th>\n",
              "      <th>studyTime</th>\n",
              "      <th>travelTime</th>\n",
              "      <th>absence</th>\n",
              "      <th>school</th>\n",
              "      <th>finalGrade</th>\n",
              "    </tr>\n",
              "  </thead>\n",
              "  <tbody>\n",
              "    <tr>\n",
              "      <th>0</th>\n",
              "      <td>67</td>\n",
              "      <td>69</td>\n",
              "      <td>241-480</td>\n",
              "      <td>61-120</td>\n",
              "      <td>No</td>\n",
              "      <td>KCI</td>\n",
              "      <td>100</td>\n",
              "    </tr>\n",
              "    <tr>\n",
              "      <th>1</th>\n",
              "      <td>89</td>\n",
              "      <td>87</td>\n",
              "      <td>121-240</td>\n",
              "      <td>31-60</td>\n",
              "      <td>No</td>\n",
              "      <td>KHV</td>\n",
              "      <td>94</td>\n",
              "    </tr>\n",
              "    <tr>\n",
              "      <th>2</th>\n",
              "      <td>43</td>\n",
              "      <td>39</td>\n",
              "      <td>241-480</td>\n",
              "      <td>61-120</td>\n",
              "      <td>No</td>\n",
              "      <td>QE2</td>\n",
              "      <td>51</td>\n",
              "    </tr>\n",
              "    <tr>\n",
              "      <th>3</th>\n",
              "      <td>94</td>\n",
              "      <td>89</td>\n",
              "      <td>241-480</td>\n",
              "      <td>61-120</td>\n",
              "      <td>Yes</td>\n",
              "      <td>QE2</td>\n",
              "      <td>100</td>\n",
              "    </tr>\n",
              "    <tr>\n",
              "      <th>4</th>\n",
              "      <td>7</td>\n",
              "      <td>14</td>\n",
              "      <td>241-480</td>\n",
              "      <td>31-60</td>\n",
              "      <td>Yes</td>\n",
              "      <td>KCI</td>\n",
              "      <td>26</td>\n",
              "    </tr>\n",
              "    <tr>\n",
              "      <th>...</th>\n",
              "      <td>...</td>\n",
              "      <td>...</td>\n",
              "      <td>...</td>\n",
              "      <td>...</td>\n",
              "      <td>...</td>\n",
              "      <td>...</td>\n",
              "      <td>...</td>\n",
              "    </tr>\n",
              "    <tr>\n",
              "      <th>395</th>\n",
              "      <td>89</td>\n",
              "      <td>83</td>\n",
              "      <td>241-480</td>\n",
              "      <td>31-60</td>\n",
              "      <td>Yes</td>\n",
              "      <td>KCI</td>\n",
              "      <td>100</td>\n",
              "    </tr>\n",
              "    <tr>\n",
              "      <th>396</th>\n",
              "      <td>9</td>\n",
              "      <td>8</td>\n",
              "      <td>241-480</td>\n",
              "      <td>61-120</td>\n",
              "      <td>No</td>\n",
              "      <td>QE2</td>\n",
              "      <td>17</td>\n",
              "    </tr>\n",
              "    <tr>\n",
              "      <th>397</th>\n",
              "      <td>78</td>\n",
              "      <td>77</td>\n",
              "      <td>241-480</td>\n",
              "      <td>31-60</td>\n",
              "      <td>No</td>\n",
              "      <td>QE2</td>\n",
              "      <td>97</td>\n",
              "    </tr>\n",
              "    <tr>\n",
              "      <th>398</th>\n",
              "      <td>22</td>\n",
              "      <td>22</td>\n",
              "      <td>241-480</td>\n",
              "      <td>61-120</td>\n",
              "      <td>No</td>\n",
              "      <td>KCI</td>\n",
              "      <td>61</td>\n",
              "    </tr>\n",
              "    <tr>\n",
              "      <th>399</th>\n",
              "      <td>12</td>\n",
              "      <td>17</td>\n",
              "      <td>241-480</td>\n",
              "      <td>31-60</td>\n",
              "      <td>Yes</td>\n",
              "      <td>QE2</td>\n",
              "      <td>19</td>\n",
              "    </tr>\n",
              "  </tbody>\n",
              "</table>\n",
              "<p>400 rows × 7 columns</p>\n",
              "</div>\n",
              "      <button class=\"colab-df-convert\" onclick=\"convertToInteractive('df-39ccba50-2e22-4cf9-80c7-694688febb6a')\"\n",
              "              title=\"Convert this dataframe to an interactive table.\"\n",
              "              style=\"display:none;\">\n",
              "        \n",
              "  <svg xmlns=\"http://www.w3.org/2000/svg\" height=\"24px\"viewBox=\"0 0 24 24\"\n",
              "       width=\"24px\">\n",
              "    <path d=\"M0 0h24v24H0V0z\" fill=\"none\"/>\n",
              "    <path d=\"M18.56 5.44l.94 2.06.94-2.06 2.06-.94-2.06-.94-.94-2.06-.94 2.06-2.06.94zm-11 1L8.5 8.5l.94-2.06 2.06-.94-2.06-.94L8.5 2.5l-.94 2.06-2.06.94zm10 10l.94 2.06.94-2.06 2.06-.94-2.06-.94-.94-2.06-.94 2.06-2.06.94z\"/><path d=\"M17.41 7.96l-1.37-1.37c-.4-.4-.92-.59-1.43-.59-.52 0-1.04.2-1.43.59L10.3 9.45l-7.72 7.72c-.78.78-.78 2.05 0 2.83L4 21.41c.39.39.9.59 1.41.59.51 0 1.02-.2 1.41-.59l7.78-7.78 2.81-2.81c.8-.78.8-2.07 0-2.86zM5.41 20L4 18.59l7.72-7.72 1.47 1.35L5.41 20z\"/>\n",
              "  </svg>\n",
              "      </button>\n",
              "      \n",
              "  <style>\n",
              "    .colab-df-container {\n",
              "      display:flex;\n",
              "      flex-wrap:wrap;\n",
              "      gap: 12px;\n",
              "    }\n",
              "\n",
              "    .colab-df-convert {\n",
              "      background-color: #E8F0FE;\n",
              "      border: none;\n",
              "      border-radius: 50%;\n",
              "      cursor: pointer;\n",
              "      display: none;\n",
              "      fill: #1967D2;\n",
              "      height: 32px;\n",
              "      padding: 0 0 0 0;\n",
              "      width: 32px;\n",
              "    }\n",
              "\n",
              "    .colab-df-convert:hover {\n",
              "      background-color: #E2EBFA;\n",
              "      box-shadow: 0px 1px 2px rgba(60, 64, 67, 0.3), 0px 1px 3px 1px rgba(60, 64, 67, 0.15);\n",
              "      fill: #174EA6;\n",
              "    }\n",
              "\n",
              "    [theme=dark] .colab-df-convert {\n",
              "      background-color: #3B4455;\n",
              "      fill: #D2E3FC;\n",
              "    }\n",
              "\n",
              "    [theme=dark] .colab-df-convert:hover {\n",
              "      background-color: #434B5C;\n",
              "      box-shadow: 0px 1px 3px 1px rgba(0, 0, 0, 0.15);\n",
              "      filter: drop-shadow(0px 1px 2px rgba(0, 0, 0, 0.3));\n",
              "      fill: #FFFFFF;\n",
              "    }\n",
              "  </style>\n",
              "\n",
              "      <script>\n",
              "        const buttonEl =\n",
              "          document.querySelector('#df-39ccba50-2e22-4cf9-80c7-694688febb6a button.colab-df-convert');\n",
              "        buttonEl.style.display =\n",
              "          google.colab.kernel.accessAllowed ? 'block' : 'none';\n",
              "\n",
              "        async function convertToInteractive(key) {\n",
              "          const element = document.querySelector('#df-39ccba50-2e22-4cf9-80c7-694688febb6a');\n",
              "          const dataTable =\n",
              "            await google.colab.kernel.invokeFunction('convertToInteractive',\n",
              "                                                     [key], {});\n",
              "          if (!dataTable) return;\n",
              "\n",
              "          const docLinkHtml = 'Like what you see? Visit the ' +\n",
              "            '<a target=\"_blank\" href=https://colab.research.google.com/notebooks/data_table.ipynb>data table notebook</a>'\n",
              "            + ' to learn more about interactive tables.';\n",
              "          element.innerHTML = '';\n",
              "          dataTable['output_type'] = 'display_data';\n",
              "          await google.colab.output.renderOutput(dataTable, element);\n",
              "          const docLink = document.createElement('div');\n",
              "          docLink.innerHTML = docLinkHtml;\n",
              "          element.appendChild(docLink);\n",
              "        }\n",
              "      </script>\n",
              "    </div>\n",
              "  </div>\n",
              "  "
            ]
          },
          "metadata": {}
        }
      ]
    },
    {
      "cell_type": "markdown",
      "source": [
        "First, let's see how good a fit we get just using the mock scores, so data that is numerical already."
      ],
      "metadata": {
        "id": "7ybP8LLd0MF5"
      }
    },
    {
      "cell_type": "code",
      "source": [
        "testData_numOnly = testData.copy() # We will be making copies of the dataset as we will be making changes to the columns as we go along\n",
        "tar='finalGrade'\n",
        "\n",
        "col_fin=['mock1','mock2']\n",
        "\n",
        "X = np.array(testData_numOnly[col_fin]) \n",
        "y = np.array(testData_numOnly[tar])\n",
        "\n",
        "\n",
        "# Define how much test and training data we want. You can try changing these later to see how it changes the model and predictions\n",
        "n_train_points = 350 # This is the data that will be used to train our model. As a rule of thumb this should be in the region of 70-80% of the total data being used, but there may be good reasons for using more or less \n",
        "n_new_points = 50 # This is the data that will be used to test the accuracy of our model. As a rule of thumb this should be in the region of 20-30% of the total data being used, but there may be good reasons for using more or less \n",
        "\n",
        "# Split the feature data into training/new data\n",
        "X_train = X[:n_train_points] # This will select the data points from 0 to the number defined in n_train_points (200 in this case)\n",
        "X_new = X[n_train_points:n_train_points+n_new_points] # this will select the date from 200 to 250 in this case (n_train_points to n_train_points+n_new_points)\n",
        "\n",
        "\n",
        "# Split the target data into training/new data\n",
        "y_train = y[:n_train_points]\n",
        "y_true = y[n_train_points:n_train_points+n_new_points]\n",
        "\n",
        "# Create linear regression object\n",
        "obj = sklearn.linear_model.LinearRegression(fit_intercept=True)\n",
        "\n",
        "# Train the model using the training sets\n",
        "obj.fit(X_train, y_train)\n",
        "\n",
        "# Make predictions using the testing set\n",
        "y_pred = obj.predict(X_new)\n",
        "\n",
        "X_new_disp = X_new[:,0] # We will need to make a special vector for the feature we want on the x axis, as now X is a matrix matplotlib can't use it for a scatter plot\n",
        "\n",
        "# Plot outputs\n",
        "plt.scatter(X_new_disp, y_true,  color='black', label='y_true') # Observed y values\n",
        "plt.scatter(X_new_disp, y_pred, color='blue', label='y_pred') # predicted y values\n",
        "plt.xlabel('Mock 1')\n",
        "plt.ylabel('Final Grade')\n",
        "plt.legend()\n",
        "plt.show()\n",
        "\n",
        "# The mean squared error loss\n",
        "print('Mean squared error loss: {:.4f}'.format(sklearn.metrics.mean_squared_error(y_true, y_pred)))\n",
        "# The R2 score: 1 is perfect prediction\n",
        "print('R2 score: {:.4f}'.format(sklearn.metrics.r2_score(y_true, y_pred)))"
      ],
      "metadata": {
        "colab": {
          "base_uri": "https://localhost:8080/",
          "height": 314
        },
        "id": "xLZgOolI0IlD",
        "outputId": "f09f40ce-1e10-4243-9b64-f92597da160a"
      },
      "execution_count": null,
      "outputs": [
        {
          "output_type": "display_data",
          "data": {
            "text/plain": [
              "<Figure size 432x288 with 1 Axes>"
            ],
            "image/png": "[encoded data removed]"
          },
          "metadata": {
            "needs_background": "light"
          }
        },
        {
          "output_type": "stream",
          "name": "stdout",
          "text": [
            "Mean squared error loss: 125.1778\n",
            "R2 score: 0.8349\n"
          ]
        }
      ]
    },
    {
      "cell_type": "markdown",
      "source": [
        "Okay, so areound 83% $R^2$ score is a pretty strong baseline, but the categorical columns may be the key to explaining the remaining variation."
      ],
      "metadata": {
        "id": "h6NUbOq30JFU"
      }
    },
    {
      "cell_type": "markdown",
      "source": [
        "## 4.2 Label encoding"
      ],
      "metadata": {
        "id": "Mj30Uk_C1CGx"
      }
    },
    {
      "cell_type": "markdown",
      "source": [
        "\n",
        "Given the original dataset, it is clear we have many categorical features. All these need to be encoded. The [LabelEncoder](https://scikit-learn.org/stable/modules/generated/sklearn.preprocessing.LabelEncoder.html) class is used to transform the categorical or string values to numerical ones (between 0 and n_classes-1).\n",
        "\n",
        "In this case we will see what an impact the school has on peoples final grades, as there are 4 schools we should expect this column to be filled with values form '0-3'."
      ],
      "metadata": {
        "id": "MaTj6pw11nh_"
      }
    },
    {
      "cell_type": "code",
      "metadata": {
        "id": "PN55GrDX0jzO",
        "colab": {
          "base_uri": "https://localhost:8080/"
        },
        "outputId": "d2fdc82f-30d1-4eb1-9729-5630f82a87e0"
      },
      "source": [
        "testData_school = testData.copy() # We will be making copies of the dataset as we will be making changes to the columns as we go along\n",
        "\n",
        "# create an object of the LabelEncoder class\n",
        "lblEncoder_X = LabelEncoder()   \n",
        "# apply LblEncoder object to our categorical variables (columns - 'school') using the fit_transform method. This returns the column encoded.\n",
        "testData_school['school'] = lblEncoder_X.fit_transform(testData_school['school']) \n",
        "\n",
        "print(testData_school) # See that the 'school' column is now filled with integer values matching the 4 schools"
      ],
      "execution_count": null,
      "outputs": [
        {
          "output_type": "stream",
          "name": "stdout",
          "text": [
            "     mock1  mock2 studyTime travelTime absence  school  finalGrade\n",
            "0       67     69   241-480     61-120      No       0         100\n",
            "1       89     87   121-240      31-60      No       2          94\n",
            "2       43     39   241-480     61-120      No       3          51\n",
            "3       94     89   241-480     61-120     Yes       3         100\n",
            "4        7     14   241-480      31-60     Yes       0          26\n",
            "..     ...    ...       ...        ...     ...     ...         ...\n",
            "395     89     83   241-480      31-60     Yes       0         100\n",
            "396      9      8   241-480     61-120      No       3          17\n",
            "397     78     77   241-480      31-60      No       3          97\n",
            "398     22     22   241-480     61-120      No       0          61\n",
            "399     12     17   241-480      31-60     Yes       3          19\n",
            "\n",
            "[400 rows x 7 columns]\n"
          ]
        }
      ]
    },
    {
      "cell_type": "markdown",
      "source": [
        "Now let's try including this new numerical feature in our model."
      ],
      "metadata": {
        "id": "ms_w_ZFC2yeO"
      }
    },
    {
      "cell_type": "code",
      "source": [
        "tar='finalGrade'\n",
        "col_fin=['mock1','mock2','school']\n",
        "\n",
        "X = np.array(testData_school[col_fin])\n",
        "y = np.array(testData_school[tar])\n",
        "\n",
        "# Define how much test and training data we want. You can try changing these later to see how it changes the model and predictions\n",
        "n_train_points = 350 # This is the data that will be used to train our model. As a rule of thumb this should be in the region of 70-80% of the total data being used, but there may be good reasons for using more or less \n",
        "n_new_points = 50 # This is the data that will be used to test the accuracy of our model. As a rule of thumb this should be in the region of 20-30% of the total data being used, but there may be good reasons for using more or less \n",
        "\n",
        "# Split the feature data into training/new data\n",
        "X_train = X[:n_train_points] # This will select the data points from 0 to the number defined in n_train_points (200 in this case)\n",
        "X_new = X[n_train_points:n_train_points+n_new_points] # this will select the date from 200 to 250 in this case (n_train_points to n_train_points+n_new_points)\n",
        "\n",
        "\n",
        "# Split the target data into training/new data\n",
        "y_train = y[:n_train_points]\n",
        "y_true = y[n_train_points:n_train_points+n_new_points]\n",
        "\n",
        "# Create linear regression object\n",
        "obj = sklearn.linear_model.LinearRegression(fit_intercept=True)\n",
        "\n",
        "# Train the model using the training sets\n",
        "obj.fit(X_train, y_train)\n",
        "\n",
        "# Make predictions using the testing set\n",
        "y_pred = obj.predict(X_new)\n",
        "\n",
        "X_new_disp = X_new[:,0] # We will need to make a special vector for the feature we want on the x axis, as now X is a matrix matplotlib can't use it for a scatter plot\n",
        "\n",
        "# Plot outputs\n",
        "plt.scatter(X_new_disp, y_true,  color='black', label='y_true') # Observed y values\n",
        "plt.scatter(X_new_disp, y_pred, color='blue', label='y_pred') # predicted y values\n",
        "plt.xlabel('Mock 1')\n",
        "plt.ylabel('Final Grade')\n",
        "plt.legend()\n",
        "plt.show()\n",
        "\n",
        "# The mean squared error loss\n",
        "print('Mean squared error loss: {:.4f}'.format(sklearn.metrics.mean_squared_error(y_true, y_pred)))\n",
        "# The R2 score: 1 is perfect prediction\n",
        "print('R2 score: {:.4f}'.format(sklearn.metrics.r2_score(y_true, y_pred)))"
      ],
      "metadata": {
        "colab": {
          "base_uri": "https://localhost:8080/",
          "height": 314
        },
        "id": "xmKyjM9z_u8c",
        "outputId": "c404cbbb-787c-4c36-fd0e-1b5d85a72dbc"
      },
      "execution_count": null,
      "outputs": [
        {
          "output_type": "display_data",
          "data": {
            "text/plain": [
              "<Figure size 432x288 with 1 Axes>"
            ],
            "image/png": "[encoded data removed]"
          },
          "metadata": {
            "needs_background": "light"
          }
        },
        {
          "output_type": "stream",
          "name": "stdout",
          "text": [
            "Mean squared error loss: 119.2211\n",
            "R2 score: 0.8428\n"
          ]
        }
      ]
    },
    {
      "cell_type": "markdown",
      "source": [
        "The score has improved, but not by much in this case - but there are still lots of other categorical features we haven't used yet."
      ],
      "metadata": {
        "id": "PCqQ6HKF3RCX"
      }
    },
    {
      "cell_type": "markdown",
      "source": [
        "##4.3 Range based features\n",
        "\n",
        "Two of our columns (studyTime and travelTime) both provide us with value ranges which ahve been aggregated. These can be just treated like any other category with feature encoding, but in these cases you also have the option of just taking the middle value as the numeric value you will use.\n",
        "\n",
        "Below is one way that you can do this, but as is often the case in python there will be other (possibly better!) ways you could approach this task."
      ],
      "metadata": {
        "id": "2TUYto7q33LO"
      }
    },
    {
      "cell_type": "code",
      "source": [
        "testData_studyTimeAve = testData.copy() # We will be making copies of the dataset as we will be making changes to the columns as we go along\n",
        "\n",
        "# For now we are just going to test the impact of studyTime\n",
        "testData_studyTimeAve[\"studyTime\"]=testData_studyTimeAve[\"studyTime\"].astype('string')\n",
        "\n",
        "# Split the column using the .str.split function\n",
        "splitST = testData_studyTimeAve[\"studyTime\"].str.split(\"-\", n = 1, expand = True)\n",
        "splitST = splitST.astype(float) # Make sure data is numeric\n",
        "# making separate column from split data frames\n",
        "testData_studyTimeAve[\"studyTimeAve\"]= 0.5*(splitST[0]+splitST[1])\n",
        "\n",
        "display(testData_studyTimeAve)\n",
        "\n",
        "tar='finalGrade'\n",
        "\n",
        "col_fin=['mock1','mock2','studyTimeAve']\n",
        "\n",
        "\n",
        "X = np.array(testData_studyTimeAve[col_fin])\n",
        "y = np.array(testData_studyTimeAve[tar])\n",
        "\n",
        "\n",
        "# Define how much test and training data we want. You can try changing these later to see how it changes the model and predictions\n",
        "n_train_points = 350 # This is the data that will be used to train our model. As a rule of thumb this should be in the region of 70-80% of the total data being used, but there may be good reasons for using more or less \n",
        "n_new_points = 50 # This is the data that will be used to test the accuracy of our model. As a rule of thumb this should be in the region of 20-30% of the total data being used, but there may be good reasons for using more or less \n",
        "\n",
        "# Split the feature data into training/new data\n",
        "X_train = X[:n_train_points] # This will select the data points from 0 to the number defined in n_train_points (200 in this case)\n",
        "X_new = X[n_train_points:n_train_points+n_new_points] # this will select the date from 200 to 250 in this case (n_train_points to n_train_points+n_new_points)\n",
        "\n",
        "\n",
        "# Split the target data into training/new data\n",
        "y_train = y[:n_train_points]\n",
        "y_true = y[n_train_points:n_train_points+n_new_points]\n",
        "\n",
        "# Create linear regression object\n",
        "obj = sklearn.linear_model.LinearRegression(fit_intercept=True)\n",
        "\n",
        "# Train the model using the training sets\n",
        "obj.fit(X_train, y_train)\n",
        "\n",
        "# Make predictions using the testing set\n",
        "y_pred = obj.predict(X_new)\n",
        "\n",
        "X_new_disp = X_new[:,0] # We will need to make a special vector for the feature we want on the x axis, as now X is a matrix matplotlib can't use it for a scatter plot\n",
        "\n",
        "# Plot outputs\n",
        "plt.scatter(X_new_disp, y_true,  color='black', label='y_true') # Observed y values\n",
        "plt.scatter(X_new_disp, y_pred, color='blue', label='y_pred') # predicted y values\n",
        "plt.xlabel('Mock 1')\n",
        "plt.ylabel('Final Grade')\n",
        "plt.legend()\n",
        "plt.show()\n",
        "\n",
        "# The mean squared error loss\n",
        "print('Mean squared error loss: {:.4f}'.format(sklearn.metrics.mean_squared_error(y_true, y_pred)))\n",
        "# The R2 score: 1 is perfect prediction\n",
        "print('R2 score: {:.4f}'.format(sklearn.metrics.r2_score(y_true, y_pred)))"
      ],
      "metadata": {
        "colab": {
          "base_uri": "https://localhost:8080/",
          "height": 720
        },
        "id": "RYj8KGz9I7s_",
        "outputId": "d8da8656-b115-4e37-e038-63cefa508a8e"
      },
      "execution_count": null,
      "outputs": [
        {
          "output_type": "display_data",
          "data": {
            "text/plain": [
              "     mock1  mock2 studyTime travelTime absence school  finalGrade  \\\n",
              "0       67     69   241-480     61-120      No    KCI         100   \n",
              "1       89     87   121-240      31-60      No    KHV          94   \n",
              "2       43     39   241-480     61-120      No    QE2          51   \n",
              "3       94     89   241-480     61-120     Yes    QE2         100   \n",
              "4        7     14   241-480      31-60     Yes    KCI          26   \n",
              "..     ...    ...       ...        ...     ...    ...         ...   \n",
              "395     89     83   241-480      31-60     Yes    KCI         100   \n",
              "396      9      8   241-480     61-120      No    QE2          17   \n",
              "397     78     77   241-480      31-60      No    QE2          97   \n",
              "398     22     22   241-480     61-120      No    KCI          61   \n",
              "399     12     17   241-480      31-60     Yes    QE2          19   \n",
              "\n",
              "     studyTimeAve  \n",
              "0           360.5  \n",
              "1           180.5  \n",
              "2           360.5  \n",
              "3           360.5  \n",
              "4           360.5  \n",
              "..            ...  \n",
              "395         360.5  \n",
              "396         360.5  \n",
              "397         360.5  \n",
              "398         360.5  \n",
              "399         360.5  \n",
              "\n",
              "[400 rows x 8 columns]"
            ],
            "text/html": [
              "\n",
              "  <div id=\"df-d29627b1-8877-4b5d-98b6-1becfb818f00\">\n",
              "    <div class=\"colab-df-container\">\n",
              "      <div>\n",
              "<style scoped>\n",
              "    .dataframe tbody tr th:only-of-type {\n",
              "        vertical-align: middle;\n",
              "    }\n",
              "\n",
              "    .dataframe tbody tr th {\n",
              "        vertical-align: top;\n",
              "    }\n",
              "\n",
              "    .dataframe thead th {\n",
              "        text-align: right;\n",
              "    }\n",
              "</style>\n",
              "<table border=\"1\" class=\"dataframe\">\n",
              "  <thead>\n",
              "    <tr style=\"text-align: right;\">\n",
              "      <th></th>\n",
              "      <th>mock1</th>\n",
              "      <th>mock2</th>\n",
              "      <th>studyTime</th>\n",
              "      <th>travelTime</th>\n",
              "      <th>absence</th>\n",
              "      <th>school</th>\n",
              "      <th>finalGrade</th>\n",
              "      <th>studyTimeAve</th>\n",
              "    </tr>\n",
              "  </thead>\n",
              "  <tbody>\n",
              "    <tr>\n",
              "      <th>0</th>\n",
              "      <td>67</td>\n",
              "      <td>69</td>\n",
              "      <td>241-480</td>\n",
              "      <td>61-120</td>\n",
              "      <td>No</td>\n",
              "      <td>KCI</td>\n",
              "      <td>100</td>\n",
              "      <td>360.5</td>\n",
              "    </tr>\n",
              "    <tr>\n",
              "      <th>1</th>\n",
              "      <td>89</td>\n",
              "      <td>87</td>\n",
              "      <td>121-240</td>\n",
              "      <td>31-60</td>\n",
              "      <td>No</td>\n",
              "      <td>KHV</td>\n",
              "      <td>94</td>\n",
              "      <td>180.5</td>\n",
              "    </tr>\n",
              "    <tr>\n",
              "      <th>2</th>\n",
              "      <td>43</td>\n",
              "      <td>39</td>\n",
              "      <td>241-480</td>\n",
              "      <td>61-120</td>\n",
              "      <td>No</td>\n",
              "      <td>QE2</td>\n",
              "      <td>51</td>\n",
              "      <td>360.5</td>\n",
              "    </tr>\n",
              "    <tr>\n",
              "      <th>3</th>\n",
              "      <td>94</td>\n",
              "      <td>89</td>\n",
              "      <td>241-480</td>\n",
              "      <td>61-120</td>\n",
              "      <td>Yes</td>\n",
              "      <td>QE2</td>\n",
              "      <td>100</td>\n",
              "      <td>360.5</td>\n",
              "    </tr>\n",
              "    <tr>\n",
              "      <th>4</th>\n",
              "      <td>7</td>\n",
              "      <td>14</td>\n",
              "      <td>241-480</td>\n",
              "      <td>31-60</td>\n",
              "      <td>Yes</td>\n",
              "      <td>KCI</td>\n",
              "      <td>26</td>\n",
              "      <td>360.5</td>\n",
              "    </tr>\n",
              "    <tr>\n",
              "      <th>...</th>\n",
              "      <td>...</td>\n",
              "      <td>...</td>\n",
              "      <td>...</td>\n",
              "      <td>...</td>\n",
              "      <td>...</td>\n",
              "      <td>...</td>\n",
              "      <td>...</td>\n",
              "      <td>...</td>\n",
              "    </tr>\n",
              "    <tr>\n",
              "      <th>395</th>\n",
              "      <td>89</td>\n",
              "      <td>83</td>\n",
              "      <td>241-480</td>\n",
              "      <td>31-60</td>\n",
              "      <td>Yes</td>\n",
              "      <td>KCI</td>\n",
              "      <td>100</td>\n",
              "      <td>360.5</td>\n",
              "    </tr>\n",
              "    <tr>\n",
              "      <th>396</th>\n",
              "      <td>9</td>\n",
              "      <td>8</td>\n",
              "      <td>241-480</td>\n",
              "      <td>61-120</td>\n",
              "      <td>No</td>\n",
              "      <td>QE2</td>\n",
              "      <td>17</td>\n",
              "      <td>360.5</td>\n",
              "    </tr>\n",
              "    <tr>\n",
              "      <th>397</th>\n",
              "      <td>78</td>\n",
              "      <td>77</td>\n",
              "      <td>241-480</td>\n",
              "      <td>31-60</td>\n",
              "      <td>No</td>\n",
              "      <td>QE2</td>\n",
              "      <td>97</td>\n",
              "      <td>360.5</td>\n",
              "    </tr>\n",
              "    <tr>\n",
              "      <th>398</th>\n",
              "      <td>22</td>\n",
              "      <td>22</td>\n",
              "      <td>241-480</td>\n",
              "      <td>61-120</td>\n",
              "      <td>No</td>\n",
              "      <td>KCI</td>\n",
              "      <td>61</td>\n",
              "      <td>360.5</td>\n",
              "    </tr>\n",
              "    <tr>\n",
              "      <th>399</th>\n",
              "      <td>12</td>\n",
              "      <td>17</td>\n",
              "      <td>241-480</td>\n",
              "      <td>31-60</td>\n",
              "      <td>Yes</td>\n",
              "      <td>QE2</td>\n",
              "      <td>19</td>\n",
              "      <td>360.5</td>\n",
              "    </tr>\n",
              "  </tbody>\n",
              "</table>\n",
              "<p>400 rows × 8 columns</p>\n",
              "</div>\n",
              "      <button class=\"colab-df-convert\" onclick=\"convertToInteractive('df-d29627b1-8877-4b5d-98b6-1becfb818f00')\"\n",
              "              title=\"Convert this dataframe to an interactive table.\"\n",
              "              style=\"display:none;\">\n",
              "        \n",
              "  <svg xmlns=\"http://www.w3.org/2000/svg\" height=\"24px\"viewBox=\"0 0 24 24\"\n",
              "       width=\"24px\">\n",
              "    <path d=\"M0 0h24v24H0V0z\" fill=\"none\"/>\n",
              "    <path d=\"M18.56 5.44l.94 2.06.94-2.06 2.06-.94-2.06-.94-.94-2.06-.94 2.06-2.06.94zm-11 1L8.5 8.5l.94-2.06 2.06-.94-2.06-.94L8.5 2.5l-.94 2.06-2.06.94zm10 10l.94 2.06.94-2.06 2.06-.94-2.06-.94-.94-2.06-.94 2.06-2.06.94z\"/><path d=\"M17.41 7.96l-1.37-1.37c-.4-.4-.92-.59-1.43-.59-.52 0-1.04.2-1.43.59L10.3 9.45l-7.72 7.72c-.78.78-.78 2.05 0 2.83L4 21.41c.39.39.9.59 1.41.59.51 0 1.02-.2 1.41-.59l7.78-7.78 2.81-2.81c.8-.78.8-2.07 0-2.86zM5.41 20L4 18.59l7.72-7.72 1.47 1.35L5.41 20z\"/>\n",
              "  </svg>\n",
              "      </button>\n",
              "      \n",
              "  <style>\n",
              "    .colab-df-container {\n",
              "      display:flex;\n",
              "      flex-wrap:wrap;\n",
              "      gap: 12px;\n",
              "    }\n",
              "\n",
              "    .colab-df-convert {\n",
              "      background-color: #E8F0FE;\n",
              "      border: none;\n",
              "      border-radius: 50%;\n",
              "      cursor: pointer;\n",
              "      display: none;\n",
              "      fill: #1967D2;\n",
              "      height: 32px;\n",
              "      padding: 0 0 0 0;\n",
              "      width: 32px;\n",
              "    }\n",
              "\n",
              "    .colab-df-convert:hover {\n",
              "      background-color: #E2EBFA;\n",
              "      box-shadow: 0px 1px 2px rgba(60, 64, 67, 0.3), 0px 1px 3px 1px rgba(60, 64, 67, 0.15);\n",
              "      fill: #174EA6;\n",
              "    }\n",
              "\n",
              "    [theme=dark] .colab-df-convert {\n",
              "      background-color: #3B4455;\n",
              "      fill: #D2E3FC;\n",
              "    }\n",
              "\n",
              "    [theme=dark] .colab-df-convert:hover {\n",
              "      background-color: #434B5C;\n",
              "      box-shadow: 0px 1px 3px 1px rgba(0, 0, 0, 0.15);\n",
              "      filter: drop-shadow(0px 1px 2px rgba(0, 0, 0, 0.3));\n",
              "      fill: #FFFFFF;\n",
              "    }\n",
              "  </style>\n",
              "\n",
              "      <script>\n",
              "        const buttonEl =\n",
              "          document.querySelector('#df-d29627b1-8877-4b5d-98b6-1becfb818f00 button.colab-df-convert');\n",
              "        buttonEl.style.display =\n",
              "          google.colab.kernel.accessAllowed ? 'block' : 'none';\n",
              "\n",
              "        async function convertToInteractive(key) {\n",
              "          const element = document.querySelector('#df-d29627b1-8877-4b5d-98b6-1becfb818f00');\n",
              "          const dataTable =\n",
              "            await google.colab.kernel.invokeFunction('convertToInteractive',\n",
              "                                                     [key], {});\n",
              "          if (!dataTable) return;\n",
              "\n",
              "          const docLinkHtml = 'Like what you see? Visit the ' +\n",
              "            '<a target=\"_blank\" href=https://colab.research.google.com/notebooks/data_table.ipynb>data table notebook</a>'\n",
              "            + ' to learn more about interactive tables.';\n",
              "          element.innerHTML = '';\n",
              "          dataTable['output_type'] = 'display_data';\n",
              "          await google.colab.output.renderOutput(dataTable, element);\n",
              "          const docLink = document.createElement('div');\n",
              "          docLink.innerHTML = docLinkHtml;\n",
              "          element.appendChild(docLink);\n",
              "        }\n",
              "      </script>\n",
              "    </div>\n",
              "  </div>\n",
              "  "
            ]
          },
          "metadata": {}
        },
        {
          "output_type": "display_data",
          "data": {
            "text/plain": [
              "<Figure size 432x288 with 1 Axes>"
            ],
            "image/png": "[encoded data removed]"
          },
          "metadata": {
            "needs_background": "light"
          }
        },
        {
          "output_type": "stream",
          "name": "stdout",
          "text": [
            "Mean squared error loss: 111.7442\n",
            "R2 score: 0.8526\n"
          ]
        }
      ]
    },
    {
      "cell_type": "markdown",
      "source": [
        "Again, not an amazing increase, but we are still explaining more of the variation."
      ],
      "metadata": {
        "id": "yA4xGtBv7cxp"
      }
    },
    {
      "cell_type": "markdown",
      "source": [
        "##4.4 One Hot Encoding"
      ],
      "metadata": {
        "id": "u-fzznYY7h2C"
      }
    },
    {
      "cell_type": "markdown",
      "source": [
        "The final encoding strategy I'll talk about today is [one-hot encoding](https://scikit-learn.org/stable/modules/generated/sklearn.preprocessing.OneHotEncoder.html#sklearn.preprocessing.OneHotEncoder). For each feature, this expands the columns in the dataset to have one column per category using a 0/1 indicator to mark which category corresponds to each data point.\n",
        "\n",
        "There is no benefit to using OHE for categorical features with only two catgories (as you will just end up with two columns where the 1's and 0's are inverted, which adds nothing to the model).\n",
        "\n",
        "Let's try using the `studyTime` feature again to see how differnt a solution we get when comparge to the range average.\n",
        "\n",
        "If you are going to be using OHE on a larger scale for your data, I would advise setting up a pipeline to streamline things, as in this example I have just manually added all of the encoded columns to our dataframe."
      ],
      "metadata": {
        "id": "hM6SNSY476pD"
      }
    },
    {
      "cell_type": "code",
      "source": [
        "# create dataset copy for testing purposes\n",
        "testDataOHE = testData.copy()\n",
        "\n",
        "# create OneHotEncoder object\n",
        "oneHotEncoder = OneHotEncoder()  \n",
        "# and fit the OneHotEncoder object to feature studyTime\n",
        "onehot_enc = oneHotEncoder.fit(testDataOHE[['studyTime']])           \n",
        "print('The categories are: ', onehot_enc.categories_)\n",
        "\n",
        "# dum is an array of shape (391,2) containing the one-hot encoding of the feature Gender of the dataframe train_dataset_no_nans\n",
        "# we make a temporary object to be able to manipulate the extra number of columns\n",
        "OHT = onehot_enc.transform(testDataOHE[['studyTime']]).toarray()     \n",
        "\n",
        "# we add to the encoded columns to our dataset\n",
        "testDataOHE['studyTime_0'] = OHT[:,0]   \n",
        "testDataOHE['studyTime_1'] = OHT[:,1]     \n",
        "testDataOHE['studyTime_2'] = OHT[:,2]   \n",
        "testDataOHE['studyTime_3'] = OHT[:,3]   \n",
        "\n",
        "# chack that the new columns correspond to the correct time range (note, they may not be split in order, you can see the order they were split in the print statement above)\n",
        "display(testDataOHE)\n",
        "\n",
        "tar='finalGrade'\n",
        "\n",
        "col_fin=['mock1','mock2','studyTime_0','studyTime_1','studyTime_2','studyTime_3']\n",
        "\n",
        "X = np.array(testDataOHE[col_fin])\n",
        "y = np.array(testDataOHE[tar])\n",
        "\n",
        "# Define how much test and training data we want. You can try changing these later to see how it changes the model and predictions\n",
        "n_train_points = 350 # This is the data that will be used to train our model. As a rule of thumb this should be in the region of 70-80% of the total data being used, but there may be good reasons for using more or less \n",
        "n_new_points = 50 # This is the data that will be used to test the accuracy of our model. As a rule of thumb this should be in the region of 20-30% of the total data being used, but there may be good reasons for using more or less \n",
        "\n",
        "# Split the feature data into training/new data\n",
        "X_train = X[:n_train_points] # This will select the data points from 0 to the number defined in n_train_points (200 in this case)\n",
        "X_new = X[n_train_points:n_train_points+n_new_points] # this will select the date from 200 to 250 in this case (n_train_points to n_train_points+n_new_points)\n",
        "\n",
        "\n",
        "# Split the target data into training/new data\n",
        "y_train = y[:n_train_points]\n",
        "y_true = y[n_train_points:n_train_points+n_new_points]\n",
        "\n",
        "# Create linear regression object\n",
        "obj = sklearn.linear_model.LinearRegression(fit_intercept=True)\n",
        "\n",
        "# Train the model using the training sets\n",
        "obj.fit(X_train, y_train)\n",
        "\n",
        "# Make predictions using the testing set\n",
        "y_pred = obj.predict(X_new)\n",
        "\n",
        "X_new_disp = X_new[:,0] # We will need to make a special vector for the feature we want on the x axis, as now X is a matrix matplotlib can't use it for a scatter plot\n",
        "\n",
        "# Plot outputs\n",
        "plt.scatter(X_new_disp, y_true,  color='black', label='y_true') # Observed y values\n",
        "plt.scatter(X_new_disp, y_pred, color='blue', label='y_pred') # predicted y values\n",
        "plt.xlabel('Mock 1')\n",
        "plt.ylabel('Final Grade')\n",
        "plt.legend()\n",
        "plt.show()\n",
        "\n",
        "# The mean squared error loss\n",
        "print('Mean squared error loss: {:.4f}'.format(sklearn.metrics.mean_squared_error(y_true, y_pred)))\n",
        "# The R2 score: 1 is perfect prediction\n",
        "print('R2 score: {:.4f}'.format(sklearn.metrics.r2_score(y_true, y_pred)))"
      ],
      "metadata": {
        "colab": {
          "base_uri": "https://localhost:8080/",
          "height": 738
        },
        "id": "9DYSrJwxamMd",
        "outputId": "19419325-9460-494d-ddf1-b6a59a9e163d"
      },
      "execution_count": null,
      "outputs": [
        {
          "output_type": "stream",
          "name": "stdout",
          "text": [
            "The categories are:  [array(['0-60', '121-240', '241-480', '61-120'], dtype=object)]\n"
          ]
        },
        {
          "output_type": "display_data",
          "data": {
            "text/plain": [
              "     mock1  mock2 studyTime travelTime absence school  finalGrade  \\\n",
              "0       67     69   241-480     61-120      No    KCI         100   \n",
              "1       89     87   121-240      31-60      No    KHV          94   \n",
              "2       43     39   241-480     61-120      No    QE2          51   \n",
              "3       94     89   241-480     61-120     Yes    QE2         100   \n",
              "4        7     14   241-480      31-60     Yes    KCI          26   \n",
              "..     ...    ...       ...        ...     ...    ...         ...   \n",
              "395     89     83   241-480      31-60     Yes    KCI         100   \n",
              "396      9      8   241-480     61-120      No    QE2          17   \n",
              "397     78     77   241-480      31-60      No    QE2          97   \n",
              "398     22     22   241-480     61-120      No    KCI          61   \n",
              "399     12     17   241-480      31-60     Yes    QE2          19   \n",
              "\n",
              "     studyTime_0  studyTime_1  studyTime_2  studyTime_3  \n",
              "0            0.0          0.0          1.0          0.0  \n",
              "1            0.0          1.0          0.0          0.0  \n",
              "2            0.0          0.0          1.0          0.0  \n",
              "3            0.0          0.0          1.0          0.0  \n",
              "4            0.0          0.0          1.0          0.0  \n",
              "..           ...          ...          ...          ...  \n",
              "395          0.0          0.0          1.0          0.0  \n",
              "396          0.0          0.0          1.0          0.0  \n",
              "397          0.0          0.0          1.0          0.0  \n",
              "398          0.0          0.0          1.0          0.0  \n",
              "399          0.0          0.0          1.0          0.0  \n",
              "\n",
              "[400 rows x 11 columns]"
            ],
            "text/html": [
              "\n",
              "  <div id=\"df-1d3c662c-f7f5-45ad-8afd-5453c1d89805\">\n",
              "    <div class=\"colab-df-container\">\n",
              "      <div>\n",
              "<style scoped>\n",
              "    .dataframe tbody tr th:only-of-type {\n",
              "        vertical-align: middle;\n",
              "    }\n",
              "\n",
              "    .dataframe tbody tr th {\n",
              "        vertical-align: top;\n",
              "    }\n",
              "\n",
              "    .dataframe thead th {\n",
              "        text-align: right;\n",
              "    }\n",
              "</style>\n",
              "<table border=\"1\" class=\"dataframe\">\n",
              "  <thead>\n",
              "    <tr style=\"text-align: right;\">\n",
              "      <th></th>\n",
              "      <th>mock1</th>\n",
              "      <th>mock2</th>\n",
              "      <th>studyTime</th>\n",
              "      <th>travelTime</th>\n",
              "      <th>absence</th>\n",
              "      <th>school</th>\n",
              "      <th>finalGrade</th>\n",
              "      <th>studyTime_0</th>\n",
              "      <th>studyTime_1</th>\n",
              "      <th>studyTime_2</th>\n",
              "      <th>studyTime_3</th>\n",
              "    </tr>\n",
              "  </thead>\n",
              "  <tbody>\n",
              "    <tr>\n",
              "      <th>0</th>\n",
              "      <td>67</td>\n",
              "      <td>69</td>\n",
              "      <td>241-480</td>\n",
              "      <td>61-120</td>\n",
              "      <td>No</td>\n",
              "      <td>KCI</td>\n",
              "      <td>100</td>\n",
              "      <td>0.0</td>\n",
              "      <td>0.0</td>\n",
              "      <td>1.0</td>\n",
              "      <td>0.0</td>\n",
              "    </tr>\n",
              "    <tr>\n",
              "      <th>1</th>\n",
              "      <td>89</td>\n",
              "      <td>87</td>\n",
              "      <td>121-240</td>\n",
              "      <td>31-60</td>\n",
              "      <td>No</td>\n",
              "      <td>KHV</td>\n",
              "      <td>94</td>\n",
              "      <td>0.0</td>\n",
              "      <td>1.0</td>\n",
              "      <td>0.0</td>\n",
              "      <td>0.0</td>\n",
              "    </tr>\n",
              "    <tr>\n",
              "      <th>2</th>\n",
              "      <td>43</td>\n",
              "      <td>39</td>\n",
              "      <td>241-480</td>\n",
              "      <td>61-120</td>\n",
              "      <td>No</td>\n",
              "      <td>QE2</td>\n",
              "      <td>51</td>\n",
              "      <td>0.0</td>\n",
              "      <td>0.0</td>\n",
              "      <td>1.0</td>\n",
              "      <td>0.0</td>\n",
              "    </tr>\n",
              "    <tr>\n",
              "      <th>3</th>\n",
              "      <td>94</td>\n",
              "      <td>89</td>\n",
              "      <td>241-480</td>\n",
              "      <td>61-120</td>\n",
              "      <td>Yes</td>\n",
              "      <td>QE2</td>\n",
              "      <td>100</td>\n",
              "      <td>0.0</td>\n",
              "      <td>0.0</td>\n",
              "      <td>1.0</td>\n",
              "      <td>0.0</td>\n",
              "    </tr>\n",
              "    <tr>\n",
              "      <th>4</th>\n",
              "      <td>7</td>\n",
              "      <td>14</td>\n",
              "      <td>241-480</td>\n",
              "      <td>31-60</td>\n",
              "      <td>Yes</td>\n",
              "      <td>KCI</td>\n",
              "      <td>26</td>\n",
              "      <td>0.0</td>\n",
              "      <td>0.0</td>\n",
              "      <td>1.0</td>\n",
              "      <td>0.0</td>\n",
              "    </tr>\n",
              "    <tr>\n",
              "      <th>...</th>\n",
              "      <td>...</td>\n",
              "      <td>...</td>\n",
              "      <td>...</td>\n",
              "      <td>...</td>\n",
              "      <td>...</td>\n",
              "      <td>...</td>\n",
              "      <td>...</td>\n",
              "      <td>...</td>\n",
              "      <td>...</td>\n",
              "      <td>...</td>\n",
              "      <td>...</td>\n",
              "    </tr>\n",
              "    <tr>\n",
              "      <th>395</th>\n",
              "      <td>89</td>\n",
              "      <td>83</td>\n",
              "      <td>241-480</td>\n",
              "      <td>31-60</td>\n",
              "      <td>Yes</td>\n",
              "      <td>KCI</td>\n",
              "      <td>100</td>\n",
              "      <td>0.0</td>\n",
              "      <td>0.0</td>\n",
              "      <td>1.0</td>\n",
              "      <td>0.0</td>\n",
              "    </tr>\n",
              "    <tr>\n",
              "      <th>396</th>\n",
              "      <td>9</td>\n",
              "      <td>8</td>\n",
              "      <td>241-480</td>\n",
              "      <td>61-120</td>\n",
              "      <td>No</td>\n",
              "      <td>QE2</td>\n",
              "      <td>17</td>\n",
              "      <td>0.0</td>\n",
              "      <td>0.0</td>\n",
              "      <td>1.0</td>\n",
              "      <td>0.0</td>\n",
              "    </tr>\n",
              "    <tr>\n",
              "      <th>397</th>\n",
              "      <td>78</td>\n",
              "      <td>77</td>\n",
              "      <td>241-480</td>\n",
              "      <td>31-60</td>\n",
              "      <td>No</td>\n",
              "      <td>QE2</td>\n",
              "      <td>97</td>\n",
              "      <td>0.0</td>\n",
              "      <td>0.0</td>\n",
              "      <td>1.0</td>\n",
              "      <td>0.0</td>\n",
              "    </tr>\n",
              "    <tr>\n",
              "      <th>398</th>\n",
              "      <td>22</td>\n",
              "      <td>22</td>\n",
              "      <td>241-480</td>\n",
              "      <td>61-120</td>\n",
              "      <td>No</td>\n",
              "      <td>KCI</td>\n",
              "      <td>61</td>\n",
              "      <td>0.0</td>\n",
              "      <td>0.0</td>\n",
              "      <td>1.0</td>\n",
              "      <td>0.0</td>\n",
              "    </tr>\n",
              "    <tr>\n",
              "      <th>399</th>\n",
              "      <td>12</td>\n",
              "      <td>17</td>\n",
              "      <td>241-480</td>\n",
              "      <td>31-60</td>\n",
              "      <td>Yes</td>\n",
              "      <td>QE2</td>\n",
              "      <td>19</td>\n",
              "      <td>0.0</td>\n",
              "      <td>0.0</td>\n",
              "      <td>1.0</td>\n",
              "      <td>0.0</td>\n",
              "    </tr>\n",
              "  </tbody>\n",
              "</table>\n",
              "<p>400 rows × 11 columns</p>\n",
              "</div>\n",
              "      <button class=\"colab-df-convert\" onclick=\"convertToInteractive('df-1d3c662c-f7f5-45ad-8afd-5453c1d89805')\"\n",
              "              title=\"Convert this dataframe to an interactive table.\"\n",
              "              style=\"display:none;\">\n",
              "        \n",
              "  <svg xmlns=\"http://www.w3.org/2000/svg\" height=\"24px\"viewBox=\"0 0 24 24\"\n",
              "       width=\"24px\">\n",
              "    <path d=\"M0 0h24v24H0V0z\" fill=\"none\"/>\n",
              "    <path d=\"M18.56 5.44l.94 2.06.94-2.06 2.06-.94-2.06-.94-.94-2.06-.94 2.06-2.06.94zm-11 1L8.5 8.5l.94-2.06 2.06-.94-2.06-.94L8.5 2.5l-.94 2.06-2.06.94zm10 10l.94 2.06.94-2.06 2.06-.94-2.06-.94-.94-2.06-.94 2.06-2.06.94z\"/><path d=\"M17.41 7.96l-1.37-1.37c-.4-.4-.92-.59-1.43-.59-.52 0-1.04.2-1.43.59L10.3 9.45l-7.72 7.72c-.78.78-.78 2.05 0 2.83L4 21.41c.39.39.9.59 1.41.59.51 0 1.02-.2 1.41-.59l7.78-7.78 2.81-2.81c.8-.78.8-2.07 0-2.86zM5.41 20L4 18.59l7.72-7.72 1.47 1.35L5.41 20z\"/>\n",
              "  </svg>\n",
              "      </button>\n",
              "      \n",
              "  <style>\n",
              "    .colab-df-container {\n",
              "      display:flex;\n",
              "      flex-wrap:wrap;\n",
              "      gap: 12px;\n",
              "    }\n",
              "\n",
              "    .colab-df-convert {\n",
              "      background-color: #E8F0FE;\n",
              "      border: none;\n",
              "      border-radius: 50%;\n",
              "      cursor: pointer;\n",
              "      display: none;\n",
              "      fill: #1967D2;\n",
              "      height: 32px;\n",
              "      padding: 0 0 0 0;\n",
              "      width: 32px;\n",
              "    }\n",
              "\n",
              "    .colab-df-convert:hover {\n",
              "      background-color: #E2EBFA;\n",
              "      box-shadow: 0px 1px 2px rgba(60, 64, 67, 0.3), 0px 1px 3px 1px rgba(60, 64, 67, 0.15);\n",
              "      fill: #174EA6;\n",
              "    }\n",
              "\n",
              "    [theme=dark] .colab-df-convert {\n",
              "      background-color: #3B4455;\n",
              "      fill: #D2E3FC;\n",
              "    }\n",
              "\n",
              "    [theme=dark] .colab-df-convert:hover {\n",
              "      background-color: #434B5C;\n",
              "      box-shadow: 0px 1px 3px 1px rgba(0, 0, 0, 0.15);\n",
              "      filter: drop-shadow(0px 1px 2px rgba(0, 0, 0, 0.3));\n",
              "      fill: #FFFFFF;\n",
              "    }\n",
              "  </style>\n",
              "\n",
              "      <script>\n",
              "        const buttonEl =\n",
              "          document.querySelector('#df-1d3c662c-f7f5-45ad-8afd-5453c1d89805 button.colab-df-convert');\n",
              "        buttonEl.style.display =\n",
              "          google.colab.kernel.accessAllowed ? 'block' : 'none';\n",
              "\n",
              "        async function convertToInteractive(key) {\n",
              "          const element = document.querySelector('#df-1d3c662c-f7f5-45ad-8afd-5453c1d89805');\n",
              "          const dataTable =\n",
              "            await google.colab.kernel.invokeFunction('convertToInteractive',\n",
              "                                                     [key], {});\n",
              "          if (!dataTable) return;\n",
              "\n",
              "          const docLinkHtml = 'Like what you see? Visit the ' +\n",
              "            '<a target=\"_blank\" href=https://colab.research.google.com/notebooks/data_table.ipynb>data table notebook</a>'\n",
              "            + ' to learn more about interactive tables.';\n",
              "          element.innerHTML = '';\n",
              "          dataTable['output_type'] = 'display_data';\n",
              "          await google.colab.output.renderOutput(dataTable, element);\n",
              "          const docLink = document.createElement('div');\n",
              "          docLink.innerHTML = docLinkHtml;\n",
              "          element.appendChild(docLink);\n",
              "        }\n",
              "      </script>\n",
              "    </div>\n",
              "  </div>\n",
              "  "
            ]
          },
          "metadata": {}
        },
        {
          "output_type": "display_data",
          "data": {
            "text/plain": [
              "<Figure size 432x288 with 1 Axes>"
            ],
            "image/png": "[encoded data removed]"
          },
          "metadata": {
            "needs_background": "light"
          }
        },
        {
          "output_type": "stream",
          "name": "stdout",
          "text": [
            "Mean squared error loss: 111.0716\n",
            "R2 score: 0.8535\n"
          ]
        }
      ]
    },
    {
      "cell_type": "markdown",
      "source": [
        "Okay, so in this case our one-hot encoded features slightly ourperform taking the range average, but not by a significant amount.\n",
        "\n",
        "As is often the case in ML, which method will give you the best results when dealing with catgorical data will vary based on your dataet, so it is always worth experimenting with different encoding methods for your categorical data when testing your initial models."
      ],
      "metadata": {
        "id": "QymftQLO91sj"
      }
    },
    {
      "cell_type": "markdown",
      "source": [
        "##4.5 - Exercise 7\n",
        "\n",
        "So far we have only looked at two of our categorical features.\n",
        "Using all of the data, see how accurate a prediction of the final grade you can obtain (I was able to get around 95% $R^2$, but maybe you can do better!)\n",
        "\n",
        "Some things to try:\n",
        "\n",
        "*   See how performance changes with differnt encoding methods for each categorical feature (Label Encoding, One-hot encoding, taking the range average).\n",
        "*   You can use different encoding methods for different features if appropriate.\n",
        "*  You can also use polynomial feature with these categorical features to further improve the accuracy\n",
        "\n"
      ],
      "metadata": {
        "id": "lWqFJZlt_ITv"
      }
    },
    {
      "cell_type": "code",
      "source": [
        "##############################################################\n",
        "# Your code here\n",
        "##############################################################\n",
        "\n",
        "testData_enc = testData.copy() #note we are using the dataset with no missing values\n",
        "\n",
        "tar='finalGrade'\n",
        "\n",
        "# create an object of the LabelEncoder class\n",
        "lblEncoder_X = LabelEncoder()   \n",
        "testData_enc['studyTime'] = lblEncoder_X.fit_transform(testData_enc['studyTime']) \n",
        "testData_enc['travelTime'] = lblEncoder_X.fit_transform(testData_enc['travelTime']) \n",
        "testData_enc['absence'] = lblEncoder_X.fit_transform(testData_enc['absence']) \n",
        "testData_enc['school'] = lblEncoder_X.fit_transform(testData_enc['school']) \n",
        "\n",
        "col_fin=['mock1','mock2','studyTime','travelTime','absence','school']\n",
        "\n",
        "X = np.array(testData_enc[col_fin])\n",
        "y = np.array(testData_enc[tar])\n",
        "\n",
        "# Define how much test and training data we want. You can try changing these later to see how it changes the model and predictions\n",
        "n_train_points = 350 # This is the data that will be used to train our model. As a rule of thumb this should be in the region of 70-80% of the total data being used, but there may be good reasons for using more or less \n",
        "n_new_points = 50 # This is the data that will be used to test the accuracy of our model. As a rule of thumb this should be in the region of 20-30% of the total data being used, but there may be good reasons for using more or less \n",
        "\n",
        "# Split the feature data into training/new data\n",
        "X_train = X[:n_train_points] # This will select the data points from 0 to the number defined in n_train_points (200 in this case)\n",
        "X_new = X[n_train_points:n_train_points+n_new_points] # this will select the date from 200 to 250 in this case (n_train_points to n_train_points+n_new_points)\n",
        "\n",
        "# Split the target data into training/new data\n",
        "y_train = y[:n_train_points]\n",
        "y_true = y[n_train_points:n_train_points+n_new_points]\n",
        "\n",
        "degree = 3 # Define the maximum power of polynomial features you want to include\n",
        "poly = PolynomialFeatures(degree, interaction_only=False) # Create the polynomial features object\n",
        "X_train_poly = poly.fit_transform(X_train) # Fit the poly object to the training data to make a new feature matrix\n",
        "X_new_poly = poly.fit_transform(X_new) \n",
        "\n",
        "scaler = StandardScaler()\n",
        "scaler.fit(X_train_poly)\n",
        "X_train_poly_stded = scaler.transform(X_train_poly)\n",
        "X_new_poly_stded = scaler.transform(X_new_poly)\n",
        "\n",
        "# Create linear regression object\n",
        "obj = sklearn.linear_model.LinearRegression(fit_intercept=True)\n",
        "\n",
        "# Train the model using the training sets\n",
        "obj.fit(X_train_poly_stded, y_train)\n",
        "\n",
        "# Make predictions using the testing set\n",
        "y_pred = obj.predict(X_new_poly_stded)\n",
        "\n",
        "X_new_disp = X_new[:,0] # We will need to make a special vector for the feature we want on the x axis, as now X is a matrix matplotlib can't use it for a scatter plot\n",
        "\n",
        "# Plot outputs\n",
        "plt.scatter(X_new_disp, y_true,  color='black', label='y_true') # Observed y values\n",
        "plt.scatter(X_new_disp, y_pred, color='blue', label='y_pred') # predicted y values\n",
        "plt.xlabel('Age')\n",
        "plt.ylabel('Final Grade')\n",
        "plt.legend()\n",
        "plt.show()\n",
        "\n",
        "# The mean squared error loss\n",
        "print('Mean squared error loss: {:.4f}'.format(sklearn.metrics.mean_squared_error(y_true, y_pred)))\n",
        "# The R2 score: 1 is perfect prediction\n",
        "print('R2 score: {:.4f}'.format(sklearn.metrics.r2_score(y_true, y_pred)))"
      ],
      "metadata": {
        "colab": {
          "base_uri": "https://localhost:8080/",
          "height": 314
        },
        "id": "69guJJ1WHgTN",
        "outputId": "86d42948-658a-47a4-d6b8-3ccb6969cd98"
      },
      "execution_count": null,
      "outputs": [
        {
          "output_type": "display_data",
          "data": {
            "text/plain": [
              "<Figure size 432x288 with 1 Axes>"
            ],
            "image/png": "[encoded data removed]"
          },
          "metadata": {
            "needs_background": "light"
          }
        },
        {
          "output_type": "stream",
          "name": "stdout",
          "text": [
            "Mean squared error loss: 39.7091\n",
            "R2 score: 0.9476\n"
          ]
        }
      ]
    }
  ]
}