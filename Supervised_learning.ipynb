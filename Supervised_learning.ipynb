{
  "cells": [
    {
      "cell_type": "markdown",
      "metadata": {
        "id": "9Axrf87838Gv"
      },
      "source": [
        "# COMP1801 Tutorial Week 2 - Supervised learning Introduction (Regression)\n",
        "*Dr Peter Soar - 2022/23*\n",
        "\n",
        "This is the second tutorial and will be demonstrating how to use traditional ML methods. For this week we will be primarily focussing on Linear Regression.\n",
        "\n",
        "For this tutorial, read through and try to understand the text and code examples I have provided (ask your tutor if you have any questions) and this week there will be a selection of exercises. Attempt these exercises on your own, but do ask your tutor for help if you get stuck.\n",
        "\n"
      ]
    },
    {
      "cell_type": "markdown",
      "metadata": {
        "id": "V9mBJRDwyoV2"
      },
      "source": [
        "##0. Do not forget to import all the Python Libraries being used!"
      ]
    },
    {
      "cell_type": "code",
      "execution_count": 1,
      "metadata": {
        "id": "YLPQIDZKyhEH"
      },
      "outputs": [],
      "source": [
        "# Run this cell or a lot of the code in the workbook will not work!\n",
        "import numpy as np # A useful package for dealing with mathematical processes, it can deal with multi-dimensional arrays such as matrices intuitively.\n",
        "import pandas as pd #a common package for viewing tabular data\n",
        "import matplotlib.pyplot as plt #We will be using Matplotlib for our graphs\n",
        "import sklearn.linear_model, sklearn.datasets # sklearn is an important package for much of the ML we will be doing, this time we are using the Linear Regression Model and the datasets\n",
        "from sklearn import kernel_ridge # For one exercise I will also be demonstrating Kernal Ridge Regression\n"
      ]
    },
    {
      "cell_type": "markdown",
      "metadata": {
        "id": "ykSI-_2qoqB0"
      },
      "source": [
        "# 1. Supervised Learning (prediction, e.g. regression and classification)"
      ]
    },
    {
      "cell_type": "markdown",
      "metadata": {
        "id": "yAQS_fPBNwz-"
      },
      "source": [
        "## 1.1 Overview\n",
        "The aim of supervised learning to to make predictionsof target values when whesented with new feature values.\n",
        "- When presented with a Matrix  ${\\boldsymbol{X}_\\mathrm{new}}$ of new feature values, we want to output the vector ${\\hat{\\boldsymbol{y}}_\\mathrm{new}}$ of predicted target values.\n",
        "  - If the targets are *real* values (so continous numbers or `floats`) then you are solving a **regression** problem.\n",
        "  - If our targets are categorical class labels (represented with a string or integer number) then you are solving a **classification** problem.\n",
        "\n",
        "- To do this we need to train a model using training data containing existing feature and target values ${\\boldsymbol{X}_\\mathrm{train}}$ and ${\\boldsymbol{y}_\\mathrm{train}}$ \n",
        "  - Example 1: house price prediction (regression), where each value in $\\boldsymbol{X}$ is the income of an customer and the value in the same row in $\\boldsymbol{y}$ indicates the customor's house price.\n",
        "  - Example 2: breast cancer prediction (classification), where each values in $\\boldsymbol{X}$ is the area of a tumour and the value in the same row in $\\boldsymbol{y}$ indicates its label (benign/malignant).\n"
      ]
    },
    {
      "cell_type": "markdown",
      "metadata": {
        "id": "vBXs4VlzNqlT"
      },
      "source": [
        "##1.2 Predictions with Linear Models in Python\n",
        "\n",
        "\n",
        "\n",
        "1.   Define the model you want to use (example linear regression: `obj = sklearn.linear_model.LinearRegression()`)\n",
        "2.   Fit your model using the training data using `obj.fit(X_train, y_train)` (we will explain the importance of data splitting in a later lecture, for now just understand that we need to split our data into two parts - testing data and training data).\n",
        "  *   Inputs: \n",
        "      * ${\\boldsymbol{X}_\\mathrm{train}}$ (`X_train`): the feature matrix (a 2D `np.array` where `X_train.shape == (m_train, n)`) that contains the features of the training data.\n",
        "      * ${\\boldsymbol{y}_\\mathrm{train}}$ (`y_train`): the target vector (a 1D or 2D `np.array` where `y_train.shape == (m_train, p)`) that contains the target values of the training data.\n",
        "      * `m_train`: Number of rows of training data\n",
        "      * `n`: Number of features\n",
        "      * `p`: dimension of the target. $p=1$ for all examples in this workbook.\n",
        "  *   Outputs: ${\\boldsymbol{\\theta}}$ - the hypothesis function parameter(s) which describes our linear model.\n",
        "3. Predict the target values `y_pred = obj.predict(X_train)`\n",
        "  *   Mathematically: $\\hat{\\boldsymbol{Y}}_\\mathrm{new} = \\boldsymbol{h_{\\theta}}(\\boldsymbol{X}_\\mathrm{new})$\n",
        "  * Inputs: \n",
        "      * ${\\boldsymbol{X}_\\mathrm{new}}$ (`X_new`): the feature matrix (a 2D `np.array` where `X_new.shape == (m_new, n)`) that contains the features of the new data.\n",
        "      * `m_new`: Number of rows of new data\n",
        "      * `n`: Number of features\n",
        "      * Note: The $i$-th row $\\boldsymbol{x}_\\mathrm{new}^{(i) \\top}$ (`X_new[i, :]`) of the feature matrix ${\\boldsymbol{X}_\\mathrm{new}}$ can be defined as a feature vector (1D `np.array` row vector) for the $i$-th new data point ($i = 0, 1, \\dots, m_\\mathrm{new}-1$), allowing $ \\boldsymbol{X}_\\mathrm{new}$ to be defined in the following vector form:\n",
        "\n",
        "  $$\n",
        "  \\boldsymbol{X}_\\mathrm{new}\n",
        "  = \\begin{bmatrix}\n",
        "  \\boldsymbol{x}_\\mathrm{new}^{(0)} \\\\\n",
        "  \\boldsymbol{x}_\\mathrm{new}^{(1)} \\\\\n",
        "  \\vdots \\\\\n",
        "  \\boldsymbol{x}_\\mathrm{new}^{(m_\\mathrm{new} - 1)} \\\\\n",
        "  \\end{bmatrix}.\n",
        "  $$   \n",
        "  * Implicit inputs (stored in the model): ${\\boldsymbol{\\theta}}$ - the hypothesis function parameter(s) which describes our linear model.\n",
        " * Outputs:\n",
        "      * ${\\hat{\\boldsymbol{y}}_\\mathrm{new}}$ (`y_pred` for one-dimensional target cases or `Y_pred` for multi-dimensional target cases): the target vector (a 1D or 2D `np.array` where `y_train.shape == (m_new, p)`) that contains the target values of the training data.\n",
        "      * `p`: dimension of the target. $p=1$ for all examples in this workbook.\n",
        "      * Note: The $i$-th row $\\hat{\\boldsymbol{y}}_\\mathrm{new}^{(i) \\top}$ (`y_pred[i]` or `Y_pred[i, :]`) of the prediction vector ${\\hat{\\boldsymbol{y}}_\\mathrm{new}}$ \n",
        "     (`int` or 1D `np.ndarray`) can be defined as the target vector of the $i$-th new data point ($i = 0, 1, \\dots, m_\\mathrm{new}-1$), given by $\\hat{\\boldsymbol{y}}_\\mathrm{new}^{(i)} = h_\\boldsymbol{\\theta} (\\boldsymbol{x}_\\mathrm{new}^{(i)})$, , allowing $ \\hat{\\boldsymbol{y}}_\\mathrm{new}$ to be defined in the following vector form:\n",
        "\n",
        "$$\n",
        "      \\hat{\\boldsymbol{y}}_\\mathrm{new}\n",
        "      = \\begin{bmatrix}\n",
        "      \\hat{\\boldsymbol{y}}_\\mathrm{new}^{(0)} \\\\\n",
        "      \\hat{\\boldsymbol{y}}_\\mathrm{new}^{(1)} \\\\\n",
        "      \\vdots \\\\\n",
        "      \\hat{\\boldsymbol{y}}_\\mathrm{new}^{(m_\\mathrm{new} - 1)} \\\\\n",
        "      \\end{bmatrix}\n",
        "      = \\begin{bmatrix}\n",
        "      h_\\boldsymbol{\\theta} (\\boldsymbol{x}_\\mathrm{new}^{(0)}) \\\\\n",
        "      h_\\boldsymbol{\\theta} (\\boldsymbol{x}_\\mathrm{new}^{(1)}) \\\\\n",
        "      \\vdots \\\\\n",
        "      h_\\boldsymbol{\\theta} (\\boldsymbol{x}_\\mathrm{new}^{(m_\\mathrm{new} - 1)}) \\\\\n",
        "      \\end{bmatrix}.\n",
        "$$"
      ]
    },
    {
      "cell_type": "markdown",
      "metadata": {
        "id": "1qNzsjXVZaHR"
      },
      "source": [
        "##1.3 Linear Regression\n",
        "In this tutorial we are primarily going to be looking at fitting linear regression models to our data, where for our training data we fit a model that is based on linear relationships between our feature(s) and our target.\n",
        "\n",
        "We can define this Mathematically as:\n",
        "*   For our data we have the relationship: $ \\boldsymbol{y} = \\boldsymbol{X}\\boldsymbol{\\theta} + e$ where $e$ is some error (assumed to be normally distributed)\n",
        "*   We will fit a model: $\\boldsymbol{h_{\\theta}}(\\boldsymbol{X}_\\mathrm{new}) = \\hat{\\boldsymbol{y}}_\\mathrm{new}$ which minimises the error between our observed and predicted values of $\\boldsymbol{y}$\n",
        "*   Or in Matrix form:\n",
        "\n",
        "$$\n",
        "\\begin{bmatrix}\n",
        "\\boldsymbol{x}_\\mathrm{new}^{(0,0)}  & \\boldsymbol{x}_\\mathrm{new}^{(0,1)}  & \\dots  & \\boldsymbol{x}_\\mathrm{new}^{(0,n)}\\\\\n",
        "\\boldsymbol{x}_\\mathrm{new}^{(1,0)}  & \\boldsymbol{x}_\\mathrm{new}^{(1,1)}  & \\dots  & \\boldsymbol{x}_\\mathrm{new}^{(1,n)}\\\\\n",
        "\\vdots & \\vdots & \\ddots & \\vdots \\\\\n",
        "\\boldsymbol{x}_\\mathrm{new}^{(m_\\mathrm{new} - 1, 0)} & \\boldsymbol{x}_\\mathrm{new}^{(m_\\mathrm{new} - 1, 1)} & \\dots  & \\boldsymbol{x}_\\mathrm{new}^{(m_\\mathrm{new} - 1, n)}\\\\\n",
        "\\end{bmatrix}\n",
        "\\begin{bmatrix}\n",
        "\\theta_{1} \\\\\n",
        "\\theta_{2} \\\\\n",
        "\\vdots \\\\\n",
        "\\theta_{n}\\\\\n",
        "\\end{bmatrix} = \\begin{bmatrix}\n",
        "      \\hat{\\boldsymbol{y}}_\\mathrm{new}^{(0)} \\\\\n",
        "      \\hat{\\boldsymbol{y}}_\\mathrm{new}^{(1)} \\\\\n",
        "      \\vdots \\\\\n",
        "      \\hat{\\boldsymbol{y}}_\\mathrm{new}^{(m_\\mathrm{new} - 1)} \\\\\n",
        "      \\end{bmatrix}.\n",
        "$$   \n",
        "*   We can also write the model in terms of our feature(s) and parameters more explicitely for each predicted target value:\n",
        "  *   Generic multivariable equation: $\\hat{\\boldsymbol{y}}_\\mathrm{new}^{(i)} =\\theta_{0}+\\theta_{1}x_1^{(i)} + \\dots + \\theta_{n}x_n^{(i)} $\n",
        "  *   Univariate equation with intercept (constant): $\\hat{\\boldsymbol{y}}_\\mathrm{new}^{(i)} =\\theta_{0}+\\theta_{1}x_1^{(i)}$\n",
        "  *   Univariate equation with no intercept (for centred data): $\\hat{\\boldsymbol{y}}_\\mathrm{new}^{(i)} =\\theta_{1}x_1^{(i)}$\n",
        "  *   Note: You can define if you want to include your intercept by using the  `fit_intercept` parameter when defining your model - `sklearn.linear_model.LinearRegression(fit_intercept=True)`. `True` is the default value, if set to `False` then $\\theta_{0}$ is fixed as zero.\n",
        "* The Linear Regression model we are fitting in sklearn uses the 'least squares error' to obtain optimal values for $\\boldsymbol{\\theta}$\n",
        "  * Calculating this least squares error allows the model parameters to be obtained directly by the following equation:\n",
        "  $$\\boldsymbol{\\theta} = (\\boldsymbol{X_{train}}^T\\boldsymbol{X_{train}})^{-1} \\boldsymbol{X_{train}}^T\\boldsymbol{y_{train}}\n",
        "  $$\n",
        "  * I won't do it here, but there are many proofs of how to obtain this equation online.\n",
        "* To judge how well our models are performing, we will be using two metrics this week\n",
        "  * Mean Squared Error\n",
        "    * $\\frac{1}{n}\\sum^{n}_{i=1}(y_i -\\hat{y_i})^2$\n",
        "    * Aim is to minimise this value\n",
        "    * This value must $0$ (for a perfect model) or positive, due to any errors being squared.\n",
        "    * We will be using the MSE as our loss function in later lectures.\n",
        "  * $R^2$ Score\n",
        "    * Explains how closely our predictions match the real data\n",
        "    * Generally in the range $0 \\leq R^2 \\leq 1$, where $1$ is a perfect fit. However, it can go below 0 if your model fits worse than a horizontal line.\n",
        "\n",
        "  * Note: the mean square error is affected by the scale of the target values, while R2 score is normalized by the variance of the target values.\n"
      ]
    },
    {
      "cell_type": "markdown",
      "metadata": {
        "id": "0Q6kD_TYqKBm"
      },
      "source": [
        "# 2. Fitting a univariate Linear Regression Model on synthetic data."
      ]
    },
    {
      "cell_type": "markdown",
      "metadata": {
        "id": "vjrLe_BoWJRE"
      },
      "source": [
        "For our first example, I want to show you a very simple case where we are fitting a univariate linear regression line to just a few lines of data.\n",
        "The data have a relationship of $y=x$ with some added noise.\n",
        "Because we are fitting the intercept on this model, the Model we are technically fitting is:\n",
        "\n",
        "$$\n",
        "\\begin{bmatrix}\n",
        "1 & 1 \\\\\n",
        "1 & 2 \\\\\n",
        "1 & 3 \\\\\n",
        "1 & 4 \\\\\n",
        "1 & 5 \\\\\n",
        "1 & 6 \\\\\n",
        "1 & 7 \\\\\n",
        "1 & 8 \\\\\n",
        "1 & 9 \\\\\n",
        "1 & 10 \\\\\n",
        "\\end{bmatrix}\n",
        "\\begin{bmatrix}\n",
        "\\theta_{0} \\\\\n",
        "\\theta_{1} \\\\\n",
        "\\end{bmatrix} = \\begin{bmatrix}\n",
        "2.259000208 \\\\\n",
        "2.089513864 \\\\\n",
        "2.691697786 \\\\\n",
        "4.335616639 \\\\\n",
        "5.990895127 \\\\\n",
        "5.715164414 \\\\\n",
        "6.785837863 \\\\\n",
        "7.833729282 \\\\\n",
        "9.136204457 \\\\\n",
        "8.322833045 \\\\\n",
        "      \\end{bmatrix} + \\boldsymbol{e}.\n",
        "$$   \n"
      ]
    },
    {
      "cell_type": "code",
      "execution_count": 2,
      "metadata": {
        "colab": {
          "base_uri": "https://localhost:8080/",
          "height": 348
        },
        "id": "FDQAMA-vBpWL",
        "outputId": "9f2b1d14-52a6-4280-c300-de67f2a37c15"
      },
      "outputs": [
        {
          "name": "stdout",
          "output_type": "stream",
          "text": [
            "theta_0: [0.95983526]\n",
            "theta_1: [[0.82840255]]\n"
          ]
        },
        {
          "data": {
            "image/png": "[encoded data removed]",
            "text/plain": [
              "<Figure size 640x480 with 1 Axes>"
            ]
          },
          "metadata": {},
          "output_type": "display_data"
        },
        {
          "name": "stdout",
          "output_type": "stream",
          "text": [
            "Mean squared error loss: 0.3337\n",
            "R2 score: 0.9443\n"
          ]
        }
      ],
      "source": [
        "# Create our arrays of training data\n",
        "# Note, because we are using `intercept_fit=True` (the default) in our linear model, we do not have to include the column of 1's\n",
        "# The model implicitely know we want to calculate theta_0\n",
        "X_train = np.array([[1],[2],[3],[4],[5],[6],[7],[8],[9],[10]])\n",
        "y_train = np.array([[2.259000208],[2.089513864],[2.691697786],[4.335616639],[5.990895127],[5.715164414],[6.785837863],[7.833729282],[9.136204457],[8.322833045]])\n",
        "\n",
        "# Create linear regression object\n",
        "obj = sklearn.linear_model.LinearRegression()\n",
        "\n",
        "# Train the model using the training sets\n",
        "obj.fit(X_train, y_train)\n",
        "\n",
        "# Can obtain out model coefficients from the model obj we have trained\n",
        "print('theta_0:',obj.intercept_)\n",
        "print('theta_1:',obj.coef_)\n",
        "\n",
        "# Plot our results\n",
        "plt.scatter(X_train, y_train,  color='black', label='y_train')\n",
        "plt.plot(X_train, obj.predict(X_train), color='blue', label='Linear Model')\n",
        "plt.xlabel('X')\n",
        "plt.ylabel('Y')\n",
        "plt.legend()\n",
        "plt.show()\n",
        "\n",
        "# Look at our evaluation metrics - how well have we fit the data?\n",
        "# Note: Usually we will be computing these on predictions based on our test data, but for this case we are testing how well our model fits the data we have.\n",
        "# The mean squared error loss\n",
        "print('Mean squared error loss: {:.4f}'.format(sklearn.metrics.mean_squared_error(y_train, obj.predict(X_train))))\n",
        "# The R2 score: 1 is perfect prediction\n",
        "print('R2 score: {:.4f}'.format(sklearn.metrics.r2_score(y_train, obj.predict(X_train))))"
      ]
    },
    {
      "cell_type": "markdown",
      "metadata": {
        "id": "HeDn6ACetAQp"
      },
      "source": [
        "##2.1 **Exercise 1**"
      ]
    },
    {
      "cell_type": "markdown",
      "metadata": {
        "id": "XkfRKwkaExT9"
      },
      "source": [
        "Try fitting another univariate Linear Regression Model to the following data:\n",
        "$$\n",
        "\\begin{bmatrix}\n",
        "1 & 1 \\\\\n",
        "1 & 2 \\\\\n",
        "1 & 3 \\\\\n",
        "1 & 4 \\\\\n",
        "1 & 5 \\\\\n",
        "1 & 6 \\\\\n",
        "1 & 7 \\\\\n",
        "1 & 8 \\\\\n",
        "1 & 9 \\\\\n",
        "1 & 10 \\\\\n",
        "\\end{bmatrix}\n",
        "\\begin{bmatrix}\n",
        "\\theta_{0} \\\\\n",
        "\\theta_{1} \\\\\n",
        "\\end{bmatrix} = \\begin{bmatrix}\n",
        "4.389592281 \\\\\n",
        "5.38190902 \\\\\n",
        "6.043030047 \\\\\n",
        "5.344140261 \\\\\n",
        "10.74627973 \\\\\n",
        "12.65013556 \\\\\n",
        "15.69762882 \\\\\n",
        "16.04443143 \\\\\n",
        "16.55969237 \\\\\n",
        "20.49457587 \\\\\n",
        "      \\end{bmatrix} + \\textbf{e}.\n",
        "$$   \n",
        "\n",
        "How do these parameters compare to our first model and what does that say about the relationship between $X$ and $y$ in this case?"
      ]
    },
    {
      "cell_type": "code",
      "execution_count": 3,
      "metadata": {
        "colab": {
          "base_uri": "https://localhost:8080/",
          "height": 348
        },
        "id": "xbrQGcacDnN2",
        "outputId": "b6afc0ba-9e1e-4a37-a80b-8b34728a3811"
      },
      "outputs": [
        {
          "name": "stdout",
          "output_type": "stream",
          "text": [
            "theta_0: [1.12978607]\n",
            "theta_1: [[1.85551918]]\n"
          ]
        },
        {
          "data": {
            "image/png": "[encoded data removed]",
            "text/plain": [
              "<Figure size 640x480 with 1 Axes>"
            ]
          },
          "metadata": {},
          "output_type": "display_data"
        },
        {
          "name": "stdout",
          "output_type": "stream",
          "text": [
            "Mean squared error loss: 1.8013\n",
            "R2 score: 0.9404\n"
          ]
        }
      ],
      "source": [
        "##############################################################\n",
        "# YOur code here\n",
        "##############################################################\n",
        "X_train = np.array([[1],[2],[3],[4],[5],[6],[7],[8],[9],[10]])\n",
        "y_train = np.array([[4.389592281],[5.38190902],[6.043030047],[5.344140261],[10.74627973],[12.65013556],[15.69762882],[16.04443143],[16.55969237],[20.49457587]])\n",
        "\n",
        "# Create linear regression object\n",
        "model = sklearn.linear_model.LinearRegression()\n",
        "\n",
        "# Train the model using the training sets\n",
        "model.fit(X_train, y_train)\n",
        "\n",
        "# Can obtain out model coefficients from the model obj we have trained\n",
        "print('theta_0:',model.intercept_)\n",
        "print('theta_1:',model.coef_)\n",
        "\n",
        "# Plot our results\n",
        "plt.scatter(X_train, y_train,  color='black', label='y_train')\n",
        "plt.plot(X_train, model.predict(X_train), color='blue', label='Linear Model')\n",
        "plt.xlabel('X')\n",
        "plt.ylabel('Y')\n",
        "plt.legend()\n",
        "plt.show()\n",
        "\n",
        "# Look at our evaluation metrics - how well have we fit the data?\n",
        "# The mean squared error loss\n",
        "print('Mean squared error loss: {:.4f}'.format(sklearn.metrics.mean_squared_error(y_train, model.predict(X_train))))\n",
        "# The R2 score: 1 is perfect prediction\n",
        "print('R2 score: {:.4f}'.format(sklearn.metrics.r2_score(y_train, model.predict(X_train))))"
      ]
    },
    {
      "cell_type": "code",
      "execution_count": 4,
      "metadata": {},
      "outputs": [
        {
          "data": {
            "text/plain": [
              "array([[ 1.        ,  4.38959228],\n",
              "       [ 2.        ,  5.38190902],\n",
              "       [ 3.        ,  6.04303005],\n",
              "       [ 4.        ,  5.34414026],\n",
              "       [ 5.        , 10.74627973],\n",
              "       [ 6.        , 12.65013556],\n",
              "       [ 7.        , 15.69762882],\n",
              "       [ 8.        , 16.04443143],\n",
              "       [ 9.        , 16.55969237],\n",
              "       [10.        , 20.49457587]])"
            ]
          },
          "execution_count": 4,
          "metadata": {},
          "output_type": "execute_result"
        }
      ],
      "source": [
        "np.c_[X_train, y_train]"
      ]
    },
    {
      "cell_type": "markdown",
      "metadata": {
        "id": "WyATjv0CuvdO"
      },
      "source": [
        "#3. Loss functions"
      ]
    },
    {
      "cell_type": "markdown",
      "metadata": {
        "id": "FHYTwfz9l-FK"
      },
      "source": [
        "For least squares lienar regression we are able to obtain esimates for $\\theta$ directly when fitting our model. However, as we will be exploring in more detail next week, that is not always a viable option for some models. In these cases we we will update $\\theta$ starting with an initial guess and updating it until we find the values which minimse the loss function being used. For this we use optimization algorithms, as I will cover next week, but I just want to make some quick demonstrations here to make sure you keep the loss function in mind as we continue on."
      ]
    },
    {
      "cell_type": "code",
      "execution_count": 5,
      "metadata": {
        "colab": {
          "base_uri": "https://localhost:8080/",
          "height": 314
        },
        "id": "YfXX4Ctnz13I",
        "outputId": "5a6b5532-db12-4c5a-8492-2dd5a6e3dba5"
      },
      "outputs": [
        {
          "data": {
            "image/png": "[encoded data removed]",
            "text/plain": [
              "<Figure size 640x480 with 1 Axes>"
            ]
          },
          "metadata": {},
          "output_type": "display_data"
        },
        {
          "name": "stdout",
          "output_type": "stream",
          "text": [
            "Hypothesis:  [[1.27302995]]\n",
            "Loss:  2.869996213512213\n"
          ]
        }
      ],
      "source": [
        "# Define a perfect y=x equation\n",
        "X = np.array([[1],[2],[3],[4],[5],[6],[7],[8],[9],[10]])\n",
        "y_true = np.array([[1],[2],[3],[4],[5],[6],[7],[8],[9],[10]])\n",
        "\n",
        "# Generate a random value between +-5\n",
        "thetas = (np.random.rand(1,1)-0.5)*10\n",
        "\n",
        "# Predict our y values with this hypothesis: y_pred= X*theta\n",
        "y_pred = X.dot(thetas)\n",
        "\n",
        "# Plot outputs to see how well we fit the real data\n",
        "plt.scatter(X, y_true,  color='black', label='y_true')\n",
        "plt.plot(X, y_pred, color='blue', label='y_pred')\n",
        "plt.xlabel('X')\n",
        "plt.ylabel('Y')\n",
        "plt.legend()\n",
        "plt.show()\n",
        "\n",
        "print('Hypothesis: ', thetas) # show our guessed hypothesis\n",
        "print('Loss: ', sklearn.metrics.mean_squared_error(y_true, y_pred)) # Mean Squared error we want minimised.\n",
        "\n",
        "# Try running this cell multiple time to see how the predicted model and loss function change as we make differnt guesses for theta."
      ]
    },
    {
      "cell_type": "markdown",
      "metadata": {
        "id": "Kbkrl5vnoqas"
      },
      "source": [
        "After running this for a few times it should be quite obvious that the hypothesis that minimises MSE is $\\theta=1$, but it certainly isn't practical to sit here making random guesses one at a time for more complicated models.\n",
        "Below I've shown how the loss function minimising hypothesis is clearly 1 by taking many random samples at once. Try experimenting with the number of samples and see how much clearer it becomes as the samples increase and how unclear it is with only a handfull of samples."
      ]
    },
    {
      "cell_type": "code",
      "execution_count": 6,
      "metadata": {
        "colab": {
          "base_uri": "https://localhost:8080/",
          "height": 312
        },
        "id": "MDJWZ17sv-4m",
        "outputId": "2d417b7a-00b5-418e-cecd-af389864e7f1"
      },
      "outputs": [
        {
          "data": {
            "text/plain": [
              "Text(0.5, 1.0, 'Theta vs Loss')"
            ]
          },
          "execution_count": 6,
          "metadata": {},
          "output_type": "execute_result"
        },
        {
          "data": {
            "image/png": "[encoded data removed]",
            "text/plain": [
              "<Figure size 640x480 with 1 Axes>"
            ]
          },
          "metadata": {},
          "output_type": "display_data"
        }
      ],
      "source": [
        "# Define your model vectors again\n",
        "X = np.array([[1],[2],[3],[4],[5],[6],[7],[8],[9],[10]])\n",
        "y_true = np.array([[1],[2],[3],[4],[5],[6],[7],[8],[9],[10]])\n",
        "\n",
        "# Decide how many random guesses you want to take\n",
        "# Try a small number such as 5 and compare with a larger number like 100\n",
        "samples = 25\n",
        "\n",
        "ind = np.arange(0,samples) # create an index vector for our loop\n",
        "thetas = (np.random.rand(1,samples)-0.5)*10 # generate a vector of random guesses for theta\n",
        "cost = np.zeros(samples) # create anempty vector to store out loss function results in\n",
        "y_pred = X.dot(thetas) # Predict our y values for all our guesses of theta at once\n",
        "\n",
        "# Loop through our random guesses and work out the corresponding cost function.\n",
        "for i in ind:\n",
        "  cost[i]=sklearn.metrics.mean_squared_error(y_true, y_pred[:,i])\n",
        "\n",
        "\n",
        "# Plot the output\n",
        "# See how the theta that minimises the MSE is clearly 1 \n",
        "plt.scatter(thetas, cost,  color='black')\n",
        "plt.xlabel('Theta')\n",
        "plt.ylabel('MSE Loss')\n",
        "plt.title('Theta vs Loss')"
      ]
    },
    {
      "cell_type": "markdown",
      "metadata": {
        "id": "-CiaAYTNtGIq"
      },
      "source": [
        "# 4. Fit Linear Regression on Real Data"
      ]
    },
    {
      "cell_type": "markdown",
      "metadata": {
        "id": "-UTCfKpZru6o"
      },
      "source": [
        "Now we have been through quite  bit of theory, I want to give you some examples and exercises where you are fitting linear models to some real data."
      ]
    },
    {
      "cell_type": "markdown",
      "metadata": {
        "id": "SywDO5AjOUtj"
      },
      "source": [
        "##4.1 Linear Regression with one Variable"
      ]
    },
    {
      "cell_type": "markdown",
      "metadata": {
        "id": "myOcNy1Er6qw"
      },
      "source": [
        "For this first examples we are going to use the California housing data I got you to load last week, we will be using the version hosted on sklearn again."
      ]
    },
    {
      "cell_type": "markdown",
      "metadata": {
        "id": "yrjEfz9SKAMf"
      },
      "source": [
        "###Load the data\n"
      ]
    },
    {
      "cell_type": "markdown",
      "metadata": {
        "id": "ObHTaFdHsSee"
      },
      "source": [
        "The first step is loading our data into Colab, hopefully this will all be familliar from last week:"
      ]
    },
    {
      "cell_type": "code",
      "execution_count": 25,
      "metadata": {
        "colab": {
          "base_uri": "https://localhost:8080/",
          "height": 831
        },
        "id": "fcz2ttR8GAHi",
        "outputId": "7ebc9671-047d-469e-8823-703f82dd4887"
      },
      "outputs": [
        {
          "data": {
            "text/html": [
              "<div>\n",
              "<style scoped>\n",
              "    .dataframe tbody tr th:only-of-type {\n",
              "        vertical-align: middle;\n",
              "    }\n",
              "\n",
              "    .dataframe tbody tr th {\n",
              "        vertical-align: top;\n",
              "    }\n",
              "\n",
              "    .dataframe thead th {\n",
              "        text-align: right;\n",
              "    }\n",
              "</style>\n",
              "<table border=\"1\" class=\"dataframe\">\n",
              "  <thead>\n",
              "    <tr style=\"text-align: right;\">\n",
              "      <th></th>\n",
              "      <th>MedInc</th>\n",
              "      <th>HouseAge</th>\n",
              "      <th>AveRooms</th>\n",
              "      <th>AveBedrms</th>\n",
              "      <th>Population</th>\n",
              "      <th>AveOccup</th>\n",
              "      <th>Latitude</th>\n",
              "      <th>Longitude</th>\n",
              "      <th>target</th>\n",
              "    </tr>\n",
              "  </thead>\n",
              "  <tbody>\n",
              "    <tr>\n",
              "      <th>0</th>\n",
              "      <td>3.3687</td>\n",
              "      <td>45.0</td>\n",
              "      <td>5.594175</td>\n",
              "      <td>0.998058</td>\n",
              "      <td>1470.0</td>\n",
              "      <td>2.854369</td>\n",
              "      <td>34.00</td>\n",
              "      <td>-117.38</td>\n",
              "      <td>1.23800</td>\n",
              "    </tr>\n",
              "    <tr>\n",
              "      <th>1</th>\n",
              "      <td>2.1660</td>\n",
              "      <td>18.0</td>\n",
              "      <td>4.802059</td>\n",
              "      <td>1.151030</td>\n",
              "      <td>2203.0</td>\n",
              "      <td>2.520595</td>\n",
              "      <td>37.68</td>\n",
              "      <td>-120.98</td>\n",
              "      <td>1.18600</td>\n",
              "    </tr>\n",
              "    <tr>\n",
              "      <th>2</th>\n",
              "      <td>1.5642</td>\n",
              "      <td>15.0</td>\n",
              "      <td>4.403292</td>\n",
              "      <td>1.053498</td>\n",
              "      <td>1070.0</td>\n",
              "      <td>4.403292</td>\n",
              "      <td>36.62</td>\n",
              "      <td>-119.32</td>\n",
              "      <td>0.51500</td>\n",
              "    </tr>\n",
              "    <tr>\n",
              "      <th>3</th>\n",
              "      <td>3.6885</td>\n",
              "      <td>49.0</td>\n",
              "      <td>5.184569</td>\n",
              "      <td>1.052950</td>\n",
              "      <td>2363.0</td>\n",
              "      <td>3.574887</td>\n",
              "      <td>37.72</td>\n",
              "      <td>-122.43</td>\n",
              "      <td>2.54000</td>\n",
              "    </tr>\n",
              "    <tr>\n",
              "      <th>4</th>\n",
              "      <td>9.7449</td>\n",
              "      <td>20.0</td>\n",
              "      <td>7.095963</td>\n",
              "      <td>1.070152</td>\n",
              "      <td>3731.0</td>\n",
              "      <td>2.469226</td>\n",
              "      <td>34.12</td>\n",
              "      <td>-118.45</td>\n",
              "      <td>5.00001</td>\n",
              "    </tr>\n",
              "    <tr>\n",
              "      <th>...</th>\n",
              "      <td>...</td>\n",
              "      <td>...</td>\n",
              "      <td>...</td>\n",
              "      <td>...</td>\n",
              "      <td>...</td>\n",
              "      <td>...</td>\n",
              "      <td>...</td>\n",
              "      <td>...</td>\n",
              "      <td>...</td>\n",
              "    </tr>\n",
              "    <tr>\n",
              "      <th>20635</th>\n",
              "      <td>3.0208</td>\n",
              "      <td>38.0</td>\n",
              "      <td>5.605664</td>\n",
              "      <td>1.054466</td>\n",
              "      <td>1568.0</td>\n",
              "      <td>3.416122</td>\n",
              "      <td>34.00</td>\n",
              "      <td>-118.11</td>\n",
              "      <td>1.93700</td>\n",
              "    </tr>\n",
              "    <tr>\n",
              "      <th>20636</th>\n",
              "      <td>9.9071</td>\n",
              "      <td>30.0</td>\n",
              "      <td>8.241379</td>\n",
              "      <td>1.037618</td>\n",
              "      <td>956.0</td>\n",
              "      <td>2.996865</td>\n",
              "      <td>33.90</td>\n",
              "      <td>-117.93</td>\n",
              "      <td>5.00001</td>\n",
              "    </tr>\n",
              "    <tr>\n",
              "      <th>20637</th>\n",
              "      <td>4.7105</td>\n",
              "      <td>3.0</td>\n",
              "      <td>3.769314</td>\n",
              "      <td>1.282916</td>\n",
              "      <td>1441.0</td>\n",
              "      <td>1.568009</td>\n",
              "      <td>37.78</td>\n",
              "      <td>-122.39</td>\n",
              "      <td>2.75000</td>\n",
              "    </tr>\n",
              "    <tr>\n",
              "      <th>20638</th>\n",
              "      <td>4.4375</td>\n",
              "      <td>52.0</td>\n",
              "      <td>5.436364</td>\n",
              "      <td>1.130909</td>\n",
              "      <td>506.0</td>\n",
              "      <td>1.840000</td>\n",
              "      <td>37.76</td>\n",
              "      <td>-122.40</td>\n",
              "      <td>3.20000</td>\n",
              "    </tr>\n",
              "    <tr>\n",
              "      <th>20639</th>\n",
              "      <td>3.3478</td>\n",
              "      <td>42.0</td>\n",
              "      <td>5.795082</td>\n",
              "      <td>1.122951</td>\n",
              "      <td>629.0</td>\n",
              "      <td>2.577869</td>\n",
              "      <td>37.69</td>\n",
              "      <td>-122.08</td>\n",
              "      <td>1.84900</td>\n",
              "    </tr>\n",
              "  </tbody>\n",
              "</table>\n",
              "<p>20640 rows × 9 columns</p>\n",
              "</div>"
            ],
            "text/plain": [
              "       MedInc  HouseAge  AveRooms  AveBedrms  Population  AveOccup  Latitude  \\\n",
              "0      3.3687      45.0  5.594175   0.998058      1470.0  2.854369     34.00   \n",
              "1      2.1660      18.0  4.802059   1.151030      2203.0  2.520595     37.68   \n",
              "2      1.5642      15.0  4.403292   1.053498      1070.0  4.403292     36.62   \n",
              "3      3.6885      49.0  5.184569   1.052950      2363.0  3.574887     37.72   \n",
              "4      9.7449      20.0  7.095963   1.070152      3731.0  2.469226     34.12   \n",
              "...       ...       ...       ...        ...         ...       ...       ...   \n",
              "20635  3.0208      38.0  5.605664   1.054466      1568.0  3.416122     34.00   \n",
              "20636  9.9071      30.0  8.241379   1.037618       956.0  2.996865     33.90   \n",
              "20637  4.7105       3.0  3.769314   1.282916      1441.0  1.568009     37.78   \n",
              "20638  4.4375      52.0  5.436364   1.130909       506.0  1.840000     37.76   \n",
              "20639  3.3478      42.0  5.795082   1.122951       629.0  2.577869     37.69   \n",
              "\n",
              "       Longitude   target  \n",
              "0        -117.38  1.23800  \n",
              "1        -120.98  1.18600  \n",
              "2        -119.32  0.51500  \n",
              "3        -122.43  2.54000  \n",
              "4        -118.45  5.00001  \n",
              "...          ...      ...  \n",
              "20635    -118.11  1.93700  \n",
              "20636    -117.93  5.00001  \n",
              "20637    -122.39  2.75000  \n",
              "20638    -122.40  3.20000  \n",
              "20639    -122.08  1.84900  \n",
              "\n",
              "[20640 rows x 9 columns]"
            ]
          },
          "metadata": {},
          "output_type": "display_data"
        },
        {
          "data": {
            "text/html": [
              "<div>\n",
              "<style scoped>\n",
              "    .dataframe tbody tr th:only-of-type {\n",
              "        vertical-align: middle;\n",
              "    }\n",
              "\n",
              "    .dataframe tbody tr th {\n",
              "        vertical-align: top;\n",
              "    }\n",
              "\n",
              "    .dataframe thead th {\n",
              "        text-align: right;\n",
              "    }\n",
              "</style>\n",
              "<table border=\"1\" class=\"dataframe\">\n",
              "  <thead>\n",
              "    <tr style=\"text-align: right;\">\n",
              "      <th></th>\n",
              "      <th>MedInc</th>\n",
              "      <th>target</th>\n",
              "    </tr>\n",
              "  </thead>\n",
              "  <tbody>\n",
              "    <tr>\n",
              "      <th>0</th>\n",
              "      <td>3.3687</td>\n",
              "      <td>1.23800</td>\n",
              "    </tr>\n",
              "    <tr>\n",
              "      <th>1</th>\n",
              "      <td>2.1660</td>\n",
              "      <td>1.18600</td>\n",
              "    </tr>\n",
              "    <tr>\n",
              "      <th>2</th>\n",
              "      <td>1.5642</td>\n",
              "      <td>0.51500</td>\n",
              "    </tr>\n",
              "    <tr>\n",
              "      <th>3</th>\n",
              "      <td>3.6885</td>\n",
              "      <td>2.54000</td>\n",
              "    </tr>\n",
              "    <tr>\n",
              "      <th>4</th>\n",
              "      <td>9.7449</td>\n",
              "      <td>5.00001</td>\n",
              "    </tr>\n",
              "    <tr>\n",
              "      <th>...</th>\n",
              "      <td>...</td>\n",
              "      <td>...</td>\n",
              "    </tr>\n",
              "    <tr>\n",
              "      <th>20635</th>\n",
              "      <td>3.0208</td>\n",
              "      <td>1.93700</td>\n",
              "    </tr>\n",
              "    <tr>\n",
              "      <th>20636</th>\n",
              "      <td>9.9071</td>\n",
              "      <td>5.00001</td>\n",
              "    </tr>\n",
              "    <tr>\n",
              "      <th>20637</th>\n",
              "      <td>4.7105</td>\n",
              "      <td>2.75000</td>\n",
              "    </tr>\n",
              "    <tr>\n",
              "      <th>20638</th>\n",
              "      <td>4.4375</td>\n",
              "      <td>3.20000</td>\n",
              "    </tr>\n",
              "    <tr>\n",
              "      <th>20639</th>\n",
              "      <td>3.3478</td>\n",
              "      <td>1.84900</td>\n",
              "    </tr>\n",
              "  </tbody>\n",
              "</table>\n",
              "<p>20640 rows × 2 columns</p>\n",
              "</div>"
            ],
            "text/plain": [
              "       MedInc   target\n",
              "0      3.3687  1.23800\n",
              "1      2.1660  1.18600\n",
              "2      1.5642  0.51500\n",
              "3      3.6885  2.54000\n",
              "4      9.7449  5.00001\n",
              "...       ...      ...\n",
              "20635  3.0208  1.93700\n",
              "20636  9.9071  5.00001\n",
              "20637  4.7105  2.75000\n",
              "20638  4.4375  3.20000\n",
              "20639  3.3478  1.84900\n",
              "\n",
              "[20640 rows x 2 columns]"
            ]
          },
          "metadata": {},
          "output_type": "display_data"
        },
        {
          "data": {
            "text/html": [
              "<div>\n",
              "<style scoped>\n",
              "    .dataframe tbody tr th:only-of-type {\n",
              "        vertical-align: middle;\n",
              "    }\n",
              "\n",
              "    .dataframe tbody tr th {\n",
              "        vertical-align: top;\n",
              "    }\n",
              "\n",
              "    .dataframe thead th {\n",
              "        text-align: right;\n",
              "    }\n",
              "</style>\n",
              "<table border=\"1\" class=\"dataframe\">\n",
              "  <thead>\n",
              "    <tr style=\"text-align: right;\">\n",
              "      <th></th>\n",
              "      <th>MedInc</th>\n",
              "      <th>target</th>\n",
              "    </tr>\n",
              "  </thead>\n",
              "  <tbody>\n",
              "    <tr>\n",
              "      <th>0</th>\n",
              "      <td>3.3687</td>\n",
              "      <td>1.23800</td>\n",
              "    </tr>\n",
              "    <tr>\n",
              "      <th>1</th>\n",
              "      <td>2.1660</td>\n",
              "      <td>1.18600</td>\n",
              "    </tr>\n",
              "    <tr>\n",
              "      <th>2</th>\n",
              "      <td>1.5642</td>\n",
              "      <td>0.51500</td>\n",
              "    </tr>\n",
              "    <tr>\n",
              "      <th>3</th>\n",
              "      <td>3.6885</td>\n",
              "      <td>2.54000</td>\n",
              "    </tr>\n",
              "    <tr>\n",
              "      <th>4</th>\n",
              "      <td>9.7449</td>\n",
              "      <td>5.00001</td>\n",
              "    </tr>\n",
              "  </tbody>\n",
              "</table>\n",
              "</div>"
            ],
            "text/plain": [
              "   MedInc   target\n",
              "0  3.3687  1.23800\n",
              "1  2.1660  1.18600\n",
              "2  1.5642  0.51500\n",
              "3  3.6885  2.54000\n",
              "4  9.7449  5.00001"
            ]
          },
          "execution_count": 25,
          "metadata": {},
          "output_type": "execute_result"
        }
      ],
      "source": [
        "# Load the house price dataset\n",
        "house = sklearn.datasets.fetch_california_housing()\n",
        "raw_df = pd.DataFrame(data= np.c_[house['data'], house['target']],\n",
        "                     columns= house['feature_names'] + ['target'])\n",
        "# Shuffle dataset for a random sample, as we will not be using the entire dataset\n",
        "rng = np.random.default_rng(0) # This sets the random seed, meaning that we will get the SAME random sample if we rerun this cell.\n",
        "df = raw_df.iloc[rng.permutation(len(raw_df))].reset_index(drop=True) # Shuffle data\n",
        "\n",
        "# show the Full data\n",
        "display(df)\n",
        "\n",
        "# Use only one feature to start with for univariate linear regression - The Median Income\n",
        "Xy_df = df[['MedInc', 'target']]\n",
        "# show the data\n",
        "display(Xy_df)\n",
        "Xy_df.head()\n",
        "# So for this task we are going to be predicting the property value based on the Median Income"
      ]
    },
    {
      "cell_type": "code",
      "execution_count": 8,
      "metadata": {},
      "outputs": [
        {
          "data": {
            "text/html": [
              "<div>\n",
              "<style scoped>\n",
              "    .dataframe tbody tr th:only-of-type {\n",
              "        vertical-align: middle;\n",
              "    }\n",
              "\n",
              "    .dataframe tbody tr th {\n",
              "        vertical-align: top;\n",
              "    }\n",
              "\n",
              "    .dataframe thead th {\n",
              "        text-align: right;\n",
              "    }\n",
              "</style>\n",
              "<table border=\"1\" class=\"dataframe\">\n",
              "  <thead>\n",
              "    <tr style=\"text-align: right;\">\n",
              "      <th></th>\n",
              "      <th>MedInc</th>\n",
              "      <th>HouseAge</th>\n",
              "      <th>AveRooms</th>\n",
              "      <th>AveBedrms</th>\n",
              "      <th>Population</th>\n",
              "      <th>AveOccup</th>\n",
              "      <th>Latitude</th>\n",
              "      <th>Longitude</th>\n",
              "      <th>traget</th>\n",
              "    </tr>\n",
              "  </thead>\n",
              "  <tbody>\n",
              "    <tr>\n",
              "      <th>0</th>\n",
              "      <td>8.3252</td>\n",
              "      <td>41.0</td>\n",
              "      <td>6.984127</td>\n",
              "      <td>1.023810</td>\n",
              "      <td>322.0</td>\n",
              "      <td>2.555556</td>\n",
              "      <td>37.88</td>\n",
              "      <td>-122.23</td>\n",
              "      <td>4.526</td>\n",
              "    </tr>\n",
              "    <tr>\n",
              "      <th>1</th>\n",
              "      <td>8.3014</td>\n",
              "      <td>21.0</td>\n",
              "      <td>6.238137</td>\n",
              "      <td>0.971880</td>\n",
              "      <td>2401.0</td>\n",
              "      <td>2.109842</td>\n",
              "      <td>37.86</td>\n",
              "      <td>-122.22</td>\n",
              "      <td>3.585</td>\n",
              "    </tr>\n",
              "    <tr>\n",
              "      <th>2</th>\n",
              "      <td>7.2574</td>\n",
              "      <td>52.0</td>\n",
              "      <td>8.288136</td>\n",
              "      <td>1.073446</td>\n",
              "      <td>496.0</td>\n",
              "      <td>2.802260</td>\n",
              "      <td>37.85</td>\n",
              "      <td>-122.24</td>\n",
              "      <td>3.521</td>\n",
              "    </tr>\n",
              "    <tr>\n",
              "      <th>3</th>\n",
              "      <td>5.6431</td>\n",
              "      <td>52.0</td>\n",
              "      <td>5.817352</td>\n",
              "      <td>1.073059</td>\n",
              "      <td>558.0</td>\n",
              "      <td>2.547945</td>\n",
              "      <td>37.85</td>\n",
              "      <td>-122.25</td>\n",
              "      <td>3.413</td>\n",
              "    </tr>\n",
              "    <tr>\n",
              "      <th>4</th>\n",
              "      <td>3.8462</td>\n",
              "      <td>52.0</td>\n",
              "      <td>6.281853</td>\n",
              "      <td>1.081081</td>\n",
              "      <td>565.0</td>\n",
              "      <td>2.181467</td>\n",
              "      <td>37.85</td>\n",
              "      <td>-122.25</td>\n",
              "      <td>3.422</td>\n",
              "    </tr>\n",
              "    <tr>\n",
              "      <th>...</th>\n",
              "      <td>...</td>\n",
              "      <td>...</td>\n",
              "      <td>...</td>\n",
              "      <td>...</td>\n",
              "      <td>...</td>\n",
              "      <td>...</td>\n",
              "      <td>...</td>\n",
              "      <td>...</td>\n",
              "      <td>...</td>\n",
              "    </tr>\n",
              "    <tr>\n",
              "      <th>20635</th>\n",
              "      <td>1.5603</td>\n",
              "      <td>25.0</td>\n",
              "      <td>5.045455</td>\n",
              "      <td>1.133333</td>\n",
              "      <td>845.0</td>\n",
              "      <td>2.560606</td>\n",
              "      <td>39.48</td>\n",
              "      <td>-121.09</td>\n",
              "      <td>0.781</td>\n",
              "    </tr>\n",
              "    <tr>\n",
              "      <th>20636</th>\n",
              "      <td>2.5568</td>\n",
              "      <td>18.0</td>\n",
              "      <td>6.114035</td>\n",
              "      <td>1.315789</td>\n",
              "      <td>356.0</td>\n",
              "      <td>3.122807</td>\n",
              "      <td>39.49</td>\n",
              "      <td>-121.21</td>\n",
              "      <td>0.771</td>\n",
              "    </tr>\n",
              "    <tr>\n",
              "      <th>20637</th>\n",
              "      <td>1.7000</td>\n",
              "      <td>17.0</td>\n",
              "      <td>5.205543</td>\n",
              "      <td>1.120092</td>\n",
              "      <td>1007.0</td>\n",
              "      <td>2.325635</td>\n",
              "      <td>39.43</td>\n",
              "      <td>-121.22</td>\n",
              "      <td>0.923</td>\n",
              "    </tr>\n",
              "    <tr>\n",
              "      <th>20638</th>\n",
              "      <td>1.8672</td>\n",
              "      <td>18.0</td>\n",
              "      <td>5.329513</td>\n",
              "      <td>1.171920</td>\n",
              "      <td>741.0</td>\n",
              "      <td>2.123209</td>\n",
              "      <td>39.43</td>\n",
              "      <td>-121.32</td>\n",
              "      <td>0.847</td>\n",
              "    </tr>\n",
              "    <tr>\n",
              "      <th>20639</th>\n",
              "      <td>2.3886</td>\n",
              "      <td>16.0</td>\n",
              "      <td>5.254717</td>\n",
              "      <td>1.162264</td>\n",
              "      <td>1387.0</td>\n",
              "      <td>2.616981</td>\n",
              "      <td>39.37</td>\n",
              "      <td>-121.24</td>\n",
              "      <td>0.894</td>\n",
              "    </tr>\n",
              "  </tbody>\n",
              "</table>\n",
              "<p>20640 rows × 9 columns</p>\n",
              "</div>"
            ],
            "text/plain": [
              "       MedInc  HouseAge  AveRooms  AveBedrms  Population  AveOccup  Latitude  \\\n",
              "0      8.3252      41.0  6.984127   1.023810       322.0  2.555556     37.88   \n",
              "1      8.3014      21.0  6.238137   0.971880      2401.0  2.109842     37.86   \n",
              "2      7.2574      52.0  8.288136   1.073446       496.0  2.802260     37.85   \n",
              "3      5.6431      52.0  5.817352   1.073059       558.0  2.547945     37.85   \n",
              "4      3.8462      52.0  6.281853   1.081081       565.0  2.181467     37.85   \n",
              "...       ...       ...       ...        ...         ...       ...       ...   \n",
              "20635  1.5603      25.0  5.045455   1.133333       845.0  2.560606     39.48   \n",
              "20636  2.5568      18.0  6.114035   1.315789       356.0  3.122807     39.49   \n",
              "20637  1.7000      17.0  5.205543   1.120092      1007.0  2.325635     39.43   \n",
              "20638  1.8672      18.0  5.329513   1.171920       741.0  2.123209     39.43   \n",
              "20639  2.3886      16.0  5.254717   1.162264      1387.0  2.616981     39.37   \n",
              "\n",
              "       Longitude  traget  \n",
              "0        -122.23   4.526  \n",
              "1        -122.22   3.585  \n",
              "2        -122.24   3.521  \n",
              "3        -122.25   3.413  \n",
              "4        -122.25   3.422  \n",
              "...          ...     ...  \n",
              "20635    -121.09   0.781  \n",
              "20636    -121.21   0.771  \n",
              "20637    -121.22   0.923  \n",
              "20638    -121.32   0.847  \n",
              "20639    -121.24   0.894  \n",
              "\n",
              "[20640 rows x 9 columns]"
            ]
          },
          "execution_count": 8,
          "metadata": {},
          "output_type": "execute_result"
        }
      ],
      "source": [
        "raw = pd.DataFrame(data=np.c_[house[\"data\"], house[\"target\"]], columns=house.feature_names + [\"traget\"])\n",
        "raw"
      ]
    },
    {
      "cell_type": "markdown",
      "metadata": {
        "id": "iPgkebqkKG8f"
      },
      "source": [
        "### Convert the data to NumPy ndarrays and split"
      ]
    },
    {
      "cell_type": "markdown",
      "metadata": {
        "id": "9qVlT_d6tjJV"
      },
      "source": [
        "Next we need to convert the data into `np.array`'s so we can use them with our model and split the data. Note: Data splitting will be explained in the a later lecture as it is necessary for a fair evaluation. For now just know we need to split our data into (at least) two groups when fitting models."
      ]
    },
    {
      "cell_type": "code",
      "execution_count": 9,
      "metadata": {
        "id": "Tq-7EbEEJgO7"
      },
      "outputs": [],
      "source": [
        "# prepare NumPy ndarrays\n",
        "X = np.array(Xy_df[['MedInc']])\n",
        "y = np.array(Xy_df['target'])\n",
        "\n",
        "# Define how much test and training data we want. You can try changing these later to see how it changes the model and predictions\n",
        "n_train_points = 200 # This is the data that will be used to train our model. As a rule of thumb this should be in the region of 70-80% of the total data being used, but there may be good reasons for using more or less \n",
        "n_new_points = 50 # This is the data that will be used to test the accuracy of our model. As a rule of thumb this should be in the region of 20-30% of the total data being used, but there may be good reasons for using more or less \n",
        "\n",
        "# Split the feature data into training/new data\n",
        "X_train = X[:n_train_points] # This will select the data points from 0 to the number defined in n_train_points (200 in this case)\n",
        "X_new = X[n_train_points:n_train_points+n_new_points] # this will select the date from 200 to 250 in this case (n_train_points to n_train_points+n_new_points)\n",
        "\n",
        "# Split the target data into training/new data\n",
        "y_train = y[:n_train_points]\n",
        "y_true = y[n_train_points:n_train_points+n_new_points]"
      ]
    },
    {
      "cell_type": "markdown",
      "metadata": {
        "id": "XpU2v10_JwEU"
      },
      "source": [
        "###Fit and Predict"
      ]
    },
    {
      "cell_type": "markdown",
      "metadata": {
        "id": "HeKt9pCEwCMU"
      },
      "source": [
        "Now we can actually fit our model to our training data, the same way as with out synthetic data used n teh examples above."
      ]
    },
    {
      "cell_type": "code",
      "execution_count": 10,
      "metadata": {
        "colab": {
          "base_uri": "https://localhost:8080/"
        },
        "id": "cWAQGwPJJyY-",
        "outputId": "588b5b94-9f00-4524-ad70-8b1ba707a5ca"
      },
      "outputs": [
        {
          "name": "stdout",
          "output_type": "stream",
          "text": [
            "theta_0: 0.19726970655236964\n",
            "theta_1: [0.47134567]\n"
          ]
        }
      ],
      "source": [
        "# Create linear regression object\n",
        "obj = sklearn.linear_model.LinearRegression(fit_intercept=True)\n",
        "\n",
        "# Train the model using the training sets\n",
        "obj.fit(X_train, y_train)\n",
        "\n",
        "# Make predictions using the testing set\n",
        "y_pred = obj.predict(X_new)\n",
        "\n",
        "# Can obtain out model coefficients from the model obj we have trained\n",
        "print('theta_0:',obj.intercept_)\n",
        "print('theta_1:',obj.coef_)\n"
      ]
    },
    {
      "cell_type": "markdown",
      "metadata": {
        "id": "UQ_gtCHlKNb_"
      },
      "source": [
        "###Plot the outputs"
      ]
    },
    {
      "cell_type": "markdown",
      "metadata": {
        "id": "XEDgyFJzwiv2"
      },
      "source": [
        "Then, if possible it's always nice to have a visual representation of how well our predictions are fitting the data.\n",
        "This allows us to gain a qualititative feel for how well our model is fitting the data - we can see that there is a positive correlation between the median income and house price which our model is accounting for, but there does seem to be a lot of variation our model is failing to pick up."
      ]
    },
    {
      "cell_type": "code",
      "execution_count": 11,
      "metadata": {
        "colab": {
          "base_uri": "https://localhost:8080/",
          "height": 280
        },
        "id": "MdygxO0-KPiD",
        "outputId": "53131eef-18ed-40c5-b4c8-546a67bc10de"
      },
      "outputs": [
        {
          "data": {
            "image/png": "[encoded data removed]",
            "text/plain": [
              "<Figure size 640x480 with 1 Axes>"
            ]
          },
          "metadata": {},
          "output_type": "display_data"
        }
      ],
      "source": [
        "# Plot outputs\n",
        "plt.scatter(X_new, y_true,  color='black', label='y_true') # Observed y values\n",
        "plt.scatter(X_new, y_pred, color='blue', label='y_pred') # predicted y values\n",
        "plt.plot(np.r_[0:12:0.1], obj.predict(np.r_[0:12:0.1][:, np.newaxis]), color='blue', label='hypothesis') # Regression line\n",
        "plt.xlabel('MedInc')\n",
        "plt.ylabel('house price')\n",
        "plt.legend()\n",
        "plt.show()"
      ]
    },
    {
      "cell_type": "markdown",
      "metadata": {
        "id": "N2JacGP5LpDS"
      },
      "source": [
        "### Loss and score functions\n",
        "It's then always worth checking the loss and score functions to give us a quantative measure of how well our model is fitting the data.\n",
        "- Loss: the lower, the better.\n",
        "- Score: the higher, the better.\n",
        "\n",
        "In this case, though the MSE seems small this is just due to the MSE values being relative to the size of the target values (so if our target was in the rang of 0-0.1 it would be even smaller and if it was in the range of 0-100 it would be much larger). The MSE is most useful when comparing different models, as you will be looking for the model with teh samllest MSE, whatever that value may be.\n",
        "\n",
        "However, looking at the score function we can see that our model is only accounting for around $36\\%$ of the variation in the data."
      ]
    },
    {
      "cell_type": "code",
      "execution_count": 12,
      "metadata": {
        "colab": {
          "base_uri": "https://localhost:8080/"
        },
        "id": "XE_Nm4mSLtcn",
        "outputId": "a3db47d6-7905-4204-dd15-a8bbfc58ebd7"
      },
      "outputs": [
        {
          "name": "stdout",
          "output_type": "stream",
          "text": [
            "Mean squared error loss: 0.7799\n",
            "R2 score: 0.3625\n"
          ]
        }
      ],
      "source": [
        "# The mean squared error loss\n",
        "print('Mean squared error loss: {:.4f}'.format(sklearn.metrics.mean_squared_error(y_true, y_pred)))\n",
        "# The R2 score: 1 is perfect prediction\n",
        "print('R2 score: {:.4f}'.format(sklearn.metrics.r2_score(y_true, y_pred)))\n"
      ]
    },
    {
      "cell_type": "markdown",
      "metadata": {
        "id": "9EbKidyMtGOd"
      },
      "source": [
        "##4.2 **Exercise 2** fitting linear Regression on Real Data"
      ]
    },
    {
      "cell_type": "markdown",
      "metadata": {
        "id": "rC7KAIDJGnfS"
      },
      "source": [
        "Try fitting a univariate linear regression model to the Diabetes dataset included in *sklearn*. This is a toy datset, so you can access it using `sklearn.datasets.load_diabetes()`. Use the `bmi` column as your feature for predicting the `target` (the patients diabetes level). How well does your model fit the data? Do any of the other features provide a better fit?\n",
        "\n"
      ]
    },
    {
      "cell_type": "code",
      "execution_count": 46,
      "metadata": {
        "colab": {
          "base_uri": "https://localhost:8080/"
        },
        "id": "tqKLAwMVPAFs",
        "outputId": "437ec3e2-df24-4367-9edb-ae5dcf08b003"
      },
      "outputs": [
        {
          "data": {
            "text/html": [
              "<div>\n",
              "<style scoped>\n",
              "    .dataframe tbody tr th:only-of-type {\n",
              "        vertical-align: middle;\n",
              "    }\n",
              "\n",
              "    .dataframe tbody tr th {\n",
              "        vertical-align: top;\n",
              "    }\n",
              "\n",
              "    .dataframe thead th {\n",
              "        text-align: right;\n",
              "    }\n",
              "</style>\n",
              "<table border=\"1\" class=\"dataframe\">\n",
              "  <thead>\n",
              "    <tr style=\"text-align: right;\">\n",
              "      <th></th>\n",
              "      <th>age</th>\n",
              "      <th>sex</th>\n",
              "      <th>bmi</th>\n",
              "      <th>bp</th>\n",
              "      <th>s1</th>\n",
              "      <th>s2</th>\n",
              "      <th>s3</th>\n",
              "      <th>s4</th>\n",
              "      <th>s5</th>\n",
              "      <th>s6</th>\n",
              "      <th>target</th>\n",
              "    </tr>\n",
              "  </thead>\n",
              "  <tbody>\n",
              "    <tr>\n",
              "      <th>0</th>\n",
              "      <td>-0.001882</td>\n",
              "      <td>0.05068</td>\n",
              "      <td>0.030440</td>\n",
              "      <td>0.052858</td>\n",
              "      <td>0.039710</td>\n",
              "      <td>0.056619</td>\n",
              "      <td>-0.039719</td>\n",
              "      <td>0.071210</td>\n",
              "      <td>0.025393</td>\n",
              "      <td>0.027917</td>\n",
              "      <td>222.0</td>\n",
              "    </tr>\n",
              "    <tr>\n",
              "      <th>1</th>\n",
              "      <td>0.012648</td>\n",
              "      <td>0.05068</td>\n",
              "      <td>0.000261</td>\n",
              "      <td>-0.011409</td>\n",
              "      <td>0.039710</td>\n",
              "      <td>0.057245</td>\n",
              "      <td>-0.039719</td>\n",
              "      <td>0.056081</td>\n",
              "      <td>0.024053</td>\n",
              "      <td>0.032059</td>\n",
              "      <td>259.0</td>\n",
              "    </tr>\n",
              "    <tr>\n",
              "      <th>2</th>\n",
              "      <td>-0.016412</td>\n",
              "      <td>0.05068</td>\n",
              "      <td>0.127443</td>\n",
              "      <td>0.097616</td>\n",
              "      <td>0.016318</td>\n",
              "      <td>0.017475</td>\n",
              "      <td>-0.021311</td>\n",
              "      <td>0.034309</td>\n",
              "      <td>0.034864</td>\n",
              "      <td>0.003064</td>\n",
              "      <td>308.0</td>\n",
              "    </tr>\n",
              "    <tr>\n",
              "      <th>3</th>\n",
              "      <td>-0.103593</td>\n",
              "      <td>0.05068</td>\n",
              "      <td>-0.023451</td>\n",
              "      <td>-0.022885</td>\n",
              "      <td>-0.086878</td>\n",
              "      <td>-0.067701</td>\n",
              "      <td>-0.017629</td>\n",
              "      <td>-0.039493</td>\n",
              "      <td>-0.078141</td>\n",
              "      <td>-0.071494</td>\n",
              "      <td>71.0</td>\n",
              "    </tr>\n",
              "    <tr>\n",
              "      <th>4</th>\n",
              "      <td>0.085299</td>\n",
              "      <td>0.05068</td>\n",
              "      <td>0.044451</td>\n",
              "      <td>-0.005671</td>\n",
              "      <td>-0.045599</td>\n",
              "      <td>-0.034194</td>\n",
              "      <td>-0.032356</td>\n",
              "      <td>-0.002592</td>\n",
              "      <td>0.002864</td>\n",
              "      <td>-0.025930</td>\n",
              "      <td>141.0</td>\n",
              "    </tr>\n",
              "  </tbody>\n",
              "</table>\n",
              "</div>"
            ],
            "text/plain": [
              "        age      sex       bmi        bp        s1        s2        s3  \\\n",
              "0 -0.001882  0.05068  0.030440  0.052858  0.039710  0.056619 -0.039719   \n",
              "1  0.012648  0.05068  0.000261 -0.011409  0.039710  0.057245 -0.039719   \n",
              "2 -0.016412  0.05068  0.127443  0.097616  0.016318  0.017475 -0.021311   \n",
              "3 -0.103593  0.05068 -0.023451 -0.022885 -0.086878 -0.067701 -0.017629   \n",
              "4  0.085299  0.05068  0.044451 -0.005671 -0.045599 -0.034194 -0.032356   \n",
              "\n",
              "         s4        s5        s6  target  \n",
              "0  0.071210  0.025393  0.027917   222.0  \n",
              "1  0.056081  0.024053  0.032059   259.0  \n",
              "2  0.034309  0.034864  0.003064   308.0  \n",
              "3 -0.039493 -0.078141 -0.071494    71.0  \n",
              "4 -0.002592  0.002864 -0.025930   141.0  "
            ]
          },
          "metadata": {},
          "output_type": "display_data"
        },
        {
          "data": {
            "image/png": "[encoded data removed]",
            "text/plain": [
              "<Figure size 640x480 with 1 Axes>"
            ]
          },
          "metadata": {},
          "output_type": "display_data"
        },
        {
          "name": "stdout",
          "output_type": "stream",
          "text": [
            "Mean squared error loss: 4484.5869\n",
            "R2 score: 0.3717\n"
          ]
        }
      ],
      "source": [
        "##############################################################\n",
        "# Your code here\n",
        "##############################################################\n",
        "\n",
        "diab = sklearn.datasets.load_diabetes()\n",
        "raw_df = pd.DataFrame(data= np.c_[diab['data'], diab['target']],\n",
        "                     columns= diab['feature_names'] + ['target'])\n",
        "# Shuffle dataset\n",
        "rng = np.random.default_rng(0)\n",
        "df = raw_df.iloc[rng.permutation(len(raw_df))].reset_index(drop=True)\n",
        "\n",
        "\n",
        "# show the data\n",
        "display(df.head())\n",
        "\n",
        "# prepare NumPy ndarrays\n",
        "X = np.array(df[['bmi']])\n",
        "y = np.array(df['target'])\n",
        "\n",
        "n_train_points = 150\n",
        "n_new_points = 50\n",
        "\n",
        "# Split the data into training/new data\n",
        "X_train = X[:n_train_points]\n",
        "X_new = X[n_train_points:n_train_points+n_new_points]\n",
        "\n",
        "# Split the targets into training/new data\n",
        "y_train = y[:n_train_points]\n",
        "y_true = y[n_train_points:n_train_points+n_new_points]\n",
        "\n",
        "# Create linear regression object\n",
        "obj = sklearn.linear_model.LinearRegression()\n",
        "\n",
        "# Train the model using the training sets\n",
        "obj.fit(X_train, y_train)\n",
        "\n",
        "# Make predictions using the testing set\n",
        "y_pred = obj.predict(X_new)\n",
        "\n",
        "plt.scatter(X_new, y_true,  color='black', label='y_train')\n",
        "plt.scatter(X_new, y_pred, color='blue', label='y_pred')\n",
        "\n",
        "\n",
        "plt.xlabel('BMI')\n",
        "plt.ylabel('Diabetes Score')\n",
        "plt.legend()\n",
        "plt.show()\n",
        "\n",
        "# The mean squared error loss\n",
        "print('Mean squared error loss: {:.4f}'.format(sklearn.metrics.mean_squared_error(y_true, y_pred)))\n",
        "# The R2 score: 1 is perfect prediction\n",
        "print('R2 score: {:.4f}'.format(sklearn.metrics.r2_score(y_true, y_pred)))"
      ]
    },
    {
      "cell_type": "code",
      "execution_count": 55,
      "metadata": {},
      "outputs": [
        {
          "data": {
            "text/html": [
              "<div>\n",
              "<style scoped>\n",
              "    .dataframe tbody tr th:only-of-type {\n",
              "        vertical-align: middle;\n",
              "    }\n",
              "\n",
              "    .dataframe tbody tr th {\n",
              "        vertical-align: top;\n",
              "    }\n",
              "\n",
              "    .dataframe thead th {\n",
              "        text-align: right;\n",
              "    }\n",
              "</style>\n",
              "<table border=\"1\" class=\"dataframe\">\n",
              "  <thead>\n",
              "    <tr style=\"text-align: right;\">\n",
              "      <th></th>\n",
              "      <th>age</th>\n",
              "      <th>sex</th>\n",
              "      <th>bmi</th>\n",
              "      <th>bp</th>\n",
              "      <th>s1</th>\n",
              "      <th>s2</th>\n",
              "      <th>s3</th>\n",
              "      <th>s4</th>\n",
              "      <th>s5</th>\n",
              "      <th>s6</th>\n",
              "      <th>target</th>\n",
              "    </tr>\n",
              "  </thead>\n",
              "  <tbody>\n",
              "    <tr>\n",
              "      <th>0</th>\n",
              "      <td>0.038076</td>\n",
              "      <td>0.050680</td>\n",
              "      <td>0.061696</td>\n",
              "      <td>0.021872</td>\n",
              "      <td>-0.044223</td>\n",
              "      <td>-0.034821</td>\n",
              "      <td>-0.043401</td>\n",
              "      <td>-0.002592</td>\n",
              "      <td>0.019908</td>\n",
              "      <td>-0.017646</td>\n",
              "      <td>151.0</td>\n",
              "    </tr>\n",
              "    <tr>\n",
              "      <th>1</th>\n",
              "      <td>-0.001882</td>\n",
              "      <td>-0.044642</td>\n",
              "      <td>-0.051474</td>\n",
              "      <td>-0.026328</td>\n",
              "      <td>-0.008449</td>\n",
              "      <td>-0.019163</td>\n",
              "      <td>0.074412</td>\n",
              "      <td>-0.039493</td>\n",
              "      <td>-0.068330</td>\n",
              "      <td>-0.092204</td>\n",
              "      <td>75.0</td>\n",
              "    </tr>\n",
              "    <tr>\n",
              "      <th>2</th>\n",
              "      <td>0.085299</td>\n",
              "      <td>0.050680</td>\n",
              "      <td>0.044451</td>\n",
              "      <td>-0.005671</td>\n",
              "      <td>-0.045599</td>\n",
              "      <td>-0.034194</td>\n",
              "      <td>-0.032356</td>\n",
              "      <td>-0.002592</td>\n",
              "      <td>0.002864</td>\n",
              "      <td>-0.025930</td>\n",
              "      <td>141.0</td>\n",
              "    </tr>\n",
              "    <tr>\n",
              "      <th>3</th>\n",
              "      <td>-0.089063</td>\n",
              "      <td>-0.044642</td>\n",
              "      <td>-0.011595</td>\n",
              "      <td>-0.036656</td>\n",
              "      <td>0.012191</td>\n",
              "      <td>0.024991</td>\n",
              "      <td>-0.036038</td>\n",
              "      <td>0.034309</td>\n",
              "      <td>0.022692</td>\n",
              "      <td>-0.009362</td>\n",
              "      <td>206.0</td>\n",
              "    </tr>\n",
              "    <tr>\n",
              "      <th>4</th>\n",
              "      <td>0.005383</td>\n",
              "      <td>-0.044642</td>\n",
              "      <td>-0.036385</td>\n",
              "      <td>0.021872</td>\n",
              "      <td>0.003935</td>\n",
              "      <td>0.015596</td>\n",
              "      <td>0.008142</td>\n",
              "      <td>-0.002592</td>\n",
              "      <td>-0.031991</td>\n",
              "      <td>-0.046641</td>\n",
              "      <td>135.0</td>\n",
              "    </tr>\n",
              "  </tbody>\n",
              "</table>\n",
              "</div>"
            ],
            "text/plain": [
              "        age       sex       bmi        bp        s1        s2        s3  \\\n",
              "0  0.038076  0.050680  0.061696  0.021872 -0.044223 -0.034821 -0.043401   \n",
              "1 -0.001882 -0.044642 -0.051474 -0.026328 -0.008449 -0.019163  0.074412   \n",
              "2  0.085299  0.050680  0.044451 -0.005671 -0.045599 -0.034194 -0.032356   \n",
              "3 -0.089063 -0.044642 -0.011595 -0.036656  0.012191  0.024991 -0.036038   \n",
              "4  0.005383 -0.044642 -0.036385  0.021872  0.003935  0.015596  0.008142   \n",
              "\n",
              "         s4        s5        s6  target  \n",
              "0 -0.002592  0.019908 -0.017646   151.0  \n",
              "1 -0.039493 -0.068330 -0.092204    75.0  \n",
              "2 -0.002592  0.002864 -0.025930   141.0  \n",
              "3  0.034309  0.022692 -0.009362   206.0  \n",
              "4 -0.002592 -0.031991 -0.046641   135.0  "
            ]
          },
          "execution_count": 55,
          "metadata": {},
          "output_type": "execute_result"
        }
      ],
      "source": [
        "pd.DataFrame(data=np.c_[diab[\"data\"], diab[\"target\"]], columns=diab[\"feature_names\"]+[\"target\"]).head()"
      ]
    },
    {
      "cell_type": "markdown",
      "metadata": {
        "id": "1XEQ5oZtthkA"
      },
      "source": [
        "##4.3 **Exercise 3:** Fit a Linear Regression model without using the sklearn function"
      ]
    },
    {
      "cell_type": "markdown",
      "metadata": {
        "id": "Yp5IA_4G3xUl"
      },
      "source": [
        "As I mentioned in the theory section above, we can obtain the model hypothesis coefficients directly using the following equation:\n",
        "  $$\\boldsymbol{\\theta} = (\\boldsymbol{X_{train}}^T\\boldsymbol{X_{train}})^{-1} \\boldsymbol{X_{train}}^T\\boldsymbol{y_{train}}\n",
        "  $$\n",
        "Are you able to use this information to fit a model to the califoria housing dataset without using the sklearn Linear model, `obj.fit(X_train, y_train)`  and prediction functions? If done correctly you should obtain the same results as in **section 4.1**.\n",
        "\n",
        "Hints\n",
        "- The matrix inverse function such that $XX^{-1}=I$ can be performed directly in python. $X^{-1}$ would be found using `np.linalg.inv(X)`\n",
        "- Don't forget that we are fitting the intercept in 4.1, which means we will have to work out $\\theta_0$. Consider the example in **section 2** for more hints."
      ]
    },
    {
      "cell_type": "code",
      "execution_count": 14,
      "metadata": {
        "colab": {
          "base_uri": "https://localhost:8080/",
          "height": 331
        },
        "id": "aTPahASD7St1",
        "outputId": "001b517f-840c-451c-b7e2-66515430dce6"
      },
      "outputs": [
        {
          "name": "stdout",
          "output_type": "stream",
          "text": [
            "Fitted Hypothesis: [0.47134567 0.19726971]\n"
          ]
        },
        {
          "data": {
            "image/png": "[encoded data removed]",
            "text/plain": [
              "<Figure size 640x480 with 1 Axes>"
            ]
          },
          "metadata": {},
          "output_type": "display_data"
        },
        {
          "name": "stdout",
          "output_type": "stream",
          "text": [
            "Mean squared error loss: 0.7799\n",
            "R2 score: 0.3625\n"
          ]
        }
      ],
      "source": [
        "##############################################################\n",
        "# Your code here\n",
        "##############################################################\n",
        "# Load the house price dataset\n",
        "house = sklearn.datasets.fetch_california_housing()\n",
        "raw_df = pd.DataFrame(data= np.c_[house['data'], house['target']],\n",
        "                     columns= house['feature_names'] + ['target'])\n",
        "# Shuffle dataset\n",
        "rng = np.random.default_rng(0)\n",
        "df = raw_df.iloc[rng.permutation(len(raw_df))].reset_index(drop=True)\n",
        "df['const'] = 1 # We need to add a dummy column of ones so that we obtain an intercept value for theta_0\n",
        "\n",
        "X = np.array(df[['MedInc','const']])\n",
        "y = np.array(df['target'])\n",
        "\n",
        "n_train_points = 200\n",
        "n_new_points = 50\n",
        "\n",
        "# Split the data into training/new data\n",
        "X_train = X[:n_train_points]\n",
        "X_new = X[n_train_points:n_train_points+n_new_points]\n",
        "X_new_f1 = X_new[:,0] # Seperating the MedInc for visualisation purposes\n",
        "\n",
        "# Split the targets into training/new data\n",
        "y_train = y[:n_train_points]\n",
        "y_true = y[n_train_points:n_train_points+n_new_points]\n",
        "\n",
        "#Linear Regression\n",
        "theta= np.linalg.inv((X_train.T).dot(X_train)).dot((X_train.T)).dot(y_train)\n",
        "\n",
        "print('Fitted Hypothesis:',theta)\n",
        "\n",
        "y_pred = X_new.dot(theta) # Multiply our features with theta to get our predictions\n",
        "\n",
        "# Plot outputs\n",
        "plt.scatter(X_new_f1, y_true,  color='black', label='y_true')\n",
        "plt.scatter(X_new_f1, y_pred, color='blue', label='y_pred')\n",
        "plt.xlabel('MedInc')\n",
        "plt.ylabel('house price')\n",
        "plt.legend()\n",
        "plt.show()\n",
        "\n",
        "# The mean squared error loss\n",
        "print('Mean squared error loss: {:.4f}'.format(sklearn.metrics.mean_squared_error(y_true, y_pred)))\n",
        "# The R2 score: 1 is perfect prediction\n",
        "print('R2 score: {:.4f}'.format(sklearn.metrics.r2_score(y_true, y_pred)))"
      ]
    },
    {
      "cell_type": "markdown",
      "metadata": {
        "id": "hA-DrIv7uBKW"
      },
      "source": [
        "##4.4 **Exercise 4**: Other Linear Models"
      ]
    },
    {
      "cell_type": "markdown",
      "metadata": {
        "id": "7WB1tUqjK3Pz"
      },
      "source": [
        "There are other linear models you can fit directly in sklearn. I won't go into the mathemtaical details for now, but try fitting a *Kernal Ridge* regression model. we imported this in the top cell of the workbook using `from sklearn import kernel_ridge` and we can make this model in a similar way as our linear regression model using `obj = kernel_ridge.KernelRidge(kernel='rbf')`. Here we are using a `rbf` kernal, but there are many other kernal types you can experiment with, such as: `linear`, `laplacian`, `polynomial`, `exponential`, `chi2` and `sigmoid`.\n",
        "\n",
        "Fit a univariate kernal ridge model to the california housing data (median Income vs House prices) and see how it compares with your linear regression model. Try increasing the size of the samples and see how the prediction changes."
      ]
    },
    {
      "cell_type": "code",
      "execution_count": 15,
      "metadata": {
        "colab": {
          "base_uri": "https://localhost:8080/"
        },
        "id": "Jmi7MYP5OEKK",
        "outputId": "58dda9a2-fec6-4b31-f1d1-2deaa22eedc6"
      },
      "outputs": [
        {
          "data": {
            "image/png": "[encoded data removed]",
            "text/plain": [
              "<Figure size 640x480 with 1 Axes>"
            ]
          },
          "metadata": {},
          "output_type": "display_data"
        },
        {
          "name": "stdout",
          "output_type": "stream",
          "text": [
            "Mean squared error loss: 1.1562\n",
            "R2 score: 0.0549\n"
          ]
        }
      ],
      "source": [
        "##############################################################\n",
        "# Your code here\n",
        "##############################################################\n",
        "# Load the house price dataset\n",
        "house = sklearn.datasets.fetch_california_housing()\n",
        "raw_df = pd.DataFrame(data= np.c_[house['data'], house['target']],\n",
        "                     columns= house['feature_names'] + ['target'])\n",
        "# Shuffle dataset\n",
        "rng = np.random.default_rng(0)\n",
        "df = raw_df.iloc[rng.permutation(len(raw_df))].reset_index(drop=True)\n",
        "\n",
        "X = np.array(df[['MedInc']])\n",
        "y = np.array(df['target'])\n",
        "\n",
        "n_train_points = 200\n",
        "n_new_points = 50\n",
        "\n",
        "# Split the data into training/new data\n",
        "X_train = X[:n_train_points]\n",
        "X_new = X[n_train_points:n_train_points+n_new_points]\n",
        "\n",
        "# Split the targets into training/new data\n",
        "y_train = y[:n_train_points]\n",
        "y_true = y[n_train_points:n_train_points+n_new_points]\n",
        "\n",
        "# Create linear regression object\n",
        "obj = kernel_ridge.KernelRidge(kernel='rbf')\n",
        "\n",
        "# Train the model using the training sets\n",
        "obj.fit(X_train, y_train)\n",
        "\n",
        "# Make predictions using the testing set\n",
        "y_pred = obj.predict(X_new)\n",
        "\n",
        "# Plot outputs\n",
        "plt.scatter(X_new, y_true,  color='black', label='y_true')\n",
        "plt.scatter(X_new, y_pred, color='blue', label='y_pred')\n",
        "plt.plot(np.r_[0:12:0.1], obj.predict(np.r_[0:12:0.1][:, np.newaxis]), color='blue', label='hypothesis')\n",
        "plt.xlabel('MedInc')\n",
        "plt.ylabel('house price')\n",
        "plt.legend()\n",
        "plt.show()\n",
        "\n",
        "# The mean squared error loss\n",
        "print('Mean squared error loss: {:.4f}'.format(sklearn.metrics.mean_squared_error(y_true, y_pred)))\n",
        "# The R2 score: 1 is perfect prediction\n",
        "print('R2 score: {:.4f}'.format(sklearn.metrics.r2_score(y_true, y_pred)))\n"
      ]
    },
    {
      "cell_type": "code",
      "execution_count": 16,
      "metadata": {},
      "outputs": [
        {
          "data": {
            "text/plain": [
              "(50, 1)"
            ]
          },
          "execution_count": 16,
          "metadata": {},
          "output_type": "execute_result"
        }
      ],
      "source": [
        "X_new.shape"
      ]
    },
    {
      "cell_type": "markdown",
      "metadata": {
        "id": "-WW8dGlUu0x-"
      },
      "source": [
        "##4.5 **Exercise 5:** Regression model with multiple features"
      ]
    },
    {
      "cell_type": "markdown",
      "metadata": {
        "id": "9bfb5GNtPKlc"
      },
      "source": [
        "So far we have only been dealing with univariate linear regression because it makes everything more conceptually easy to show and explain. However, in reality we are usually going to have much more data than one feature, and it would be a waste not to use that data in our predictions.\n",
        "Work out how to expand the univariate model you fitted on the diabetes data in **Exercise 2** so that you fit a multivariate model which uses ALL the features in $X$ to predict $\\hat{y}$. How does this compare in accuracy to your univariate model? Experiment with the features being used - do all of them contribute towards the models accuracy, and are some more impactful than others?"
      ]
    },
    {
      "cell_type": "code",
      "execution_count": 56,
      "metadata": {
        "colab": {
          "base_uri": "https://localhost:8080/"
        },
        "id": "QLcU1LTuBRbt",
        "outputId": "3cc8ef76-63ad-4f0d-a438-7ee267a0143b"
      },
      "outputs": [
        {
          "data": {
            "text/html": [
              "<div>\n",
              "<style scoped>\n",
              "    .dataframe tbody tr th:only-of-type {\n",
              "        vertical-align: middle;\n",
              "    }\n",
              "\n",
              "    .dataframe tbody tr th {\n",
              "        vertical-align: top;\n",
              "    }\n",
              "\n",
              "    .dataframe thead th {\n",
              "        text-align: right;\n",
              "    }\n",
              "</style>\n",
              "<table border=\"1\" class=\"dataframe\">\n",
              "  <thead>\n",
              "    <tr style=\"text-align: right;\">\n",
              "      <th></th>\n",
              "      <th>age</th>\n",
              "      <th>sex</th>\n",
              "      <th>bmi</th>\n",
              "      <th>bp</th>\n",
              "      <th>s1</th>\n",
              "      <th>s2</th>\n",
              "      <th>s3</th>\n",
              "      <th>s4</th>\n",
              "      <th>s5</th>\n",
              "      <th>s6</th>\n",
              "      <th>target</th>\n",
              "    </tr>\n",
              "  </thead>\n",
              "  <tbody>\n",
              "    <tr>\n",
              "      <th>0</th>\n",
              "      <td>-0.001882</td>\n",
              "      <td>0.05068</td>\n",
              "      <td>0.030440</td>\n",
              "      <td>0.052858</td>\n",
              "      <td>0.039710</td>\n",
              "      <td>0.056619</td>\n",
              "      <td>-0.039719</td>\n",
              "      <td>0.071210</td>\n",
              "      <td>0.025393</td>\n",
              "      <td>0.027917</td>\n",
              "      <td>222.0</td>\n",
              "    </tr>\n",
              "    <tr>\n",
              "      <th>1</th>\n",
              "      <td>0.012648</td>\n",
              "      <td>0.05068</td>\n",
              "      <td>0.000261</td>\n",
              "      <td>-0.011409</td>\n",
              "      <td>0.039710</td>\n",
              "      <td>0.057245</td>\n",
              "      <td>-0.039719</td>\n",
              "      <td>0.056081</td>\n",
              "      <td>0.024053</td>\n",
              "      <td>0.032059</td>\n",
              "      <td>259.0</td>\n",
              "    </tr>\n",
              "    <tr>\n",
              "      <th>2</th>\n",
              "      <td>-0.016412</td>\n",
              "      <td>0.05068</td>\n",
              "      <td>0.127443</td>\n",
              "      <td>0.097616</td>\n",
              "      <td>0.016318</td>\n",
              "      <td>0.017475</td>\n",
              "      <td>-0.021311</td>\n",
              "      <td>0.034309</td>\n",
              "      <td>0.034864</td>\n",
              "      <td>0.003064</td>\n",
              "      <td>308.0</td>\n",
              "    </tr>\n",
              "    <tr>\n",
              "      <th>3</th>\n",
              "      <td>-0.103593</td>\n",
              "      <td>0.05068</td>\n",
              "      <td>-0.023451</td>\n",
              "      <td>-0.022885</td>\n",
              "      <td>-0.086878</td>\n",
              "      <td>-0.067701</td>\n",
              "      <td>-0.017629</td>\n",
              "      <td>-0.039493</td>\n",
              "      <td>-0.078141</td>\n",
              "      <td>-0.071494</td>\n",
              "      <td>71.0</td>\n",
              "    </tr>\n",
              "    <tr>\n",
              "      <th>4</th>\n",
              "      <td>0.085299</td>\n",
              "      <td>0.05068</td>\n",
              "      <td>0.044451</td>\n",
              "      <td>-0.005671</td>\n",
              "      <td>-0.045599</td>\n",
              "      <td>-0.034194</td>\n",
              "      <td>-0.032356</td>\n",
              "      <td>-0.002592</td>\n",
              "      <td>0.002864</td>\n",
              "      <td>-0.025930</td>\n",
              "      <td>141.0</td>\n",
              "    </tr>\n",
              "  </tbody>\n",
              "</table>\n",
              "</div>"
            ],
            "text/plain": [
              "        age      sex       bmi        bp        s1        s2        s3  \\\n",
              "0 -0.001882  0.05068  0.030440  0.052858  0.039710  0.056619 -0.039719   \n",
              "1  0.012648  0.05068  0.000261 -0.011409  0.039710  0.057245 -0.039719   \n",
              "2 -0.016412  0.05068  0.127443  0.097616  0.016318  0.017475 -0.021311   \n",
              "3 -0.103593  0.05068 -0.023451 -0.022885 -0.086878 -0.067701 -0.017629   \n",
              "4  0.085299  0.05068  0.044451 -0.005671 -0.045599 -0.034194 -0.032356   \n",
              "\n",
              "         s4        s5        s6  target  \n",
              "0  0.071210  0.025393  0.027917   222.0  \n",
              "1  0.056081  0.024053  0.032059   259.0  \n",
              "2  0.034309  0.034864  0.003064   308.0  \n",
              "3 -0.039493 -0.078141 -0.071494    71.0  \n",
              "4 -0.002592  0.002864 -0.025930   141.0  "
            ]
          },
          "metadata": {},
          "output_type": "display_data"
        },
        {
          "data": {
            "image/png": "[encoded data removed]",
            "text/plain": [
              "<Figure size 640x480 with 1 Axes>"
            ]
          },
          "metadata": {},
          "output_type": "display_data"
        },
        {
          "name": "stdout",
          "output_type": "stream",
          "text": [
            "Mean squared error loss: 3566.6946\n",
            "R2 score: 0.5003\n"
          ]
        }
      ],
      "source": [
        "##############################################################\n",
        "# Your code here\n",
        "##############################################################\n",
        "\n",
        "# Load the house price dataset\n",
        "diab = sklearn.datasets.load_diabetes()\n",
        "raw_df = pd.DataFrame(data= np.c_[diab['data'], diab['target']],\n",
        "                     columns= diab['feature_names'] + ['target'])\n",
        "# Shuffle dataset\n",
        "rng = np.random.default_rng(0)\n",
        "df = raw_df.iloc[rng.permutation(len(raw_df))].reset_index(drop=True)\n",
        "\n",
        "# show the data\n",
        "display(df.head())\n",
        "\n",
        "# prepare NumPy ndarrays\n",
        "col = ['age','sex','bmi','bp','s1','s2','s3','s4','s5','s6'] # defined a new variable for the column names to make it easier to experiment with adding or removing columns\n",
        "X = np.array(df[col])\n",
        "y = np.array(df['target'])\n",
        "\n",
        "n_train_points = 150\n",
        "n_new_points = 50\n",
        "\n",
        "# Split the data into training/new data\n",
        "X_train = X[:n_train_points]\n",
        "X_new = X[n_train_points:n_train_points+n_new_points]\n",
        "X_new_disp = X_new[:,0]\n",
        "\n",
        "# Split the targets into training/new data\n",
        "y_train = y[:n_train_points]\n",
        "y_true = y[n_train_points:n_train_points+n_new_points]\n",
        "\n",
        "# Note, we don't actually have to do anything else with the model functions\n",
        "# They are prefectly happy with multivariable linear regression\n",
        "# Create linear regression object\n",
        "obj = sklearn.linear_model.LinearRegression()\n",
        "# Train the model using the training sets\n",
        "obj.fit(X_train, y_train)\n",
        "\n",
        "# Make predictions using the testing set\n",
        "y_pred = obj.predict(X_new)\n",
        "\n",
        "# Plot the Age vs Diabetes\n",
        "plt.scatter(X_new_disp, y_true,  color='black', label='y_train')\n",
        "plt.scatter(X_new_disp, y_pred, color='blue', label='y_pred')\n",
        "plt.xlabel('Age')\n",
        "plt.ylabel('Diabetes Score')\n",
        "plt.legend()\n",
        "plt.show()\n",
        "\n",
        "# The mean squared error loss\n",
        "print('Mean squared error loss: {:.4f}'.format(sklearn.metrics.mean_squared_error(y_true, y_pred)))\n",
        "# The R2 score: 1 is perfect prediction\n",
        "print('R2 score: {:.4f}'.format(sklearn.metrics.r2_score(y_true, y_pred)))"
      ]
    },
    {
      "cell_type": "markdown",
      "metadata": {
        "id": "q60RCpWfvuO3"
      },
      "source": [
        "##4.6 **Exercise 6:** Multivariable regression without SKlearn\n",
        "Try and expand the model you created in **Exercise 3** to work with multiple features. Fit this on the California housing dataset using all avaiable features and compare with your results for univariate regression. \n",
        "\n",
        "Extra: Try fitting a multivariable model using sklearn to check you are both obtaining the same answer.\n",
        "\n",
        "Extra: Experiment with the features to see if all contribute towards the accuracy of the prediction.\n",
        "\n",
        "Extra: Experiment with changing the number of test/train samples used to see how this changes the accuracy."
      ]
    },
    {
      "cell_type": "code",
      "execution_count": 18,
      "metadata": {
        "colab": {
          "base_uri": "https://localhost:8080/",
          "height": 722
        },
        "id": "2uhbJLs09u7B",
        "outputId": "f59df6f7-66c4-442a-c695-9f1033041895"
      },
      "outputs": [
        {
          "data": {
            "text/html": [
              "<div>\n",
              "<style scoped>\n",
              "    .dataframe tbody tr th:only-of-type {\n",
              "        vertical-align: middle;\n",
              "    }\n",
              "\n",
              "    .dataframe tbody tr th {\n",
              "        vertical-align: top;\n",
              "    }\n",
              "\n",
              "    .dataframe thead th {\n",
              "        text-align: right;\n",
              "    }\n",
              "</style>\n",
              "<table border=\"1\" class=\"dataframe\">\n",
              "  <thead>\n",
              "    <tr style=\"text-align: right;\">\n",
              "      <th></th>\n",
              "      <th>MedInc</th>\n",
              "      <th>HouseAge</th>\n",
              "      <th>AveRooms</th>\n",
              "      <th>AveBedrms</th>\n",
              "      <th>Population</th>\n",
              "      <th>AveOccup</th>\n",
              "      <th>Latitude</th>\n",
              "      <th>Longitude</th>\n",
              "      <th>target</th>\n",
              "      <th>const</th>\n",
              "    </tr>\n",
              "  </thead>\n",
              "  <tbody>\n",
              "    <tr>\n",
              "      <th>0</th>\n",
              "      <td>3.3687</td>\n",
              "      <td>45.0</td>\n",
              "      <td>5.594175</td>\n",
              "      <td>0.998058</td>\n",
              "      <td>1470.0</td>\n",
              "      <td>2.854369</td>\n",
              "      <td>34.00</td>\n",
              "      <td>-117.38</td>\n",
              "      <td>1.23800</td>\n",
              "      <td>1</td>\n",
              "    </tr>\n",
              "    <tr>\n",
              "      <th>1</th>\n",
              "      <td>2.1660</td>\n",
              "      <td>18.0</td>\n",
              "      <td>4.802059</td>\n",
              "      <td>1.151030</td>\n",
              "      <td>2203.0</td>\n",
              "      <td>2.520595</td>\n",
              "      <td>37.68</td>\n",
              "      <td>-120.98</td>\n",
              "      <td>1.18600</td>\n",
              "      <td>1</td>\n",
              "    </tr>\n",
              "    <tr>\n",
              "      <th>2</th>\n",
              "      <td>1.5642</td>\n",
              "      <td>15.0</td>\n",
              "      <td>4.403292</td>\n",
              "      <td>1.053498</td>\n",
              "      <td>1070.0</td>\n",
              "      <td>4.403292</td>\n",
              "      <td>36.62</td>\n",
              "      <td>-119.32</td>\n",
              "      <td>0.51500</td>\n",
              "      <td>1</td>\n",
              "    </tr>\n",
              "    <tr>\n",
              "      <th>3</th>\n",
              "      <td>3.6885</td>\n",
              "      <td>49.0</td>\n",
              "      <td>5.184569</td>\n",
              "      <td>1.052950</td>\n",
              "      <td>2363.0</td>\n",
              "      <td>3.574887</td>\n",
              "      <td>37.72</td>\n",
              "      <td>-122.43</td>\n",
              "      <td>2.54000</td>\n",
              "      <td>1</td>\n",
              "    </tr>\n",
              "    <tr>\n",
              "      <th>4</th>\n",
              "      <td>9.7449</td>\n",
              "      <td>20.0</td>\n",
              "      <td>7.095963</td>\n",
              "      <td>1.070152</td>\n",
              "      <td>3731.0</td>\n",
              "      <td>2.469226</td>\n",
              "      <td>34.12</td>\n",
              "      <td>-118.45</td>\n",
              "      <td>5.00001</td>\n",
              "      <td>1</td>\n",
              "    </tr>\n",
              "    <tr>\n",
              "      <th>...</th>\n",
              "      <td>...</td>\n",
              "      <td>...</td>\n",
              "      <td>...</td>\n",
              "      <td>...</td>\n",
              "      <td>...</td>\n",
              "      <td>...</td>\n",
              "      <td>...</td>\n",
              "      <td>...</td>\n",
              "      <td>...</td>\n",
              "      <td>...</td>\n",
              "    </tr>\n",
              "    <tr>\n",
              "      <th>20635</th>\n",
              "      <td>3.0208</td>\n",
              "      <td>38.0</td>\n",
              "      <td>5.605664</td>\n",
              "      <td>1.054466</td>\n",
              "      <td>1568.0</td>\n",
              "      <td>3.416122</td>\n",
              "      <td>34.00</td>\n",
              "      <td>-118.11</td>\n",
              "      <td>1.93700</td>\n",
              "      <td>1</td>\n",
              "    </tr>\n",
              "    <tr>\n",
              "      <th>20636</th>\n",
              "      <td>9.9071</td>\n",
              "      <td>30.0</td>\n",
              "      <td>8.241379</td>\n",
              "      <td>1.037618</td>\n",
              "      <td>956.0</td>\n",
              "      <td>2.996865</td>\n",
              "      <td>33.90</td>\n",
              "      <td>-117.93</td>\n",
              "      <td>5.00001</td>\n",
              "      <td>1</td>\n",
              "    </tr>\n",
              "    <tr>\n",
              "      <th>20637</th>\n",
              "      <td>4.7105</td>\n",
              "      <td>3.0</td>\n",
              "      <td>3.769314</td>\n",
              "      <td>1.282916</td>\n",
              "      <td>1441.0</td>\n",
              "      <td>1.568009</td>\n",
              "      <td>37.78</td>\n",
              "      <td>-122.39</td>\n",
              "      <td>2.75000</td>\n",
              "      <td>1</td>\n",
              "    </tr>\n",
              "    <tr>\n",
              "      <th>20638</th>\n",
              "      <td>4.4375</td>\n",
              "      <td>52.0</td>\n",
              "      <td>5.436364</td>\n",
              "      <td>1.130909</td>\n",
              "      <td>506.0</td>\n",
              "      <td>1.840000</td>\n",
              "      <td>37.76</td>\n",
              "      <td>-122.40</td>\n",
              "      <td>3.20000</td>\n",
              "      <td>1</td>\n",
              "    </tr>\n",
              "    <tr>\n",
              "      <th>20639</th>\n",
              "      <td>3.3478</td>\n",
              "      <td>42.0</td>\n",
              "      <td>5.795082</td>\n",
              "      <td>1.122951</td>\n",
              "      <td>629.0</td>\n",
              "      <td>2.577869</td>\n",
              "      <td>37.69</td>\n",
              "      <td>-122.08</td>\n",
              "      <td>1.84900</td>\n",
              "      <td>1</td>\n",
              "    </tr>\n",
              "  </tbody>\n",
              "</table>\n",
              "<p>20640 rows × 10 columns</p>\n",
              "</div>"
            ],
            "text/plain": [
              "       MedInc  HouseAge  AveRooms  AveBedrms  Population  AveOccup  Latitude  \\\n",
              "0      3.3687      45.0  5.594175   0.998058      1470.0  2.854369     34.00   \n",
              "1      2.1660      18.0  4.802059   1.151030      2203.0  2.520595     37.68   \n",
              "2      1.5642      15.0  4.403292   1.053498      1070.0  4.403292     36.62   \n",
              "3      3.6885      49.0  5.184569   1.052950      2363.0  3.574887     37.72   \n",
              "4      9.7449      20.0  7.095963   1.070152      3731.0  2.469226     34.12   \n",
              "...       ...       ...       ...        ...         ...       ...       ...   \n",
              "20635  3.0208      38.0  5.605664   1.054466      1568.0  3.416122     34.00   \n",
              "20636  9.9071      30.0  8.241379   1.037618       956.0  2.996865     33.90   \n",
              "20637  4.7105       3.0  3.769314   1.282916      1441.0  1.568009     37.78   \n",
              "20638  4.4375      52.0  5.436364   1.130909       506.0  1.840000     37.76   \n",
              "20639  3.3478      42.0  5.795082   1.122951       629.0  2.577869     37.69   \n",
              "\n",
              "       Longitude   target  const  \n",
              "0        -117.38  1.23800      1  \n",
              "1        -120.98  1.18600      1  \n",
              "2        -119.32  0.51500      1  \n",
              "3        -122.43  2.54000      1  \n",
              "4        -118.45  5.00001      1  \n",
              "...          ...      ...    ...  \n",
              "20635    -118.11  1.93700      1  \n",
              "20636    -117.93  5.00001      1  \n",
              "20637    -122.39  2.75000      1  \n",
              "20638    -122.40  3.20000      1  \n",
              "20639    -122.08  1.84900      1  \n",
              "\n",
              "[20640 rows x 10 columns]"
            ]
          },
          "metadata": {},
          "output_type": "display_data"
        },
        {
          "data": {
            "image/png": "[encoded data removed]",
            "text/plain": [
              "<Figure size 640x480 with 1 Axes>"
            ]
          },
          "metadata": {},
          "output_type": "display_data"
        },
        {
          "name": "stdout",
          "output_type": "stream",
          "text": [
            "Mean squared error loss: 0.6964\n",
            "R2 score: 0.4307\n"
          ]
        }
      ],
      "source": [
        "##############################################################\n",
        "# Your code here\n",
        "##############################################################\n",
        "\n",
        "# Load the house price dataset\n",
        "house = sklearn.datasets.fetch_california_housing()\n",
        "raw_df = pd.DataFrame(data= np.c_[house['data'], house['target']],\n",
        "                     columns= house['feature_names'] + ['target'])\n",
        "# Shuffle dataset\n",
        "rng = np.random.default_rng(0)\n",
        "df = raw_df.iloc[rng.permutation(len(raw_df))].reset_index(drop=True)\n",
        "\n",
        "df['const'] = 1 # We need to add a dummy column of ones so that we obtain an intercept value for theta_0\n",
        "# show the data\n",
        "display(df)\n",
        "\n",
        "# prepare NumPy ndarrays\n",
        "col = ['MedInc', 'HouseAge', 'AveRooms', 'AveBedrms', 'Population', 'AveOccup', 'Latitude', 'const']\n",
        "X = np.array(df[col])\n",
        "y = np.array(df['target'])\n",
        "\n",
        "n_train_points = 200\n",
        "n_new_points = 50\n",
        "\n",
        "# Split the data into training/new data\n",
        "X_train = X[:n_train_points]\n",
        "X_new = X[n_train_points:n_train_points+n_new_points]\n",
        "X_new_f1 = X_new[:,0] # Seperating the MedInc for visualisation purposes\n",
        "\n",
        "# Split the targets into training/new data\n",
        "y_train = y[:n_train_points]\n",
        "y_true = y[n_train_points:n_train_points+n_new_points]\n",
        "\n",
        "# Linear Regression\n",
        "theta= np.linalg.inv((X_train.T).dot(X_train)).dot((X_train.T)).dot(y_train)\n",
        "\n",
        "# Predictions\n",
        "y_pred = X_new.dot(theta)\n",
        "\n",
        "# Plot outputs\n",
        "plt.scatter(X_new_f1, y_true,  color='black', label='y_true')\n",
        "plt.scatter(X_new_f1, y_pred, color='blue', label='y_pred')\n",
        "plt.xlabel('MedInc')\n",
        "plt.ylabel('house price')\n",
        "plt.legend()\n",
        "plt.show()\n",
        "\n",
        "# The mean squared error loss\n",
        "print('Mean squared error loss: {:.4f}'.format(sklearn.metrics.mean_squared_error(y_true, y_pred)))\n",
        "# The R2 score: 1 is perfect prediction\n",
        "print('R2 score: {:.4f}'.format(sklearn.metrics.r2_score(y_true, y_pred)))"
      ]
    },
    {
      "cell_type": "markdown",
      "metadata": {
        "id": "tb2yskcwvLOe"
      },
      "source": [
        "#5. Nonlinear Data"
      ]
    },
    {
      "cell_type": "markdown",
      "metadata": {
        "id": "XpNsMynRT3il"
      },
      "source": [
        "Finally, I just want to make you consider what we can do if there are **nonlinear** relationships in our data. So far a linear relationship between the feature and the target has seemed like a fair assumption, but this is certainly not always the case. Take teh synthetic case bewow of data with a $y = X^2$ relationship."
      ]
    },
    {
      "cell_type": "code",
      "execution_count": 19,
      "metadata": {
        "colab": {
          "base_uri": "https://localhost:8080/",
          "height": 312
        },
        "id": "yWFXdzMGwDKT",
        "outputId": "13d821ef-0183-4c6b-a0bc-e95f74ef27f1"
      },
      "outputs": [
        {
          "data": {
            "text/plain": [
              "Text(0, 0.5, 'y')"
            ]
          },
          "execution_count": 19,
          "metadata": {},
          "output_type": "execute_result"
        },
        {
          "data": {
            "image/png": "[encoded data removed]",
            "text/plain": [
              "<Figure size 640x480 with 1 Axes>"
            ]
          },
          "metadata": {},
          "output_type": "display_data"
        }
      ],
      "source": [
        "# Creating our normally distributed random X values \n",
        "X = np.array(np.random.randn(1000))\n",
        "\n",
        "# Create another array y = X^2 for our target variable\n",
        "y = np.array(X**2)\n",
        "\n",
        "# Visualise this relationship\n",
        "plt.scatter(X, y,  color='black')\n",
        "plt.title('X vs y=X^2')\n",
        "plt.xlabel('X')\n",
        "plt.ylabel('y')"
      ]
    },
    {
      "cell_type": "markdown",
      "metadata": {
        "id": "qS7YpDp9U5YG"
      },
      "source": [
        "If we fit a linear model on this, we will not get a good prediction at all as there is no way to fit a straight line to this data that will predict the target in a meaningful way. See the code output below."
      ]
    },
    {
      "cell_type": "code",
      "execution_count": 20,
      "metadata": {
        "colab": {
          "base_uri": "https://localhost:8080/",
          "height": 336
        },
        "id": "CRcJwQAXJmhi",
        "outputId": "c92b3b46-8143-4901-9102-9e190d997983"
      },
      "outputs": [
        {
          "data": {
            "image/png": "[encoded data removed]",
            "text/plain": [
              "<Figure size 640x480 with 1 Axes>"
            ]
          },
          "metadata": {},
          "output_type": "display_data"
        },
        {
          "name": "stdout",
          "output_type": "stream",
          "text": [
            "Mean squared error loss: 1.4667\n",
            "R2 score: -0.0959\n"
          ]
        }
      ],
      "source": [
        "# Test/train data points\n",
        "n_train_points = 800\n",
        "n_new_points = 200\n",
        "\n",
        "# Split the data into training/new data\n",
        "X_train = X[:n_train_points]\n",
        "X_new = X[n_train_points:n_train_points+n_new_points]\n",
        "\n",
        "# Split the targets into training/new data\n",
        "y_train = y[:n_train_points]\n",
        "y_true = y[n_train_points:n_train_points+n_new_points]\n",
        "\n",
        "# Create linear regression object\n",
        "obj = sklearn.linear_model.LinearRegression()\n",
        "\n",
        "# Train the model using the training sets\n",
        "obj.fit(X_train.reshape(-1, 1), y_train)\n",
        "\n",
        "# Make predictions using the testing set\n",
        "y_pred = obj.predict(X_new.reshape(-1, 1))\n",
        "\n",
        "# Plot outputs\n",
        "plt.scatter(X_new, y_true,  color='black', label='y_true')\n",
        "plt.scatter(X_new, y_pred, color='blue', label='y_pred')\n",
        "plt.plot(np.r_[0:4:0.1], obj.predict(np.r_[0:4:0.1][:, np.newaxis]), color='blue', label='hypothesis')\n",
        "\n",
        "plt.xlabel('X')\n",
        "plt.ylabel('y')\n",
        "plt.title('X vs y=X^2')\n",
        "plt.legend()\n",
        "plt.show()\n",
        "\n",
        "\n",
        "# The mean squared error loss\n",
        "print('Mean squared error loss: {:.4f}'.format(sklearn.metrics.mean_squared_error(y_true, y_pred)))\n",
        "# The R2 score: 1 is perfect prediction\n",
        "print('R2 score: {:.4f}'.format(sklearn.metrics.r2_score(y_true, y_pred)))"
      ]
    },
    {
      "cell_type": "markdown",
      "metadata": {
        "id": "K_WnmNrnVnez"
      },
      "source": [
        "In later weeks we will address what can be done to account for nonlinear variable in our model, but for now I just want you all to be aware of the problem."
      ]
    },
    {
      "cell_type": "markdown",
      "metadata": {
        "id": "pTyJhMfmvaLZ"
      },
      "source": [
        "## **Exercise 7:** Fitting Nonlinear Data"
      ]
    },
    {
      "cell_type": "markdown",
      "metadata": {
        "id": "zc87f8aJV_9f"
      },
      "source": [
        "While I will explain to you how we can deal with nonlinear data in a later week, if you have completed all the other tasks you can experiment with the `nonlinearData.csv` file I've uploaded to moodle and see if you can work out yourself how we can account for these features."
      ]
    },
    {
      "cell_type": "code",
      "execution_count": 21,
      "metadata": {
        "colab": {
          "base_uri": "https://localhost:8080/",
          "height": 1000
        },
        "id": "PW36BCdxLDJK",
        "outputId": "cf953ca8-8489-4407-fb69-1f3f91a441ad"
      },
      "outputs": [
        {
          "ename": "FileNotFoundError",
          "evalue": "[Errno 2] No such file or directory: 'nonlinearData.csv'",
          "output_type": "error",
          "traceback": [
            "\u001b[1;31m---------------------------------------------------------------------------\u001b[0m",
            "\u001b[1;31mFileNotFoundError\u001b[0m                         Traceback (most recent call last)",
            "\u001b[1;32m~\\AppData\\Local\\Temp\\ipykernel_65388\\4167170818.py\u001b[0m in \u001b[0;36m<module>\u001b[1;34m\u001b[0m\n\u001b[0;32m      4\u001b[0m \u001b[1;33m\u001b[0m\u001b[0m\n\u001b[0;32m      5\u001b[0m \u001b[1;31m# Load .csv and put in dataframe\u001b[0m\u001b[1;33m\u001b[0m\u001b[1;33m\u001b[0m\u001b[0m\n\u001b[1;32m----> 6\u001b[1;33m \u001b[0mNLData\u001b[0m \u001b[1;33m=\u001b[0m \u001b[0mpd\u001b[0m\u001b[1;33m.\u001b[0m\u001b[0mread_csv\u001b[0m\u001b[1;33m(\u001b[0m\u001b[1;34m'nonlinearData.csv'\u001b[0m\u001b[1;33m)\u001b[0m\u001b[1;33m\u001b[0m\u001b[1;33m\u001b[0m\u001b[0m\n\u001b[0m\u001b[0;32m      7\u001b[0m \u001b[0mraw_df\u001b[0m \u001b[1;33m=\u001b[0m \u001b[0mpd\u001b[0m\u001b[1;33m.\u001b[0m\u001b[0mDataFrame\u001b[0m\u001b[1;33m(\u001b[0m\u001b[0mdata\u001b[0m\u001b[1;33m=\u001b[0m\u001b[0mNLData\u001b[0m\u001b[1;33m)\u001b[0m\u001b[1;33m\u001b[0m\u001b[1;33m\u001b[0m\u001b[0m\n\u001b[0;32m      8\u001b[0m \u001b[1;33m\u001b[0m\u001b[0m\n",
            "\u001b[1;32mc:\\Users\\abume\\anaconda3\\lib\\site-packages\\pandas\\util\\_decorators.py\u001b[0m in \u001b[0;36mwrapper\u001b[1;34m(*args, **kwargs)\u001b[0m\n\u001b[0;32m    309\u001b[0m                     \u001b[0mstacklevel\u001b[0m\u001b[1;33m=\u001b[0m\u001b[0mstacklevel\u001b[0m\u001b[1;33m,\u001b[0m\u001b[1;33m\u001b[0m\u001b[1;33m\u001b[0m\u001b[0m\n\u001b[0;32m    310\u001b[0m                 )\n\u001b[1;32m--> 311\u001b[1;33m             \u001b[1;32mreturn\u001b[0m \u001b[0mfunc\u001b[0m\u001b[1;33m(\u001b[0m\u001b[1;33m*\u001b[0m\u001b[0margs\u001b[0m\u001b[1;33m,\u001b[0m \u001b[1;33m**\u001b[0m\u001b[0mkwargs\u001b[0m\u001b[1;33m)\u001b[0m\u001b[1;33m\u001b[0m\u001b[1;33m\u001b[0m\u001b[0m\n\u001b[0m\u001b[0;32m    312\u001b[0m \u001b[1;33m\u001b[0m\u001b[0m\n\u001b[0;32m    313\u001b[0m         \u001b[1;32mreturn\u001b[0m \u001b[0mwrapper\u001b[0m\u001b[1;33m\u001b[0m\u001b[1;33m\u001b[0m\u001b[0m\n",
            "\u001b[1;32mc:\\Users\\abume\\anaconda3\\lib\\site-packages\\pandas\\io\\parsers\\readers.py\u001b[0m in \u001b[0;36mread_csv\u001b[1;34m(filepath_or_buffer, sep, delimiter, header, names, index_col, usecols, squeeze, prefix, mangle_dupe_cols, dtype, engine, converters, true_values, false_values, skipinitialspace, skiprows, skipfooter, nrows, na_values, keep_default_na, na_filter, verbose, skip_blank_lines, parse_dates, infer_datetime_format, keep_date_col, date_parser, dayfirst, cache_dates, iterator, chunksize, compression, thousands, decimal, lineterminator, quotechar, quoting, doublequote, escapechar, comment, encoding, encoding_errors, dialect, error_bad_lines, warn_bad_lines, on_bad_lines, delim_whitespace, low_memory, memory_map, float_precision, storage_options)\u001b[0m\n\u001b[0;32m    676\u001b[0m     \u001b[0mkwds\u001b[0m\u001b[1;33m.\u001b[0m\u001b[0mupdate\u001b[0m\u001b[1;33m(\u001b[0m\u001b[0mkwds_defaults\u001b[0m\u001b[1;33m)\u001b[0m\u001b[1;33m\u001b[0m\u001b[1;33m\u001b[0m\u001b[0m\n\u001b[0;32m    677\u001b[0m \u001b[1;33m\u001b[0m\u001b[0m\n\u001b[1;32m--> 678\u001b[1;33m     \u001b[1;32mreturn\u001b[0m \u001b[0m_read\u001b[0m\u001b[1;33m(\u001b[0m\u001b[0mfilepath_or_buffer\u001b[0m\u001b[1;33m,\u001b[0m \u001b[0mkwds\u001b[0m\u001b[1;33m)\u001b[0m\u001b[1;33m\u001b[0m\u001b[1;33m\u001b[0m\u001b[0m\n\u001b[0m\u001b[0;32m    679\u001b[0m \u001b[1;33m\u001b[0m\u001b[0m\n\u001b[0;32m    680\u001b[0m \u001b[1;33m\u001b[0m\u001b[0m\n",
            "\u001b[1;32mc:\\Users\\abume\\anaconda3\\lib\\site-packages\\pandas\\io\\parsers\\readers.py\u001b[0m in \u001b[0;36m_read\u001b[1;34m(filepath_or_buffer, kwds)\u001b[0m\n\u001b[0;32m    573\u001b[0m \u001b[1;33m\u001b[0m\u001b[0m\n\u001b[0;32m    574\u001b[0m     \u001b[1;31m# Create the parser.\u001b[0m\u001b[1;33m\u001b[0m\u001b[1;33m\u001b[0m\u001b[0m\n\u001b[1;32m--> 575\u001b[1;33m     \u001b[0mparser\u001b[0m \u001b[1;33m=\u001b[0m \u001b[0mTextFileReader\u001b[0m\u001b[1;33m(\u001b[0m\u001b[0mfilepath_or_buffer\u001b[0m\u001b[1;33m,\u001b[0m \u001b[1;33m**\u001b[0m\u001b[0mkwds\u001b[0m\u001b[1;33m)\u001b[0m\u001b[1;33m\u001b[0m\u001b[1;33m\u001b[0m\u001b[0m\n\u001b[0m\u001b[0;32m    576\u001b[0m \u001b[1;33m\u001b[0m\u001b[0m\n\u001b[0;32m    577\u001b[0m     \u001b[1;32mif\u001b[0m \u001b[0mchunksize\u001b[0m \u001b[1;32mor\u001b[0m \u001b[0miterator\u001b[0m\u001b[1;33m:\u001b[0m\u001b[1;33m\u001b[0m\u001b[1;33m\u001b[0m\u001b[0m\n",
            "\u001b[1;32mc:\\Users\\abume\\anaconda3\\lib\\site-packages\\pandas\\io\\parsers\\readers.py\u001b[0m in \u001b[0;36m__init__\u001b[1;34m(self, f, engine, **kwds)\u001b[0m\n\u001b[0;32m    930\u001b[0m \u001b[1;33m\u001b[0m\u001b[0m\n\u001b[0;32m    931\u001b[0m         \u001b[0mself\u001b[0m\u001b[1;33m.\u001b[0m\u001b[0mhandles\u001b[0m\u001b[1;33m:\u001b[0m \u001b[0mIOHandles\u001b[0m \u001b[1;33m|\u001b[0m \u001b[1;32mNone\u001b[0m \u001b[1;33m=\u001b[0m \u001b[1;32mNone\u001b[0m\u001b[1;33m\u001b[0m\u001b[1;33m\u001b[0m\u001b[0m\n\u001b[1;32m--> 932\u001b[1;33m         \u001b[0mself\u001b[0m\u001b[1;33m.\u001b[0m\u001b[0m_engine\u001b[0m \u001b[1;33m=\u001b[0m \u001b[0mself\u001b[0m\u001b[1;33m.\u001b[0m\u001b[0m_make_engine\u001b[0m\u001b[1;33m(\u001b[0m\u001b[0mf\u001b[0m\u001b[1;33m,\u001b[0m \u001b[0mself\u001b[0m\u001b[1;33m.\u001b[0m\u001b[0mengine\u001b[0m\u001b[1;33m)\u001b[0m\u001b[1;33m\u001b[0m\u001b[1;33m\u001b[0m\u001b[0m\n\u001b[0m\u001b[0;32m    933\u001b[0m \u001b[1;33m\u001b[0m\u001b[0m\n\u001b[0;32m    934\u001b[0m     \u001b[1;32mdef\u001b[0m \u001b[0mclose\u001b[0m\u001b[1;33m(\u001b[0m\u001b[0mself\u001b[0m\u001b[1;33m)\u001b[0m\u001b[1;33m:\u001b[0m\u001b[1;33m\u001b[0m\u001b[1;33m\u001b[0m\u001b[0m\n",
            "\u001b[1;32mc:\\Users\\abume\\anaconda3\\lib\\site-packages\\pandas\\io\\parsers\\readers.py\u001b[0m in \u001b[0;36m_make_engine\u001b[1;34m(self, f, engine)\u001b[0m\n\u001b[0;32m   1214\u001b[0m             \u001b[1;31m# \"Union[str, PathLike[str], ReadCsvBuffer[bytes], ReadCsvBuffer[str]]\"\u001b[0m\u001b[1;33m\u001b[0m\u001b[1;33m\u001b[0m\u001b[0m\n\u001b[0;32m   1215\u001b[0m             \u001b[1;31m# , \"str\", \"bool\", \"Any\", \"Any\", \"Any\", \"Any\", \"Any\"\u001b[0m\u001b[1;33m\u001b[0m\u001b[1;33m\u001b[0m\u001b[0m\n\u001b[1;32m-> 1216\u001b[1;33m             self.handles = get_handle(  # type: ignore[call-overload]\n\u001b[0m\u001b[0;32m   1217\u001b[0m                 \u001b[0mf\u001b[0m\u001b[1;33m,\u001b[0m\u001b[1;33m\u001b[0m\u001b[1;33m\u001b[0m\u001b[0m\n\u001b[0;32m   1218\u001b[0m                 \u001b[0mmode\u001b[0m\u001b[1;33m,\u001b[0m\u001b[1;33m\u001b[0m\u001b[1;33m\u001b[0m\u001b[0m\n",
            "\u001b[1;32mc:\\Users\\abume\\anaconda3\\lib\\site-packages\\pandas\\io\\common.py\u001b[0m in \u001b[0;36mget_handle\u001b[1;34m(path_or_buf, mode, encoding, compression, memory_map, is_text, errors, storage_options)\u001b[0m\n\u001b[0;32m    784\u001b[0m         \u001b[1;32mif\u001b[0m \u001b[0mioargs\u001b[0m\u001b[1;33m.\u001b[0m\u001b[0mencoding\u001b[0m \u001b[1;32mand\u001b[0m \u001b[1;34m\"b\"\u001b[0m \u001b[1;32mnot\u001b[0m \u001b[1;32min\u001b[0m \u001b[0mioargs\u001b[0m\u001b[1;33m.\u001b[0m\u001b[0mmode\u001b[0m\u001b[1;33m:\u001b[0m\u001b[1;33m\u001b[0m\u001b[1;33m\u001b[0m\u001b[0m\n\u001b[0;32m    785\u001b[0m             \u001b[1;31m# Encoding\u001b[0m\u001b[1;33m\u001b[0m\u001b[1;33m\u001b[0m\u001b[0m\n\u001b[1;32m--> 786\u001b[1;33m             handle = open(\n\u001b[0m\u001b[0;32m    787\u001b[0m                 \u001b[0mhandle\u001b[0m\u001b[1;33m,\u001b[0m\u001b[1;33m\u001b[0m\u001b[1;33m\u001b[0m\u001b[0m\n\u001b[0;32m    788\u001b[0m                 \u001b[0mioargs\u001b[0m\u001b[1;33m.\u001b[0m\u001b[0mmode\u001b[0m\u001b[1;33m,\u001b[0m\u001b[1;33m\u001b[0m\u001b[1;33m\u001b[0m\u001b[0m\n",
            "\u001b[1;31mFileNotFoundError\u001b[0m: [Errno 2] No such file or directory: 'nonlinearData.csv'"
          ]
        }
      ],
      "source": [
        "##############################################################\n",
        "# Your code here\n",
        "##############################################################\n",
        "\n",
        "# Load .csv and put in dataframe\n",
        "NLData = pd.read_csv('nonlinearData.csv')\n",
        "raw_df = pd.DataFrame(data=NLData)\n",
        "\n",
        "# Shuffle dataset\n",
        "rng = np.random.default_rng(0)\n",
        "df = raw_df.iloc[rng.permutation(len(raw_df))].reset_index(drop=True)\n",
        "df['X2']=df['X']*df['X']\n",
        "df['X3']=df['X']*df['X']*df['X']\n",
        "# view data\n",
        "display(df)\n",
        "# put into arrays\n",
        "X = np.array(df[['X', 'X2', 'X3']])\n",
        "y = np.array(df['Y'])\n",
        "\n",
        "n_train_points = 15\n",
        "n_new_points = 6\n",
        "\n",
        "# Split the data into training/new data\n",
        "X_train = X[:n_train_points]\n",
        "X_new = X[n_train_points:n_train_points+n_new_points]\n",
        "\n",
        "# Display Data\n",
        "X_train_disp = X_train[:,0]\n",
        "X_new_disp = X_new[:,0]\n",
        "\n",
        "# Split the targets into training/new data\n",
        "y_train = y[:n_train_points]\n",
        "y_true = y[n_train_points:n_train_points+n_new_points]\n",
        "\n",
        "# Create linear regression object\n",
        "obj = sklearn.linear_model.LinearRegression()\n",
        "\n",
        "# Train the model using the training sets\n",
        "obj.fit(X_train, y_train)\n",
        "\n",
        "# Make predictions using the testing set\n",
        "y_pred = obj.predict(X_new)\n",
        "\n",
        "# Plot outputs\n",
        "plt.scatter(X_train_disp, y_train,  color='red', label='training')\n",
        "plt.scatter(X_new_disp, y_true,  color='black', label='y_true')\n",
        "plt.scatter(X_new_disp, y_pred, color='blue', label='y_pred')\n",
        "\n",
        "plt.xlabel('X')\n",
        "plt.ylabel('y')\n",
        "plt.title('Nonlinear Data')\n",
        "plt.legend()\n",
        "plt.show()\n",
        "\n",
        "\n",
        "# The mean squared error loss\n",
        "print('Mean squared error loss: {:.4f}'.format(sklearn.metrics.mean_squared_error(y_true, y_pred)))\n",
        "# The R2 score: 1 is perfect prediction\n",
        "print('R2 score: {:.4f}'.format(sklearn.metrics.r2_score(y_true, y_pred)))"
      ]
    }
  ],
  "metadata": {
    "colab": {
      "collapsed_sections": [
        "WyATjv0CuvdO",
        "yrjEfz9SKAMf",
        "iPgkebqkKG8f",
        "UQ_gtCHlKNb_",
        "N2JacGP5LpDS",
        "9EbKidyMtGOd",
        "1XEQ5oZtthkA"
      ],
      "provenance": []
    },
    "kernelspec": {
      "display_name": "Python 3.9.13 ('base')",
      "language": "python",
      "name": "python3"
    },
    "language_info": {
      "codemirror_mode": {
        "name": "ipython",
        "version": 3
      },
      "file_extension": ".py",
      "mimetype": "text/x-python",
      "name": "python",
      "nbconvert_exporter": "python",
      "pygments_lexer": "ipython3",
      "version": "3.9.13 (main, Aug 25 2022, 23:51:50) [MSC v.1916 64 bit (AMD64)]"
    },
    "vscode": {
      "interpreter": {
        "hash": "689b61601e556818ef8556fab8f9fa73db23d2ad423044f56fc759b769a9cee5"
      }
    }
  },
  "nbformat": 4,
  "nbformat_minor": 0
}
